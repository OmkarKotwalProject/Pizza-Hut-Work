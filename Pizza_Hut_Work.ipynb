{
  "nbformat": 4,
  "nbformat_minor": 0,
  "metadata": {
    "colab": {
      "name": "Pizza_Hut_Work.ipynb",
      "provenance": [],
      "collapsed_sections": [],
      "authorship_tag": "ABX9TyNNeOB7ZJV0NNtuXQIFPB9x",
      "include_colab_link": true
    },
    "kernelspec": {
      "name": "python3",
      "display_name": "Python 3"
    },
    "language_info": {
      "name": "python"
    },
    "accelerator": "GPU"
  },
  "cells": [
    {
      "cell_type": "markdown",
      "metadata": {
        "id": "view-in-github",
        "colab_type": "text"
      },
      "source": [
        "<a href=\"https://colab.research.google.com/github/OmkarKotwalProject/Pizza-Hut-Work/blob/main/Pizza_Hut_Work.ipynb\" target=\"_parent\"><img src=\"https://colab.research.google.com/assets/colab-badge.svg\" alt=\"Open In Colab\"/></a>"
      ]
    },
    {
      "cell_type": "code",
      "metadata": {
        "id": "o8EDIpa8WZEe"
      },
      "source": [
        "from warnings import filterwarnings\n",
        "import matplotlib.pyplot as plt\n",
        "import numpy as np\n",
        "from PIL import Image\n",
        "import pandas as pd\n",
        "import nltk\n",
        "import re\n",
        "from nltk.corpus import stopwords\n",
        "from sklearn.linear_model import LogisticRegression\n",
        "from sklearn.model_selection import cross_val_score, cross_validate\n",
        "import sklearn.metrics as sm\n",
        "from sklearn.preprocessing import LabelEncoder\n",
        "from wordcloud import WordCloud"
      ],
      "execution_count": 84,
      "outputs": []
    },
    {
      "cell_type": "code",
      "source": [
        "!pip install pyspellchecker\n",
        "!pip install Counter\n",
        "\n",
        "nltk.download(\"stopwords\")\n",
        "nltk.download(\"punkt\")\n",
        "nltk.download(\"wordnet\")"
      ],
      "metadata": {
        "id": "lTdMDtwWAzob",
        "colab": {
          "base_uri": "https://localhost:8080/"
        },
        "outputId": "b7d86e5f-ed36-4cd3-b463-a781ba57cd98"
      },
      "execution_count": 85,
      "outputs": [
        {
          "output_type": "stream",
          "name": "stdout",
          "text": [
            "Requirement already satisfied: pyspellchecker in /usr/local/lib/python3.7/dist-packages (0.6.3)\n",
            "Requirement already satisfied: Counter in /usr/local/lib/python3.7/dist-packages (1.0.0)\n",
            "[nltk_data] Downloading package stopwords to /root/nltk_data...\n",
            "[nltk_data]   Package stopwords is already up-to-date!\n",
            "[nltk_data] Downloading package punkt to /root/nltk_data...\n",
            "[nltk_data]   Package punkt is already up-to-date!\n",
            "[nltk_data] Downloading package wordnet to /root/nltk_data...\n",
            "[nltk_data]   Package wordnet is already up-to-date!\n"
          ]
        },
        {
          "output_type": "execute_result",
          "data": {
            "text/plain": [
              "True"
            ]
          },
          "metadata": {},
          "execution_count": 85
        }
      ]
    },
    {
      "cell_type": "code",
      "source": [
        "pd.set_option(\"display.max_rows\",500)\n",
        "pd.set_option(\"display.max_columns\",None)\n",
        "pd.set_option(\"display.max_colwidth\",None)"
      ],
      "metadata": {
        "id": "N27Zt-9NCT0K"
      },
      "execution_count": 146,
      "outputs": []
    },
    {
      "cell_type": "code",
      "source": [
        "import matplotlib.pyplot as plt\n",
        "import pandas as pd\n",
        "from google.colab import files\n",
        "import io\n",
        "\n",
        "\n",
        "uploaded = files.upload()\n",
        "df= pd.read_excel(io.BytesIO(uploaded['All_Reviews_PH.xlsx']))"
      ],
      "metadata": {
        "colab": {
          "resources": {
            "http://localhost:8080/nbextensions/google.colab/files.js": {
              "data": "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",
              "ok": true,
              "headers": [
                [
                  "content-type",
                  "application/javascript"
                ]
              ],
              "status": 200,
              "status_text": "OK"
            }
          },
          "base_uri": "https://localhost:8080/",
          "height": 75
        },
        "id": "qfW5Tii51BVP",
        "outputId": "84919562-310b-49c0-882e-8d0d91d642a1"
      },
      "execution_count": 91,
      "outputs": [
        {
          "output_type": "display_data",
          "data": {
            "text/html": [
              "\n",
              "     <input type=\"file\" id=\"files-084cbc69-c758-4ab8-9f5f-27b2afbadc55\" name=\"files[]\" multiple disabled\n",
              "        style=\"border:none\" />\n",
              "     <output id=\"result-084cbc69-c758-4ab8-9f5f-27b2afbadc55\">\n",
              "      Upload widget is only available when the cell has been executed in the\n",
              "      current browser session. Please rerun this cell to enable.\n",
              "      </output>\n",
              "      <script src=\"/nbextensions/google.colab/files.js\"></script> "
            ],
            "text/plain": [
              "<IPython.core.display.HTML object>"
            ]
          },
          "metadata": {}
        },
        {
          "output_type": "stream",
          "name": "stdout",
          "text": [
            "Saving All_Reviews_PH.xlsx to All_Reviews_PH.xlsx\n"
          ]
        }
      ]
    },
    {
      "cell_type": "code",
      "source": [
        "#Keeping the original as it is.\n",
        "df_review=df  "
      ],
      "metadata": {
        "id": "AvXAsaq4_Pnc"
      },
      "execution_count": 92,
      "outputs": []
    },
    {
      "cell_type": "markdown",
      "source": [
        "THIS IS A BACKUP LOAD OF ORIGINAL DATAFRAME, ONLY USE IF MESSED UP"
      ],
      "metadata": {
        "id": "WwKOV_Zc2xTS"
      }
    },
    {
      "cell_type": "code",
      "source": [
        "# #FOR EMPTYING THE DATAFRAME\n",
        "#df_review.drop(columns=['Review','Sentiment'],inplace=True)"
      ],
      "metadata": {
        "id": "25Abi-cbyBrh"
      },
      "execution_count": 88,
      "outputs": []
    },
    {
      "cell_type": "code",
      "source": [
        "# #FOR RELOADING WITH ORIGINAL RAW DATA\n",
        "# df= pd.read_excel(io.BytesIO(uploaded['All_Reviews_PH.xlsx']))\n",
        "# df_review=df"
      ],
      "metadata": {
        "id": "e9ujebpX1DoN",
        "colab": {
          "base_uri": "https://localhost:8080/",
          "height": 211
        },
        "outputId": "fddfe7e3-c430-4403-fb04-309f95a92adc"
      },
      "execution_count": 90,
      "outputs": [
        {
          "output_type": "error",
          "ename": "KeyError",
          "evalue": "ignored",
          "traceback": [
            "\u001b[0;31m---------------------------------------------------------------------------\u001b[0m",
            "\u001b[0;31mKeyError\u001b[0m                                  Traceback (most recent call last)",
            "\u001b[0;32m<ipython-input-90-2ed87a7e1bb3>\u001b[0m in \u001b[0;36m<module>\u001b[0;34m()\u001b[0m\n\u001b[1;32m      1\u001b[0m \u001b[0;31m# #FOR RELOADING WITH ORIGINAL RAW DATA\u001b[0m\u001b[0;34m\u001b[0m\u001b[0;34m\u001b[0m\u001b[0;34m\u001b[0m\u001b[0m\n\u001b[0;32m----> 2\u001b[0;31m \u001b[0mdf\u001b[0m\u001b[0;34m=\u001b[0m \u001b[0mpd\u001b[0m\u001b[0;34m.\u001b[0m\u001b[0mread_excel\u001b[0m\u001b[0;34m(\u001b[0m\u001b[0mio\u001b[0m\u001b[0;34m.\u001b[0m\u001b[0mBytesIO\u001b[0m\u001b[0;34m(\u001b[0m\u001b[0muploaded\u001b[0m\u001b[0;34m[\u001b[0m\u001b[0;34m'All_Reviews_PH.xlsx'\u001b[0m\u001b[0;34m]\u001b[0m\u001b[0;34m)\u001b[0m\u001b[0;34m)\u001b[0m\u001b[0;34m\u001b[0m\u001b[0;34m\u001b[0m\u001b[0m\n\u001b[0m\u001b[1;32m      3\u001b[0m \u001b[0mdf_review\u001b[0m\u001b[0;34m=\u001b[0m\u001b[0mdf\u001b[0m\u001b[0;34m\u001b[0m\u001b[0;34m\u001b[0m\u001b[0m\n",
            "\u001b[0;31mKeyError\u001b[0m: 'All_Reviews_PH.xlsx'"
          ]
        }
      ]
    },
    {
      "cell_type": "markdown",
      "source": [
        "BACKUP CODE END"
      ],
      "metadata": {
        "id": "Vvg34MX124sA"
      }
    },
    {
      "cell_type": "code",
      "source": [
        "print(df_review.head())\n",
        "print(df_review.shape)"
      ],
      "metadata": {
        "colab": {
          "base_uri": "https://localhost:8080/"
        },
        "id": "51OZDq3U1H1J",
        "outputId": "4fe66861-87fb-49a4-c348-3da80e15af2d"
      },
      "execution_count": 93,
      "outputs": [
        {
          "output_type": "stream",
          "name": "stdout",
          "text": [
            "                                                                                                                                                                                      Review  \\\n",
            "0                                                                                                                                                                            tasteless pizza   \n",
            "1                                                                                                                                                                           price is so high   \n",
            "2  very very disappointed ? ? ? ? \\nwhile ordering you didn't mentioned it is small.. you guys are f**king fooling us .... 400rs spent for 200rs pizza.... isse acha grand deke kamaho bc Mc   \n",
            "3                                                                                                                                                               taste was not up to the mark   \n",
            "4                      Open pizza box and open Jalapeño Poppers. Sealing Tape not properly put. No point in blaming poor delivery person. Highly disappointing, not expected from Pizza Hut.   \n",
            "\n",
            "   Sentiment  \n",
            "0          0  \n",
            "1          0  \n",
            "2          0  \n",
            "3          0  \n",
            "4          0  \n",
            "(2900, 2)\n"
          ]
        }
      ]
    },
    {
      "cell_type": "markdown",
      "source": [
        "^[\\w\\s]=remove all except alphanumeric and whitespaces tabs and spaces [\\d] remove digits"
      ],
      "metadata": {
        "id": "2gvyHia0L80x"
      }
    },
    {
      "cell_type": "code",
      "source": [
        "#REMOVING NUMBERS \n",
        "df_review['Review']=df_review['Review'].replace('\\d+','',regex=True)"
      ],
      "metadata": {
        "id": "WvJiFBhB-UV-"
      },
      "execution_count": 94,
      "outputs": []
    },
    {
      "cell_type": "markdown",
      "source": [
        "WHAT AM I TRYING TO DO HERE:-  Removing more than 2 consecutive occurrences of a character, if its a special char, replace with space\n",
        "\n",
        "so @@@@@@ => @@ and then '__'. This will happen with words too, hellllloo => helloo\n"
      ],
      "metadata": {
        "id": "PDx48rb_uPQu"
      }
    },
    {
      "cell_type": "code",
      "source": [
        "#WHAT AM I TRYING TO DO HERE:-  Removing more than 2 consecutive occurrences of a character, if its a special char, replace with space\n",
        "# so @@@@@@ => @@ and then '__'. This will happen with words too, hellllloo => helloo\n",
        "#1. REPLACE SPECIAL CHARACTERS BY ' ' AND then using regex, remove consecutive duplicates of ' ' i.e '         '  (big spaces between words)\n",
        "df_review['Review']=df_review['Review'].replace('\\n', ' ',regex=True)\n",
        "df_review['Review']=df_review['Review'].replace(('[^!|^.|^,|^;|^-|^@|^\\w\\s]'),\"\", regex = True)\n",
        "for i in range(len(df_review)):\n",
        "  sentence=df_review['Review'][i]\n",
        "  sentence=sentence.replace('.', ' ')\n",
        "  sentence=sentence.replace(',', ' ')\n",
        "  sentence=sentence.replace('!', ' ')\n",
        "  sentence=sentence.replace('.', ' ')\n",
        "  sentence=sentence.replace(';', ' ')\n",
        "  sentence=sentence.replace('-', ' ')\n",
        "  sentence=sentence.replace('@', ' ')\n",
        "  sentence=sentence.replace(')', ' ')\n",
        "  sentence=sentence.replace('(', ' ')\n",
        "  sentence=sentence.replace('{', ' ')\n",
        "  sentence=sentence.replace('}', ' ')\n",
        "\n",
        "  sentence=re.sub(r'(.)\\1+', r'\\1\\1',sentence)   # yummmyyy => yummyy,  '     '=>'  '  #This line will remove char which occures more than 2 times consecutively.\n",
        "  df_review['Review'][i]=sentence\n",
        "\n",
        "#df_review['Review']=df_review['Review'].replace('[^\\w\\s]', '',regex=True)\n",
        "print(df_review.head(10))"
      ],
      "metadata": {
        "id": "3Hx_DiOY1mhE",
        "colab": {
          "base_uri": "https://localhost:8080/"
        },
        "outputId": "221d5043-4123-4e32-fd28-dca88cd30b4d"
      },
      "execution_count": 95,
      "outputs": [
        {
          "output_type": "stream",
          "name": "stderr",
          "text": [
            "/usr/local/lib/python3.7/dist-packages/ipykernel_launcher.py:21: SettingWithCopyWarning: \n",
            "A value is trying to be set on a copy of a slice from a DataFrame\n",
            "\n",
            "See the caveats in the documentation: https://pandas.pydata.org/pandas-docs/stable/user_guide/indexing.html#returning-a-view-versus-a-copy\n"
          ]
        },
        {
          "output_type": "stream",
          "name": "stdout",
          "text": [
            "                                                                                                                                                                  Review  \\\n",
            "0                                                                                                                                                        tasteless pizza   \n",
            "1                                                                                                                                                       price is so high   \n",
            "2        very very disappointed  while ordering you didnt mentioned it is small  you guys are fking fooling us  rs spent for rs pizza  isse acha grand deke kamaho bc Mc   \n",
            "3                                                                                                                                           taste was not up to the mark   \n",
            "4  Open pizza box and open Jalapeño Poppers  Sealing Tape not properly put  No point in blaming poor delivery person  Highly disappointing  not expected from Pizza Hut    \n",
            "5                                                                                                                                  please make stuffed garlic bread also   \n",
            "6                                                                                                            totallybwaste of money not at all good never again ordering   \n",
            "7                                                                                                                                                               horrible   \n",
            "8                                                                                                                                          yummy pizza  delivery on time   \n",
            "9                                                                                                                             they didnt have chilli flakes and oreganos   \n",
            "\n",
            "   Sentiment  \n",
            "0          0  \n",
            "1          0  \n",
            "2          0  \n",
            "3          0  \n",
            "4          0  \n",
            "5          1  \n",
            "6          0  \n",
            "7          0  \n",
            "8          1  \n",
            "9          0  \n"
          ]
        }
      ]
    },
    {
      "cell_type": "code",
      "source": [
        "print(df_review.head())\n",
        "print(df_review.tail())"
      ],
      "metadata": {
        "colab": {
          "base_uri": "https://localhost:8080/"
        },
        "id": "JBCf65YK0fS-",
        "outputId": "b32e00c7-4347-455d-90ef-9a9be0230dcf"
      },
      "execution_count": 96,
      "outputs": [
        {
          "output_type": "stream",
          "name": "stdout",
          "text": [
            "                                                                                                                                                                  Review  \\\n",
            "0                                                                                                                                                        tasteless pizza   \n",
            "1                                                                                                                                                       price is so high   \n",
            "2        very very disappointed  while ordering you didnt mentioned it is small  you guys are fking fooling us  rs spent for rs pizza  isse acha grand deke kamaho bc Mc   \n",
            "3                                                                                                                                           taste was not up to the mark   \n",
            "4  Open pizza box and open Jalapeño Poppers  Sealing Tape not properly put  No point in blaming poor delivery person  Highly disappointing  not expected from Pizza Hut    \n",
            "\n",
            "   Sentiment  \n",
            "0          0  \n",
            "1          0  \n",
            "2          0  \n",
            "3          0  \n",
            "4          0  \n",
            "                                          Review  Sentiment\n",
            "2895                                      awsome          1\n",
            "2896                             good  very nice          1\n",
            "2897                                       yummy          1\n",
            "2898  Pizzas are superb  Very nice service  Good          1\n",
            "2899        Nice environment n quick service B            1\n"
          ]
        }
      ]
    },
    {
      "cell_type": "markdown",
      "source": [
        "REMOVING CHARACTERS WHICH ONLY OCCUR ONCE! ALSO REPLACING TWO CONSECUTIVE SPACES BY ONE"
      ],
      "metadata": {
        "id": "DVlklWOS_5UI"
      }
    },
    {
      "cell_type": "code",
      "source": [
        "cnter=0\n",
        "while(cnter<2):\n",
        "  for i in range(len(df_review)):\n",
        "    new_sentence=\" \"\n",
        "    sentence=df_review['Review'][i]    #get the row i.e. sentence\n",
        "    #print(\"before removing:\",df_review['Review'][i])\n",
        "    words=sentence.split()  #makes a list of the words in the sentence\n",
        "    for word in words:      #check every words length and if it is less than 2, remove it\n",
        "      if len(word)<2:\n",
        "        #print(word)\n",
        "        words.remove(word)\n",
        "    new_sentence=new_sentence.join(words) #Create a new sentence by joining all the words in the list with \" \" as a separator\n",
        "    df_review['Review'][i]=new_sentence   #replace current row i.e. sentence by the new sentence\n",
        "    #print(\"after removing:\",df_review['Review'][i])\n",
        "  cnter=cnter+1\n",
        "      "
      ],
      "metadata": {
        "colab": {
          "base_uri": "https://localhost:8080/"
        },
        "id": "KZrNOk_V_4-k",
        "outputId": "a60abba5-8945-4239-9f05-53b83ddcf335"
      },
      "execution_count": 97,
      "outputs": [
        {
          "output_type": "stream",
          "name": "stderr",
          "text": [
            "/usr/local/lib/python3.7/dist-packages/ipykernel_launcher.py:13: SettingWithCopyWarning: \n",
            "A value is trying to be set on a copy of a slice from a DataFrame\n",
            "\n",
            "See the caveats in the documentation: https://pandas.pydata.org/pandas-docs/stable/user_guide/indexing.html#returning-a-view-versus-a-copy\n",
            "  del sys.path[0]\n"
          ]
        }
      ]
    },
    {
      "cell_type": "markdown",
      "source": [
        "Print the rows with Missing NAN values"
      ],
      "metadata": {
        "id": "J9G_sNHVL0M5"
      }
    },
    {
      "cell_type": "code",
      "source": [
        "print(df_review[df_review.isna().any(axis=1)])"
      ],
      "metadata": {
        "colab": {
          "base_uri": "https://localhost:8080/"
        },
        "id": "1p20GK4HIyMR",
        "outputId": "d30f9113-a628-4c67-ddc5-a47ff3411d6f"
      },
      "execution_count": 98,
      "outputs": [
        {
          "output_type": "stream",
          "name": "stdout",
          "text": [
            "Empty DataFrame\n",
            "Columns: [Review, Sentiment]\n",
            "Index: []\n"
          ]
        }
      ]
    },
    {
      "cell_type": "code",
      "source": [
        "print(df_review.head())"
      ],
      "metadata": {
        "colab": {
          "base_uri": "https://localhost:8080/"
        },
        "id": "Vtl3op-pMFVa",
        "outputId": "6dd4752d-bc58-4042-b4b3-f3453d78f1e9"
      },
      "execution_count": 99,
      "outputs": [
        {
          "output_type": "stream",
          "name": "stdout",
          "text": [
            "                                                                                                                                                             Review  \\\n",
            "0                                                                                                                                                   tasteless pizza   \n",
            "1                                                                                                                                                  price is so high   \n",
            "2       very very disappointed while ordering you didnt mentioned it is small you guys are fking fooling us rs spent for rs pizza isse acha grand deke kamaho bc Mc   \n",
            "3                                                                                                                                      taste was not up to the mark   \n",
            "4  Open pizza box and open Jalapeño Poppers Sealing Tape not properly put No point in blaming poor delivery person Highly disappointing not expected from Pizza Hut   \n",
            "\n",
            "   Sentiment  \n",
            "0          0  \n",
            "1          0  \n",
            "2          0  \n",
            "3          0  \n",
            "4          0  \n"
          ]
        }
      ]
    },
    {
      "cell_type": "markdown",
      "source": [
        "HOW MANY POSITIVE REVIEWS, HOW MANY NEGATIVE REVIEWS"
      ],
      "metadata": {
        "id": "zf2mlLLNMgWC"
      }
    },
    {
      "cell_type": "code",
      "source": [
        "print(df_review[df_review['Sentiment']==1].count())\n",
        "print(df_review[df_review['Sentiment']==0].count())\n"
      ],
      "metadata": {
        "colab": {
          "base_uri": "https://localhost:8080/"
        },
        "id": "3-2NSFjQMQVy",
        "outputId": "14fffc44-69fa-4379-f58d-567a6986db4d"
      },
      "execution_count": 100,
      "outputs": [
        {
          "output_type": "stream",
          "name": "stdout",
          "text": [
            "Review       1972\n",
            "Sentiment    1972\n",
            "dtype: int64\n",
            "Review       928\n",
            "Sentiment    928\n",
            "dtype: int64\n"
          ]
        }
      ]
    },
    {
      "cell_type": "markdown",
      "source": [
        "Converting datatype of a column, here tried to convert float type of Sentiment to int"
      ],
      "metadata": {
        "id": "m2SpQ-LmMo7S"
      }
    },
    {
      "cell_type": "code",
      "source": [
        "#print(df_review['Sentiment'].astype(int))"
      ],
      "metadata": {
        "id": "O05j3GXmH_eg"
      },
      "execution_count": 101,
      "outputs": []
    },
    {
      "cell_type": "markdown",
      "source": [
        "TRIAL CODE START! \n",
        "FINDING MISSPELLED WORDS AND CORRECTING THEM AS TEXTBLOB IS FOUND USELESS!\n",
        "\n",
        "Algorithm used for correcting words:\n",
        "1. Create a list of misspelled words found in the dataset.\n",
        "2. Create a list of correctly spelled words found in the dataset.\n",
        "3. Use similar() function of 'SequenceMatcher' for finding similarity between words from both lists. If it is greater than 0.8, create a dictionary (dict['misspelled word'=correctly spelled word.\n",
        "4. Now traverse the dataset, while checking a row, extract its misspelled words, check if misspelled word is in the dictionary, if it is then replace it with correctly spelled word."
      ],
      "metadata": {
        "id": "DyqVF74PL0On"
      }
    },
    {
      "cell_type": "code",
      "source": [
        "#This creates a list of sets of misspelled words found in each row.\n",
        "from spellchecker import SpellChecker\n",
        "spell=SpellChecker()\n",
        "mis_list=[]\n",
        "for i in range(len(df_review)):\n",
        "  sentence=df_review['Review'][i].split()\n",
        "  mis_sent=spell.unknown(sentence)\n",
        "  mis_list.append(mis_sent)\n",
        "  if set() in mis_list:\n",
        "    mis_list.remove(set())\n",
        "print(\"first 50 row's Misspelled words but they are in [{misspelled words list from row 1},{misspelled words list from row 2}]: \",mis_list[0:50])"
      ],
      "metadata": {
        "colab": {
          "base_uri": "https://localhost:8080/"
        },
        "id": "FPUJKvkrL7Ca",
        "outputId": "225720a4-aa7f-4761-d172-7ba659c9a2bb"
      },
      "execution_count": 102,
      "outputs": [
        {
          "output_type": "stream",
          "name": "stdout",
          "text": [
            "first 50 row's Misspelled words but they are in [{misspelled words list from row 1},{misspelled words list from row 2}]:  [{'mc', 'fking', 'kamaho', 'isse', 'bc', 'rs'}, {'jalapeño'}, {'totallybwaste'}, {'oreganos'}, {'rs'}, {'compair', 'rs', 'pizaa'}, {'orgeno'}, {'uae', 'kababs'}, {'orderit'}, {'rd'}, {'zomato'}, {'chease', 'thanda'}, {'coustomer'}, {'zomato'}, {'ppl'}, {'xtra'}, {'origano'}, {'jst'}, {'zomato'}, {'whatsoeververy'}, {'coveredsecured'}, {'aftr', 'zomato'}, {'pls', 'rply'}, {'didntike'}, {'cheeze'}, {'wt'}, {'zomato'}, {'breadstix'}, {'recieve'}, {'rs'}, {'deshelved'}, {'pls'}, {'thanda'}, {'rs', 'bkc'}, {'contactless'}, {'whrn'}, {'rs'}, {'pls'}, {'detoraited'}, {'itoms'}, {'transperant', 'whyy'}, {'kabab'}, {'hogaya', 'lagta', 'aisa', 'seekh', 'kharab', 'kabab', 'khatta'}, {'pcs'}, {'pm', 'pls'}, {'servise'}, {'mazing'}, {'owsume', 'zomato'}, {'andngarlik', 'cheezy'}, {'incomplets'}]\n"
          ]
        }
      ]
    },
    {
      "cell_type": "code",
      "source": [
        "#Creating a list of misspelled words. (Basically extracting each set element from the mis_list and putting it into mis_mis_list)\n",
        "\n",
        "from collections import Counter\n",
        "mis_mis_list=[]\n",
        "for i in mis_list:\n",
        "  for j in i:\n",
        "    mis_mis_list.append(j.lower())   #just making the words lower before appending to mis_mis_list\n",
        "\n",
        "\n",
        "#cnt=0\n",
        "for i in mis_mis_list:        #removing 'rs', 'mr', 'ms' from the list as they aren't misspelled words in a way.\n",
        "  if i=='rs':\n",
        "    #cnt=cnt+1\n",
        "    mis_mis_list.remove(i)\n",
        "  if i=='mr':\n",
        "    mis_mis_list.remove(i)\n",
        "  if i=='ms':\n",
        "    mis_mis_list.remove(i)    \n",
        "print(\"first 50 Misspelled words:\",mis_mis_list[0:50]) #LIST OF MISSPELLED WORDS   \n",
        "\n",
        "#Creating this names_list, as names are needed to be removed from the misspelled words list. (It will be removed in the next cell)\n",
        "names_list=['bkc','cst','zomato','pizzahut','bandra','kurla','kishor','kishore','nonveg','pm','shubhangi','afternoon','vegorama','birizza','covid','jain','dinin','chana','shravani','touheed']\n",
        "print(\"Total misspelled words: \",len(mis_mis_list)) #Note: this list is not a 'unique mispelled words' list, it has repeated occurences of them.\n",
        "\n",
        "\n",
        "#Finding common words and their occurrences in the mis_mis_list #Just a trial code for common words finder.\n",
        "cnt=Counter(mis_mis_list)\n",
        "cmmn=cnt.most_common(100)   \n",
        "print(cmmn)"
      ],
      "metadata": {
        "colab": {
          "base_uri": "https://localhost:8080/"
        },
        "id": "3o6SCv6CV9kE",
        "outputId": "78fcd2f7-a503-4db2-d2ba-51d15253b409"
      },
      "execution_count": 103,
      "outputs": [
        {
          "output_type": "stream",
          "name": "stdout",
          "text": [
            "first 50 Misspelled words: ['mc', 'fking', 'kamaho', 'isse', 'bc', 'jalapeño', 'totallybwaste', 'oreganos', 'compair', 'pizaa', 'orgeno', 'uae', 'kababs', 'orderit', 'rd', 'zomato', 'chease', 'thanda', 'coustomer', 'zomato', 'ppl', 'xtra', 'origano', 'jst', 'zomato', 'whatsoeververy', 'coveredsecured', 'aftr', 'zomato', 'pls', 'rply', 'didntike', 'cheeze', 'wt', 'zomato', 'breadstix', 'recieve', 'deshelved', 'pls', 'thanda', 'bkc', 'contactless', 'whrn', 'pls', 'detoraited', 'itoms', 'transperant', 'whyy', 'kabab', 'hogaya']\n",
            "Total misspelled words:  2217\n",
            "[('bkc', 149), ('cst', 101), ('zomato', 46), ('bandra', 41), ('kishore', 35), ('kurla', 34), ('pizzahut', 31), ('thanku', 30), ('exotica', 28), ('kishor', 24), ('nonveg', 20), ('shubhangi', 19), ('pm', 17), ('nd', 17), ('yumm', 16), ('pls', 14), ('pizzaa', 13), ('plz', 12), ('frnds', 12), ('bt', 11), ('ppl', 10), ('cheezy', 10), ('panner', 10), ('st', 10), ('vegorama', 9), ('ph', 9), ('grt', 9), ('th', 9), ('bcoz', 9), ('afternoon', 8), ('hygenic', 7), ('varities', 7), ('hr', 7), ('pizaa', 6), ('rd', 6), ('origano', 6), ('jst', 6), ('cheeze', 6), ('kabab', 6), ('nyc', 6), ('awsm', 6), ('birizza', 6), ('gr', 6), ('covid', 5), ('vist', 5), ('vfm', 5), ('yummyy', 5), ('kheema', 5), ('helpfull', 5), ('tripple', 5), ('hv', 5), ('kurkure', 5), ('yammii', 5), ('cheesey', 5), ('ausome', 5), ('breadstix', 4), ('ws', 4), ('recieved', 4), ('jain', 4), ('dinein', 4), ('reallyy', 4), ('chana', 4), ('vry', 4), ('frnd', 4), ('teast', 4), ('teasty', 4), ('hrs', 4), ('chessy', 4), ('puzza', 4), ('thr', 4), ('awasom', 4), ('mocktails', 4), ('sobo', 4), ('touheed', 4), ('appetiser', 4), ('shravani', 4), ('ps', 4), ('vs', 4), ('jalapeño', 3), ('pcs', 3), ('bday', 3), ('staf', 3), ('mirinda', 3), ('rawalpindi', 3), ('jalapeños', 3), ('citi', 3), ('bpcl', 3), ('gb', 3), ('cheesee', 3), ('kms', 3), ('foody', 3), ('chese', 3), ('pizzass', 3), ('restaurent', 3), ('chesse', 3), ('tge', 3), ('tanduri', 3), ('thnks', 3), ('bbq', 3), ('seatings', 3)]\n"
          ]
        }
      ]
    },
    {
      "cell_type": "code",
      "source": [
        "#REMOVING NAMES FROM THE LIST of misspelled words\n",
        "for name in names_list:\n",
        "  for j in range(len(mis_mis_list)):\n",
        "    if name in mis_mis_list:\n",
        "      mis_mis_list.remove(name)\n",
        "print(\"Final Misspelled words list after removing names: (Showing only first 50) \",mis_mis_list[0:50]) #This is the list of misseplled words!\n",
        "\n",
        "\n",
        "\n",
        "#Trial code for common words finder, again.\n",
        "cnt=Counter(mis_mis_list)\n",
        "cmmn=cnt.most_common(100)   #Finding common words and their occurrences in the mis_mis_list     \n",
        "print(cmmn)    \n"
      ],
      "metadata": {
        "colab": {
          "base_uri": "https://localhost:8080/"
        },
        "id": "cfAz1WIx4uVD",
        "outputId": "7a50aa05-d987-4a00-c92f-73801db7e229"
      },
      "execution_count": 104,
      "outputs": [
        {
          "output_type": "stream",
          "name": "stdout",
          "text": [
            "Final Misspelled words list after removing names: (Showing only first 50)  ['mc', 'fking', 'kamaho', 'isse', 'bc', 'jalapeño', 'totallybwaste', 'oreganos', 'compair', 'pizaa', 'orgeno', 'uae', 'kababs', 'orderit', 'rd', 'chease', 'thanda', 'coustomer', 'ppl', 'xtra', 'origano', 'jst', 'whatsoeververy', 'coveredsecured', 'aftr', 'pls', 'rply', 'didntike', 'cheeze', 'wt', 'breadstix', 'recieve', 'deshelved', 'pls', 'thanda', 'contactless', 'whrn', 'pls', 'detoraited', 'itoms', 'transperant', 'whyy', 'kabab', 'hogaya', 'lagta', 'aisa', 'seekh', 'kharab', 'kabab', 'khatta']\n",
            "[('thanku', 30), ('exotica', 28), ('nd', 17), ('yumm', 16), ('pls', 14), ('pizzaa', 13), ('plz', 12), ('frnds', 12), ('bt', 11), ('ppl', 10), ('cheezy', 10), ('panner', 10), ('st', 10), ('ph', 9), ('grt', 9), ('th', 9), ('bcoz', 9), ('hygenic', 7), ('varities', 7), ('hr', 7), ('pizaa', 6), ('rd', 6), ('origano', 6), ('jst', 6), ('cheeze', 6), ('kabab', 6), ('nyc', 6), ('awsm', 6), ('gr', 6), ('vist', 5), ('vfm', 5), ('yummyy', 5), ('kheema', 5), ('helpfull', 5), ('tripple', 5), ('hv', 5), ('kurkure', 5), ('yammii', 5), ('cheesey', 5), ('ausome', 5), ('breadstix', 4), ('ws', 4), ('recieved', 4), ('dinein', 4), ('reallyy', 4), ('vry', 4), ('frnd', 4), ('teast', 4), ('teasty', 4), ('hrs', 4), ('chessy', 4), ('puzza', 4), ('thr', 4), ('awasom', 4), ('mocktails', 4), ('sobo', 4), ('appetiser', 4), ('ps', 4), ('vs', 4), ('jalapeño', 3), ('pcs', 3), ('bday', 3), ('staf', 3), ('mirinda', 3), ('rawalpindi', 3), ('jalapeños', 3), ('citi', 3), ('bpcl', 3), ('gb', 3), ('cheesee', 3), ('kms', 3), ('foody', 3), ('chese', 3), ('pizzass', 3), ('restaurent', 3), ('chesse', 3), ('tge', 3), ('tanduri', 3), ('thnks', 3), ('bbq', 3), ('seatings', 3), ('aa', 3), ('yammi', 3), ('shubangi', 3), ('fr', 3), ('yamii', 3), ('awasome', 3), ('njoy', 3), ('chiken', 3), ('garlice', 3), ('lyk', 3), ('pukish', 3), ('wud', 3), ('malai', 3), ('jalepeno', 3), ('lipsmacking', 3), ('sause', 3), ('gst', 3), ('owesome', 3), ('amazingg', 3)]\n"
          ]
        }
      ]
    },
    {
      "cell_type": "code",
      "source": [
        "#Finding a list of correctly spelled words!\n",
        "#first, just creating a list of words found in the dataset\n",
        "correct_word_list=[]\n",
        "for i in range(len(df_review)):\n",
        "  sentence=df_review['Review'][i]\n",
        "  words=sentence.split()\n",
        "  for word in words:\n",
        "    correct_word_list.append(word.lower())\n",
        "print(correct_word_list[0:50])\n",
        "\n",
        "\n",
        "  "
      ],
      "metadata": {
        "colab": {
          "base_uri": "https://localhost:8080/"
        },
        "id": "v2yV2JQKA-VL",
        "outputId": "7d0befca-9608-4aa8-e440-a519e941251d"
      },
      "execution_count": 106,
      "outputs": [
        {
          "output_type": "stream",
          "name": "stdout",
          "text": [
            "['tasteless', 'pizza', 'price', 'is', 'so', 'high', 'very', 'very', 'disappointed', 'while', 'ordering', 'you', 'didnt', 'mentioned', 'it', 'is', 'small', 'you', 'guys', 'are', 'fking', 'fooling', 'us', 'rs', 'spent', 'for', 'rs', 'pizza', 'isse', 'acha', 'grand', 'deke', 'kamaho', 'bc', 'mc', 'taste', 'was', 'not', 'up', 'to', 'the', 'mark', 'open', 'pizza', 'box', 'and', 'open', 'jalapeño', 'poppers', 'sealing']\n"
          ]
        }
      ]
    },
    {
      "cell_type": "code",
      "source": [
        "#JUST A NOTE, SPELLCHECKER DOES NOT CONSIDER 'didnt,wasnt,cant...' AS MISSPELLED WORDS"
      ],
      "metadata": {
        "id": "l0a1pUADIBIE"
      },
      "execution_count": null,
      "outputs": []
    },
    {
      "cell_type": "code",
      "source": [
        "#We have to make both lists mis_mis_list and correct_words_list contain unique words, not repeated words or 'remove' won't work!\n",
        "print(\"total of all words of misspelled word list:\",len(mis_mis_list))\n",
        "print(\"total of all words of correct word list+misspelled word list:\",len(correct_word_list))\n",
        "mis_mis_list=list(set(mis_mis_list))\n",
        "correct_word_list=list(set(correct_word_list))\n",
        "print(\"total of unique words of misspelled word list:\",len(mis_mis_list))\n",
        "print(\"total of unique words of correct word list+missplled word list:\",len(correct_word_list))\n",
        "print(\"total of unique words of names list:\",len(names_list))"
      ],
      "metadata": {
        "colab": {
          "base_uri": "https://localhost:8080/"
        },
        "id": "22mmk_pZS6SB",
        "outputId": "e30d2431-ab81-4ede-d3a2-5b46a64b76ea"
      },
      "execution_count": 107,
      "outputs": [
        {
          "output_type": "stream",
          "name": "stdout",
          "text": [
            "total of all words of misspelled word list: 1656\n",
            "total of all words of correct word list+misspelled word list: 104203\n",
            "total of unique words of misspelled word list: 1100\n",
            "total of unique words of correct word list+missplled word list: 5778\n",
            "total of unique words of names list: 20\n"
          ]
        }
      ]
    },
    {
      "cell_type": "code",
      "source": [
        "print(\"correct word list length before removing misspelled words and names:\",len(correct_word_list))\n",
        "names_list=['bkc','cst','zomato','pizzahut','bandra','kurla','kishor','kishore','nonveg','pm','shubhangi','afternoon','vegorama','birizza','covid','jain','dinin','chana','shravani','touheed']\n",
        "cnt=0\n",
        "#Removing misspelled words from correct_word_list, found in mis_mis_list\n",
        "for w in mis_mis_list:\n",
        "  if w in correct_word_list:\n",
        "    correct_word_list.remove(w)\n",
        "\n",
        "#Removing names from correct_word_list, found in names_list\n",
        "for n in names_list:\n",
        "  if n in correct_word_list:\n",
        "    correct_word_list.remove(n) \n",
        "print(\"correct word list length after removing misspelled words and names:\",len(correct_word_list))"
      ],
      "metadata": {
        "colab": {
          "base_uri": "https://localhost:8080/"
        },
        "id": "-YoxnE7WHIA-",
        "outputId": "3f5442db-ce46-4cbf-f2c7-e4f876ee803e"
      },
      "execution_count": 108,
      "outputs": [
        {
          "output_type": "stream",
          "name": "stdout",
          "text": [
            "correct word list length before removing misspelled words and names: 5778\n",
            "correct word list length after removing misspelled words and names: 4659\n"
          ]
        }
      ]
    },
    {
      "cell_type": "code",
      "source": [
        "#The only misspelled words in word_list\n",
        "\n",
        "mis_words=spell.unknown(correct_word_list)\n",
        "print(mis_words)"
      ],
      "metadata": {
        "colab": {
          "base_uri": "https://localhost:8080/"
        },
        "id": "TFurK7u3HKEZ",
        "outputId": "931bf50f-28a2-49ae-d15b-30bd13622c92"
      },
      "execution_count": 109,
      "outputs": [
        {
          "output_type": "stream",
          "name": "stdout",
          "text": [
            "{'ms', 'mr'}\n"
          ]
        }
      ]
    },
    {
      "cell_type": "code",
      "source": [
        "#Checking similarity between words from correct_word_list and mis_mis_list, if its more than 0.8, \n",
        "#do dictionary[misspelled word]=correct word\n",
        "#TAKES 1 MINUTE+\n",
        "from difflib import SequenceMatcher       #Library used for checking similarity\n",
        "\n",
        "def similar(a, b):\n",
        "    return SequenceMatcher(None, a, b).ratio()    #Function to check similarity!\n",
        "\n",
        "dictionary={}\n",
        "cnt=0\n",
        "for cor_word in correct_word_list:\n",
        "  for mis_word in mis_mis_list:\n",
        "    ratio=similar(cor_word,mis_word)\n",
        "    if(ratio>0.8):\n",
        "      cnt=cnt+1\n",
        "      dictionary[mis_word]=cor_word\n",
        "      #print(\"Correct word:\",cor_word,\"    misspelled word:\",mis_word,\"      Ratio:\",ratio)\n",
        "print(\"This many words can be corrected: \",cnt)"
      ],
      "metadata": {
        "colab": {
          "base_uri": "https://localhost:8080/"
        },
        "id": "q-etDj4xhmlM",
        "outputId": "c0a726fe-16f9-40dd-ff5c-a9c5b457f00c"
      },
      "execution_count": 110,
      "outputs": [
        {
          "output_type": "stream",
          "name": "stdout",
          "text": [
            "This many words can be corrected:  922\n"
          ]
        }
      ]
    },
    {
      "cell_type": "code",
      "source": [
        "#Saving the dictionary to a text file\n",
        "try:\n",
        "  dict_file=open(\"dict_file.txt\",\"w\")\n",
        "  dict_file.write(str(dictionary))\n",
        "  dict_file.close()\n",
        "except Exception as e:\n",
        "  print(\"{}\".format(e))"
      ],
      "metadata": {
        "id": "gU8Ki_eOr_RX"
      },
      "execution_count": 37,
      "outputs": []
    },
    {
      "cell_type": "code",
      "source": [
        "#This is how dictionary is \n",
        "dictionary['jst']"
      ],
      "metadata": {
        "colab": {
          "base_uri": "https://localhost:8080/",
          "height": 36
        },
        "id": "rM8czTDpzhhd",
        "outputId": "26289217-6e7d-4f8f-d008-a3396f24d999"
      },
      "execution_count": 111,
      "outputs": [
        {
          "output_type": "execute_result",
          "data": {
            "application/vnd.google.colaboratory.intrinsic+json": {
              "type": "string"
            },
            "text/plain": [
              "'just'"
            ]
          },
          "metadata": {},
          "execution_count": 111
        }
      ]
    },
    {
      "cell_type": "code",
      "source": [
        "#Replacing the misspelled words with correct words\n",
        "#Takes almost 10 seconds\n",
        "words_corrected_cnt=0\n",
        "for i in range(len(df_review)):\n",
        "  sentence=(df_review['Review'][i]).lower()\n",
        "  print(\"before:\",sentence)\n",
        "  misspelled_words=spell.unknown(sentence.split())\n",
        "  print(\"list:\",misspelled_words)\n",
        "  for misword in misspelled_words:\n",
        "    if misword in dictionary:\n",
        "      correct_word=dictionary[misword]\n",
        "      print(\"misspelled word: \",misword,\"     \",\"correct word:\",correct_word)\n",
        "      sentence=sentence.replace(misword,correct_word)\n",
        "      words_corrected_cnt=words_corrected_cnt+1\n",
        "  df_review['Review'][i]=sentence\n",
        "  print(\"After:\",sentence)"
      ],
      "metadata": {
        "id": "SO7s0bhrxKEU",
        "colab": {
          "base_uri": "https://localhost:8080/"
        },
        "outputId": "fceec4ff-7915-4331-c801-a49da6652a03"
      },
      "execution_count": 112,
      "outputs": [
        {
          "output_type": "stream",
          "name": "stdout",
          "text": [
            "#THE ABOVE CODE CELL ACTUALLY PRINTS ALL THE ROWS BUT HAVE EDITED TO SHOW ONLY FEW\n",
            "before: tasteless pizza\n",
            "list: set()\n",
            "After: tasteless pizza\n",
            "before: price is so high\n",
            "list: set()\n",
            "After: price is so high\n",
            "before: very very disappointed while ordering you didnt mentioned it is small you guys are fking fooling us rs spent for rs pizza isse acha grand deke kamaho bc mc\n",
            "list: {'mc', 'fking', 'kamaho', 'isse', 'bc', 'rs'}\n",
            "misspelled word:  fking       correct word: king\n",
            "misspelled word:  isse       correct word: issue\n",
            "After: very very disappointed while ordering you didnt mentioned it is small you guys are king fooling us rs spent for rs pizza issue acha grand deke kamaho bc mc\n",
            "before: taste was not up to the mark\n",
            "list: set()\n",
            "After: taste was not up to the mark\n",
            "before: open pizza box and open jalapeño poppers sealing tape not properly put no point in blaming poor delivery person highly disappointing not expected from pizza hut\n",
            "list: {'jalapeño'}\n",
            "misspelled word:  jalapeño       correct word: jalapenos\n",
            "After: open pizza box and open jalapenos poppers sealing tape not properly put no point in blaming poor delivery person highly disappointing not expected from pizza hut\n",
            "before: please make stuffed garlic bread also\n",
            "list: set()\n",
            "After: please make stuffed garlic bread also\n",
            "before: totallybwaste of money not at all good never again ordering\n",
            "list: {'totallybwaste'}\n",
            "After: totallybwaste of money not at all good never again ordering\n",
            "before: horrible\n",
            "list: set()\n",
            "After: horrible\n",
            "before: yummy pizza delivery on time\n",
            "list: set()\n",
            "After: yummy pizza delivery on time\n",
            "before: they didnt have chilli flakes and oreganos\n",
            "list: {'oreganos'}\n",
            "misspelled word:  oreganos       correct word: oregano\n",
            "After: they didnt have chilli flakes and oregano\n",
            "before: worst pizza ever wasted my rs disgusting\n",
            "list: {'rs'}\n",
            "After: worst pizza ever wasted my rs disgusting\n",
            "before: order was delayed by mins and my order was pan pizza and normal pizza was delivered with no cutlery\n",
            "list: set()\n",
            "After: order was delayed by mins and my order was pan pizza and normal pizza was delivered with no cutlery\n",
            "before: gave specific delivery instructions by voice to hold the pizza box flat through the delivery yet by the time it was handed to me at the door the paneer cheese and capsicum were coming out of the side of the box if wasnt hungry id have sent it back right away\n",
            "list: set()\n",
            "After: gave specific delivery instructions by voice to hold the pizza box flat through the delivery yet by the time it was handed to me at the door the paneer cheese and capsicum were coming out of the side of the box if wasnt hungry id have sent it back right away\n",
            "before: bad experience from pizza hut\n",
            "list: set()\n",
            "After: bad experience from pizza hut\n",
            "before: specifically asked for extra oregano and chilli flakes instead didnt even receive packet basic courtesy was not followed extremely disappointed\n",
            "list: set()\n",
            "After: specifically asked for extra oregano and chilli flakes instead didnt even receive packet basic courtesy was not followed extremely disappointed\n",
            "before: had been there to this outlet before also was pretty impressed hence when was there in the vicinity landed up again for having quick bites but was disappointed the pizza was not done properly nor the toppings it was just for the taste of eating had it without enjoying the way did in my first visit guys you truly need to re work upon the quality of the stuff served\n",
            "list: set()\n",
            "After: had been there to this outlet before also was pretty impressed hence when was there in the vicinity landed up again for having quick bites but was disappointed the pizza was not done properly nor the toppings it was just for the taste of eating had it without enjoying the way did in my first visit guys you truly need to re work upon the quality of the stuff served\n",
            "before: food quality is bad\n",
            "list: set()\n",
            "After: food quality is bad\n",
            "before: not satisfied with the taste and quality of this third class pizza its worthless waste of money the pizza was not like pizza just it was bun no taste nothing none other than this pizza hut pizza was seriously waste of money and tasteless\n",
            "list: set()\n",
            "After: not satisfied with the taste and quality of this third class pizza its worthless waste of money the pizza was not like pizza just it was bun no taste nothing none other than this pizza hut pizza was seriously waste of money and tasteless\n",
            "before: will time cash return my cash\n",
            "list: set()\n",
            "After: will time cash return my cash\n",
            "before: what is this it looks eaten never ordering after today horrible cant even believe my eyes right now very very very sad on pizza hut shame\n",
            "list: set()\n",
            "After: what is this it looks eaten never ordering after today horrible cant even believe my eyes right now very very very sad on pizza hut shame\n",
            "before: dont like this\n",
            "list: set()\n",
            "After: dont like this\n",
            "before: very bad quality food\n",
            "list: set()\n",
            "After: very bad quality food\n",
            "before: no cheese\n",
            "list: set()\n",
            "After: no cheese\n",
            "before: pasta taste was not good delayed delivery food was not hot\n",
            "list: set()\n",
            "After: pasta taste was not good delayed delivery food was not hot\n",
            "before: its messed up broken and smashed\n",
            "list: set()\n",
            "After: its messed up broken and smashed\n",
            "before: the food was pathetic it felt like im eating only pizza base and lava cake was uncooked\n",
            "list: set()\n",
            "After: the food was pathetic it felt like im eating only pizza base and lava cake was uncooked\n",
            "before: paid rs for small size pizaa worth less dominos best compair to pizaa hut anyway its my mistake that order from pizza hut its my last order\n",
            "list: {'compair', 'rs', 'pizaa'}\n",
            "misspelled word:  compair       correct word: compare\n",
            "After: paid rs for small size pizaa worth less dominos best compare to pizaa hut anyway its my mistake that order from pizza hut its my last order\n",
            "before: we didnt received creamy mayonnaise\n",
            "list: set()\n",
            "After: we didnt received creamy mayonnaise\n",
            "before: very thick crust and rubbery cheese it felt like having flour dough no cheese as expected very less topping as per our money invested and not expecting this type of service for online delivery\n",
            "list: set()\n",
            "After: very thick crust and rubbery cheese it felt like having flour dough no cheese as expected very less topping as per our money invested and not expecting this type of service for online delivery\n",
            "before: pizza was completely cold\n",
            "list: set()\n",
            "After: pizza was completely cold\n",
            "before: please send extra orgeno next time\n",
            "list: {'orgeno'}\n",
            "After: please send extra orgeno next time\n",
            "before: prefer the pizza toppings in the uae cant understand kababs and chicken tikka on my pizza also like the pizza sauce base of dominos\n",
            "list: {'uae', 'kababs'}\n",
            "misspelled word:  kababs       correct word: kebabs\n",
            "After: prefer the pizza toppings in the uae cant understand kebabs and chicken tikka on my pizza also like the pizza sauce base of dominos\n",
            "before: not happy\n",
            "list: set()\n",
            "After: not happy\n",
            "before: didnt received the complementary of choco lava cake with margherita pizza during orderit was showing\n",
            "list: {'orderit'}\n",
            "misspelled word:  orderit       correct word: order\n",
            "After: didnt received the complementary of choco lava cake with margherita pizza during order was showing\n",
            "before: this is the best pizza ever and choco lava cake maybe very good but am not sure already\n",
            "list: set()\n",
            "After: this is the best pizza ever and choco lava cake maybe very good but am not sure already\n",
            "before: instead of pizza received only pizza under pizza fest offer\n",
            "list: set()\n",
            "After: instead of pizza received only pizza under pizza fest offer\n",
            "before: order country delight got only the base what the hell is this\n",
            "list: set()\n",
            "After: order country delight got only the base what the hell is this\n",
            "before: literally bought shit for rupees over priced and small size with negligible toppings no added cheese paid extra no ketchup and cold as ice even dominos offers better with rd of the price feeling cheated and looted never ever buying again and never suggest this shit to friends and family\n",
            "list: {'rd'}\n",
            "After: literally bought shit for rupees over priced and small size with negligible toppings no added cheese paid extra no ketchup and cold as ice even dominos offers better with rd of the price feeling cheated and looted never ever buying again and never suggest this shit to friends and family\n",
            "before: horrible garlic breadsticks were actually huge naan pizza portions were small\n",
            "list: set()\n",
            "After: horrible garlic breadsticks were actually huge naan pizza portions were small\n",
            "before: the pizza was cold and the crust was hard like its old\n",
            "list: set()\n",
            "After: the pizza was cold and the crust was hard like its old\n",
            "before: soggy pizza pathetic stop your partnership with zomato it they cant pick up and deliver your food properly they just spoiling your brand image\n",
            "list: {'zomato'}\n",
            "After: soggy pizza pathetic stop your partnership with zomato it they cant pick up and deliver your food properly they just spoiling your brand image\n",
            "before: was delivered cold and there was no cheese in the pizza\n",
            "list: set()\n",
            "After: was delivered cold and there was no cheese in the pizza\n",
            "before: these are the most saddest pizza have ever seen pizza hut you need to do better\n",
            "list: set()\n",
            "After: these are the most saddest pizza have ever seen pizza hut you need to do better\n",
            "before: disappointed that even after informing to prepare chease garlic bread at last it was prepared and kept ready hence received the chease garlic bread thanda didnt expected this fron pizza hut now its time to look for some other pizza brand\n",
            "list: {'chease', 'thanda'}\n",
            "misspelled word:  chease       correct word: cheese\n",
            "After: disappointed that even after informing to prepare cheese garlic bread at last it was prepared and kept ready hence received the cheese garlic bread thanda didnt expected this fron pizza hut now its time to look for some other pizza brand\n",
            "before: just love pizza hut we had wonderful time without family with pizza party thank team pizza but\n",
            "list: set()\n",
            "After: just love pizza hut we had wonderful time without family with pizza party thank team pizza but\n",
            "before: card payment option not there\n",
            "list: set()\n",
            "After: card payment option not there\n",
            "before: food was extremely bad cheese was almost lost very bad ly served didnt expect this from pizza hut its my fav pizza place\n",
            "list: set()\n",
            "After: food was extremely bad cheese was almost lost very bad ly served didnt expect this from pizza hut its my fav pizza place\n",
            "before: the size of the pizza is very small and not worth the price unfortunately\n",
            "list: set()\n",
            "After: the size of the pizza is very small and not worth the price unfortunately\n",
            "before: sir sorry to say your company service is very worst want to put your attention on your restaurant no water to drink for coustomer even no water to drink for your own workers please improve your company service atleast for your own workers we found your company treat your workers as slaves regards\n",
            "list: {'coustomer'}\n",
            "misspelled word:  coustomer       correct word: costumer\n",
            "After: sir sorry to say your company service is very worst want to put your attention on your restaurant no water to drink for costumer even no water to drink for your own workers please improve your company service atleast for your own workers we found your company treat your workers as slaves regards\n",
            "before: an absolute raw pizza was sent when complained to zomato they said the restaurant is closed and we will serve you better the next time what is going on instead of giving me replacement or refund these guys promise better tomorrow very very disheartened by zomato and pizza hut\n",
            "list: {'zomato'}\n",
            "After: an absolute raw pizza was sent when complained to zomato they said the restaurant is closed and we will serve you better the next time what is going on instead of giving me replacement or refund these guys promise better tomorrow very very disheartened by zomato and pizza hut\n",
            "before: no oregano chilli flakes provided baby corn was not cut pizza was cold will never recommend pizza hut\n",
            "list: set()\n",
            "After: no oregano chilli flakes provided baby corn was not cut pizza was cold will never recommend pizza hut\n",
            "before: absolutely rubbish cheese garlic supreme bread delivery sent hard burnt and tasteless pizza hut has lost their standards would advise never order from them as they cheat and send rubbish stuff keep some value for customers money as pizza hut is highly rated and food is not at all up to the mark such bad reviews on site kindly take up this matter seriously and refund my money back immediately\n",
            "list: set()\n",
            "After: absolutely rubbish cheese garlic supreme bread delivery sent hard burnt and tasteless pizza hut has lost their standards would advise never order from them as they cheat and send rubbish stuff keep some value for customers money as pizza hut is highly rated and food is not at all up to the mark such bad reviews on site kindly take up this matter seriously and refund my money back immediately\n",
            "before: lovely place to be with friends\n",
            "list: set()\n",
            "After: lovely place to be with friends\n",
            "before: the pasta sauce and the cheese on top were most definitely stale besides that the pizzas are usually hot fresh and buttery but the overall order was evidently not fresh or enjoyable at all very disappointed with this order\n",
            "list: set()\n",
            "After: the pasta sauce and the cheese on top were most definitely stale besides that the pizzas are usually hot fresh and buttery but the overall order was evidently not fresh or enjoyable at all very disappointed with this order\n",
            "before: such rubbish cheese garlic bread have never seen pizza has really lost their standards highly charged and rubbish burnt garlic bread with no cheese at all suggest everyone never to order from pizza hut they charge so much for the pizza and send absolutely rubbish food please take up this matter to high level as they cant cheat ppl with rubbish stuff like this have some value for money completely turn off with pizza hut and would tell others never to go or buy from pizza hut\n",
            "list: {'ppl'}\n",
            "After: such rubbish cheese garlic bread have never seen pizza has really lost their standards highly charged and rubbish burnt garlic bread with no cheese at all suggest everyone never to order from pizza hut they charge so much for the pizza and send absolutely rubbish food please take up this matter to high level as they cant cheat ppl with rubbish stuff like this have some value for money completely turn off with pizza hut and would tell others never to go or buy from pizza hut\n",
            "before: disgusting there wasnt even any regular cheese ordered an xtra cheese\n",
            "list: {'xtra'}\n",
            "misspelled word:  xtra       correct word: extra\n",
            "After: disgusting there wasnt even any regular cheese ordered an extra cheese\n",
            "before: corn cheese pizza but there is only corn bread\n",
            "list: set()\n",
            "After: corn cheese pizza but there is only corn bread\n",
            "before: the pizza was half baked garlic bread was stale and the cheese on garlic bread was sour very bad\n",
            "list: set()\n",
            "After: the pizza was half baked garlic bread was stale and the cheese on garlic bread was sour very bad\n",
            "before: tandoori paneer pizza was delicious\n",
            "list: set()\n",
            "After: tandoori paneer pizza was delicious\n",
            "before: taste was not upto the mark no sauce and no origano\n",
            "list: {'origano'}\n",
            "misspelled word:  origano       correct word: oregano\n",
            "After: taste was not upto the mark no sauce and no oregano\n",
            "before: ordered creamy garlic bread sticks received jst garlic breadsticks\n",
            "list: {'jst'}\n",
            "misspelled word:  jst       correct word: just\n",
            "After: ordered creamy garlic bread sticks received just garlic breadsticks\n",
            "before: the taste is not up to the mark it bland and there is not enough pizza sauce\n",
            "list: set()\n",
            "After: the taste is not up to the mark it bland and there is not enough pizza sauce\n",
            "before: extremely unhygienic and totally unprofessional the pepsi bottle was not sealed when we poured the same into glass we saw what seemed like chilli oregano flakes in the drink it seems like some one had drank the pepsi this is very disturbing and outright cheating we will never order from zomato again extremely unsatisfied waste of money\n",
            "list: {'zomato'}\n",
            "After: extremely unhygienic and totally unprofessional the pepsi bottle was not sealed when we poured the same into glass we saw what seemed like chilli oregano flakes in the drink it seems like some one had drank the pepsi this is very disturbing and outright cheating we will never order from zomato again extremely unsatisfied waste of money\n",
            "before: the pizza was too small and no taste whatsoeververy disappointed wont be ordering from this place again\n",
            "list: "
          ]
        },
        {
          "output_type": "stream",
          "name": "stderr",
          "text": [
            "/usr/local/lib/python3.7/dist-packages/ipykernel_launcher.py:15: SettingWithCopyWarning: \n",
            "A value is trying to be set on a copy of a slice from a DataFrame\n",
            "\n",
            "See the caveats in the documentation: https://pandas.pydata.org/pandas-docs/stable/user_guide/indexing.html#returning-a-view-versus-a-copy\n",
            "  from ipykernel import kernelapp as app\n"
          ]
        },
        {
          "output_type": "stream",
          "name": "stdout",
          "text": [
            "\u001b[1;30;43mStreaming output truncated to the last 5000 lines.\u001b[0m\n",
            "before: the ambience is good like any other pizza hut outlet ive been to the service is bit slow the food is good ive always been in love with their pan pizzas the staff is friendly\n",
            "list: set()\n",
            "After: the ambience is good like any other pizza hut outlet ive been to the service is bit slow the food is good ive always been in love with their pan pizzas the staff is friendly\n",
            "before: food is awesome bt there is always an issue with air condition most of the time they saying its not working out of time it happens service is good as staff member is co operative thank an pls work on ac issues\n",
            "list: {'pls', 'bt'}\n",
            "misspelled word:  pls       correct word: pals\n",
            "After: food is awesome bt there is always an issue with air condition most of the time they saying its not working out of time it happens service is good as staff member is co operative thank an pals work on ac issues\n",
            "before: was little bit hungry after my college lectures so catch the delicious food at pizza hut near cst great tasty pizzas chicken supreme is the rockstar with cheesy maxx with refreshing melon mojito after the meal try their choco volcano cake it delicious dessert to end ur tasty meal\n",
            "list: {'cst'}\n",
            "After: was little bit hungry after my college lectures so catch the delicious food at pizza hut near cst great tasty pizzas chicken supreme is the rockstar with cheesy maxx with refreshing melon mojito after the meal try their choco volcano cake it delicious dessert to end ur tasty meal\n",
            "before: we had plan for movie after watching movie we was little bit of hungry so we decided to catch up with friend to near by pizza hut service was good and quick amazing hospitality we have ever had anywhere else with great experience and talented staff\n",
            "list: set()\n",
            "After: we had plan for movie after watching movie we was little bit of hungry so we decided to catch up with friend to near by pizza hut service was good and quick amazing hospitality we have ever had anywhere else with great experience and talented staff\n",
            "before: we have had plan to have delicious pizzas and pastas so we decided to go to pizza hut cst as we where close by our friends was having birthday so we where around to people their birthday rapping was good we have had great celebration thank soo much\n",
            "list: {'cst'}\n",
            "After: we have had plan to have delicious pizzas and pastas so we decided to go to pizza hut cst as we where close by our friends was having birthday so we where around to people their birthday rapping was good we have had great celebration thank soo much\n",
            "before: greed for money very apparent only focus on takeaway people for takeaway standing inside the restaurant and diluting experience horrible service waited for mins sorry state of affairs\n",
            "list: set()\n",
            "After: greed for money very apparent only focus on takeaway people for takeaway standing inside the restaurant and diluting experience horrible service waited for mins sorry state of affairs\n",
            "before: an awesome place to have get together with friends service was quick and fast even in huge rush well trained staff good hygienic store\n",
            "list: set()\n",
            "After: an awesome place to have get together with friends service was quick and fast even in huge rush well trained staff good hygienic store\n",
            "before: if foody lover and wanted to have delicious mouth watering pizzas must try this outlet in cst they have soo much varieties of pizzas and pastas to choose from with great service and hospitality\n",
            "list: {'cst', 'foody'}\n",
            "misspelled word:  foody       correct word: food\n",
            "After: if food lover and wanted to have delicious mouth watering pizzas must try this outlet in cst they have soo much varieties of pizzas and pastas to choose from with great service and hospitality\n",
            "before: an awesome place to have delicious lunch with family seating arrangements is so comfortable and relaxing service here doesnt have any complaints\n",
            "list: set()\n",
            "After: an awesome place to have delicious lunch with family seating arrangements is so comfortable and relaxing service here doesnt have any complaints\n",
            "before: being here wid friends for dinner had wonderful offer of rs unlimited pizza offer and rs garlic bread on friday night nice ambience and overall good service even though they serving unlimited\n",
            "list: {'rs'}\n",
            "After: being here wid friends for dinner had wonderful offer of rs unlimited pizza offer and rs garlic bread on friday night nice ambience and overall good service even though they serving unlimited\n",
            "before: took the unlimited package the food is ok but ya cam expect much from this place at this price chicken cheese toast are good pan pizza are ok\n",
            "list: set()\n",
            "After: took the unlimited package the food is ok but ya cam expect much from this place at this price chicken cheese toast are good pan pizza are ok\n"
           
          ]
        }
      ]
    },
    {
      "cell_type": "code",
      "source": [
        "#This many words were corrected and replaced\n",
        "print(words_corrected_cnt)"
      ],
      "metadata": {
        "colab": {
          "base_uri": "https://localhost:8080/"
        },
        "id": "KpjCZqbO3gHg",
        "outputId": "e0ee57ec-6132-4d84-cb3c-09a3e623fc4d"
      },
      "execution_count": 113,
      "outputs": [
        {
          "output_type": "stream",
          "name": "stdout",
          "text": [
            "865\n"
          ]
        }
      ]
    },
    {
      "cell_type": "code",
      "source": [
        "#How the similar() function works\n",
        "print(similar('unfar','unfair'))"
      ],
      "metadata": {
        "colab": {
          "base_uri": "https://localhost:8080/"
        },
        "id": "X_MrImTX23VS",
        "outputId": "8fc5890c-cafd-4e03-efea-375cf80c305e"
      },
      "execution_count": 114,
      "outputs": [
        {
          "output_type": "stream",
          "name": "stdout",
          "text": [
            "0.9090909090909091\n"
          ]
        }
      ]
    },
    {
      "cell_type": "markdown",
      "source": [
        "WORD COUNT PROGRAM"
      ],
      "metadata": {
        "id": "rWs27eyBB97p"
      }
    },
    {
      "cell_type": "code",
      "source": [
        "#Just a trial code!\n",
        "\n",
        "p_list=[]\n",
        "for i in range(2900):\n",
        "  ent=df_review['Review'][i].split()\n",
        "  p_list.append(ent)\n",
        "\n",
        "word_list=[]\n",
        "for element in p_list:\n",
        "  for word in element:\n",
        "    word_list.append(word)\n",
        "print(len(word_list))"
      ],
      "metadata": {
        "colab": {
          "base_uri": "https://localhost:8080/"
        },
        "id": "5sn39GMsAWH7",
        "outputId": "9330f0cf-0b84-4e28-f010-ba39c2dfed3a"
      },
      "execution_count": 45,
      "outputs": [
        {
          "output_type": "stream",
          "name": "stdout",
          "text": [
            "104203\n"
          ]
        }
      ]
    },
    {
      "cell_type": "markdown",
      "source": [
        "WORD COUNT PROGRAM END!"
      ],
      "metadata": {
        "id": "bTegbUc6CAY8"
      }
    },
    {
      "cell_type": "markdown",
      "source": [
        "TRIAL CODE END!"
      ],
      "metadata": {
        "id": "GY4Xn2qYL5df"
      }
    },
    {
      "cell_type": "code",
      "source": [
        "print(df_review['Review'].head())"
      ],
      "metadata": {
        "colab": {
          "base_uri": "https://localhost:8080/"
        },
        "id": "5C2y8Kn_CGfl",
        "outputId": "34df9423-53e0-479a-9127-6c9a7c87b344"
      },
      "execution_count": 115,
      "outputs": [
        {
          "output_type": "stream",
          "name": "stdout",
          "text": [
            "0                                                                                                                                                      tasteless pizza\n",
            "1                                                                                                                                                     price is so high\n",
            "2          very very disappointed while ordering you didnt mentioned it is small you guys are king fooling us rs spent for rs pizza issue acha grand deke kamaho bc mc\n",
            "3                                                                                                                                         taste was not up to the mark\n",
            "4    open pizza box and open jalapenos poppers sealing tape not properly put no point in blaming poor delivery person highly disappointing not expected from pizza hut\n",
            "Name: Review, dtype: object\n"
          ]
        }
      ]
    },
    {
      "cell_type": "markdown",
      "source": [
        "Stopwords"
      ],
      "metadata": {
        "id": "NfgYBAZLOLhT"
      }
    },
    {
      "cell_type": "code",
      "source": [
        "from nltk.corpus import stopwords\n",
        "sw=stopwords.words(\"english\")\n",
        "print(sw)\n",
        "#Removing the words below from the stopword list as they do impact the outcome when doing sentiment analysis. \n",
        "sw.append('would')\n",
        "words=['no','not']\n",
        "sw.remove('not')\n",
        "sw.remove('no')\n",
        "#sw.remove('never')\n",
        "sw.remove('don\\'t')\n",
        "sw.remove('didn\\'t')\n",
        "sw.remove('wouldn\\'t')\n",
        "sw.remove('wouldn')\n",
        "sw.remove('won\\'t')\n",
        "sw.remove('didn')\n",
        "sw.remove('don')\n",
        "sw.remove('isn\\'t')\n",
        "sw.remove('isn')\n",
        "#sw.remove('can\\'t')\n",
        "sw.remove('couldn\\'t')\n",
        "print(sw)"
      ],
      "metadata": {
        "colab": {
          "base_uri": "https://localhost:8080/"
        },
        "id": "_BM9LkwYNDlq",
        "outputId": "14dd0c91-c336-43f7-e640-d7362713e882"
      },
      "execution_count": 116,
      "outputs": [
        {
          "output_type": "stream",
          "name": "stdout",
          "text": [
            "['i', 'me', 'my', 'myself', 'we', 'our', 'ours', 'ourselves', 'you', \"you're\", \"you've\", \"you'll\", \"you'd\", 'your', 'yours', 'yourself', 'yourselves', 'he', 'him', 'his', 'himself', 'she', \"she's\", 'her', 'hers', 'herself', 'it', \"it's\", 'its', 'itself', 'they', 'them', 'their', 'theirs', 'themselves', 'what', 'which', 'who', 'whom', 'this', 'that', \"that'll\", 'these', 'those', 'am', 'is', 'are', 'was', 'were', 'be', 'been', 'being', 'have', 'has', 'had', 'having', 'do', 'does', 'did', 'doing', 'a', 'an', 'the', 'and', 'but', 'if', 'or', 'because', 'as', 'until', 'while', 'of', 'at', 'by', 'for', 'with', 'about', 'against', 'between', 'into', 'through', 'during', 'before', 'after', 'above', 'below', 'to', 'from', 'up', 'down', 'in', 'out', 'on', 'off', 'over', 'under', 'again', 'further', 'then', 'once', 'here', 'there', 'when', 'where', 'why', 'how', 'all', 'any', 'both', 'each', 'few', 'more', 'most', 'other', 'some', 'such', 'no', 'nor', 'not', 'only', 'own', 'same', 'so', 'than', 'too', 'very', 's', 't', 'can', 'will', 'just', 'don', \"don't\", 'should', \"should've\", 'now', 'd', 'll', 'm', 'o', 're', 've', 'y', 'ain', 'aren', \"aren't\", 'couldn', \"couldn't\", 'didn', \"didn't\", 'doesn', \"doesn't\", 'hadn', \"hadn't\", 'hasn', \"hasn't\", 'haven', \"haven't\", 'isn', \"isn't\", 'ma', 'mightn', \"mightn't\", 'mustn', \"mustn't\", 'needn', \"needn't\", 'shan', \"shan't\", 'shouldn', \"shouldn't\", 'wasn', \"wasn't\", 'weren', \"weren't\", 'won', \"won't\", 'wouldn', \"wouldn't\"]\n",
            "['i', 'me', 'my', 'myself', 'we', 'our', 'ours', 'ourselves', 'you', \"you're\", \"you've\", \"you'll\", \"you'd\", 'your', 'yours', 'yourself', 'yourselves', 'he', 'him', 'his', 'himself', 'she', \"she's\", 'her', 'hers', 'herself', 'it', \"it's\", 'its', 'itself', 'they', 'them', 'their', 'theirs', 'themselves', 'what', 'which', 'who', 'whom', 'this', 'that', \"that'll\", 'these', 'those', 'am', 'is', 'are', 'was', 'were', 'be', 'been', 'being', 'have', 'has', 'had', 'having', 'do', 'does', 'did', 'doing', 'a', 'an', 'the', 'and', 'but', 'if', 'or', 'because', 'as', 'until', 'while', 'of', 'at', 'by', 'for', 'with', 'about', 'against', 'between', 'into', 'through', 'during', 'before', 'after', 'above', 'below', 'to', 'from', 'up', 'down', 'in', 'out', 'on', 'off', 'over', 'under', 'again', 'further', 'then', 'once', 'here', 'there', 'when', 'where', 'why', 'how', 'all', 'any', 'both', 'each', 'few', 'more', 'most', 'other', 'some', 'such', 'nor', 'only', 'own', 'same', 'so', 'than', 'too', 'very', 's', 't', 'can', 'will', 'just', 'should', \"should've\", 'now', 'd', 'll', 'm', 'o', 're', 've', 'y', 'ain', 'aren', \"aren't\", 'couldn', 'doesn', \"doesn't\", 'hadn', \"hadn't\", 'hasn', \"hasn't\", 'haven', \"haven't\", 'ma', 'mightn', \"mightn't\", 'mustn', \"mustn't\", 'needn', \"needn't\", 'shan', \"shan't\", 'shouldn', \"shouldn't\", 'wasn', \"wasn't\", 'weren', \"weren't\", 'won', 'would']\n"
          ]
        }
      ]
    },
    {
      "cell_type": "markdown",
      "source": [
        "Making 'Review' lower so I can remove stopwords"
      ],
      "metadata": {
        "id": "eL5CFn6D3EV1"
      }
    },
    {
      "cell_type": "code",
      "source": [
        "df_review['Review']=df_review['Review'].str.lower()"
      ],
      "metadata": {
        "id": "refRp0Ei02vc"
      },
      "execution_count": 117,
      "outputs": []
    },
    {
      "cell_type": "code",
      "source": [
        "df_review['Review']=df_review['Review'].apply(lambda x:\" \".join(x for x in str(x).split() if x not in sw))\n",
        "print(df_review.head())"
      ],
      "metadata": {
        "colab": {
          "base_uri": "https://localhost:8080/"
        },
        "id": "PyO5iDakPkS7",
        "outputId": "2be0fa9b-d5bf-4af8-dc6e-c5d094d08fb2"
      },
      "execution_count": 118,
      "outputs": [
        {
          "output_type": "stream",
          "name": "stdout",
          "text": [
            "                                                                                                                                                  Review  \\\n",
            "0                                                                                                                                        tasteless pizza   \n",
            "1                                                                                                                                             price high   \n",
            "2                                  disappointed ordering didnt mentioned small guys king fooling us rs spent rs pizza issue acha grand deke kamaho bc mc   \n",
            "3                                                                                                                                         taste not mark   \n",
            "4  open pizza box open jalapenos poppers sealing tape not properly put no point blaming poor delivery person highly disappointing not expected pizza hut   \n",
            "\n",
            "   Sentiment  \n",
            "0          0  \n",
            "1          0  \n",
            "2          0  \n",
            "3          0  \n",
            "4          0  \n"
          ]
        }
      ]
    },
    {
      "cell_type": "code",
      "source": [
        "#TOTAL WORDS AFTER REMOVING STOP WORDS!\n",
        "p_list=[]\n",
        "for i in range(2900):\n",
        "  ent=df_review['Review'][i].split()\n",
        "  p_list.append(ent)\n",
        "\n",
        "word_list=[]\n",
        "for element in p_list:\n",
        "  for word in element:\n",
        "    word_list.append(word)\n",
        "print(len(word_list))"
      ],
      "metadata": {
        "colab": {
          "base_uri": "https://localhost:8080/"
        },
        "id": "OXtBoryLC03P",
        "outputId": "ae89fe9d-205e-4ba0-8b10-0b52d0fef194"
      },
      "execution_count": 119,
      "outputs": [
        {
          "output_type": "stream",
          "name": "stdout",
          "text": [
            "62141\n"
          ]
        }
      ]
    },
    {
      "cell_type": "markdown",
      "source": [
        "TOKENIZATION"
      ],
      "metadata": {
        "id": "Sm3xLfgYQHX3"
      }
    },
    {
      "cell_type": "code",
      "source": [
        "#Tokenization done to apply Lemmatization\n",
        "w_tokenizer=nltk.tokenize.WhitespaceTokenizer()\n",
        "lemmatizer=nltk.stem.WordNetLemmatizer()\n",
        "\n",
        "def lemmatize_text(text):\n",
        "  return [lemmatizer.lemmatize(w,'v') for w in w_tokenizer.tokenize(text)]\n",
        "\n",
        "df_review['Review']=df_review.Review.apply(lemmatize_text)\n",
        "print(df_review.head())"
      ],
      "metadata": {
        "colab": {
          "base_uri": "https://localhost:8080/"
        },
        "id": "BXtn6WCqQFre",
        "outputId": "440d45ce-1d76-47ae-bc91-fc4d7b4f631d"
      },
      "execution_count": 120,
      "outputs": [
        {
          "output_type": "stream",
          "name": "stdout",
          "text": [
            "                                                                                                                                                                Review  \\\n",
            "0                                                                                                                                                   [tasteless, pizza]   \n",
            "1                                                                                                                                                        [price, high]   \n",
            "2                                      [disappoint, order, didnt, mention, small, guy, king, fool, us, rs, spend, rs, pizza, issue, acha, grand, deke, kamaho, bc, mc]   \n",
            "3                                                                                                                                                   [taste, not, mark]   \n",
            "4  [open, pizza, box, open, jalapenos, poppers, seal, tape, not, properly, put, no, point, blame, poor, delivery, person, highly, disappoint, not, expect, pizza, hut]   \n",
            "\n",
            "   Sentiment  \n",
            "0          0  \n",
            "1          0  \n",
            "2          0  \n",
            "3          0  \n",
            "4          0  \n"
          ]
        }
      ]
    },
    {
      "cell_type": "markdown",
      "source": [
        "From tokenized to normal"
      ],
      "metadata": {
        "id": "7UWXt_ZfRBBe"
      }
    },
    {
      "cell_type": "code",
      "source": [
        "df_review['NewReview'] = df_review['Review'].apply(lambda s1: ' '.join(map(str,s1)) )\n",
        "\n",
        "\n",
        "print(df_review['NewReview'].head())"
      ],
      "metadata": {
        "colab": {
          "base_uri": "https://localhost:8080/"
        },
        "id": "8sD_arXaRFhn",
        "outputId": "56cf337e-4136-44a4-ed7c-0b9a83186ab1"
      },
      "execution_count": 121,
      "outputs": [
        {
          "output_type": "stream",
          "name": "stdout",
          "text": [
            "0                                                                                                                                tasteless pizza\n",
            "1                                                                                                                                     price high\n",
            "2                                     disappoint order didnt mention small guy king fool us rs spend rs pizza issue acha grand deke kamaho bc mc\n",
            "3                                                                                                                                 taste not mark\n",
            "4    open pizza box open jalapenos poppers seal tape not properly put no point blame poor delivery person highly disappoint not expect pizza hut\n",
            "Name: NewReview, dtype: object\n"
          ]
        }
      ]
    },
    {
      "cell_type": "code",
      "source": [
        "df_review['NewReview']=df_review['NewReview'].str.lower()\n",
        "df_review.head()"
      ],
      "metadata": {
        "colab": {
          "base_uri": "https://localhost:8080/",
          "height": 285
        },
        "id": "m-v7WXIaRTl7",
        "outputId": "d87dea17-64b8-40bf-a524-4e31f23d3e8e"
      },
      "execution_count": 122,
      "outputs": [
        {
          "output_type": "execute_result",
          "data": {
            "text/html": [
              "\n",
              "  <div id=\"df-0ee05e29-4897-4cd2-bee0-b3b4c635e991\">\n",
              "    <div class=\"colab-df-container\">\n",
              "      <div>\n",
              "<style scoped>\n",
              "    .dataframe tbody tr th:only-of-type {\n",
              "        vertical-align: middle;\n",
              "    }\n",
              "\n",
              "    .dataframe tbody tr th {\n",
              "        vertical-align: top;\n",
              "    }\n",
              "\n",
              "    .dataframe thead th {\n",
              "        text-align: right;\n",
              "    }\n",
              "</style>\n",
              "<table border=\"1\" class=\"dataframe\">\n",
              "  <thead>\n",
              "    <tr style=\"text-align: right;\">\n",
              "      <th></th>\n",
              "      <th>Review</th>\n",
              "      <th>Sentiment</th>\n",
              "      <th>NewReview</th>\n",
              "    </tr>\n",
              "  </thead>\n",
              "  <tbody>\n",
              "    <tr>\n",
              "      <th>0</th>\n",
              "      <td>[tasteless, pizza]</td>\n",
              "      <td>0</td>\n",
              "      <td>tasteless pizza</td>\n",
              "    </tr>\n",
              "    <tr>\n",
              "      <th>1</th>\n",
              "      <td>[price, high]</td>\n",
              "      <td>0</td>\n",
              "      <td>price high</td>\n",
              "    </tr>\n",
              "    <tr>\n",
              "      <th>2</th>\n",
              "      <td>[disappoint, order, didnt, mention, small, guy, king, fool, us, rs, spend, rs, pizza, issue, acha, grand, deke, kamaho, bc, mc]</td>\n",
              "      <td>0</td>\n",
              "      <td>disappoint order didnt mention small guy king fool us rs spend rs pizza issue acha grand deke kamaho bc mc</td>\n",
              "    </tr>\n",
              "    <tr>\n",
              "      <th>3</th>\n",
              "      <td>[taste, not, mark]</td>\n",
              "      <td>0</td>\n",
              "      <td>taste not mark</td>\n",
              "    </tr>\n",
              "    <tr>\n",
              "      <th>4</th>\n",
              "      <td>[open, pizza, box, open, jalapenos, poppers, seal, tape, not, properly, put, no, point, blame, poor, delivery, person, highly, disappoint, not, expect, pizza, hut]</td>\n",
              "      <td>0</td>\n",
              "      <td>open pizza box open jalapenos poppers seal tape not properly put no point blame poor delivery person highly disappoint not expect pizza hut</td>\n",
              "    </tr>\n",
              "  </tbody>\n",
              "</table>\n",
              "</div>\n",
              "      <button class=\"colab-df-convert\" onclick=\"convertToInteractive('df-0ee05e29-4897-4cd2-bee0-b3b4c635e991')\"\n",
              "              title=\"Convert this dataframe to an interactive table.\"\n",
              "              style=\"display:none;\">\n",
              "        \n",
              "  <svg xmlns=\"http://www.w3.org/2000/svg\" height=\"24px\"viewBox=\"0 0 24 24\"\n",
              "       width=\"24px\">\n",
              "    <path d=\"M0 0h24v24H0V0z\" fill=\"none\"/>\n",
              "    <path d=\"M18.56 5.44l.94 2.06.94-2.06 2.06-.94-2.06-.94-.94-2.06-.94 2.06-2.06.94zm-11 1L8.5 8.5l.94-2.06 2.06-.94-2.06-.94L8.5 2.5l-.94 2.06-2.06.94zm10 10l.94 2.06.94-2.06 2.06-.94-2.06-.94-.94-2.06-.94 2.06-2.06.94z\"/><path d=\"M17.41 7.96l-1.37-1.37c-.4-.4-.92-.59-1.43-.59-.52 0-1.04.2-1.43.59L10.3 9.45l-7.72 7.72c-.78.78-.78 2.05 0 2.83L4 21.41c.39.39.9.59 1.41.59.51 0 1.02-.2 1.41-.59l7.78-7.78 2.81-2.81c.8-.78.8-2.07 0-2.86zM5.41 20L4 18.59l7.72-7.72 1.47 1.35L5.41 20z\"/>\n",
              "  </svg>\n",
              "      </button>\n",
              "      \n",
              "  <style>\n",
              "    .colab-df-container {\n",
              "      display:flex;\n",
              "      flex-wrap:wrap;\n",
              "      gap: 12px;\n",
              "    }\n",
              "\n",
              "    .colab-df-convert {\n",
              "      background-color: #E8F0FE;\n",
              "      border: none;\n",
              "      border-radius: 50%;\n",
              "      cursor: pointer;\n",
              "      display: none;\n",
              "      fill: #1967D2;\n",
              "      height: 32px;\n",
              "      padding: 0 0 0 0;\n",
              "      width: 32px;\n",
              "    }\n",
              "\n",
              "    .colab-df-convert:hover {\n",
              "      background-color: #E2EBFA;\n",
              "      box-shadow: 0px 1px 2px rgba(60, 64, 67, 0.3), 0px 1px 3px 1px rgba(60, 64, 67, 0.15);\n",
              "      fill: #174EA6;\n",
              "    }\n",
              "\n",
              "    [theme=dark] .colab-df-convert {\n",
              "      background-color: #3B4455;\n",
              "      fill: #D2E3FC;\n",
              "    }\n",
              "\n",
              "    [theme=dark] .colab-df-convert:hover {\n",
              "      background-color: #434B5C;\n",
              "      box-shadow: 0px 1px 3px 1px rgba(0, 0, 0, 0.15);\n",
              "      filter: drop-shadow(0px 1px 2px rgba(0, 0, 0, 0.3));\n",
              "      fill: #FFFFFF;\n",
              "    }\n",
              "  </style>\n",
              "\n",
              "      <script>\n",
              "        const buttonEl =\n",
              "          document.querySelector('#df-0ee05e29-4897-4cd2-bee0-b3b4c635e991 button.colab-df-convert');\n",
              "        buttonEl.style.display =\n",
              "          google.colab.kernel.accessAllowed ? 'block' : 'none';\n",
              "\n",
              "        async function convertToInteractive(key) {\n",
              "          const element = document.querySelector('#df-0ee05e29-4897-4cd2-bee0-b3b4c635e991');\n",
              "          const dataTable =\n",
              "            await google.colab.kernel.invokeFunction('convertToInteractive',\n",
              "                                                     [key], {});\n",
              "          if (!dataTable) return;\n",
              "\n",
              "          const docLinkHtml = 'Like what you see? Visit the ' +\n",
              "            '<a target=\"_blank\" href=https://colab.research.google.com/notebooks/data_table.ipynb>data table notebook</a>'\n",
              "            + ' to learn more about interactive tables.';\n",
              "          element.innerHTML = '';\n",
              "          dataTable['output_type'] = 'display_data';\n",
              "          await google.colab.output.renderOutput(dataTable, element);\n",
              "          const docLink = document.createElement('div');\n",
              "          docLink.innerHTML = docLinkHtml;\n",
              "          element.appendChild(docLink);\n",
              "        }\n",
              "      </script>\n",
              "    </div>\n",
              "  </div>\n",
              "  "
            ],
            "text/plain": [
              "                                                                                                                                                                Review  \\\n",
              "0                                                                                                                                                   [tasteless, pizza]   \n",
              "1                                                                                                                                                        [price, high]   \n",
              "2                                      [disappoint, order, didnt, mention, small, guy, king, fool, us, rs, spend, rs, pizza, issue, acha, grand, deke, kamaho, bc, mc]   \n",
              "3                                                                                                                                                   [taste, not, mark]   \n",
              "4  [open, pizza, box, open, jalapenos, poppers, seal, tape, not, properly, put, no, point, blame, poor, delivery, person, highly, disappoint, not, expect, pizza, hut]   \n",
              "\n",
              "   Sentiment  \\\n",
              "0          0   \n",
              "1          0   \n",
              "2          0   \n",
              "3          0   \n",
              "4          0   \n",
              "\n",
              "                                                                                                                                     NewReview  \n",
              "0                                                                                                                              tasteless pizza  \n",
              "1                                                                                                                                   price high  \n",
              "2                                   disappoint order didnt mention small guy king fool us rs spend rs pizza issue acha grand deke kamaho bc mc  \n",
              "3                                                                                                                               taste not mark  \n",
              "4  open pizza box open jalapenos poppers seal tape not properly put no point blame poor delivery person highly disappoint not expect pizza hut  "
            ]
          },
          "metadata": {},
          "execution_count": 122
        }
      ]
    },
    {
      "cell_type": "markdown",
      "source": [
        "Sentiment Analysis"
      ],
      "metadata": {
        "id": "Kh-RBjL-Rkud"
      }
    },
    {
      "cell_type": "code",
      "source": [
        "from sklearn.model_selection import train_test_split"
      ],
      "metadata": {
        "id": "nZ223Yg4TMNX"
      },
      "execution_count": 123,
      "outputs": []
    },
    {
      "cell_type": "code",
      "source": [
        "train_data,test_data=train_test_split(df_review,test_size=0.4,random_state=25)\n"
      ],
      "metadata": {
        "id": "yUx96R79SyEv"
      },
      "execution_count": 124,
      "outputs": []
    },
    {
      "cell_type": "code",
      "source": [
        "#test data= 1160 data points\n",
        "#train data= 1740 data points\n",
        "print(test_data.shape)\n",
        "print('test_data(Positive):',test_data[test_data['Sentiment']==1].count())\n",
        "print('test_data(Negative):',test_data[test_data['Sentiment']==0].count())\n",
        "\n",
        "print(\"train_data (Positive):\",train_data[train_data['Sentiment']==1].count())\n",
        "print('train_data (Negative):',train_data[train_data['Sentiment']==0].count())"
      ],
      "metadata": {
        "id": "97P05naKTpVr",
        "colab": {
          "base_uri": "https://localhost:8080/"
        },
        "outputId": "d77472a5-4cf0-472d-f686-be8cb3372cc7"
      },
      "execution_count": 125,
      "outputs": [
        {
          "output_type": "stream",
          "name": "stdout",
          "text": [
            "(1160, 3)\n",
            "test_data(Positive): Review       782\n",
            "Sentiment    782\n",
            "NewReview    782\n",
            "dtype: int64\n",
            "test_data(Negative): Review       378\n",
            "Sentiment    378\n",
            "NewReview    378\n",
            "dtype: int64\n",
            "train_data (Positive): Review       1190\n",
            "Sentiment    1190\n",
            "NewReview    1190\n",
            "dtype: int64\n",
            "train_data (Negative): Review       550\n",
            "Sentiment    550\n",
            "NewReview    550\n",
            "dtype: int64\n"
          ]
        }
      ]
    },
    {
      "cell_type": "code",
      "source": [
        "X_train=train_data['NewReview']\n",
        "y_train=train_data['Sentiment']\n",
        "X_test=test_data['NewReview']\n",
        "y_test=test_data['Sentiment']"
      ],
      "metadata": {
        "id": "gAWfhmziRmS3"
      },
      "execution_count": 126,
      "outputs": []
    },
    {
      "cell_type": "code",
      "source": [
        "print(X_train.head())\n",
        "print(X_test.head())"
      ],
      "metadata": {
        "id": "uXz0_ZksUg-r",
        "colab": {
          "base_uri": "https://localhost:8080/"
        },
        "outputId": "af10b044-1291-403f-efd2-3deb4b61b8f8"
      },
      "execution_count": 127,
      "outputs": [
        {
          "output_type": "stream",
          "name": "stdout",
          "text": [
            "3                                                                                                                                                                                                                                                                                               taste not mark\n",
            "1648                                                                                                                           service wasnt per expect waiters dont respond even call repeatedly even air condition restaurant not work plus many mistake order didnt receive order right time bad experience\n",
            "2020                                                                                                                                                                   good pizzas definitely rate higher dominos prompt service value meal options available fly buzz around restaurant need take care though\n",
            "2397    pizza worth rat garlic bread provide cutlery eat place use good place decide switch air conditioner provide poor service food actually grateful provide food within first half hr order meal bring soup along pizza check soup photo look like leave return red water ask feedback book bluntly refuse\n",
            "2243                                                                                                                                                                                          quick service food quality best worth money enjoy food good atmosfear amaze barry vanilla shake love visit thank\n",
            "Name: NewReview, dtype: object\n",
            "2051                                                                                   great place pizza hut food also amaze comfortable offer friendly staff restaurant good clean enjoy ur friends birthday\n",
            "732     self service place visit place wife one yr old kid staff cooperative helpful suggestions helpful decide menu food outstanding drawback no park place bpcl petrol pump guy not allow park even minutes\n",
            "2550                                                                                                                                   wow wow wow owesme service pizza yummy lovee good place hangout friend\n",
            "2446                                                                                                                  place service good ambience also nice good place chill friends hectic day staff welcome\n",
            "1834                                               go friends lunch place good staff friendly service slow drink appetisers taste good pizzas flavourful tasty dessert warm delicious overall good experience\n",
            "Name: NewReview, dtype: object\n"
          ]
        }
      ]
    },
    {
      "cell_type": "markdown",
      "source": [
        "Vectorizer"
      ],
      "metadata": {
        "id": "xACY3l2cR04F"
      }
    },
    {
      "cell_type": "code",
      "source": [
        "from sklearn.feature_extraction.text import TfidfVectorizer"
      ],
      "metadata": {
        "id": "817fKfDAR0Du"
      },
      "execution_count": 128,
      "outputs": []
    },
    {
      "cell_type": "markdown",
      "source": [
        "TRIAL CODE START! DON'T USE THE CODE BELOW, ITS JUST FOR PRINTING WORDS AND THEIR TF-IDF VALUES"
      ],
      "metadata": {
        "id": "DC6RZu5PLOlq"
      }
    },
    {
      "cell_type": "code",
      "source": [
        "# tfIdfVectorizer=TfidfVectorizer(use_idf=True)\n",
        "# tfIdf = tfIdfVectorizer.fit_transform(X_train)\n",
        "# df_abc = pd.DataFrame(tfIdf[0].T.todense(), index=tfIdfVectorizer.get_feature_names(), columns=[\"TF-IDF\"])\n",
        "# df_abc = df_abc.sort_values('TF-IDF', ascending=False)\n",
        "# print (df_abc.head(5))"
      ],
      "metadata": {
        "id": "7SqLS8UMK7wz"
      },
      "execution_count": null,
      "outputs": []
    },
    {
      "cell_type": "markdown",
      "source": [
        "TRIAL CODE END!"
      ],
      "metadata": {
        "id": "67TsjA0rLWot"
      }
    },
    {
      "cell_type": "code",
      "source": [
        "train_vectorizer=TfidfVectorizer(use_idf=True,lowercase=True,strip_accents='ascii')\n",
        "train_review_tfidf=train_vectorizer.fit_transform(X_train)"
      ],
      "metadata": {
        "id": "0-DVY0c7R7vh"
      },
      "execution_count": 129,
      "outputs": []
    },
    {
      "cell_type": "code",
      "source": [
        "print(train_review_tfidf.shape)\n",
        "type(train_review_tfidf)"
      ],
      "metadata": {
        "colab": {
          "base_uri": "https://localhost:8080/"
        },
        "id": "M4dHCga8VKwC",
        "outputId": "68847ff7-659e-4ea5-820e-f6e6f2048c56"
      },
      "execution_count": 130,
      "outputs": [
        {
          "output_type": "stream",
          "name": "stdout",
          "text": [
            "(1740, 3248)\n"
          ]
        },
        {
          "output_type": "execute_result",
          "data": {
            "text/plain": [
              "scipy.sparse.csr.csr_matrix"
            ]
          },
          "metadata": {},
          "execution_count": 130
        }
      ]
    },
    {
      "cell_type": "markdown",
      "source": [
        "printing first 5 elements and other is about ngrams"
      ],
      "metadata": {
        "id": "O2OjwMWGVcn9"
      }
    },
    {
      "cell_type": "code",
      "source": [
        "#print(review_tfidf.toarray()[1:5])\n",
        "#train_vectorizer_ngram=TfidfVectorizer(ngram_range=(2,3))\n",
        "#review_tfidf_ngram=train_vectorizer_ngram.fit_transform(X)"
      ],
      "metadata": {
        "id": "aVvE4_kiVSgR"
      },
      "execution_count": null,
      "outputs": []
    },
    {
      "cell_type": "code",
      "source": [
        "#Ignore this code cell\n",
        "\n",
        "print(y_train.head())\n",
        "print(y_train.shape)\n",
        "print(train_review_tfidf.shape)"
      ],
      "metadata": {
        "colab": {
          "base_uri": "https://localhost:8080/"
        },
        "id": "Sx_pgjw4WDYA",
        "outputId": "02f58858-2da8-434c-e034-f30170e1433a"
      },
      "execution_count": null,
      "outputs": [
        {
          "output_type": "stream",
          "name": "stdout",
          "text": [
            "3       0\n",
            "1648    0\n",
            "2020    1\n",
            "2397    0\n",
            "2243    1\n",
            "Name: Sentiment, dtype: int64\n",
            "(1740,)\n",
            "(1740, 3247)\n"
          ]
        }
      ]
    },
    {
      "cell_type": "markdown",
      "source": [
        "LOGISTIC REGRESSION"
      ],
      "metadata": {
        "id": "5nc7DBAqVi1_"
      }
    },
    {
      "cell_type": "code",
      "source": [
        "log_model=LogisticRegression().fit(train_review_tfidf, y_train)"
      ],
      "metadata": {
        "id": "WIVnf7WwVkxB"
      },
      "execution_count": 131,
      "outputs": []
    },
    {
      "cell_type": "code",
      "source": [
        "cross_val_score(log_model,train_review_tfidf,y_train,scoring='accuracy',cv=5).mean()"
      ],
      "metadata": {
        "colab": {
          "base_uri": "https://localhost:8080/"
        },
        "id": "oJ8csFnQWapl",
        "outputId": "be8bffe7-b23f-46fe-b66d-45c64f50aa91"
      },
      "execution_count": 132,
      "outputs": [
        {
          "output_type": "execute_result",
          "data": {
            "text/plain": [
              "0.9298850574712644"
            ]
          },
          "metadata": {},
          "execution_count": 132
        }
      ]
    },
    {
      "cell_type": "markdown",
      "source": [
        "\n",
        "TESTING"
      ],
      "metadata": {
        "id": "Q3BfK_FTWoQT"
      }
    },
    {
      "cell_type": "code",
      "source": [
        "#USE THIS WHEN TESTING ON SPLIT TEST DATA\n",
        "nr=train_vectorizer.transform(X_test)\n",
        "log_model.predict(nr)\n",
        "\n",
        "#USE THIS WHEN TESTING ON WHOLE DATASET\n",
        "# nr=train_vectorizer.transform(df_review['NewReview'])\n",
        "# log_model.predict(nr)\n"
      ],
      "metadata": {
        "id": "70FF2KxWWnwj",
        "colab": {
          "base_uri": "https://localhost:8080/"
        },
        "outputId": "648196c8-7115-4c53-dc69-b55426f59f3f"
      },
      "execution_count": 133,
      "outputs": [
        {
          "output_type": "execute_result",
          "data": {
            "text/plain": [
              "array([1, 1, 1, ..., 0, 1, 1])"
            ]
          },
          "metadata": {},
          "execution_count": 133
        }
      ]
    },
    {
      "cell_type": "code",
      "source": [
        "# print(\"Accuracy: \",cross_val_score(log_model,nr,y_test,scoring='accuracy',cv=5).mean())\n",
        "# print(\"Precision: \",cross_val_score(log_model,nr,y_test,scoring='precision',cv=5).mean())\n",
        "# print(\"Recall: \",cross_val_score(log_model,nr,y_test,scoring='recall',cv=5).mean())\n",
        "# print(\"F1 score :\",cross_val_score(log_model,nr,y_test,scoring='f1',cv=5).mean())\n",
        "\n",
        " \n",
        "  \n",
        "  \n",
        "#cross_val_score(log_model,nr,df_review['Sentiment'],scoring='accuracy',cv=5).mean()"
      ],
      "metadata": {
        "colab": {
          "base_uri": "https://localhost:8080/"
        },
        "id": "9BKhyOhTapav",
        "outputId": "ce5f6d1f-defb-4715-e21a-3a2007c16e7d"
      },
      "execution_count": null,
      "outputs": [
        {
          "output_type": "stream",
          "name": "stdout",
          "text": [
            "Accuracy:  0.9301724137931036\n",
            "Precision:  0.9239289537903218\n",
            "Recall:  0.9769965703086723\n",
            "F1 score : 0.9496567860161017\n"
          ]
        }
      ]
    },
    {
      "cell_type": "code",
      "source": [
        "predicted=log_model.predict(nr)\n",
        "p=pd.DataFrame(predicted)\n",
        "actual=y_test\n",
        "# actual=df_review['Sentiment']"
      ],
      "metadata": {
        "id": "IAMl0jTLXFiv"
      },
      "execution_count": 134,
      "outputs": []
    },
    {
      "cell_type": "code",
      "source": [
        "print(p.dtypes)"
      ],
      "metadata": {
        "id": "WS1Y47GfJY-o",
        "colab": {
          "base_uri": "https://localhost:8080/"
        },
        "outputId": "c604e19c-bced-4445-ac3b-281917bb3e38"
      },
      "execution_count": 70,
      "outputs": [
        {
          "output_type": "stream",
          "name": "stdout",
          "text": [
            "0    int64\n",
            "dtype: object\n"
          ]
        }
      ]
    },
    {
      "cell_type": "code",
      "source": [
        "import seaborn as sns\n",
        "cf_matrix=sm.confusion_matrix(actual,p)\n",
        "sns.heatmap(cf_matrix,annot=True,fmt='g')"
      ],
      "metadata": {
        "colab": {
          "base_uri": "https://localhost:8080/",
          "height": 284
        },
        "id": "3QEWlonRH744",
        "outputId": "9a8d30bd-7277-4848-cee0-2ca79be0942c"
      },
      "execution_count": 135,
      "outputs": [
        {
          "output_type": "execute_result",
          "data": {
            "text/plain": [
              "<matplotlib.axes._subplots.AxesSubplot at 0x7f0a77a6f910>"
            ]
          },
          "metadata": {},
          "execution_count": 135
        },
        {
          "output_type": "display_data",
          "data": {
            "image/png": "[encoded data removed]",
            "text/plain": [
              "<Figure size 432x288 with 2 Axes>"
            ]
          },
          "metadata": {
            "needs_background": "light"
          }
        }
      ]
    },
    {
      "cell_type": "code",
      "source": [
        "#Classification Report\n",
        "from sklearn.metrics import classification_report\n",
        "print(classification_report(actual,predicted))"
      ],
      "metadata": {
        "colab": {
          "base_uri": "https://localhost:8080/"
        },
        "id": "T0PIVY_KZYCt",
        "outputId": "03f3ab08-3013-4d2f-b398-d6c361d5fa4f"
      },
      "execution_count": 136,
      "outputs": [
        {
          "output_type": "stream",
          "name": "stdout",
          "text": [
            "              precision    recall  f1-score   support\n",
            "\n",
            "           0       0.94      0.87      0.91       378\n",
            "           1       0.94      0.97      0.96       782\n",
            "\n",
            "    accuracy                           0.94      1160\n",
            "   macro avg       0.94      0.92      0.93      1160\n",
            "weighted avg       0.94      0.94      0.94      1160\n",
            "\n"
          ]
        }
      ]
    },
    {
      "cell_type": "markdown",
      "source": [
        "Applying SVM"
      ],
      "metadata": {
        "id": "25g4NkIdcZj4"
      }
    },
    {
      "cell_type": "code",
      "source": [
        "from sklearn.svm import SVC\n",
        "svclassifier=SVC(kernel='linear')\n",
        "svclassifier.fit(train_review_tfidf,y_train)"
      ],
      "metadata": {
        "colab": {
          "base_uri": "https://localhost:8080/"
        },
        "id": "Doq8pejtccdK",
        "outputId": "509e332a-f04e-47c5-bfa6-8c87de7347e8"
      },
      "execution_count": 137,
      "outputs": [
        {
          "output_type": "execute_result",
          "data": {
            "text/plain": [
              "SVC(kernel='linear')"
            ]
          },
          "metadata": {},
          "execution_count": 137
        }
      ]
    },
    {
      "cell_type": "code",
      "source": [
        "# sentence=['The order was delivered after 1 hour. Meanwhile I tried calling them but they put me on hold every time. On receiving the order I paid the money and then realized that instead of cheese burst chicken pizza a veg non cheese burst pizza was delivered, moreover it was completely cold...']\n",
        "# nr1=train_vectorizer.transform(sentence)\n",
        "# svclassifier.predict(nr1)"
      ],
      "metadata": {
        "colab": {
          "base_uri": "https://localhost:8080/"
        },
        "id": "VrgeCXarLbMo",
        "outputId": "db77721f-2eda-4355-943d-65a12933c90c"
      },
      "execution_count": 74,
      "outputs": [
        {
          "output_type": "execute_result",
          "data": {
            "text/plain": [
              "array([0])"
            ]
          },
          "metadata": {},
          "execution_count": 74
        }
      ]
    },
    {
      "cell_type": "code",
      "source": [
        "nr=train_vectorizer.transform(X_test)\n",
        "svclassifier.predict(nr)"
      ],
      "metadata": {
        "id": "3GDdJanidadf",
        "colab": {
          "base_uri": "https://localhost:8080/"
        },
        "outputId": "afaa8986-d92e-41a6-ced0-7e9990565699"
      },
      "execution_count": 138,
      "outputs": [
        {
          "output_type": "execute_result",
          "data": {
            "text/plain": [
              "array([1, 1, 1, ..., 0, 1, 1])"
            ]
          },
          "metadata": {},
          "execution_count": 138
        }
      ]
    },
    {
      "cell_type": "code",
      "source": [
        "predicted=svclassifier.predict(nr)\n",
        "p=pd.DataFrame(predicted)\n",
        "actual=y_test"
      ],
      "metadata": {
        "id": "MhZpsHR2dmgJ"
      },
      "execution_count": 139,
      "outputs": []
    },
    {
      "cell_type": "code",
      "source": [
        "cf_matrix=sm.confusion_matrix(actual,p)\n",
        "sns.heatmap(cf_matrix,annot=True,fmt='g')"
      ],
      "metadata": {
        "colab": {
          "base_uri": "https://localhost:8080/",
          "height": 284
        },
        "id": "Q-zYtb70LLdq",
        "outputId": "cc617187-afa9-4ca8-d030-84f18615dd28"
      },
      "execution_count": 140,
      "outputs": [
        {
          "output_type": "execute_result",
          "data": {
            "text/plain": [
              "<matplotlib.axes._subplots.AxesSubplot at 0x7f0a77787250>"
            ]
          },
          "metadata": {},
          "execution_count": 140
        },
        {
          "output_type": "display_data",
          "data": {
            "image/png": "[encoded data removed]",
            "text/plain": [
              "<Figure size 432x288 with 2 Axes>"
            ]
          },
          "metadata": {
            "needs_background": "light"
          }
        }
      ]
    },
    {
      "cell_type": "code",
      "source": [
        "cross_val_score(svclassifier,train_review_tfidf,y_train,scoring='accuracy',cv=5).mean()"
      ],
      "metadata": {
        "colab": {
          "base_uri": "https://localhost:8080/"
        },
        "id": "Fa8_Z74RdqEH",
        "outputId": "4f65dd83-9ce5-4259-c366-663c655d3347"
      },
      "execution_count": 141,
      "outputs": [
        {
          "output_type": "execute_result",
          "data": {
            "text/plain": [
              "0.9321839080459771"
            ]
          },
          "metadata": {},
          "execution_count": 141
        }
      ]
    },
    {
      "cell_type": "code",
      "source": [
        "# print(\"Accuracy: \",cross_val_score(svclassifier,nr,y_test,scoring='accuracy',cv=5).mean())\n",
        "# print(\"Precision: \",cross_val_score(svclassifier,nr,y_test,scoring='precision',cv=5).mean())\n",
        "# print(\"Recall: \",cross_val_score(svclassifier,nr,y_test,scoring='recall',cv=5).mean())\n",
        "# print(\"F1 score :\",cross_val_score(svclassifier,nr,y_test,scoring='f1',cv=5).mean())"
      ],
      "metadata": {
        "colab": {
          "base_uri": "https://localhost:8080/"
        },
        "id": "qg1fD1i3dnFG",
        "outputId": "2b37b1e7-102a-4ba3-8b0d-daef1c51d3d8"
      },
      "execution_count": null,
      "outputs": [
        {
          "output_type": "stream",
          "name": "stdout",
          "text": [
            "Accuracy:  0.9301724137931033\n",
            "Precision:  0.9510731306909651\n",
            "Recall:  0.945043279438184\n",
            "F1 score : 0.9480290403702132\n"
          ]
        }
      ]
    },
    {
      "cell_type": "code",
      "source": [
        "#Classification Report\n",
        "from sklearn.metrics import classification_report\n",
        "print(classification_report(actual,predicted))"
      ],
      "metadata": {
        "colab": {
          "base_uri": "https://localhost:8080/"
        },
        "id": "gRxKgyIIdzVK",
        "outputId": "97ee4fac-db39-41ec-c812-e03e4abe59b3"
      },
      "execution_count": 142,
      "outputs": [
        {
          "output_type": "stream",
          "name": "stdout",
          "text": [
            "              precision    recall  f1-score   support\n",
            "\n",
            "           0       0.92      0.91      0.91       378\n",
            "           1       0.96      0.96      0.96       782\n",
            "\n",
            "    accuracy                           0.94      1160\n",
            "   macro avg       0.94      0.94      0.94      1160\n",
            "weighted avg       0.94      0.94      0.94      1160\n",
            "\n"
          ]
        }
      ]
    },
    {
      "cell_type": "code",
      "source": [
        "print(df_review[df_review['Sentiment']==0].NewReview.shape)"
      ],
      "metadata": {
        "colab": {
          "base_uri": "https://localhost:8080/"
        },
        "id": "doB0dGBBfs3q",
        "outputId": "7bb239aa-731b-4b53-b61d-c338f5f1453b"
      },
      "execution_count": 80,
      "outputs": [
        {
          "output_type": "stream",
          "name": "stdout",
          "text": [
            "(928,)\n"
          ]
        }
      ]
    },
    {
      "cell_type": "markdown",
      "source": [
        "# Latent Dirichlet Allocation"
      ],
      "metadata": {
        "id": "OYVPuYyeezl8"
      }
    },
    {
      "cell_type": "markdown",
      "source": [
        "LDA WITH 5 TOPICS"
      ],
      "metadata": {
        "id": "T7i1GG9vid7D"
      }
    },
    {
      "cell_type": "code",
      "source": [
        "# from sklearn.decomposition import LatentDirichletAllocation \n",
        "# num_components=4\n",
        "\n",
        "# lda=LatentDirichletAllocation(n_components=num_components)\n",
        "\n",
        "# nr_vectorized_neg_reviews=train_vectorizer.transform(df_review[df_review['Sentiment']==0].NewReview)\n",
        "\n",
        "# lda_matrix=lda.fit_transform(nr_vectorized_neg_reviews)\n",
        "\n",
        "# lda_model_components=lda.components_\n",
        "\n"
      ],
      "metadata": {
        "id": "mR-ZrE-Qe2pr"
      },
      "execution_count": null,
      "outputs": []
    },
    {
      "cell_type": "code",
      "source": [
        "# #printing the topics with their terms\n",
        "# terms=train_vectorizer.get_feature_names()\n",
        "\n",
        "# for index, component in enumerate(lda_model_components):\n",
        "#   zipped=zip(terms,component)\n",
        "#   top_terms_key=sorted(zipped, key=lambda t:t[1], reverse=True)[:10]\n",
        "#   top_terms_list=list(dict(top_terms_key).keys())\n",
        "#   print(\"Topic \"+str(index)+\": \",top_terms_list)"
      ],
      "metadata": {
        "id": "V3H8vWNzhlk0"
      },
      "execution_count": null,
      "outputs": []
    },
    {
      "cell_type": "markdown",
      "source": [
        "JUST A TRIAL!"
      ],
      "metadata": {
        "id": "bBmGCfQEwe5M"
      }
    },
    {
      "cell_type": "code",
      "source": [
        "# uploaded=files.upload()\n",
        "# dominos_df=pd.read_excel(io.BytesIO(uploaded['All_Reviews_DP.xlsx']))"
      ],
      "metadata": {
        "id": "uNcNiGpidz7O"
      },
      "execution_count": null,
      "outputs": []
    },
    {
      "cell_type": "code",
      "source": [
        "# dominos_df.head()"
      ],
      "metadata": {
        "id": "cld70dHPupiu"
      },
      "execution_count": null,
      "outputs": []
    },
    {
      "cell_type": "code",
      "source": [
        "# xtest = dominos_df['Review'][0:200]\n",
        "# ytest = dominos_df['Sentiment'][0:200].astype('int')"
      ],
      "metadata": {
        "id": "y8Rvl02vuu6c"
      },
      "execution_count": null,
      "outputs": []
    },
    {
      "cell_type": "code",
      "source": [
        "# type(ytest)"
      ],
      "metadata": {
        "id": "QRfLthTfzde-"
      },
      "execution_count": null,
      "outputs": []
    },
    {
      "cell_type": "code",
      "source": [
        "# #Logistic Model\n",
        "# nr=train_vectorizer.transform(list(xtest))\n",
        "# log_predicted_values=log_model.predict(nr)\n",
        "# log_actual_values=ytest\n",
        "\n",
        "# #SVM Model\n",
        "# svm_predicted_values=svclassifier.predict(nr)\n",
        "# svm_actual_values=ytest"
      ],
      "metadata": {
        "id": "uNBDM5VCuf-M"
      },
      "execution_count": null,
      "outputs": []
    },
    {
      "cell_type": "code",
      "source": [
        "# #Logistic Model Performance\n",
        "# print(\"Logistic Model Accuracy: \",cross_val_score(log_model,nr,log_actual_values,scoring='accuracy',cv=5).mean())\n",
        "# print(\"Logistic Model Precision: \",cross_val_score(log_model,nr,log_actual_values,scoring='precision',cv=5).mean())\n",
        "# print(\"Logistic Model Recall: \",cross_val_score(log_model,nr,log_actual_values,scoring='recall',cv=5).mean())\n",
        "# print(\"Logistic Model F1 score :\",cross_val_score(log_model,nr,log_actual_values,scoring='f1',cv=5).mean())\n",
        "\n",
        "# #SVM Model Performance\n",
        "# print(\"SVM Model Accuracy: \",cross_val_score(svclassifier,nr,ytest,scoring='accuracy',cv=5).mean())\n",
        "# print(\"SVM Model Precision: \",cross_val_score(svclassifier,nr,ytest,scoring='precision',cv=5).mean())\n",
        "# print(\"SVM Model Recall: \",cross_val_score(svclassifier,nr,ytest,scoring='recall',cv=5).mean())\n",
        "# print(\"SVM Model F1 score :\",cross_val_score(svclassifier,nr,ytest,scoring='f1',cv=5).mean())"
      ],
      "metadata": {
        "id": "SpHSbpUPwnas"
      },
      "execution_count": null,
      "outputs": []
    },
    {
      "cell_type": "code",
      "source": [
        "# #predicted=pd.DataFrame(predicted)\n",
        "# print(predicted)"
      ],
      "metadata": {
        "id": "urOaITNEZP6h"
      },
      "execution_count": null,
      "outputs": []
    },
    {
      "cell_type": "code",
      "source": [
        "# pd.set_option(\"display.max_rows\",None)"
      ],
      "metadata": {
        "id": "UR6ksMeZZsdw"
      },
      "execution_count": null,
      "outputs": []
    },
    {
      "cell_type": "markdown",
      "source": [
        "CREATED A DATAFRAME OF 'ACTUAL' 'PREDICTED' 'REVIEWS'   NOTE: THESE ARE SVM RESULTS" 
      ],
      "metadata": {
        "id": "OHDLQQ36PPg6"
      }
    },
    {
      "cell_type": "code",
      "source": [
        "fin_df=pd.DataFrame()\n",
        "fin_df['Actual']=actual\n",
        "fin_df['Predicted']=predicted\n",
        "fin_df['Reviews']=X_test\n",
        "#print(fin_df)"
      ],
      "metadata": {
        "id": "SEV_Flz6XPgD"
      },
      "execution_count": null,
      "outputs": []
    },
    {
      "cell_type": "code",
      "source": [
        "print(fin_df.head())\n",
        "print(\"\\n\\n\\n\\n\")\n",
        "print(fin_df.tail())"
      ],
      "metadata": {
        "colab": {
          "base_uri": "https://localhost:8080/"
        },
        "id": "2H_Tw-0JPFQH",
        "outputId": "fc3f84ff-7a70-4aee-9838-2f3577190ccd"
      },
      "execution_count": 145,
      "outputs": [
        {
          "output_type": "stream",
          "name": "stdout",
          "text": [
            "      Actual  Predicted  \\\n",
            "2051       1          1   \n",
            "732        1          1   \n",
            "2550       1          1   \n",
            "2446       1          1   \n",
            "1834       1          1   \n",
            "\n",
            "                                                                                                                                                                                                    Reviews  \n",
            "2051                                                                                 great place pizza hut food also amaze comfortable offer friendly staff restaurant good clean enjoy ur friends birthday  \n",
            "732   self service place visit place wife one yr old kid staff cooperative helpful suggestions helpful decide menu food outstanding drawback no park place bpcl petrol pump guy not allow park even minutes  \n",
            "2550                                                                                                                                 wow wow wow owesme service pizza yummy lovee good place hangout friend  \n",
            "2446                                                                                                                place service good ambience also nice good place chill friends hectic day staff welcome  \n",
            "1834                                             go friends lunch place good staff friendly service slow drink appetisers taste good pizzas flavourful tasty dessert warm delicious overall good experience  \n",
            "\n",
            "\n",
            "\n",
            "\n",
            "\n",
            "      Actual  Predicted  \\\n",
            "1474       1          1   \n",
            "2074       1          1   \n",
            "416        0          0   \n",
            "1604       1          1   \n",
            "2022       1          1   \n",
            "\n",
            "                                                                                                                                                                                                                                                                                                                                                                                                                                                                                                                                                                                                                      Reviews  \n",
            "1474                                                                                                                                                                                                                                                                                                                                                                                                                                                                                                                       superb place wonderful staff best place pizza love interior pizza good chicken supreme lovely dish  \n",
            "2074                                                                                                                                                                                                                                                                                                                                                                                                                                                                                  good ambience good service great pizzas meals good cheaper compare food chain toppings quantity pizzas garlic bread cheese soft crunchy  \n",
            "416   pathetic service pizzahut hopeless today order zomato pizzahut pizzas office bkc place order around not get delivery till pm happen order place bulk order pizzas garlic bread desert cold drink delivery person zomato immediately reach pizzahut bkc store zomato delivery person see complete order however pizza hut could not glitch call pizza hut helpline twice speak reps keep assure someone pizzahut bkc call back never pathetic experience guests wait lunch could not offer need refund completely never receive pizza wait mins ask cancel order pathetic service pathetic coordination zomato pizza hut  \n",
            "1604                                                                                                                                                                                                         one outlets spacious decent interior service staff friendly price serve pizzas bite overrate quality quantity pizza good tandoori paneer pizza come vegetables spice paneer pizza soft tangy base pizza soft pizza fill cheese make taste good chicken sausage come tangy chicken sausages top pizza fill cheese combination chicken cheese pizza amaze pizza must try overall quality quantity service ambience  \n",
            "2022                                                                                                                                                                                                                                                                                                                                                                                                                                                                                                                        food really amaze service quite quick chicken wing spicier order thankyou much pizza hut make day  \n"
          ]
        }
      ]
    },
    {
      "cell_type": "code",
      "source": [
        "# print(fin_df)"
      ],
      "metadata": {
        "id": "Xws3HzSvZ8u_"
      },
      "execution_count": null,
      "outputs": []
    },
    {
      "cell_type": "code",
      "source": [
        "# fin_df['Reviews']=xtest"
      ],
      "metadata": {
        "id": "mI1mvOL8cS0Z"
      },
      "execution_count": null,
      "outputs": []
    },
    {
      "cell_type": "code",
      "source": [
        "# print(fin_df.head(20))"
      ],
      "metadata": {
        "id": "nzNGW8ygciTm"
      },
      "execution_count": null,
      "outputs": []
    },
    {
      "cell_type": "code",
      "source": [
        "# fin_df.to_csv('result.csv')"
      ],
      "metadata": {
        "id": "LME92KQ4f0Kc"
      },
      "execution_count": null,
      "outputs": []
    }
  ]
}
