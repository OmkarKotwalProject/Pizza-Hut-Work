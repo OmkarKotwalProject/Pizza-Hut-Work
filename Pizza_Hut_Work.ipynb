{
  "nbformat": 4,
  "nbformat_minor": 0,
  "metadata": {
    "colab": {
      "name": "Pizza_Hut_Work.ipynb",
      "provenance": [],
      "collapsed_sections": [],
      "authorship_tag": "ABX9TyOtVupOjkZtvIW75TwrCr/K",
      "include_colab_link": true
    },
    "kernelspec": {
      "name": "python3",
      "display_name": "Python 3"
    },
    "language_info": {
      "name": "python"
    },
    "accelerator": "GPU"
  },
  "cells": [
    {
      "cell_type": "markdown",
      "metadata": {
        "id": "view-in-github",
        "colab_type": "text"
      },
      "source": [
        "<a href=\"https://colab.research.google.com/github/OmkarKotwalProject/Pizza-Hut-Work/blob/main/Pizza_Hut_Work.ipynb\" target=\"_parent\"><img src=\"https://colab.research.google.com/assets/colab-badge.svg\" alt=\"Open In Colab\"/></a>"
      ]
    },
    {
      "cell_type": "code",
      "metadata": {
        "id": "o8EDIpa8WZEe",
        "colab": {
          "base_uri": "https://localhost:8080/"
        },
        "outputId": "b01fa31e-3e9a-40fd-a261-42d815d995c4"
      },
      "source": [
        "from warnings import filterwarnings\n",
        "import matplotlib.pyplot as plt\n",
        "import numpy as np\n",
        "from PIL import Image\n",
        "import pandas as pd\n",
        "import nltk\n",
        "import re\n",
        "from nltk.corpus import stopwords\n",
        "from nltk.sentiment import SentimentIntensityAnalyzer\n",
        "from sklearn.ensemble import RandomForestClassifier\n",
        "from sklearn.linear_model import LogisticRegression\n",
        "from sklearn.model_selection import cross_val_score, GridSearchCV, cross_validate\n",
        "import sklearn.metrics as sm\n",
        "from sklearn.preprocessing import LabelEncoder\n",
        "from textblob import Word, TextBlob\n",
        "from wordcloud import WordCloud"
      ],
      "execution_count": 1,
      "outputs": [
        {
          "output_type": "stream",
          "name": "stderr",
          "text": [
            "/usr/local/lib/python3.7/dist-packages/nltk/twitter/__init__.py:20: UserWarning: The twython library has not been installed. Some functionality from the twitter package will not be available.\n",
            "  warnings.warn(\"The twython library has not been installed. \"\n"
          ]
        }
      ]
    },
    {
      "cell_type": "code",
      "source": [
        "!pip install pyspellchecker\n",
        "!pip install Counter\n",
        "\n",
        "nltk.download(\"stopwords\")\n",
        "nltk.download(\"punkt\")\n",
        "nltk.download(\"wordnet\")"
      ],
      "metadata": {
        "id": "lTdMDtwWAzob",
        "colab": {
          "base_uri": "https://localhost:8080/"
        },
        "outputId": "4d1b3aee-8845-42a5-b6a7-b27accf27f14"
      },
      "execution_count": 2,
      "outputs": [
        {
          "output_type": "stream",
          "name": "stdout",
          "text": [
            "Collecting pyspellchecker\n",
            "  Downloading pyspellchecker-0.6.3-py3-none-any.whl (2.7 MB)\n",
            "\u001b[K     |████████████████████████████████| 2.7 MB 12.3 MB/s \n",
            "\u001b[?25hInstalling collected packages: pyspellchecker\n",
            "Successfully installed pyspellchecker-0.6.3\n",
            "Collecting Counter\n",
            "  Downloading Counter-1.0.0.tar.gz (5.2 kB)\n",
            "Building wheels for collected packages: Counter\n",
            "  Building wheel for Counter (setup.py) ... \u001b[?25l\u001b[?25hdone\n",
            "  Created wheel for Counter: filename=Counter-1.0.0-py3-none-any.whl size=5411 sha256=701cf7a29342cbf61b7fab0bd406e859024637351317dab51abd7702ff2b2cbc\n",
            "  Stored in directory: /root/.cache/pip/wheels/f9/15/75/7a0462a00beb08e391f5da370ca409b56781d2501dba083fa3\n",
            "Successfully built Counter\n",
            "Installing collected packages: Counter\n",
            "Successfully installed Counter-1.0.0\n",
            "[nltk_data] Downloading package stopwords to /root/nltk_data...\n",
            "[nltk_data]   Unzipping corpora/stopwords.zip.\n",
            "[nltk_data] Downloading package punkt to /root/nltk_data...\n",
            "[nltk_data]   Unzipping tokenizers/punkt.zip.\n",
            "[nltk_data] Downloading package wordnet to /root/nltk_data...\n",
            "[nltk_data]   Unzipping corpora/wordnet.zip.\n"
          ]
        },
        {
          "output_type": "execute_result",
          "data": {
            "text/plain": [
              "True"
            ]
          },
          "metadata": {},
          "execution_count": 2
        }
      ]
    },
    {
      "cell_type": "code",
      "source": [
        "pd.set_option(\"display.max_rows\",None)\n",
        "pd.set_option(\"display.max_columns\",None)\n",
        "pd.set_option(\"display.max_colwidth\",None)"
      ],
      "metadata": {
        "id": "N27Zt-9NCT0K"
      },
      "execution_count": 3,
      "outputs": []
    },
    {
      "cell_type": "code",
      "source": [
        "import matplotlib.pyplot as plt\n",
        "import pandas as pd\n",
        "from google.colab import files\n",
        "import io\n",
        "\n",
        "\n",
        "uploaded = files.upload()\n",
        "df= pd.read_excel(io.BytesIO(uploaded['All_Reviews_PH.xlsx']))"
      ],
      "metadata": {
        "colab": {
          "resources": {
            "http://localhost:8080/nbextensions/google.colab/files.js": {
              "data": "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",
              "ok": true,
              "headers": [
                [
                  "content-type",
                  "application/javascript"
                ]
              ],
              "status": 200,
              "status_text": "OK"
            }
          },
          "base_uri": "https://localhost:8080/",
          "height": 75
        },
        "id": "qfW5Tii51BVP",
        "outputId": "85404f0f-e9d6-4e2c-d6bc-78d3280d02de"
      },
      "execution_count": 4,
      "outputs": [
        {
          "output_type": "display_data",
          "data": {
            "text/html": [
              "\n",
              "     <input type=\"file\" id=\"files-6aaa5a11-fa6c-4293-9286-704adb3fa8d9\" name=\"files[]\" multiple disabled\n",
              "        style=\"border:none\" />\n",
              "     <output id=\"result-6aaa5a11-fa6c-4293-9286-704adb3fa8d9\">\n",
              "      Upload widget is only available when the cell has been executed in the\n",
              "      current browser session. Please rerun this cell to enable.\n",
              "      </output>\n",
              "      <script src=\"/nbextensions/google.colab/files.js\"></script> "
            ],
            "text/plain": [
              "<IPython.core.display.HTML object>"
            ]
          },
          "metadata": {}
        },
        {
          "output_type": "stream",
          "name": "stdout",
          "text": [
            "Saving All_Reviews_PH.xlsx to All_Reviews_PH.xlsx\n"
          ]
        }
      ]
    },
    {
      "cell_type": "code",
      "source": [
        "#Keeping the original as it is.\n",
        "df_review=df  "
      ],
      "metadata": {
        "id": "AvXAsaq4_Pnc"
      },
      "execution_count": 5,
      "outputs": []
    },
    {
      "cell_type": "markdown",
      "source": [
        "THIS IS A BACKUP LOAD OF ORIGINAL DATAFRAME, ONLY USE IF MESSED UP"
      ],
      "metadata": {
        "id": "WwKOV_Zc2xTS"
      }
    },
    {
      "cell_type": "code",
      "source": [
        "# #FOR EMPTYING THE DATAFRAME\n",
        "##df_review.drop(columns=['Review','Sentiment'],inplace=True)"
      ],
      "metadata": {
        "id": "25Abi-cbyBrh"
      },
      "execution_count": 14,
      "outputs": []
    },
    {
      "cell_type": "code",
      "source": [
        "# #FOR RELOADING WITH ORIGINAL RAW DATA\n",
        "# df= pd.read_excel(io.BytesIO(uploaded['All_Reviews_PH.xlsx']))\n",
        "# df_review=df"
      ],
      "metadata": {
        "id": "e9ujebpX1DoN"
      },
      "execution_count": 15,
      "outputs": []
    },
    {
      "cell_type": "markdown",
      "source": [
        "BACKUP CODE END"
      ],
      "metadata": {
        "id": "Vvg34MX124sA"
      }
    },
    {
      "cell_type": "code",
      "source": [
        "print(df_review.head())\n",
        "print(df_review.shape)"
      ],
      "metadata": {
        "colab": {
          "base_uri": "https://localhost:8080/"
        },
        "id": "51OZDq3U1H1J",
        "outputId": "d7fce557-16d9-4b57-8ec2-340edc9aecc3"
      },
      "execution_count": 16,
      "outputs": [
        {
          "output_type": "stream",
          "name": "stdout",
          "text": [
            "                                                                                                                                                                                      Review  \\\n",
            "0                                                                                                                                                                            tasteless pizza   \n",
            "1                                                                                                                                                                           price is so high   \n",
            "2  very very disappointed ? ? ? ? \\nwhile ordering you didn't mentioned it is small.. you guys are f**king fooling us .... 400rs spent for 200rs pizza.... isse acha grand deke kamaho bc Mc   \n",
            "3                                                                                                                                                               taste was not up to the mark   \n",
            "4                      Open pizza box and open Jalapeño Poppers. Sealing Tape not properly put. No point in blaming poor delivery person. Highly disappointing, not expected from Pizza Hut.   \n",
            "\n",
            "   Sentiment  \n",
            "0          0  \n",
            "1          0  \n",
            "2          0  \n",
            "3          0  \n",
            "4          0  \n",
            "(2900, 2)\n"
          ]
        }
      ]
    },
    {
      "cell_type": "markdown",
      "source": [
        "^[\\w\\s]=remove all except alphanumeric and whitespaces tabs and spaces [\\d] remove digits"
      ],
      "metadata": {
        "id": "2gvyHia0L80x"
      }
    },
    {
      "cell_type": "code",
      "source": [
        "#REMOVING NUMBERS \n",
        "df_review['Review']=df_review['Review'].replace('\\d+','',regex=True)"
      ],
      "metadata": {
        "id": "WvJiFBhB-UV-"
      },
      "execution_count": 17,
      "outputs": []
    },
    {
      "cell_type": "markdown",
      "source": [
        "WHAT AM I TRYING TO DO HERE:-  Removing more than 2 consecutive occurrences of a character, if its a special char, replace with space\n",
        "\n",
        "so @@@@@@ => @@ and then '__'. This will happen with words too, hellllloo => helloo\n"
      ],
      "metadata": {
        "id": "PDx48rb_uPQu"
      }
    },
    {
      "cell_type": "code",
      "source": [
        "#WHAT AM I TRYING TO DO HERE:-  Removing more than 2 consecutive occurrences of a character, if its a special char, replace with space\n",
        "# so @@@@@@ => @@ and then '__'. This will happen with words too, hellllloo => helloo\n",
        "#1. REPLACE SPECIAL CHARACTERS BY ' ' AND then using regex, remove consecutive duplicates of ' ' i.e '         '  (big spaces between words)\n",
        "df_review['Review']=df_review['Review'].replace('\\n', ' ',regex=True)\n",
        "df_review['Review']=df_review['Review'].replace(('[^!|^.|^,|^;|^-|^@|^\\w\\s]'),\"\", regex = True)\n",
        "for i in range(len(df_review)):\n",
        "  sentence=df_review['Review'][i]\n",
        "  sentence=sentence.replace('.', ' ')\n",
        "  sentence=sentence.replace(',', ' ')\n",
        "  sentence=sentence.replace('!', ' ')\n",
        "  sentence=sentence.replace('.', ' ')\n",
        "  sentence=sentence.replace(';', ' ')\n",
        "  sentence=sentence.replace('-', ' ')\n",
        "  sentence=sentence.replace('@', ' ')\n",
        "  sentence=sentence.replace(')', ' ')\n",
        "  sentence=sentence.replace('(', ' ')\n",
        "  sentence=sentence.replace('{', ' ')\n",
        "  sentence=sentence.replace('}', ' ')\n",
        "\n",
        "  sentence=re.sub(r'(.)\\1+', r'\\1\\1',sentence)   # yummmyyy => yummyy,  '     '=>'  '  #This line will remove char which occures more than 2 times consecutively.\n",
        "  df_review['Review'][i]=sentence\n",
        "\n",
        "#df_review['Review']=df_review['Review'].replace('[^\\w\\s]', '',regex=True)\n",
        "print(df_review.head(10))"
      ],
      "metadata": {
        "id": "3Hx_DiOY1mhE",
        "colab": {
          "base_uri": "https://localhost:8080/"
        },
        "outputId": "04914e65-82ed-42f3-c46d-ec4c5fe77ce4"
      },
      "execution_count": 18,
      "outputs": [
        {
          "output_type": "stream",
          "name": "stderr",
          "text": [
            "/usr/local/lib/python3.7/dist-packages/ipykernel_launcher.py:21: SettingWithCopyWarning: \n",
            "A value is trying to be set on a copy of a slice from a DataFrame\n",
            "\n",
            "See the caveats in the documentation: https://pandas.pydata.org/pandas-docs/stable/user_guide/indexing.html#returning-a-view-versus-a-copy\n"
          ]
        },
        {
          "output_type": "stream",
          "name": "stdout",
          "text": [
            "                                                                                                                                                                  Review  \\\n",
            "0                                                                                                                                                        tasteless pizza   \n",
            "1                                                                                                                                                       price is so high   \n",
            "2        very very disappointed  while ordering you didnt mentioned it is small  you guys are fking fooling us  rs spent for rs pizza  isse acha grand deke kamaho bc Mc   \n",
            "3                                                                                                                                           taste was not up to the mark   \n",
            "4  Open pizza box and open Jalapeño Poppers  Sealing Tape not properly put  No point in blaming poor delivery person  Highly disappointing  not expected from Pizza Hut    \n",
            "5                                                                                                                                  please make stuffed garlic bread also   \n",
            "6                                                                                                            totallybwaste of money not at all good never again ordering   \n",
            "7                                                                                                                                                               horrible   \n",
            "8                                                                                                                                          yummy pizza  delivery on time   \n",
            "9                                                                                                                             they didnt have chilli flakes and oreganos   \n",
            "\n",
            "   Sentiment  \n",
            "0          0  \n",
            "1          0  \n",
            "2          0  \n",
            "3          0  \n",
            "4          0  \n",
            "5          1  \n",
            "6          0  \n",
            "7          0  \n",
            "8          1  \n",
            "9          0  \n"
          ]
        }
      ]
    },
    {
      "cell_type": "code",
      "source": [
        "print(df_review.head())\n",
        "print(df_review.tail())"
      ],
      "metadata": {
        "colab": {
          "base_uri": "https://localhost:8080/"
        },
        "id": "JBCf65YK0fS-",
        "outputId": "60c7416b-2281-44b7-a939-a21989197a05"
      },
      "execution_count": 19,
      "outputs": [
        {
          "output_type": "stream",
          "name": "stdout",
          "text": [
            "                                                                                                                                                                  Review  \\\n",
            "0                                                                                                                                                        tasteless pizza   \n",
            "1                                                                                                                                                       price is so high   \n",
            "2        very very disappointed  while ordering you didnt mentioned it is small  you guys are fking fooling us  rs spent for rs pizza  isse acha grand deke kamaho bc Mc   \n",
            "3                                                                                                                                           taste was not up to the mark   \n",
            "4  Open pizza box and open Jalapeño Poppers  Sealing Tape not properly put  No point in blaming poor delivery person  Highly disappointing  not expected from Pizza Hut    \n",
            "\n",
            "   Sentiment  \n",
            "0          0  \n",
            "1          0  \n",
            "2          0  \n",
            "3          0  \n",
            "4          0  \n",
            "                                          Review  Sentiment\n",
            "2895                                      awsome          1\n",
            "2896                             good  very nice          1\n",
            "2897                                       yummy          1\n",
            "2898  Pizzas are superb  Very nice service  Good          1\n",
            "2899        Nice environment n quick service B            1\n"
          ]
        }
      ]
    },
    {
      "cell_type": "markdown",
      "source": [
        "REMOVING CHARACTERS WHICH ONLY OCCUR ONCE! ALSO REPLACING TWO CONSECUTIVE SPACES BY ONE"
      ],
      "metadata": {
        "id": "DVlklWOS_5UI"
      }
    },
    {
      "cell_type": "code",
      "source": [
        "for i in range(len(df_review)):\n",
        "  new_sentence=\" \"\n",
        "  sentence=df_review['Review'][i]    #get the row i.e. sentence\n",
        "  #print(\"before removing:\",df_review['Review'][i])\n",
        "  words=sentence.split()  #makes a list of the words in the sentence\n",
        "  for word in words:      #check every words length and if it is less than 2, remove it\n",
        "    if len(word)<2:\n",
        "      #print(word)\n",
        "      words.remove(word)\n",
        "  new_sentence=new_sentence.join(words) #Create a new sentence by joining all the words in the list with \" \" as a separator\n",
        "  df_review['Review'][i]=new_sentence   #replace current row i.e. sentence by the new sentence\n",
        "  #print(\"after removing:\",df_review['Review'][i])\n",
        "    \n",
        "      "
      ],
      "metadata": {
        "id": "KZrNOk_V_4-k"
      },
      "execution_count": null,
      "outputs": []
    },
    {
      "cell_type": "markdown",
      "source": [
        "Print the rows with Missing NAN values"
      ],
      "metadata": {
        "id": "J9G_sNHVL0M5"
      }
    },
    {
      "cell_type": "code",
      "source": [
        "print(df_review[df_review.isna().any(axis=1)])"
      ],
      "metadata": {
        "colab": {
          "base_uri": "https://localhost:8080/"
        },
        "id": "1p20GK4HIyMR",
        "outputId": "a95a6ba9-dcb2-4e8a-bf53-517eaca96ef5"
      },
      "execution_count": 22,
      "outputs": [
        {
          "output_type": "stream",
          "name": "stdout",
          "text": [
            "Empty DataFrame\n",
            "Columns: [Review, Sentiment]\n",
            "Index: []\n"
          ]
        }
      ]
    },
    {
      "cell_type": "code",
      "source": [
        "print(df_review.head())"
      ],
      "metadata": {
        "colab": {
          "base_uri": "https://localhost:8080/"
        },
        "id": "Vtl3op-pMFVa",
        "outputId": "8e89ce65-3d0a-44ca-a520-c350586be6c1"
      },
      "execution_count": 23,
      "outputs": [
        {
          "output_type": "stream",
          "name": "stdout",
          "text": [
            "                                                                                                                                                             Review  \\\n",
            "0                                                                                                                                                   tasteless pizza   \n",
            "1                                                                                                                                                  price is so high   \n",
            "2       very very disappointed while ordering you didnt mentioned it is small you guys are fking fooling us rs spent for rs pizza isse acha grand deke kamaho bc Mc   \n",
            "3                                                                                                                                      taste was not up to the mark   \n",
            "4  Open pizza box and open Jalapeño Poppers Sealing Tape not properly put No point in blaming poor delivery person Highly disappointing not expected from Pizza Hut   \n",
            "\n",
            "   Sentiment  \n",
            "0          0  \n",
            "1          0  \n",
            "2          0  \n",
            "3          0  \n",
            "4          0  \n"
          ]
        }
      ]
    },
    {
      "cell_type": "markdown",
      "source": [
        "HOW MANY POSITIVE REVIEWS, HOW MANY NEGATIVE REVIEWS"
      ],
      "metadata": {
        "id": "zf2mlLLNMgWC"
      }
    },
    {
      "cell_type": "code",
      "source": [
        "print(df_review[df_review['Sentiment']==1].count())\n",
        "print(df_review[df_review['Sentiment']==0].count())\n"
      ],
      "metadata": {
        "colab": {
          "base_uri": "https://localhost:8080/"
        },
        "id": "3-2NSFjQMQVy",
        "outputId": "dba59c9c-5a2b-480c-d579-7511d65a475a"
      },
      "execution_count": 24,
      "outputs": [
        {
          "output_type": "stream",
          "name": "stdout",
          "text": [
            "Review       1972\n",
            "Sentiment    1972\n",
            "dtype: int64\n",
            "Review       928\n",
            "Sentiment    928\n",
            "dtype: int64\n"
          ]
        }
      ]
    },
    {
      "cell_type": "markdown",
      "source": [
        "Converting datatype of a column, here tried to convert float type of Sentiment to int"
      ],
      "metadata": {
        "id": "m2SpQ-LmMo7S"
      }
    },
    {
      "cell_type": "code",
      "source": [
        "#print(df_review['Sentiment'].astype(int))"
      ],
      "metadata": {
        "id": "O05j3GXmH_eg"
      },
      "execution_count": null,
      "outputs": []
    },
    {
      "cell_type": "markdown",
      "source": [
        "TRIAL CODE START! \n",
        "FINDING MISSPELLED WORDS AND CORRECTING THEM AS TEXTBLOB IS FOUND USELESS!\n",
        "\n",
        "Algorithm used for correcting words:\n",
        "1. Create a list of misspelled words found in the dataset.\n",
        "2. Create a list of correctly spelled words found in the dataset.\n",
        "3. Use similar() function of 'SequenceMatcher' for finding similarity between words from both lists. If it is greater than 0.8, create a dictionary (dict['misspelled word'=correctly spelled word.\n",
        "4. Now traverse the dataset, while checking a row, extract its misspelled words, check if misspelled word is in the dictionary, if it is then replace it with correctly spelled word."
      ],
      "metadata": {
        "id": "DyqVF74PL0On"
      }
    },
    {
      "cell_type": "code",
      "source": [
        "#This creates a list of sets of misspelled words found in each row.\n",
        "from spellchecker import SpellChecker\n",
        "spell=SpellChecker()\n",
        "mis_list=[]\n",
        "for i in range(len(df_review)):\n",
        "  sentence=df_review['Review'][i].split()\n",
        "  mis_sent=spell.unknown(sentence)\n",
        "  mis_list.append(mis_sent)\n",
        "  if set() in mis_list:\n",
        "    mis_list.remove(set())\n",
        "print(mis_list)"
      ],
      "metadata": {
        "colab": {
          "base_uri": "https://localhost:8080/"
        },
        "id": "FPUJKvkrL7Ca",
        "outputId": "676dccef-e3af-4674-d61c-3dbd76bc168e"
      },
      "execution_count": 25,
      "outputs": [
        {
          "output_type": "stream",
          "name": "stdout",
          "text": [
            "[{'mc', 'fking', 'kamaho', 'isse', 'bc', 'rs'}, {'jalapeño'}, {'totallybwaste'}, {'oreganos'}, {'rs'}, {'compair', 'rs', 'pizaa'}, {'orgeno'}, {'uae', 'kababs'}, {'orderit'}, {'rd'}, {'zomato'}, {'chease', 'thanda'}, {'coustomer'}, {'zomato'}, {'ppl'}, {'xtra'}, {'origano'}, {'jst'}, {'zomato'}, {'whatsoeververy'}, {'coveredsecured'}, {'aftr', 'zomato'}, {'pls', 'rply'}, {'didntike'}, {'cheeze'}, {'wt'}, {'zomato'}, {'breadstix'}, {'recieve'}, {'rs'}, {'deshelved'}, {'pls'}, {'thanda'}, {'rs', 'bkc'}, {'contactless'}, {'whrn'}, {'rs'}, {'pls'}, {'detoraited'}, {'itoms'}, {'transperant', 'whyy'}, {'kabab'}, {'hogaya', 'lagta', 'aisa', 'seekh', 'kharab', 'kabab', 'khatta'}, {'pcs'}, {'pm', 'pls'}, {'servise'}, {'mazing'}, {'owsume', 'zomato'}, {'andngarlik', 'cheezy'}, {'incomplets'}, {'ws'}, {'pizzaexpress', 'tossin', 'pondicherry'}, {'rs'}, {'zomato'}, {'monutes'}, {'crustvery'}, {'pizzaa'}, {'havnt'}, {'rs'}, {'covid'}, {'covid'}, {'recieved'}, {'reeses'}, {'jalapeño'}, {'flackes'}, {'jain', 'plz'}, {'imbursed'}, {'wnt', 'bday', 'dnt'}, {'origano', 'flackes'}, {'kabab'}, {'dominoz'}, {'hygenic', 'bkc', 'exotica'}, {'dilevered', 'wth'}, {'dinein'}, {'silient', 'bandra', 'vist', 'varities', 'kurla'}, {'bkc'}, {'tollay'}, {'phd'}, {'bkc', 'exotica'}, {'panner'}, {'bkc', 'locatable'}, {'whatsover', 'covid', 'staf', 'shrude'}, {'zomato'}, {'hygenic'}, {'bkc'}, {'quantitysee', 'vfm'}, {'bandra'}, {'reallyy'}, {'panner'}, {'bkc'}, {'pm'}, {'spicyness', 'panner', 'tangyness', 'bkc', 'quiery'}, {'marktng', 'yumm', 'thnkyu'}, {'afternoon', 'mirinda'}, {'rupay'}, {'bkc', 'exotica'}, {'pizzahut'}, {'bkc'}, {'pcs'}, {'covid', 'rs'}, {'panfresh', 'cst'}, {'mosse', 'pizzahut'}, {'kurla', 'bandra'}, {'kurla', 'bandra'}, {'reommend'}, {'exotica'}, {'somewhen'}, {'sider', 'bkc'}, {'qualityfood', 'varites'}, {'kurla', 'bandra'}, {'afordable', 'bkc', 'cheerss'}, {'rs', 'swiggy'}, {'evrler'}, {'exotica'}, {'bkc'}, {'tbh'}, {'kurla', 'bandra', 'nonveg'}, {'bkc'}, {'pizzahut', 'coupan', 'st', 'zomato'}, {'nonveg', 'sp'}, {'nonveg'}, {'nd', 'pls'}, {'nonveg'}, {'bkc'}, {'tadka', 'vegorama', 'rawalpindi', 'ambienceservicetasterecommends', 'chana'}, {'bkc'}, {'amhience', 'nonveg'}, {'kurla', 'vist', 'bandra'}, {'kurla', 'bandra'}, {'bandra'}, {'bkc'}, {'ibony'}, {'kurla', 'bandra', 'plzz'}, {'bkc'}, {'pizzahut'}, {'margeretta', 'bcos'}, {'magirita', 'volcanony'}, {'okaaish'}, {'zomato'}, {'resonable'}, {'bkc'}, {'rs'}, {'vfs'}, {'jalapeños'}, {'citi', 'bpcl', 'bkc'}, {'gb'}, {'margrita', 'kabab'}, {'jalapeños'}, {'pizzahut', 'piizzas', 'bkc', 'pm', 'zomato'}, {'hygenic'}, {'offersdiscounts'}, {'rs'}, {'potatopoppers'}, {'bandra', 'wigh', 'tatse', 'visitef', 'servuce'}, {'kurla', 'cheease', 'bandra'}, {'sbi'}, {'yummlicious'}, {'bkc', 'bp'}, {'enjoyd', 'vry'}, {'bandra'}, {'bkc'}, {'pizzaa'}, {'kishor'}, {'kishor'}, {'pm', 'zomato'}, {'cheesee'}, {'tadka', 'chana', 'vegorama', 'rawalpindi'}, {'kms', 'zomato', 'swiggy'}, {'bandra', 'kela', 'bkc'}, {'rs'}, {'manthe', 'tooif', 'mamamiaaloved', 'pizzasthe', 'heell'}, {'kurla', 'bandra'}, {'bkc'}, {'kishore'}, {'kishor', 'foody', 'mr'}, {'jalapeño', 'kishor', 'greenchilli'}, {'frnd', 'yummyy'}, {'yumm', 'zomato'}, {'zomato'}, {'warmhot', 'nonveg'}, {'pm'}, {'frnds'}, {'rs'}, {'toping', 'finnest'}, {'jain', 'plez'}, {'bkc'}, {'khao', 'chese'}, {'topings'}, {'cheeseburst', 'cheezy'}, {'yumm', 'pizzass'}, {'loveforpizzapizzahut', 'kheema'}, {'kalina', 'bkc'}, {'kishor', 'mr'}, {'kishor', 'bkc'}, {'kurla', 'dadar', 'nonveg', 'bkc'}, {'bkc'}, {'ph', 'bkc'}, {'kishor', 'mr'}, {'bkc'}, {'testier'}, {'piiza', 'crudges', 'bkc', 'sevred'}, {'zomato'}, {'gps'}, {'bkc'}, {'useandthrow'}, {'rs', 'bkc'}, {'kishore', 'mr'}, {'restaurent'}, {'staffmust', 'moneygood', 'foodfriendly', 'friendsnice'}, {'staf'}, {'regularnormal'}, {'avarege'}, {'pizzahut', 'bkc', 'fb'}, {'tastest', 'woderful'}, {'polit', 'maded', 'teasy', 'apreshid', 'famouse', 'goodd', 'pizzaa'}, {'teast', 'hygnic'}, {'sugation', 'yumyy', 'chesyy', 'exccellant', 'politness'}, {'teasty'}, {'reallyy', 'apreeisied', 'plz'}, {'teasty', 'chssy', 'wooww', 'pizzaa', 'specailly', 'frrinds'}, {'boht', 'achha', 'accha', 'verg', 'matlab', 'sach'}, {'bkc'}, {'bpcl', 'bkc'}, {'yumm', 'ppl', 'vegorama'}, {'imo', 'basescrusts'}, {'bkc'}, {'recieved'}, {'chesse'}, {'osm'}, {'zomato'}, {'oreganoshaam', 'ayega'}, {'restourent'}, {'bkc'}, {'pizzahut', 'plaxement', 'itsbest'}, {'kishor', 'grt'}, {'bandra'}, {'dinein'}, {'msg', 'zomato'}, {'pizzahut'}, {'bkc', 'nonveg'}, {'gvs'}, {'nonmonetary', 'bkc', 'zomato', 'brach'}, {'kishor'}, {'ukus'}, {'nise'}, {'embiance', 'bkc'}, {'breadstix'}, {'ph', 'bkc'}, {'bkc'}, {'floury'}, {'yumiee'}, {'cashback'}, {'hr', 'pm', 'bkc', 'zomato'}, {'bandra', 'wooww'}, {'hutlarge', 'zomato'}, {'kishor', 'pizzaa', 'mr'}, {'nd', 'patato'}, {'restruants', 'palyed', 'pizaa', 'pizaas'}, {'restrurants', 'frnds'}, {'marvalous'}, {'bkc'}, {'bkc'}, {'cleanger'}, {'favrioute'}, {'kishor'}, {'wll', 'roczzs', 'offerrss', 'vrey', 'gd', 'vry'}, {'rs'}, {'pizzahut', 'oullets', 'pizzahuts'}, {'hr', 'nahi'}, {'pm', 'bkc', 'zomato'}, {'cheeze', 'bkc', 'tge'}, {'manintanence'}, {'bkc'}, {'bkc'}, {'bkc'}, {'chesse'}, {'ambeince'}, {'yumm', 'bkc', 'mr'}, {'recomment', 'frnds', 'ths'}, {'kurla', 'bandra'}, {'bkc'}, {'kurla', 'bandra'}, {'nsize'}, {'bkc'}, {'yummie'}, {'siccessfull', 'kishore', 'mr'}, {'marzano', 'kishore'}, {'freindly', 'bkc'}, {'itz', 'gaint', 'anilgood'}, {'aisi'}, {'toping', 'cowality', 'countities', 'yummyy'}, {'thax', 'takesorder'}, {'tanduri', 'thnks', 'pizz'}, {'tandori', 'pizzaa'}, {'nyc'}, {'taks'}, {'bkc'}, {'ambieance'}, {'bbq'}, {'aweaome'}, {'bkc'}, {'ppl'}, {'bpcl'}, {'mvisa', 'rd'}, {'nishitjagawat', 'bkc'}, {'definitetly'}, {'bkc', 'citi'}, {'mr'}, {'supperb', 'awsm', 'zomato'}, {'nyc'}, {'bkc', 'seatings'}, {'hrs'}, {'alotz', 'bkc', 'citi', 'plz'}, {'bkc'}, {'zomato'}, {'zomato'}, {'bkc'}, {'bkc'}, {'st'}, {'pirce'}, {'bkc'}, {'restaurent'}, {'kishore', 'bkc', 'njoyed'}, {'bkc', 'communicatoio'}, {'chessy'}, {'kishor'}, {'jain'}, {'suggessting', 'vist', 'helpfull'}, {'kishor'}, {'bkc'}, {'bkc'}, {'aa'}, {'bbq'}, {'kishor', 'bkc', 'mr'}, {'thanku', 'gd', 'subhangi'}, {'bkc'}, {'shubhangi', 'bkc'}, {'awesum', 'bkc'}, {'bkc'}, {'kurla', 'bandra'}, {'pizzahut'}, {'kishore'}, {'amaan__aziz', 'armaan__aziz', 'armaanrox', 'panner', 'foodiots', 'bkc', 'vivekdhadha'}, {'puzza', 'kishore', 'dughter', 'santacruz'}, {'afternoon'}, {'puzza', 'kishore', 'thnks'}, {'bkc'}, {'bkc'}, {'shubhangi'}, {'shubhangi', 'ms'}, {'pls', 'bkc'}, {'wonderlaa'}, {'mc', 'cains'}, {'yumm', 'jains'}, {'hygenic'}, {'afternoon'}, {'exotica'}, {'kishore', 'mr'}, {'kurla', 'bkc'}, {'bkc'}, {'kurla', 'bandra'}, {'kurla', 'bandra'}, {'kurla', 'bandra'}, {'wr'}, {'placee', 'awesomee'}, {'frnds', 'snackie', 'aussum'}, {'zomato'}, {'bandra', 'beanch'}, {'shubhangi', 'bkc'}, {'nyc'}, {'bkc'}, {'ffer', 'bkc'}, {'panner'}, {'bandra', 'bajao', 'aao'}, {'knowlegable'}, {'kishore'}, {'shubhangi'}, {'qsd', 'bkc', 'eatout'}, {'kishor', 'bkc', 'pozza', 'tasties'}, {'convinenetly'}, {'thanku', 'pankaj', 'nitesh', 'awsm', 'mr'}, {'bkc', 'yammi'}, {'hahahahahahahahaahahahahhahahah', 'shubangi'}, {'shubhangi', 'bkc'}, {'orrdered', 'exotica', 'servered'}, {'bt'}, {'osom'}, {'bandra', 'bkc', 'embience'}, {'kishore'}, {'wanaa', 'bkc', 'janta'}, {'shubhangi', 'pizzhut'}, {'shubhangi'}, {'hospitability'}, {'shivangi'}, {'bkc'}, {'bkc'}, {'perrfect'}, {'shubhangi'}, {'shubhangi', 'bkc'}, {'chaitanya', 'bkc'}, {'shubhangi'}, {'shubhangi', 'shubangi'}, {'shubhangi'}, {'pindi', 'rawal', 'recomendtions', 'tripple', 'shubhangi', 'chana'}, {'shubhangi', 'tabdoori'}, {'shubhangi'}, {'goid', 'shubangi'}, {'th', 'hv', 'bkc'}, {'shubhangi'}, {'shubhangi', 'idlt'}, {'shubhangi'}, {'kishore'}, {'rs'}, {'kishore', 'assumptious'}, {'bkc'}, {'exotica'}, {'kishor'}, {'exotica'}, {'pizzahut', 'bkc'}, {'kudoss', 'kishore'}, {'kishore', 'yumm', 'aervice'}, {'kishore'}, {'kishore', 'mr'}, {'kishore', 'bkc'}, {'bkc', 'haded', 'exotica'}, {'loonngg'}, {'kurla', 'bandra', 'kalina', 'teast'}, {'fr', 'kishore'}, {'hv'}, {'nonveg', 'pizz'}, {'frsh', 'nonveg'}, {'tv', 'selectiing', 'helpfull', 'kishor', 'requriment'}, {'oulet', 'kishor'}, {'kurla'}, {'accha'}, {'loveing', 'awsesome', 'kishore'}, {'kishore', 'hutbkc'}, {'bkc'}, {'represantive', 'kishore', 'mr'}, {'bkc'}, {'kabbadi'}, {'awesum', 'bkc'}, {'beveragepepsi'}, {'alwaz', 'rbl', 'guyz', 'helpfull', 'bandra'}, {'totoly'}, {'varietys'}, {'kurla', 'bandra'}, {'kishore', 'mr'}, {'teast'}, {'chikan', 'bkc'}, {'kurla', 'bandra', 'yamii'}, {'expreince', 'supeb', 'thr', 'chiest'}, {'bkc'}, {'ccd'}, {'wlk', 'kishore', 'mr'}, {'gf'}, {'kishore'}, {'exotica'}, {'rs', 'vegorama'}, {'monu', 'frinds', 'bkc'}, {'bkc', 'awazom'}, {'combinatio', 'bkc'}, {'conbination'}, {'kishor'}, {'kishor', 'mr'}, {'kishore', 'mr'}, {'thnks'}, {'kurla'}, {'sidelongs', 'daalchaval', 'nogo', 'exotica', 'wali', 'combi'}, {'bkc'}, {'bkc'}, {'peepin'}, {'guyz', 'alwayz', 'properdressup'}, {'bkc'}, {'kurkure', 'wasool'}, {'cheezy'}, {'peripheri', 'bkc'}, {'kadai'}, {'kurla', 'bandra', 'kishor'}, {'kishore'}, {'cheesemaxxcrust'}, {'bkc'}, {'kishore'}, {'kishore', 'bkc', 'mr'}, {'pm', 'kishor'}, {'bkc'}, {'kurla', 'bandra', 'smily', 'bkc'}, {'kurla', 'bandra'}, {'bandra'}, {'awasome'}, {'yumy', 'loveed', 'bkc'}, {'kurla', 'bandra'}, {'reallyy'}, {'raho', 'pm', 'khaate', 'mozarella'}, {'bkc'}, {'st'}, {'thr', 'birizza'}, {'kurkure'}, {'bkc', 'garlicbread'}, {'bkc'}, {'yammii'}, {'kurkure', 'bkc'}, {'bkc'}, {'bkc', 'feresh', 'grert', 'ilket', 'thankas', 'samal'}, {'bkc', 'kurkare', 'exotica'}, {'tripple'}, {'bkc'}, {'kishor', 'mr'}, {'kurla', 'bandra'}, {'friendzz', 'njoy'}, {'osm', 'bkc'}, {'bkc'}, {'balluns', 'bandra', 'bkc', 'gaunter', 'kurla'}, {'soonn'}, {'njoy'}, {'kishore'}, {'chiken', 'bk', 'yamii'}, {'bkc'}, {'vry'}, {'kurla', 'awasom', 'bandra'}, {'buyget'}, {'bkc'}, {'bkc'}, {'yammii', 'yammi'}, {'yammii', 'minets'}, {'kishore', 'kp', 'njoy', 'hostality', 'frndly'}, {'bkc'}, {'kishore'}, {'vry'}, {'grt'}, {'bkc'}, {'posaible', 'bkc', 'yammii', 'garlice'}, {'kishore'}, {'junad'}, {'kurla', 'greaf', 'bandra'}, {'lyk', 'gb'}, {'junaid', 'bkc'}, {'yamii', 'bkc', 'yammi'}, {'rs', 'vfm'}, {'bkc', 'yaami'}, {'exelent', 'girid'}, {'lyk'}, {'awasome', 'ordder', 'tonpizza'}, {'enjoeed'}, {'bkc'}, {'kishor', 'kishore', 'bkc'}, {'st'}, {'lt'}, {'kishore', 'bkc'}, {'maners', 'bkc'}, {'muneer'}, {'kurla'}, {'pizzahappened'}, {'kurla', 'chembur', 'bkc', 'kms'}, {'fr', 'baskin', 'bkc'}, {'rs'}, {'sms', 'nd', 'bkc'}, {'dosnt'}, {'pizzahutdelivery', 'th', 'pm', 'bkc'}, {'gulati', 'bandra', 'bkc'}, {'overloded', 'helpfull', 'appricate', 'grt', 'suggesion'}, {'undertopped', 'rnded'}, {'bkc'}, {'matunga'}, {'pizaa'}, {'dinein'}, {'plz'}, {'diappoy', 'organo'}, {'dominose'}, {'kurla', 'bkc'}, {'breadstix'}, {'rs'}, {'gralic'}, {'appentency_food'}, {'stic', 'hrs'}, {'chillis'}, {'okk'}, {'dilever'}, {'foodpizza'}, {'nicw'}, {'piza'}, {'restorant', 'nise'}, {'exotica'}, {'bharati', 'yashvi'}, {'tasteyy', 'bkc', 'yummyy'}, {'reataurant'}, {'uve'}, {'st', 'pm', 'conspathetic', 'ditry'}, {'kabab'}, {'margerita'}, {'souce'}, {'rs'}, {'rs', 'atlist'}, {'cst'}, {'hr', 'delivererin'}, {'chilliflake'}, {'origano'}, {'repoacement'}, {'pizaa'}, {'pukish'}, {'zomato'}, {'expecred'}, {'dissappointed'}, {'chocolava'}, {'thst'}, {'tomoto'}, {'nd', 'chk', 'plz'}, {'timee'}, {'rs'}, {'brewd'}, {'tyms'}, {'frusted'}, {'zomato'}, {'warst', 'worstt', 'worat'}, {'bunn', 'incould'}, {'becked'}, {'hrs'}, {'cheeze'}, {'pizaa'}, {'cheezy'}, {'precovid'}, {'unsatisfy'}, {'zomato', 'bt', 'wud'}, {'sauceketchup', 'zomato', 'cheezy'}, {'zomato'}, {'origano'}, {'mirinda', 'peosi'}, {'mirinda'}, {'spreadprepared'}, {'zomato'}, {'rd'}, {'origano'}, {'margharita'}, {'rabbish'}, {'tripple'}, {'celotape'}, {'verysmall'}, {'tysm'}, {'mojos'}, {'pls', 'itq'}, {'malai', 'nd', 'zomato', 'pls'}, {'malai'}, {'pizzahut'}, {'recieved'}, {'siz', 'plz'}, {'upsold', 'cheeze', 'zomato'}, {'saltyy', 'cheeze'}, {'mr', 'zomato', 'plz'}, {'rd'}, {'pls'}, {'katch', 'bolys'}, {'hygine'}, {'galric'}, {'coold', 'tandoorimedium'}, {'zomato'}, {'recd', 'pls'}, {'rs', 'margerita'}, {'zomato'}, {'bcoz', 'dispointment'}, {'suprem'}, {'pl'}, {'centric'}, {'ghanta', 'panner'}, {'dilivery'}, {'resonable', 'yuummy', 'seatings'}, {'approz', 'hr', 'hrs'}, {'satchet', 'covid'}, {'malai'}, {'satchets', 'pls'}, {'cudnt'}, {'jst'}, {'yumm'}, {'chiken'}, {'chese', 'chessy'}, {'cst', 'sanitization', 'nonveg'}, {'exotica', 'panner'}, {'jalepeno'}, {'aa'}, {'kapsa'}, {'mocktails'}, {'cst', 'ppl'}, {'oultlet', 'cst'}, {'recived'}, {'panfresh', 'cst'}, {'cst'}, {'seatings'}, {'cheesey'}, {'mr'}, {'fastfood'}, {'zomato'}, {'cst', 'amerikano'}, {'cst', 'lipsmacking'}, {'silient', 'varities', 'vist', 'cst'}, {'cst'}, {'italiana', 'kadhai'}, {'varity', 'apatizer', 'csmt', 'peper', 'frenchise'}, {'pm', 'unhygenic'}, {'sanchita'}, {'origano'}, {'exortica'}, {'pizzahut', 'chickenlove', 'pizzaholic', 'pizzalove', 'pizzaislife', 'nomnom', 'pizzatime', 'pizzaforlife', 'foodieeza', 'mozarella', 'chillis', 'pizzagram', 'chickenpizza'}, {'exortica'}, {'testier'}, {'jalepeno'}, {'nonveg'}, {'litup'}, {'streling', 'cst'}, {'altho'}, {'cst'}, {'jamutini'}, {'nd'}, {'obv'}, {'hygenic'}, {'jelepano'}, {'pizzahut'}, {'cst'}, {'cst'}, {'hr'}, {'margeretta'}, {'pizzaholic', 'cheessee'}, {'hygenic'}, {'cst', 'exotica', 'startinf', 'pm', 'rs'}, {'cst', 'favourate'}, {'favourate'}, {'cst'}, {'pathwtic', 'pricee', 'pls'}, {'sobo'}, {'pizzaz', 'zomato'}, {'zomato'}, {'exotica'}, {'dms'}, {'litrally'}, {'st'}, {'recieve'}, {'hughe', 'okish', 'rs', 'revie'}, {'loveforfood', 'pizzahut', 'goodfood'}, {'th'}, {'cst'}, {'finallyy', 'oblivous'}, {'capsicums', 'cst', 'crucher'}, {'cst'}, {'biss', 'restraunts'}, {'cst', 'knw'}, {'cuttleryveverything', 'itcwas', 'uncleaned', 'bk', 'oulet', 'pls', 'potates', 'unhygenic'}, {'noncourteous', 'pm', 'ms', 'btw'}, {'allhappy'}, {'jelepenos', 'chickenchuks', 'accompained', 'thr', 'masalas', 'redpepper', 'capcicum'}, {'watersoft'}, {'lotz', 'chiken', 'nxt', 'similler', 'sause', 'bvoz', 'unlimitedpizzafriday', 'cheezy', 'gupshup'}, {'nonveg', 'plz'}, {'elphistone'}, {'statf'}, {'morever'}, {'unorganised'}, {'cst'}, {'ouets', 'tastw', 'stq', 'overe', 'zomato'}, {'jamuntini'}, {'ahh'}, {'pizzahut', 'pizzalovers', 'cst', 'kpak', 'foodalert', 'rs'}, {'fr', 'bt', 'cn', 'gst', 'cmes', 'nd'}, {'alteast', 'mr'}, {'bakri', 'tasteworthy'}, {'cheesee', 'restaurent'}, {'plz'}, {'th'}, {'afternoon'}, {'idk'}, {'breadstrix', 'okish', 'exotica'}, {'detoriated'}, {'ppl', 'plz'}, {'italino'}, {'bookmyshow', 'exotica'}, {'toopings'}, {'zomoto'}, {'amunt'}, {'cst'}, {'volcana'}, {'oredered'}, {'toplwd', 'exotica', 'puzza'}, {'mojos', 'junos'}, {'gulable', 'exoticamust', 'hamaraza'}, {'disappointedcustomer', 'ohh'}, {'vegorama'}, {'cst'}, {'sasta'}, {'aboluste'}, {'pizzatandoori'}, {'th', 'alltime'}, {'chembur', 'herre'}, {'pls', 'bt'}, {'cst'}, {'cst'}, {'cst', 'foody'}, {'rs'}, {'bt'}, {'rd', 'pizzalove'}, {'margaritagood', 'vegoramatoppings'}, {'rs', 'ocassion'}, {'whenerver'}, {'toò'}, {'nonveg', 'kalaghoda', 'csmt'}, {'rs'}, {'cst'}, {'cst', 'foody'}, {'vegeis'}, {'mr'}, {'cst'}, {'ph'}, {'touheed', 'mr'}, {'fabolus'}, {'touheed', 'mr'}, {'complianed'}, {'cst', 'sobo'}, {'bcoz', 'colaba'}, {'cst'}, {'cst'}, {'userfriendly'}, {'piszas', 'cst'}, {'bcoz'}, {'ojha', 'padam', 'mr'}, {'hv', 'whr'}, {'owesome', 'tastey', 'garlice'}, {'kheema'}, {'jalepeno', 'poppings', 'delite'}, {'decore'}, {'cst'}, {'pizaas'}, {'thfood'}, {'touheed', 'owesome'}, {'greart'}, {'owesome', 'quik'}, {'supercooll', 'cheesemaxx'}, {'comentryurluck', 'diditfordrinks', 'yyuummyy', 'pizzaa'}, {'nd', 'amazingg'}, {'decoratoin'}, {'thanku'}, {'hygenic'}, {'gujarat'}, {'touhid', 'theservice'}, {'freindly'}, {'cst'}, {'sause', 'tranding'}, {'serive'}, {'cst'}, {'mocktails'}, {'thanku', 'lyk', 'grt'}, {'delicoius'}, {'reallyy'}, {'copratitive'}, {'varities', 'wenjoyed'}, {'àmbience'}, {'cst'}, {'condity'}, {'nicy'}, {'chese'}, {'tila'}, {'mumbaifoodie', 'thefoodpavilion', 'atpizza', 'jalapeños', 'thefood_pavilion', 'bloggersofmumbai', 'dm', 'kheema', 'foodphotography', 'foodpics', 'foodgasm'}, {'nonveg', 'helpfull', 'garlice', 'nonvegeterians', 'hkurs', 'monthuryou', 'softdrinks', 'southbombay'}, {'byy'}, {'bookmyshow', 'st', 'rs'}, {'thanku'}, {'st', 'exotica', 'vegorama', 'shorbas', 'collegian', 'yummylicious'}, {'qulity'}, {'gourment'}, {'ph', 'eqully'}, {'thanku'}, {'awsm', 'frnds', 'ws', 'jst'}, {'awsm', 'muvh', 'frnds', 'jst'}, {'thanku'}, {'thanku', 'lovly'}, {'thanku', 'kabab'}, {'appetiser'}, {'curtious', 'pepproni', 'mojitao', 'delisious', 'decore'}, {'evngs', 'orthewhile', 'ausome', 'frnds'}, {'ausome'}, {'chessy', 'ckn', 'stuffcrust'}, {'rs'}, {'thanku'}, {'teenegers'}, {'excellcent', 'helfful'}, {'thanku'}, {'itpizza', 'thanku', 'awesomecheesy'}, {'thanku'}, {'thanku', 'gisit'}, {'thanku'}, {'vist', 'awsm', 'nxt', 'frnds'}, {'servic'}, {'tauheed'}, {'thanku'}, {'apprecitating'}, {'awsom'}, {'pizzahut', 'surevisit', 'thanku'}, {'thanku'}, {'litchi'}, {'treple'}, {'exprience'}, {'frnds'}, {'thanku'}, {'thanku'}, {'thanku'}, {'thanku'}, {'serviice'}, {'restua', 'cst', 'zomato'}, {'awasom', 'tanduri'}, {'pozza', 'sndae'}, {'nd', 'caramalized'}, {'qantity'}, {'pizzaa'}, {'awasom', 'persent'}, {'mr'}, {'fingerlicking', 'frnds', 'sonali', 'cm'}, {'fingerlicking', 'gyaan', 'chalo', 'cm'}, {'mostt'}, {'sause', 'cst'}, {'bestee'}, {'thanku', 'plz'}, {'appetiser'}, {'personell'}, {'persent', 'cheezy', 'thanku'}, {'improment', 'superbb'}, {'tanduri', 'cheey'}, {'cst', 'majic'}, {'awasom'}, {'thanku', 'muchh'}, {'chatany', 'lemonde'}, {'topicings'}, {'thr', 'topising'}, {'crustthe', 'tiringly'}, {'thanku'}, {'cst'}, {'thnxx', 'owsome', 'yummyy'}, {'thanku', 'nyc'}, {'gr'}, {'pizsa'}, {'frnds'}, {'thanku'}, {'nyc', 'vegorama'}, {'thanku'}, {'thanku'}, {'woyld', 'interesta'}, {'unhospitable'}, {'quarell', 'bt', 'everytym'}, {'sheff'}, {'bcoz'}, {'ws', 'spcl'}, {'rs'}, {'chaurasiya'}, {'dr', 'chitre', 'homoeopath', 'surabhi'}, {'pizzasloved'}, {'complementry', 'moito'}, {'ll'}, {'delisious', 'delious'}, {'velebration'}, {'sooòooò'}, {'goodthanku', 'absoulutely', 'excotic'}, {'tobasco'}, {'shef', 'bcoz'}, {'breadstix', 'panner', 'zomato'}, {'expensivee', 'placee', 'pizzaass', 'nicee'}, {'pefectly', 'asumption'}, {'frndz', 'familyits', 'frnd'}, {'parmar'}, {'aas'}, {'cst'}, {'kms'}, {'cheesey'}, {'shravani'}, {'faheed', 'amazin'}, {'tgey', 'tge'}, {'mealsto', 'awsumm'}, {'reccommed', 'grt'}, {'dayout', 'frieds'}, {'unlimated'}, {'meala'}, {'boxesred'}, {'awsum', 'cheesey'}, {'tefms', 'recomended', 'vegeterian'}, {'ymmiest'}, {'upgradation', 'th', 'gst'}, {'restaurats', 'modtly'}, {'nd', 'sapicy', 'pizaa', 'wolud'}, {'thankuu', 'ovwrall'}, {'yumy'}, {'sobo'}, {'wt'}, {'afternoon'}, {'fud'}, {'dilicious'}, {'gr', 'shravani'}, {'atmosfear'}, {'thankz'}, {'kurkure', 'kheema'}, {'ps', 'pizzaa'}, {'ps'}, {'pm', 'gst', 'th', 'nd', 'rs'}, {'shef'}, {'wextra'}, {'touheed'}, {'pepproni'}, {'recomended'}, {'suprem'}, {'indianitalian'}, {'cst'}, {'appetiser'}, {'vs'}, {'servea'}, {'cst'}, {'vs'}, {'cst'}, {'nearbt'}, {'peeyushkumar'}, {'iftari', 'cst'}, {'servuce', 'cruzt'}, {'orand', 'keema', 'nonveg'}, {'tht', 'bt', 'frm', 'servics'}, {'pizzhas', 'pizzha'}, {'ps', 'okayish', 'kheema', 'spicies'}, {'bestexperience'}, {'rs', 'ppl'}, {'rs'}, {'quenchers', 'mayonisse'}, {'chickengarlicbread', 'perfectsquad'}, {'vs', 'maxs'}, {'cheesey'}, {'hv', 'bt', 'ppl', 'nd', 'nt'}, {'shefoodie', 'talkng'}, {'jiya', 'cst'}, {'delightfull', 'tripple'}, {'deink', 'yumm'}, {'th', 'crownit'}, {'cst', 'rmall', 'recieved'}, {'pizzahut', 'exotica', 'varities', 'keema', 'lipsmacking'}, {'bcoz', 'aap'}, {'cst'}, {'surcharges'}, {'bestawesome'}, {'njy'}, {'yummiee'}, {'peacy'}, {'amaaiizziingg', 'goodd', 'pizzaa', 'awsum', 'nd'}, {'rares'}, {'freash'}, {'superme', 'exotica', 'ossam', 'tripel'}, {'byy'}, {'ph', 'inorbit', 'inmenu'}, {'fisst', 'fiidie'}, {'qulity', 'pake'}, {'amaazziinngg', 'pizzaa'}, {'cst'}, {'loceted', 'oppsite', 'responce'}, {'litchi'}, {'midium'}, {'friendz'}, {'wsh', 'ppizza', 'dnt'}, {'vasool', 'gr'}, {'hr'}, {'litchi', 'mealtwo'}, {'cst'}, {'reperb'}, {'serivce', 'speacially'}, {'pc', 'ppl'}, {'cst'}, {'pizzahut'}, {'amazng', 'pizzahut', 'moree', 'compltely'}, {'loadedd'}, {'pizzahut', 'iswas', 'alrdy'}, {'outclasses'}, {'piza', 'staaff'}, {'deliciouso'}, {'yumm'}, {'pizzaazz'}, {'yumm'}, {'tht'}, {'amazeballs', 'offersbrilliant'}, {'plc'}, {'nonveg'}, {'awsum'}, {'pizzaazz'}, {'amazingg'}, {'delisios', 'resturent', 'cst', 'yummiss'}, {'cst'}, {'cst', 'lenonade'}, {'afternoon', 'getted', 'cst', 'mr'}, {'aftr', 'bst', 'thng', 'gr', 'yumm'}, {'anazing'}, {'visted', 'garloc', 'mushrom', 'comparitavely'}, {'cst'}, {'cst'}, {'teasty'}, {'teasty'}, {'teast'}, {'shikanji', 'rs', 'indianized', 'rawalpindi'}, {'afternoon', 'maggi', 'cst', 'nontandoori'}, {'st', 'rstrnt', 'pizzahut', 'wd', 'apreciable', 'envirnmnt'}, {'cheesey', 'rs', 'exotica'}, {'jeera', 'nearbuy', 'tastelesspaneer', 'rs', 'pizzamedium'}, {'alsoo', 'amazingg', 'pizzass', 'loveedd'}, {'pizzahut', 'oldtimes', 'tripadvisor', 'rishishobbylobby', 'unorganised', 'fooddiaries', 'décor', 'weekdaydeal', 'zomato', 'lovefood'}, {'frnds'}, {'managbly', 'tomatao', 'pepprico', 'unforgtottable'}, {'coopertive'}, {'cst'}, {'kthanksbye', 'ebonyish', 'alott'}, {'ph'}, {'cst', 'lication', 'beerages'}, {'pizzahuts'}, {'defntly', 'sobo'}, {'hv', 'cst', 'mr', 'padam', 'oza'}, {'ncr', 'cst'}, {'alltime'}, {'bulg', 'pizzahut'}, {'highgen'}, {'pizzahut', 'awweessoommee'}, {'jst', 'awesone'}, {'awesomeloved', 'cst'}, {'pizzahut', 'decission'}, {'nonveg'}, {'rs', 'appetiser', 'vfm'}, {'plz'}, {'exotica', 'frnd', 'vegorama', 'th', 'frndz'}, {'panner'}, {'pizzahut'}, {'sheldony', 'vs'}, {'pizzahut'}, {'rohanvsfood'}, {'tv', 'plzz', 'dirnk', 'wornh', 'chesse'}, {'snapdeal', 'wud', 'hr', 'cheeze', 'rs'}, {'owesme', 'yumm'}, {'aouth'}, {'aftet'}, {'illseated', 'cst'}, {'cst'}, {'dinein'}, {'cst'}, {'cst', 'rd', 'unprofessionalism'}, {'cst'}, {'pizzahut'}, {'grt'}, {'experinence', 'puzza'}, {'exotica'}, {'zomato'}, {'butitful'}, {'makhni'}, {'cst', 'yesteday', 'enjoing'}, {'vl', 'bt'}, {'zomato'}, {'tge'}, {'delightfull'}, {'gaint'}, {'sarvice'}, {'shravani'}, {'behavour'}, {'cst'}, {'cst', 'aa', 'staf'}, {'cst'}, {'recommeded'}, {'nd'}, {'muaahh'}, {'cst'}, {'francescos'}, {'andor', 'bottomline', 'cst', 'shortstaffed', 'bluegreenmaroon', 'indianized', 'processedfatty', 'rs', 'chana', 'tshirts'}, {'ausome'}, {'lemonde'}, {'chicagostyle', 'décor', 'fritzer', 'largescale'}, {'ph', 'beforeafter', 'yumm'}, {'kurkure'}, {'foodsgalore'}, {'rs'}, {'lipsmacking'}, {'varities'}, {'yummyy'}, {'adinner'}, {'bcoz'}, {'dominios', 'prefred'}, {'gb'}, {'nd', 'aswome'}, {'apetazier', 'ausome'}, {'mohitos', 'desrts'}, {'cst', 'pizzass'}, {'awsm', 'chessy', 'expierence'}, {'cst', 'birizza'}, {'excllent', 'cst'}, {'elz'}, {'yumm', 'exotica', 'vegorama'}, {'yumm', 'bt'}, {'cheezy', 'cheesee'}, {'mch'}, {'bcoz', 'visrajan'}, {'cheezy'}, {'bestiess', 'thx', 'yummiiee', 'dinnah'}, {'bday', 'cst'}, {'dominios'}, {'allott', 'awasome'}, {'muchii'}, {'resteraunt'}, {'yammii'}, {'cst'}, {'artings'}, {'cst'}, {'ahh', 'cst'}, {'sudesh', 'cst', 'yummie'}, {'naachos', 'bday', 'ossam', 'jst'}, {'bcoz'}, {'aousome'}, {'caome'}, {'pizzahut', 'bcos', 'cst', 'afternoon', 'automospher', 'mexicano', 'compair'}, {'st'}, {'mumbaikars'}, {'ausome', 'sugesst', 'swati'}, {'enjying', 'belgion', 'cheezy'}, {'alwayz', 'njoin', 'lotz'}, {'injoy'}, {'awesomme'}, {'pizzaa', 'kooll', 'wud', 'grt'}, {'cz'}, {'vt', 'khar'}, {'orangee'}, {'frindly'}, {'juucyy'}, {'walkable', 'frenz', 'cst', 'tripple'}, {'cst'}, {'autlat'}, {'tnk', 'vd', 'ppl', 'jain', 'nd'}, {'myborder'}, {'shravani'}, {'grt'}, {'ausum', 'stuffz', 'chillxx', 'gr', 'njoyed'}, {'engoyment', 'outstandng'}, {'goodwork', 'gr', 'cst'}, {'chocobloc', 'cst'}, {'mocktails'}, {'manier', 'cst'}, {'evrywer'}, {'ph'}, {'strearling'}, {'pukish', 'gingery'}, {'nyc'}, {'patato', 'bandra', 'cst', 'mr', 'piiza'}, {'arabiata'}, {'toped', 'tht', 'anething', 'impove', 'thn', 'bettr', 'bt', 'cn', 'nt', 'dind', 'grt', 'ws', 'owsm'}, {'pm', 'cst'}, {'handwash'}, {'wayy'}, {'saucecheesechicken', 'bbq'}, {'cst'}, {'waterwhich'}, {'embience', 'altho', 'incuded', 'afcos', 'vfm'}, {'mocktails', 'cst', 'newsocheezychillicheesecrust', 'vfm'}, {'exotica', 'nonveg'}, {'viscinity', 'frnd'}, {'salmiya'}, {'pm'}, {'enuf', 'nd', 'cst'}, {'nonveg'}, {'ghhchhjj', 'enviorment'}, {'vt', 'pulao', 'birizza', 'coudnt', 'ps', 'tawa'}, {'varities', 'corteous', 'birizza'}, {'birriza'}, {'donvisit'}, {'soupss'}, {'brizza', 'cst', 'ph'}, {'thumbsup'}, {'cst'}, {'indianised'}, {'allround'}, {'cst', 'serivicing'}, {'italia'}, {'varities', 'overstuffs', 'dissapointing'}, {'eatsleeprepeat'}, {'tastewise'}, {'birizza', 'selfservice', 'flagman'}, {'dominossigh'}, {'takc', 'pizzaa'}, {'ubercool'}, {'powai'}, {'pizzahut', 'frm', 'dominossmokin', 'ppl', 'kadai', 'rs', 'outletsince'}, {'birizza'}, {'oreganochilli'}, {'pukish'}, {'pcs'}, {'chiiled'}, {'rs'}, {'hogaya'}, {'mealbox'}, {'tatste'}, {'pissa', 'ruppes', 'fres'}, {'unfare'}, {'cst'}, {'panner'}, {'rs'}, {'nitish', 'mr'}]\n"
          ]
        }
      ]
    },
    {
      "cell_type": "code",
      "source": [
        "#Creating a list of misspelled words. (Basically extracting each set element from the mis_list and putting it into mis_mis_list)\n",
        "\n",
        "from collections import Counter\n",
        "mis_mis_list=[]\n",
        "for i in mis_list:\n",
        "  for j in i:\n",
        "    mis_mis_list.append(j.lower())   #just making the words lower before appending to mis_mis_list\n",
        "\n",
        "\n",
        "#cnt=0\n",
        "for i in mis_mis_list:        #removing 'rs', 'mr', 'ms' from the list as they aren't misspelled words in a way.\n",
        "  if i=='rs':\n",
        "    #cnt=cnt+1\n",
        "    mis_mis_list.remove(i)\n",
        "  if i=='mr':\n",
        "    mis_mis_list.remove(i)\n",
        "  if i=='ms':\n",
        "    mis_mis_list.remove(i)    \n",
        "print(mis_mis_list) #LIST OF MISSPELLED WORDS   \n",
        "\n",
        "#Creating this names_list, as names are needed to be removed from the misspelled words list. (It will be removed in the next cell)\n",
        "names_list=['bkc','cst','zomato','pizzahut','bandra','kurla','kishor','kishore','nonveg','pm','shubhangi','afternoon','vegorama','birizza','covid','jain','dinin','chana','shravani','touheed']\n",
        "print(\"Total misspelled words: \",len(mis_mis_list)) #Note: this list is not a 'unique mispelled words' list, it has repeated occurences of them.\n",
        "\n",
        "\n",
        "#Finding common words and their occurrences in the mis_mis_list #Just a trial code for common words finder.\n",
        "cnt=Counter(mis_mis_list)\n",
        "cmmn=cnt.most_common(100)   \n",
        "print(cmmn)"
      ],
      "metadata": {
        "colab": {
          "base_uri": "https://localhost:8080/"
        },
        "id": "3o6SCv6CV9kE",
        "outputId": "8d3497c5-91b1-445e-8375-7caf673a5c9f"
      },
      "execution_count": 28,
      "outputs": [
        {
          "output_type": "stream",
          "name": "stdout",
          "text": [
            "['mc', 'fking', 'kamaho', 'isse', 'bc', 'jalapeño', 'totallybwaste', 'oreganos', 'compair', 'pizaa', 'orgeno', 'uae', 'kababs', 'orderit', 'rd', 'zomato', 'chease', 'thanda', 'coustomer', 'zomato', 'ppl', 'xtra', 'origano', 'jst', 'zomato', 'whatsoeververy', 'coveredsecured', 'aftr', 'zomato', 'pls', 'rply', 'didntike', 'cheeze', 'wt', 'zomato', 'breadstix', 'recieve', 'deshelved', 'pls', 'thanda', 'bkc', 'contactless', 'whrn', 'pls', 'detoraited', 'itoms', 'transperant', 'whyy', 'kabab', 'hogaya', 'lagta', 'aisa', 'seekh', 'kharab', 'kabab', 'khatta', 'pcs', 'pm', 'pls', 'servise', 'mazing', 'owsume', 'zomato', 'andngarlik', 'cheezy', 'incomplets', 'ws', 'pizzaexpress', 'tossin', 'pondicherry', 'zomato', 'monutes', 'crustvery', 'pizzaa', 'havnt', 'covid', 'covid', 'recieved', 'reeses', 'jalapeño', 'flackes', 'jain', 'plz', 'imbursed', 'wnt', 'bday', 'dnt', 'origano', 'flackes', 'kabab', 'dominoz', 'hygenic', 'bkc', 'exotica', 'dilevered', 'wth', 'dinein', 'silient', 'bandra', 'vist', 'varities', 'kurla', 'bkc', 'tollay', 'phd', 'bkc', 'exotica', 'panner', 'bkc', 'locatable', 'whatsover', 'covid', 'staf', 'shrude', 'zomato', 'hygenic', 'bkc', 'quantitysee', 'vfm', 'bandra', 'reallyy', 'panner', 'bkc', 'pm', 'spicyness', 'panner', 'tangyness', 'bkc', 'quiery', 'marktng', 'yumm', 'thnkyu', 'afternoon', 'mirinda', 'rupay', 'bkc', 'exotica', 'pizzahut', 'bkc', 'pcs', 'covid', 'panfresh', 'cst', 'mosse', 'pizzahut', 'kurla', 'bandra', 'kurla', 'bandra', 'reommend', 'exotica', 'somewhen', 'sider', 'bkc', 'qualityfood', 'varites', 'kurla', 'bandra', 'afordable', 'bkc', 'cheerss', 'swiggy', 'evrler', 'exotica', 'bkc', 'tbh', 'kurla', 'bandra', 'nonveg', 'bkc', 'pizzahut', 'coupan', 'st', 'zomato', 'nonveg', 'sp', 'nonveg', 'nd', 'pls', 'nonveg', 'bkc', 'tadka', 'vegorama', 'rawalpindi', 'ambienceservicetasterecommends', 'chana', 'bkc', 'amhience', 'nonveg', 'kurla', 'vist', 'bandra', 'kurla', 'bandra', 'bandra', 'bkc', 'ibony', 'kurla', 'bandra', 'plzz', 'bkc', 'pizzahut', 'margeretta', 'bcos', 'magirita', 'volcanony', 'okaaish', 'zomato', 'resonable', 'bkc', 'vfs', 'jalapeños', 'citi', 'bpcl', 'bkc', 'gb', 'margrita', 'kabab', 'jalapeños', 'pizzahut', 'piizzas', 'bkc', 'pm', 'zomato', 'hygenic', 'offersdiscounts', 'potatopoppers', 'bandra', 'wigh', 'tatse', 'visitef', 'servuce', 'kurla', 'cheease', 'bandra', 'sbi', 'yummlicious', 'bkc', 'bp', 'enjoyd', 'vry', 'bandra', 'bkc', 'pizzaa', 'kishor', 'kishor', 'pm', 'zomato', 'cheesee', 'tadka', 'chana', 'vegorama', 'rawalpindi', 'kms', 'zomato', 'swiggy', 'bandra', 'kela', 'bkc', 'manthe', 'tooif', 'mamamiaaloved', 'pizzasthe', 'heell', 'kurla', 'bandra', 'bkc', 'kishore', 'kishor', 'foody', 'jalapeño', 'kishor', 'greenchilli', 'frnd', 'yummyy', 'yumm', 'zomato', 'zomato', 'warmhot', 'nonveg', 'pm', 'frnds', 'toping', 'finnest', 'jain', 'plez', 'bkc', 'khao', 'chese', 'topings', 'cheeseburst', 'cheezy', 'yumm', 'pizzass', 'loveforpizzapizzahut', 'kheema', 'kalina', 'bkc', 'kishor', 'kishor', 'bkc', 'kurla', 'dadar', 'nonveg', 'bkc', 'bkc', 'ph', 'bkc', 'kishor', 'bkc', 'testier', 'piiza', 'crudges', 'bkc', 'sevred', 'zomato', 'gps', 'bkc', 'useandthrow', 'bkc', 'kishore', 'restaurent', 'staffmust', 'moneygood', 'foodfriendly', 'friendsnice', 'staf', 'regularnormal', 'avarege', 'pizzahut', 'bkc', 'fb', 'tastest', 'woderful', 'polit', 'maded', 'teasy', 'apreshid', 'famouse', 'goodd', 'pizzaa', 'teast', 'hygnic', 'sugation', 'yumyy', 'chesyy', 'exccellant', 'politness', 'teasty', 'reallyy', 'apreeisied', 'plz', 'teasty', 'chssy', 'wooww', 'pizzaa', 'specailly', 'frrinds', 'boht', 'achha', 'accha', 'verg', 'matlab', 'sach', 'bkc', 'bpcl', 'bkc', 'yumm', 'ppl', 'vegorama', 'imo', 'basescrusts', 'bkc', 'recieved', 'chesse', 'osm', 'zomato', 'oreganoshaam', 'ayega', 'restourent', 'bkc', 'pizzahut', 'plaxement', 'itsbest', 'kishor', 'grt', 'bandra', 'dinein', 'msg', 'zomato', 'pizzahut', 'bkc', 'nonveg', 'gvs', 'nonmonetary', 'bkc', 'zomato', 'brach', 'kishor', 'ukus', 'nise', 'embiance', 'bkc', 'breadstix', 'ph', 'bkc', 'bkc', 'floury', 'yumiee', 'cashback', 'hr', 'pm', 'bkc', 'zomato', 'bandra', 'wooww', 'hutlarge', 'zomato', 'kishor', 'pizzaa', 'nd', 'patato', 'restruants', 'palyed', 'pizaa', 'pizaas', 'restrurants', 'frnds', 'marvalous', 'bkc', 'bkc', 'cleanger', 'favrioute', 'kishor', 'wll', 'roczzs', 'offerrss', 'vrey', 'gd', 'vry', 'pizzahut', 'oullets', 'pizzahuts', 'hr', 'nahi', 'pm', 'bkc', 'zomato', 'cheeze', 'bkc', 'tge', 'manintanence', 'bkc', 'bkc', 'bkc', 'chesse', 'ambeince', 'yumm', 'bkc', 'recomment', 'frnds', 'ths', 'kurla', 'bandra', 'bkc', 'kurla', 'bandra', 'nsize', 'bkc', 'yummie', 'siccessfull', 'kishore', 'marzano', 'kishore', 'freindly', 'bkc', 'itz', 'gaint', 'anilgood', 'aisi', 'toping', 'cowality', 'countities', 'yummyy', 'thax', 'takesorder', 'tanduri', 'thnks', 'pizz', 'tandori', 'pizzaa', 'nyc', 'taks', 'bkc', 'ambieance', 'bbq', 'aweaome', 'bkc', 'ppl', 'bpcl', 'mvisa', 'rd', 'nishitjagawat', 'bkc', 'definitetly', 'bkc', 'citi', 'supperb', 'awsm', 'zomato', 'nyc', 'bkc', 'seatings', 'hrs', 'alotz', 'bkc', 'citi', 'plz', 'bkc', 'zomato', 'zomato', 'bkc', 'bkc', 'st', 'pirce', 'bkc', 'restaurent', 'kishore', 'bkc', 'njoyed', 'bkc', 'communicatoio', 'chessy', 'kishor', 'jain', 'suggessting', 'vist', 'helpfull', 'kishor', 'bkc', 'bkc', 'aa', 'bbq', 'kishor', 'bkc', 'thanku', 'gd', 'subhangi', 'bkc', 'shubhangi', 'bkc', 'awesum', 'bkc', 'bkc', 'kurla', 'bandra', 'pizzahut', 'kishore', 'amaan__aziz', 'armaan__aziz', 'armaanrox', 'panner', 'foodiots', 'bkc', 'vivekdhadha', 'puzza', 'kishore', 'dughter', 'santacruz', 'afternoon', 'puzza', 'kishore', 'thnks', 'bkc', 'bkc', 'shubhangi', 'shubhangi', 'pls', 'bkc', 'wonderlaa', 'mc', 'cains', 'yumm', 'jains', 'hygenic', 'afternoon', 'exotica', 'kishore', 'kurla', 'bkc', 'bkc', 'kurla', 'bandra', 'kurla', 'bandra', 'kurla', 'bandra', 'wr', 'placee', 'awesomee', 'frnds', 'snackie', 'aussum', 'zomato', 'bandra', 'beanch', 'shubhangi', 'bkc', 'nyc', 'bkc', 'ffer', 'bkc', 'panner', 'bandra', 'bajao', 'aao', 'knowlegable', 'kishore', 'shubhangi', 'qsd', 'bkc', 'eatout', 'kishor', 'bkc', 'pozza', 'tasties', 'convinenetly', 'thanku', 'pankaj', 'nitesh', 'awsm', 'bkc', 'yammi', 'hahahahahahahahaahahahahhahahah', 'shubangi', 'shubhangi', 'bkc', 'orrdered', 'exotica', 'servered', 'bt', 'osom', 'bandra', 'bkc', 'embience', 'kishore', 'wanaa', 'bkc', 'janta', 'shubhangi', 'pizzhut', 'shubhangi', 'hospitability', 'shivangi', 'bkc', 'bkc', 'perrfect', 'shubhangi', 'shubhangi', 'bkc', 'chaitanya', 'bkc', 'shubhangi', 'shubhangi', 'shubangi', 'shubhangi', 'pindi', 'rawal', 'recomendtions', 'tripple', 'shubhangi', 'chana', 'shubhangi', 'tabdoori', 'shubhangi', 'goid', 'shubangi', 'th', 'hv', 'bkc', 'shubhangi', 'shubhangi', 'idlt', 'shubhangi', 'kishore', 'kishore', 'assumptious', 'bkc', 'exotica', 'kishor', 'exotica', 'pizzahut', 'bkc', 'kudoss', 'kishore', 'kishore', 'yumm', 'aervice', 'kishore', 'kishore', 'kishore', 'bkc', 'bkc', 'haded', 'exotica', 'loonngg', 'kurla', 'bandra', 'kalina', 'teast', 'fr', 'kishore', 'hv', 'nonveg', 'pizz', 'frsh', 'nonveg', 'tv', 'selectiing', 'helpfull', 'kishor', 'requriment', 'oulet', 'kishor', 'kurla', 'accha', 'loveing', 'awsesome', 'kishore', 'kishore', 'hutbkc', 'bkc', 'represantive', 'kishore', 'bkc', 'kabbadi', 'awesum', 'bkc', 'beveragepepsi', 'alwaz', 'rbl', 'guyz', 'helpfull', 'bandra', 'totoly', 'varietys', 'kurla', 'bandra', 'kishore', 'teast', 'chikan', 'bkc', 'kurla', 'bandra', 'yamii', 'expreince', 'supeb', 'thr', 'chiest', 'bkc', 'ccd', 'wlk', 'kishore', 'gf', 'kishore', 'exotica', 'vegorama', 'monu', 'frinds', 'bkc', 'bkc', 'awazom', 'combinatio', 'bkc', 'conbination', 'kishor', 'kishor', 'kishore', 'thnks', 'kurla', 'sidelongs', 'daalchaval', 'nogo', 'exotica', 'wali', 'combi', 'bkc', 'bkc', 'peepin', 'guyz', 'alwayz', 'properdressup', 'bkc', 'kurkure', 'wasool', 'cheezy', 'peripheri', 'bkc', 'kadai', 'kurla', 'bandra', 'kishor', 'kishore', 'cheesemaxxcrust', 'bkc', 'kishore', 'kishore', 'bkc', 'pm', 'kishor', 'bkc', 'kurla', 'bandra', 'smily', 'bkc', 'kurla', 'bandra', 'bandra', 'awasome', 'yumy', 'loveed', 'bkc', 'kurla', 'bandra', 'reallyy', 'raho', 'pm', 'khaate', 'mozarella', 'bkc', 'st', 'thr', 'birizza', 'kurkure', 'bkc', 'garlicbread', 'bkc', 'yammii', 'kurkure', 'bkc', 'bkc', 'bkc', 'feresh', 'grert', 'ilket', 'thankas', 'samal', 'bkc', 'kurkare', 'exotica', 'tripple', 'bkc', 'kishor', 'kurla', 'bandra', 'friendzz', 'njoy', 'osm', 'bkc', 'bkc', 'balluns', 'bandra', 'bkc', 'gaunter', 'kurla', 'soonn', 'njoy', 'kishore', 'chiken', 'bk', 'yamii', 'bkc', 'vry', 'kurla', 'awasom', 'bandra', 'buyget', 'bkc', 'bkc', 'yammii', 'yammi', 'yammii', 'minets', 'kishore', 'kp', 'njoy', 'hostality', 'frndly', 'bkc', 'kishore', 'vry', 'grt', 'bkc', 'posaible', 'bkc', 'yammii', 'garlice', 'kishore', 'junad', 'kurla', 'greaf', 'bandra', 'lyk', 'gb', 'junaid', 'bkc', 'yamii', 'bkc', 'yammi', 'vfm', 'bkc', 'yaami', 'exelent', 'girid', 'lyk', 'awasome', 'ordder', 'tonpizza', 'enjoeed', 'bkc', 'kishor', 'kishore', 'bkc', 'st', 'lt', 'kishore', 'bkc', 'maners', 'bkc', 'muneer', 'kurla', 'pizzahappened', 'kurla', 'chembur', 'bkc', 'kms', 'fr', 'baskin', 'bkc', 'sms', 'nd', 'bkc', 'dosnt', 'pizzahutdelivery', 'th', 'pm', 'bkc', 'gulati', 'bandra', 'bkc', 'overloded', 'helpfull', 'appricate', 'grt', 'suggesion', 'undertopped', 'rnded', 'bkc', 'matunga', 'pizaa', 'dinein', 'plz', 'diappoy', 'organo', 'dominose', 'kurla', 'bkc', 'breadstix', 'gralic', 'appentency_food', 'stic', 'hrs', 'chillis', 'okk', 'dilever', 'foodpizza', 'nicw', 'piza', 'restorant', 'nise', 'exotica', 'bharati', 'yashvi', 'tasteyy', 'bkc', 'yummyy', 'reataurant', 'uve', 'st', 'pm', 'conspathetic', 'ditry', 'kabab', 'margerita', 'souce', 'atlist', 'cst', 'hr', 'delivererin', 'chilliflake', 'origano', 'repoacement', 'pizaa', 'pukish', 'zomato', 'expecred', 'dissappointed', 'chocolava', 'thst', 'tomoto', 'nd', 'chk', 'plz', 'timee', 'brewd', 'tyms', 'frusted', 'zomato', 'warst', 'worstt', 'worat', 'bunn', 'incould', 'becked', 'hrs', 'cheeze', 'pizaa', 'cheezy', 'precovid', 'unsatisfy', 'zomato', 'bt', 'wud', 'sauceketchup', 'zomato', 'cheezy', 'zomato', 'origano', 'mirinda', 'peosi', 'mirinda', 'spreadprepared', 'zomato', 'rd', 'origano', 'margharita', 'rabbish', 'tripple', 'celotape', 'verysmall', 'tysm', 'mojos', 'pls', 'itq', 'malai', 'nd', 'zomato', 'pls', 'malai', 'pizzahut', 'recieved', 'siz', 'plz', 'upsold', 'cheeze', 'zomato', 'saltyy', 'cheeze', 'zomato', 'plz', 'rd', 'pls', 'katch', 'bolys', 'hygine', 'galric', 'coold', 'tandoorimedium', 'zomato', 'recd', 'pls', 'margerita', 'zomato', 'bcoz', 'dispointment', 'suprem', 'pl', 'centric', 'ghanta', 'panner', 'dilivery', 'resonable', 'yuummy', 'seatings', 'approz', 'hr', 'hrs', 'satchet', 'covid', 'malai', 'satchets', 'pls', 'cudnt', 'jst', 'yumm', 'chiken', 'chese', 'chessy', 'cst', 'sanitization', 'nonveg', 'exotica', 'panner', 'jalepeno', 'aa', 'kapsa', 'mocktails', 'cst', 'ppl', 'oultlet', 'cst', 'recived', 'panfresh', 'cst', 'cst', 'seatings', 'cheesey', 'fastfood', 'zomato', 'cst', 'amerikano', 'cst', 'lipsmacking', 'silient', 'varities', 'vist', 'cst', 'cst', 'italiana', 'kadhai', 'varity', 'apatizer', 'csmt', 'peper', 'frenchise', 'pm', 'unhygenic', 'sanchita', 'origano', 'exortica', 'pizzahut', 'chickenlove', 'pizzaholic', 'pizzalove', 'pizzaislife', 'nomnom', 'pizzatime', 'pizzaforlife', 'foodieeza', 'mozarella', 'chillis', 'pizzagram', 'chickenpizza', 'exortica', 'testier', 'jalepeno', 'nonveg', 'litup', 'streling', 'cst', 'altho', 'cst', 'jamutini', 'nd', 'obv', 'hygenic', 'jelepano', 'pizzahut', 'cst', 'cst', 'hr', 'margeretta', 'pizzaholic', 'cheessee', 'hygenic', 'cst', 'exotica', 'startinf', 'pm', 'cst', 'favourate', 'favourate', 'cst', 'pathwtic', 'pricee', 'pls', 'sobo', 'pizzaz', 'zomato', 'zomato', 'exotica', 'dms', 'litrally', 'st', 'recieve', 'hughe', 'okish', 'revie', 'loveforfood', 'pizzahut', 'goodfood', 'th', 'cst', 'finallyy', 'oblivous', 'capsicums', 'cst', 'crucher', 'cst', 'biss', 'restraunts', 'cst', 'knw', 'cuttleryveverything', 'itcwas', 'uncleaned', 'bk', 'oulet', 'pls', 'potates', 'unhygenic', 'noncourteous', 'pm', 'btw', 'allhappy', 'jelepenos', 'chickenchuks', 'accompained', 'thr', 'masalas', 'redpepper', 'capcicum', 'watersoft', 'lotz', 'chiken', 'nxt', 'similler', 'sause', 'bvoz', 'unlimitedpizzafriday', 'cheezy', 'gupshup', 'nonveg', 'plz', 'elphistone', 'statf', 'morever', 'unorganised', 'cst', 'ouets', 'tastw', 'stq', 'overe', 'zomato', 'jamuntini', 'ahh', 'pizzahut', 'pizzalovers', 'cst', 'kpak', 'foodalert', 'fr', 'bt', 'cn', 'gst', 'cmes', 'nd', 'alteast', 'bakri', 'tasteworthy', 'cheesee', 'restaurent', 'plz', 'th', 'afternoon', 'idk', 'breadstrix', 'okish', 'exotica', 'detoriated', 'ppl', 'plz', 'italino', 'bookmyshow', 'exotica', 'toopings', 'zomoto', 'amunt', 'cst', 'volcana', 'oredered', 'toplwd', 'exotica', 'puzza', 'mojos', 'junos', 'gulable', 'exoticamust', 'hamaraza', 'disappointedcustomer', 'ohh', 'vegorama', 'cst', 'sasta', 'aboluste', 'pizzatandoori', 'th', 'alltime', 'chembur', 'herre', 'pls', 'bt', 'cst', 'cst', 'cst', 'foody', 'bt', 'rd', 'pizzalove', 'margaritagood', 'vegoramatoppings', 'ocassion', 'whenerver', 'toò', 'nonveg', 'kalaghoda', 'csmt', 'cst', 'cst', 'foody', 'vegeis', 'cst', 'ph', 'touheed', 'fabolus', 'touheed', 'complianed', 'cst', 'sobo', 'bcoz', 'colaba', 'cst', 'cst', 'userfriendly', 'piszas', 'cst', 'bcoz', 'ojha', 'padam', 'hv', 'whr', 'owesome', 'tastey', 'garlice', 'kheema', 'jalepeno', 'poppings', 'delite', 'decore', 'cst', 'pizaas', 'thfood', 'touheed', 'owesome', 'greart', 'owesome', 'quik', 'supercooll', 'cheesemaxx', 'comentryurluck', 'diditfordrinks', 'yyuummyy', 'pizzaa', 'nd', 'amazingg', 'decoratoin', 'thanku', 'hygenic', 'gujarat', 'touhid', 'theservice', 'freindly', 'cst', 'sause', 'tranding', 'serive', 'cst', 'mocktails', 'thanku', 'lyk', 'grt', 'delicoius', 'reallyy', 'copratitive', 'varities', 'wenjoyed', 'àmbience', 'cst', 'condity', 'nicy', 'chese', 'tila', 'mumbaifoodie', 'thefoodpavilion', 'atpizza', 'jalapeños', 'thefood_pavilion', 'bloggersofmumbai', 'dm', 'kheema', 'foodphotography', 'foodpics', 'foodgasm', 'nonveg', 'helpfull', 'garlice', 'nonvegeterians', 'hkurs', 'monthuryou', 'softdrinks', 'southbombay', 'byy', 'bookmyshow', 'st', 'thanku', 'st', 'exotica', 'vegorama', 'shorbas', 'collegian', 'yummylicious', 'qulity', 'gourment', 'ph', 'eqully', 'thanku', 'awsm', 'frnds', 'ws', 'jst', 'awsm', 'muvh', 'frnds', 'jst', 'thanku', 'thanku', 'lovly', 'thanku', 'kabab', 'appetiser', 'curtious', 'pepproni', 'mojitao', 'delisious', 'decore', 'evngs', 'orthewhile', 'ausome', 'frnds', 'ausome', 'chessy', 'ckn', 'stuffcrust', 'thanku', 'teenegers', 'excellcent', 'helfful', 'thanku', 'itpizza', 'thanku', 'awesomecheesy', 'thanku', 'thanku', 'gisit', 'thanku', 'vist', 'awsm', 'nxt', 'frnds', 'servic', 'tauheed', 'thanku', 'apprecitating', 'awsom', 'pizzahut', 'surevisit', 'thanku', 'thanku', 'litchi', 'treple', 'exprience', 'frnds', 'thanku', 'thanku', 'thanku', 'thanku', 'serviice', 'restua', 'cst', 'zomato', 'awasom', 'tanduri', 'pozza', 'sndae', 'nd', 'caramalized', 'qantity', 'pizzaa', 'awasom', 'persent', 'fingerlicking', 'frnds', 'sonali', 'cm', 'fingerlicking', 'gyaan', 'chalo', 'cm', 'mostt', 'sause', 'cst', 'bestee', 'thanku', 'plz', 'appetiser', 'personell', 'persent', 'cheezy', 'thanku', 'improment', 'superbb', 'tanduri', 'cheey', 'cst', 'majic', 'awasom', 'thanku', 'muchh', 'chatany', 'lemonde', 'topicings', 'thr', 'topising', 'crustthe', 'tiringly', 'thanku', 'cst', 'thnxx', 'owsome', 'yummyy', 'thanku', 'nyc', 'gr', 'pizsa', 'frnds', 'thanku', 'nyc', 'vegorama', 'thanku', 'thanku', 'woyld', 'interesta', 'unhospitable', 'quarell', 'bt', 'everytym', 'sheff', 'bcoz', 'ws', 'spcl', 'chaurasiya', 'dr', 'chitre', 'homoeopath', 'surabhi', 'pizzasloved', 'complementry', 'moito', 'll', 'delisious', 'delious', 'velebration', 'sooòooò', 'goodthanku', 'absoulutely', 'excotic', 'tobasco', 'shef', 'bcoz', 'breadstix', 'panner', 'zomato', 'expensivee', 'placee', 'pizzaass', 'nicee', 'pefectly', 'asumption', 'frndz', 'familyits', 'frnd', 'parmar', 'aas', 'cst', 'kms', 'cheesey', 'shravani', 'faheed', 'amazin', 'tgey', 'tge', 'mealsto', 'awsumm', 'reccommed', 'grt', 'dayout', 'frieds', 'unlimated', 'meala', 'boxesred', 'awsum', 'cheesey', 'tefms', 'recomended', 'vegeterian', 'ymmiest', 'upgradation', 'th', 'gst', 'restaurats', 'modtly', 'nd', 'sapicy', 'pizaa', 'wolud', 'thankuu', 'ovwrall', 'yumy', 'sobo', 'wt', 'afternoon', 'fud', 'dilicious', 'gr', 'shravani', 'atmosfear', 'thankz', 'kurkure', 'kheema', 'ps', 'pizzaa', 'ps', 'pm', 'gst', 'th', 'nd', 'shef', 'wextra', 'touheed', 'pepproni', 'recomended', 'suprem', 'indianitalian', 'cst', 'appetiser', 'vs', 'servea', 'cst', 'vs', 'cst', 'nearbt', 'peeyushkumar', 'iftari', 'cst', 'servuce', 'cruzt', 'orand', 'keema', 'nonveg', 'tht', 'bt', 'frm', 'servics', 'pizzhas', 'pizzha', 'ps', 'okayish', 'kheema', 'spicies', 'bestexperience', 'ppl', 'quenchers', 'mayonisse', 'chickengarlicbread', 'perfectsquad', 'vs', 'maxs', 'cheesey', 'hv', 'bt', 'ppl', 'nd', 'nt', 'shefoodie', 'talkng', 'jiya', 'cst', 'delightfull', 'tripple', 'deink', 'yumm', 'th', 'crownit', 'cst', 'rmall', 'recieved', 'pizzahut', 'exotica', 'varities', 'keema', 'lipsmacking', 'bcoz', 'aap', 'cst', 'surcharges', 'bestawesome', 'njy', 'yummiee', 'peacy', 'amaaiizziingg', 'goodd', 'pizzaa', 'awsum', 'nd', 'rares', 'freash', 'superme', 'exotica', 'ossam', 'tripel', 'byy', 'ph', 'inorbit', 'inmenu', 'fisst', 'fiidie', 'qulity', 'pake', 'amaazziinngg', 'pizzaa', 'cst', 'loceted', 'oppsite', 'responce', 'litchi', 'midium', 'friendz', 'wsh', 'ppizza', 'dnt', 'vasool', 'gr', 'hr', 'litchi', 'mealtwo', 'cst', 'reperb', 'serivce', 'speacially', 'pc', 'ppl', 'cst', 'pizzahut', 'amazng', 'pizzahut', 'moree', 'compltely', 'loadedd', 'pizzahut', 'iswas', 'alrdy', 'outclasses', 'piza', 'staaff', 'deliciouso', 'yumm', 'pizzaazz', 'yumm', 'tht', 'amazeballs', 'offersbrilliant', 'plc', 'nonveg', 'awsum', 'pizzaazz', 'amazingg', 'delisios', 'resturent', 'cst', 'yummiss', 'cst', 'cst', 'lenonade', 'afternoon', 'getted', 'cst', 'aftr', 'bst', 'thng', 'gr', 'yumm', 'anazing', 'visted', 'garloc', 'mushrom', 'comparitavely', 'cst', 'cst', 'teasty', 'teasty', 'teast', 'shikanji', 'indianized', 'rawalpindi', 'afternoon', 'maggi', 'cst', 'nontandoori', 'st', 'rstrnt', 'pizzahut', 'wd', 'apreciable', 'envirnmnt', 'cheesey', 'exotica', 'jeera', 'nearbuy', 'tastelesspaneer', 'pizzamedium', 'alsoo', 'amazingg', 'pizzass', 'loveedd', 'pizzahut', 'oldtimes', 'tripadvisor', 'rishishobbylobby', 'unorganised', 'fooddiaries', 'décor', 'weekdaydeal', 'zomato', 'lovefood', 'frnds', 'managbly', 'tomatao', 'pepprico', 'unforgtottable', 'coopertive', 'cst', 'kthanksbye', 'ebonyish', 'alott', 'ph', 'cst', 'lication', 'beerages', 'pizzahuts', 'defntly', 'sobo', 'hv', 'cst', 'padam', 'oza', 'ncr', 'cst', 'alltime', 'bulg', 'pizzahut', 'highgen', 'pizzahut', 'awweessoommee', 'jst', 'awesone', 'awesomeloved', 'cst', 'pizzahut', 'decission', 'nonveg', 'appetiser', 'vfm', 'plz', 'exotica', 'frnd', 'vegorama', 'th', 'frndz', 'panner', 'pizzahut', 'sheldony', 'vs', 'pizzahut', 'rohanvsfood', 'tv', 'plzz', 'dirnk', 'wornh', 'chesse', 'snapdeal', 'wud', 'hr', 'cheeze', 'owesme', 'yumm', 'aouth', 'aftet', 'illseated', 'cst', 'cst', 'dinein', 'cst', 'cst', 'rd', 'unprofessionalism', 'cst', 'pizzahut', 'grt', 'experinence', 'puzza', 'exotica', 'zomato', 'butitful', 'makhni', 'cst', 'yesteday', 'enjoing', 'vl', 'bt', 'zomato', 'tge', 'delightfull', 'gaint', 'sarvice', 'shravani', 'behavour', 'cst', 'cst', 'aa', 'staf', 'cst', 'recommeded', 'nd', 'muaahh', 'cst', 'francescos', 'andor', 'bottomline', 'cst', 'shortstaffed', 'bluegreenmaroon', 'indianized', 'processedfatty', 'chana', 'tshirts', 'ausome', 'lemonde', 'chicagostyle', 'décor', 'fritzer', 'largescale', 'ph', 'beforeafter', 'yumm', 'kurkure', 'foodsgalore', 'lipsmacking', 'varities', 'yummyy', 'adinner', 'bcoz', 'dominios', 'prefred', 'gb', 'nd', 'aswome', 'apetazier', 'ausome', 'mohitos', 'desrts', 'cst', 'pizzass', 'awsm', 'chessy', 'expierence', 'cst', 'birizza', 'excllent', 'cst', 'elz', 'yumm', 'exotica', 'vegorama', 'yumm', 'bt', 'cheezy', 'cheesee', 'mch', 'bcoz', 'visrajan', 'cheezy', 'bestiess', 'thx', 'yummiiee', 'dinnah', 'bday', 'cst', 'dominios', 'allott', 'awasome', 'muchii', 'resteraunt', 'yammii', 'cst', 'artings', 'cst', 'ahh', 'cst', 'sudesh', 'cst', 'yummie', 'naachos', 'bday', 'ossam', 'jst', 'bcoz', 'aousome', 'caome', 'pizzahut', 'bcos', 'cst', 'afternoon', 'automospher', 'mexicano', 'compair', 'st', 'mumbaikars', 'ausome', 'sugesst', 'swati', 'enjying', 'belgion', 'cheezy', 'alwayz', 'njoin', 'lotz', 'injoy', 'awesomme', 'pizzaa', 'kooll', 'wud', 'grt', 'cz', 'vt', 'khar', 'orangee', 'frindly', 'juucyy', 'walkable', 'frenz', 'cst', 'tripple', 'cst', 'autlat', 'tnk', 'vd', 'ppl', 'jain', 'nd', 'myborder', 'shravani', 'grt', 'ausum', 'stuffz', 'chillxx', 'gr', 'njoyed', 'engoyment', 'outstandng', 'goodwork', 'gr', 'cst', 'chocobloc', 'cst', 'mocktails', 'manier', 'cst', 'evrywer', 'ph', 'strearling', 'pukish', 'gingery', 'nyc', 'patato', 'bandra', 'cst', 'piiza', 'arabiata', 'toped', 'tht', 'anething', 'impove', 'thn', 'bettr', 'bt', 'cn', 'nt', 'dind', 'grt', 'ws', 'owsm', 'pm', 'cst', 'handwash', 'wayy', 'saucecheesechicken', 'bbq', 'cst', 'waterwhich', 'embience', 'altho', 'incuded', 'afcos', 'vfm', 'mocktails', 'cst', 'newsocheezychillicheesecrust', 'vfm', 'exotica', 'nonveg', 'viscinity', 'frnd', 'salmiya', 'pm', 'enuf', 'nd', 'cst', 'nonveg', 'ghhchhjj', 'enviorment', 'vt', 'pulao', 'birizza', 'coudnt', 'ps', 'tawa', 'varities', 'corteous', 'birizza', 'birriza', 'donvisit', 'soupss', 'brizza', 'cst', 'ph', 'thumbsup', 'cst', 'indianised', 'allround', 'cst', 'serivicing', 'italia', 'varities', 'overstuffs', 'dissapointing', 'eatsleeprepeat', 'tastewise', 'birizza', 'selfservice', 'flagman', 'dominossigh', 'takc', 'pizzaa', 'ubercool', 'powai', 'pizzahut', 'frm', 'dominossmokin', 'ppl', 'kadai', 'outletsince', 'birizza', 'oreganochilli', 'pukish', 'pcs', 'chiiled', 'hogaya', 'mealbox', 'tatste', 'pissa', 'ruppes', 'fres', 'unfare', 'cst', 'panner', 'rs', 'nitish']\n",
            "Total misspelled words:  2217\n",
            "[('bkc', 149), ('cst', 101), ('zomato', 46), ('bandra', 41), ('kishore', 35), ('kurla', 34), ('pizzahut', 31), ('thanku', 30), ('exotica', 28), ('kishor', 24), ('nonveg', 20), ('shubhangi', 19), ('pm', 17), ('nd', 17), ('yumm', 16), ('pls', 14), ('pizzaa', 13), ('plz', 12), ('frnds', 12), ('bt', 11), ('ppl', 10), ('cheezy', 10), ('panner', 10), ('st', 10), ('vegorama', 9), ('ph', 9), ('grt', 9), ('th', 9), ('bcoz', 9), ('afternoon', 8), ('hygenic', 7), ('varities', 7), ('hr', 7), ('pizaa', 6), ('rd', 6), ('origano', 6), ('jst', 6), ('cheeze', 6), ('kabab', 6), ('nyc', 6), ('awsm', 6), ('birizza', 6), ('gr', 6), ('covid', 5), ('vist', 5), ('vfm', 5), ('yummyy', 5), ('kheema', 5), ('helpfull', 5), ('tripple', 5), ('hv', 5), ('kurkure', 5), ('yammii', 5), ('cheesey', 5), ('ausome', 5), ('breadstix', 4), ('ws', 4), ('recieved', 4), ('jain', 4), ('dinein', 4), ('reallyy', 4), ('chana', 4), ('vry', 4), ('frnd', 4), ('teast', 4), ('teasty', 4), ('hrs', 4), ('chessy', 4), ('puzza', 4), ('thr', 4), ('awasom', 4), ('mocktails', 4), ('sobo', 4), ('touheed', 4), ('appetiser', 4), ('shravani', 4), ('ps', 4), ('vs', 4), ('jalapeño', 3), ('pcs', 3), ('bday', 3), ('staf', 3), ('mirinda', 3), ('rawalpindi', 3), ('jalapeños', 3), ('citi', 3), ('bpcl', 3), ('gb', 3), ('cheesee', 3), ('kms', 3), ('foody', 3), ('chese', 3), ('pizzass', 3), ('restaurent', 3), ('chesse', 3), ('tge', 3), ('tanduri', 3), ('thnks', 3), ('bbq', 3), ('seatings', 3)]\n"
          ]
        }
      ]
    },
    {
      "cell_type": "code",
      "source": [
        "#REMOVING NAMES FROM THE LIST of misspelled words\n",
        "for name in names_list:\n",
        "  for j in range(len(mis_mis_list)):\n",
        "    if name in mis_mis_list:\n",
        "      mis_mis_list.remove(name)\n",
        "print(mis_mis_list) #This is the list of misseplled words!\n",
        "\n",
        "\n",
        "\n",
        "#Trial code for common words finder, again.\n",
        "cnt=Counter(mis_mis_list)\n",
        "cmmn=cnt.most_common(100)   #Finding common words and their occurrences in the mis_mis_list     \n",
        "print(cmmn)    \n"
      ],
      "metadata": {
        "colab": {
          "base_uri": "https://localhost:8080/"
        },
        "id": "cfAz1WIx4uVD",
        "outputId": "d83127e6-4e51-4416-a317-eb0039e5e949"
      },
      "execution_count": 29,
      "outputs": [
        {
          "output_type": "stream",
          "name": "stdout",
          "text": [
            "['mc', 'fking', 'kamaho', 'isse', 'bc', 'jalapeño', 'totallybwaste', 'oreganos', 'compair', 'pizaa', 'orgeno', 'uae', 'kababs', 'orderit', 'rd', 'chease', 'thanda', 'coustomer', 'ppl', 'xtra', 'origano', 'jst', 'whatsoeververy', 'coveredsecured', 'aftr', 'pls', 'rply', 'didntike', 'cheeze', 'wt', 'breadstix', 'recieve', 'deshelved', 'pls', 'thanda', 'contactless', 'whrn', 'pls', 'detoraited', 'itoms', 'transperant', 'whyy', 'kabab', 'hogaya', 'lagta', 'aisa', 'seekh', 'kharab', 'kabab', 'khatta', 'pcs', 'pls', 'servise', 'mazing', 'owsume', 'andngarlik', 'cheezy', 'incomplets', 'ws', 'pizzaexpress', 'tossin', 'pondicherry', 'monutes', 'crustvery', 'pizzaa', 'havnt', 'recieved', 'reeses', 'jalapeño', 'flackes', 'plz', 'imbursed', 'wnt', 'bday', 'dnt', 'origano', 'flackes', 'kabab', 'dominoz', 'hygenic', 'exotica', 'dilevered', 'wth', 'dinein', 'silient', 'vist', 'varities', 'tollay', 'phd', 'exotica', 'panner', 'locatable', 'whatsover', 'staf', 'shrude', 'hygenic', 'quantitysee', 'vfm', 'reallyy', 'panner', 'spicyness', 'panner', 'tangyness', 'quiery', 'marktng', 'yumm', 'thnkyu', 'mirinda', 'rupay', 'exotica', 'pcs', 'panfresh', 'mosse', 'reommend', 'exotica', 'somewhen', 'sider', 'qualityfood', 'varites', 'afordable', 'cheerss', 'swiggy', 'evrler', 'exotica', 'tbh', 'coupan', 'st', 'sp', 'nd', 'pls', 'tadka', 'rawalpindi', 'ambienceservicetasterecommends', 'amhience', 'vist', 'ibony', 'plzz', 'margeretta', 'bcos', 'magirita', 'volcanony', 'okaaish', 'resonable', 'vfs', 'jalapeños', 'citi', 'bpcl', 'gb', 'margrita', 'kabab', 'jalapeños', 'piizzas', 'hygenic', 'offersdiscounts', 'potatopoppers', 'wigh', 'tatse', 'visitef', 'servuce', 'cheease', 'sbi', 'yummlicious', 'bp', 'enjoyd', 'vry', 'pizzaa', 'cheesee', 'tadka', 'rawalpindi', 'kms', 'swiggy', 'kela', 'manthe', 'tooif', 'mamamiaaloved', 'pizzasthe', 'heell', 'foody', 'jalapeño', 'greenchilli', 'frnd', 'yummyy', 'yumm', 'warmhot', 'frnds', 'toping', 'finnest', 'plez', 'khao', 'chese', 'topings', 'cheeseburst', 'cheezy', 'yumm', 'pizzass', 'loveforpizzapizzahut', 'kheema', 'kalina', 'dadar', 'ph', 'testier', 'piiza', 'crudges', 'sevred', 'gps', 'useandthrow', 'restaurent', 'staffmust', 'moneygood', 'foodfriendly', 'friendsnice', 'staf', 'regularnormal', 'avarege', 'fb', 'tastest', 'woderful', 'polit', 'maded', 'teasy', 'apreshid', 'famouse', 'goodd', 'pizzaa', 'teast', 'hygnic', 'sugation', 'yumyy', 'chesyy', 'exccellant', 'politness', 'teasty', 'reallyy', 'apreeisied', 'plz', 'teasty', 'chssy', 'wooww', 'pizzaa', 'specailly', 'frrinds', 'boht', 'achha', 'accha', 'verg', 'matlab', 'sach', 'bpcl', 'yumm', 'ppl', 'imo', 'basescrusts', 'recieved', 'chesse', 'osm', 'oreganoshaam', 'ayega', 'restourent', 'plaxement', 'itsbest', 'grt', 'dinein', 'msg', 'gvs', 'nonmonetary', 'brach', 'ukus', 'nise', 'embiance', 'breadstix', 'ph', 'floury', 'yumiee', 'cashback', 'hr', 'wooww', 'hutlarge', 'pizzaa', 'nd', 'patato', 'restruants', 'palyed', 'pizaa', 'pizaas', 'restrurants', 'frnds', 'marvalous', 'cleanger', 'favrioute', 'wll', 'roczzs', 'offerrss', 'vrey', 'gd', 'vry', 'oullets', 'pizzahuts', 'hr', 'nahi', 'cheeze', 'tge', 'manintanence', 'chesse', 'ambeince', 'yumm', 'recomment', 'frnds', 'ths', 'nsize', 'yummie', 'siccessfull', 'marzano', 'freindly', 'itz', 'gaint', 'anilgood', 'aisi', 'toping', 'cowality', 'countities', 'yummyy', 'thax', 'takesorder', 'tanduri', 'thnks', 'pizz', 'tandori', 'pizzaa', 'nyc', 'taks', 'ambieance', 'bbq', 'aweaome', 'ppl', 'bpcl', 'mvisa', 'rd', 'nishitjagawat', 'definitetly', 'citi', 'supperb', 'awsm', 'nyc', 'seatings', 'hrs', 'alotz', 'citi', 'plz', 'st', 'pirce', 'restaurent', 'njoyed', 'communicatoio', 'chessy', 'suggessting', 'vist', 'helpfull', 'aa', 'bbq', 'thanku', 'gd', 'subhangi', 'awesum', 'amaan__aziz', 'armaan__aziz', 'armaanrox', 'panner', 'foodiots', 'vivekdhadha', 'puzza', 'dughter', 'santacruz', 'puzza', 'thnks', 'pls', 'wonderlaa', 'mc', 'cains', 'yumm', 'jains', 'hygenic', 'exotica', 'wr', 'placee', 'awesomee', 'frnds', 'snackie', 'aussum', 'beanch', 'nyc', 'ffer', 'panner', 'bajao', 'aao', 'knowlegable', 'qsd', 'eatout', 'pozza', 'tasties', 'convinenetly', 'thanku', 'pankaj', 'nitesh', 'awsm', 'yammi', 'hahahahahahahahaahahahahhahahah', 'shubangi', 'orrdered', 'exotica', 'servered', 'bt', 'osom', 'embience', 'wanaa', 'janta', 'pizzhut', 'hospitability', 'shivangi', 'perrfect', 'chaitanya', 'shubangi', 'pindi', 'rawal', 'recomendtions', 'tripple', 'tabdoori', 'goid', 'shubangi', 'th', 'hv', 'idlt', 'assumptious', 'exotica', 'exotica', 'kudoss', 'yumm', 'aervice', 'haded', 'exotica', 'loonngg', 'kalina', 'teast', 'fr', 'hv', 'pizz', 'frsh', 'tv', 'selectiing', 'helpfull', 'requriment', 'oulet', 'accha', 'loveing', 'awsesome', 'hutbkc', 'represantive', 'kabbadi', 'awesum', 'beveragepepsi', 'alwaz', 'rbl', 'guyz', 'helpfull', 'totoly', 'varietys', 'teast', 'chikan', 'yamii', 'expreince', 'supeb', 'thr', 'chiest', 'ccd', 'wlk', 'gf', 'exotica', 'monu', 'frinds', 'awazom', 'combinatio', 'conbination', 'thnks', 'sidelongs', 'daalchaval', 'nogo', 'exotica', 'wali', 'combi', 'peepin', 'guyz', 'alwayz', 'properdressup', 'kurkure', 'wasool', 'cheezy', 'peripheri', 'kadai', 'cheesemaxxcrust', 'smily', 'awasome', 'yumy', 'loveed', 'reallyy', 'raho', 'khaate', 'mozarella', 'st', 'thr', 'kurkure', 'garlicbread', 'yammii', 'kurkure', 'feresh', 'grert', 'ilket', 'thankas', 'samal', 'kurkare', 'exotica', 'tripple', 'friendzz', 'njoy', 'osm', 'balluns', 'gaunter', 'soonn', 'njoy', 'chiken', 'bk', 'yamii', 'vry', 'awasom', 'buyget', 'yammii', 'yammi', 'yammii', 'minets', 'kp', 'njoy', 'hostality', 'frndly', 'vry', 'grt', 'posaible', 'yammii', 'garlice', 'junad', 'greaf', 'lyk', 'gb', 'junaid', 'yamii', 'yammi', 'vfm', 'yaami', 'exelent', 'girid', 'lyk', 'awasome', 'ordder', 'tonpizza', 'enjoeed', 'st', 'lt', 'maners', 'muneer', 'pizzahappened', 'chembur', 'kms', 'fr', 'baskin', 'sms', 'nd', 'dosnt', 'pizzahutdelivery', 'th', 'gulati', 'overloded', 'helpfull', 'appricate', 'grt', 'suggesion', 'undertopped', 'rnded', 'matunga', 'pizaa', 'dinein', 'plz', 'diappoy', 'organo', 'dominose', 'breadstix', 'gralic', 'appentency_food', 'stic', 'hrs', 'chillis', 'okk', 'dilever', 'foodpizza', 'nicw', 'piza', 'restorant', 'nise', 'exotica', 'bharati', 'yashvi', 'tasteyy', 'yummyy', 'reataurant', 'uve', 'st', 'conspathetic', 'ditry', 'kabab', 'margerita', 'souce', 'atlist', 'hr', 'delivererin', 'chilliflake', 'origano', 'repoacement', 'pizaa', 'pukish', 'expecred', 'dissappointed', 'chocolava', 'thst', 'tomoto', 'nd', 'chk', 'plz', 'timee', 'brewd', 'tyms', 'frusted', 'warst', 'worstt', 'worat', 'bunn', 'incould', 'becked', 'hrs', 'cheeze', 'pizaa', 'cheezy', 'precovid', 'unsatisfy', 'bt', 'wud', 'sauceketchup', 'cheezy', 'origano', 'mirinda', 'peosi', 'mirinda', 'spreadprepared', 'rd', 'origano', 'margharita', 'rabbish', 'tripple', 'celotape', 'verysmall', 'tysm', 'mojos', 'pls', 'itq', 'malai', 'nd', 'pls', 'malai', 'recieved', 'siz', 'plz', 'upsold', 'cheeze', 'saltyy', 'cheeze', 'plz', 'rd', 'pls', 'katch', 'bolys', 'hygine', 'galric', 'coold', 'tandoorimedium', 'recd', 'pls', 'margerita', 'bcoz', 'dispointment', 'suprem', 'pl', 'centric', 'ghanta', 'panner', 'dilivery', 'resonable', 'yuummy', 'seatings', 'approz', 'hr', 'hrs', 'satchet', 'malai', 'satchets', 'pls', 'cudnt', 'jst', 'yumm', 'chiken', 'chese', 'chessy', 'sanitization', 'exotica', 'panner', 'jalepeno', 'aa', 'kapsa', 'mocktails', 'ppl', 'oultlet', 'recived', 'panfresh', 'seatings', 'cheesey', 'fastfood', 'amerikano', 'lipsmacking', 'silient', 'varities', 'vist', 'italiana', 'kadhai', 'varity', 'apatizer', 'csmt', 'peper', 'frenchise', 'unhygenic', 'sanchita', 'origano', 'exortica', 'chickenlove', 'pizzaholic', 'pizzalove', 'pizzaislife', 'nomnom', 'pizzatime', 'pizzaforlife', 'foodieeza', 'mozarella', 'chillis', 'pizzagram', 'chickenpizza', 'exortica', 'testier', 'jalepeno', 'litup', 'streling', 'altho', 'jamutini', 'nd', 'obv', 'hygenic', 'jelepano', 'hr', 'margeretta', 'pizzaholic', 'cheessee', 'hygenic', 'exotica', 'startinf', 'favourate', 'favourate', 'pathwtic', 'pricee', 'pls', 'sobo', 'pizzaz', 'exotica', 'dms', 'litrally', 'st', 'recieve', 'hughe', 'okish', 'revie', 'loveforfood', 'goodfood', 'th', 'finallyy', 'oblivous', 'capsicums', 'crucher', 'biss', 'restraunts', 'knw', 'cuttleryveverything', 'itcwas', 'uncleaned', 'bk', 'oulet', 'pls', 'potates', 'unhygenic', 'noncourteous', 'btw', 'allhappy', 'jelepenos', 'chickenchuks', 'accompained', 'thr', 'masalas', 'redpepper', 'capcicum', 'watersoft', 'lotz', 'chiken', 'nxt', 'similler', 'sause', 'bvoz', 'unlimitedpizzafriday', 'cheezy', 'gupshup', 'plz', 'elphistone', 'statf', 'morever', 'unorganised', 'ouets', 'tastw', 'stq', 'overe', 'jamuntini', 'ahh', 'pizzalovers', 'kpak', 'foodalert', 'fr', 'bt', 'cn', 'gst', 'cmes', 'nd', 'alteast', 'bakri', 'tasteworthy', 'cheesee', 'restaurent', 'plz', 'th', 'idk', 'breadstrix', 'okish', 'exotica', 'detoriated', 'ppl', 'plz', 'italino', 'bookmyshow', 'exotica', 'toopings', 'zomoto', 'amunt', 'volcana', 'oredered', 'toplwd', 'exotica', 'puzza', 'mojos', 'junos', 'gulable', 'exoticamust', 'hamaraza', 'disappointedcustomer', 'ohh', 'sasta', 'aboluste', 'pizzatandoori', 'th', 'alltime', 'chembur', 'herre', 'pls', 'bt', 'foody', 'bt', 'rd', 'pizzalove', 'margaritagood', 'vegoramatoppings', 'ocassion', 'whenerver', 'toò', 'kalaghoda', 'csmt', 'foody', 'vegeis', 'ph', 'fabolus', 'complianed', 'sobo', 'bcoz', 'colaba', 'userfriendly', 'piszas', 'bcoz', 'ojha', 'padam', 'hv', 'whr', 'owesome', 'tastey', 'garlice', 'kheema', 'jalepeno', 'poppings', 'delite', 'decore', 'pizaas', 'thfood', 'owesome', 'greart', 'owesome', 'quik', 'supercooll', 'cheesemaxx', 'comentryurluck', 'diditfordrinks', 'yyuummyy', 'pizzaa', 'nd', 'amazingg', 'decoratoin', 'thanku', 'hygenic', 'gujarat', 'touhid', 'theservice', 'freindly', 'sause', 'tranding', 'serive', 'mocktails', 'thanku', 'lyk', 'grt', 'delicoius', 'reallyy', 'copratitive', 'varities', 'wenjoyed', 'àmbience', 'condity', 'nicy', 'chese', 'tila', 'mumbaifoodie', 'thefoodpavilion', 'atpizza', 'jalapeños', 'thefood_pavilion', 'bloggersofmumbai', 'dm', 'kheema', 'foodphotography', 'foodpics', 'foodgasm', 'helpfull', 'garlice', 'nonvegeterians', 'hkurs', 'monthuryou', 'softdrinks', 'southbombay', 'byy', 'bookmyshow', 'st', 'thanku', 'st', 'exotica', 'shorbas', 'collegian', 'yummylicious', 'qulity', 'gourment', 'ph', 'eqully', 'thanku', 'awsm', 'frnds', 'ws', 'jst', 'awsm', 'muvh', 'frnds', 'jst', 'thanku', 'thanku', 'lovly', 'thanku', 'kabab', 'appetiser', 'curtious', 'pepproni', 'mojitao', 'delisious', 'decore', 'evngs', 'orthewhile', 'ausome', 'frnds', 'ausome', 'chessy', 'ckn', 'stuffcrust', 'thanku', 'teenegers', 'excellcent', 'helfful', 'thanku', 'itpizza', 'thanku', 'awesomecheesy', 'thanku', 'thanku', 'gisit', 'thanku', 'vist', 'awsm', 'nxt', 'frnds', 'servic', 'tauheed', 'thanku', 'apprecitating', 'awsom', 'surevisit', 'thanku', 'thanku', 'litchi', 'treple', 'exprience', 'frnds', 'thanku', 'thanku', 'thanku', 'thanku', 'serviice', 'restua', 'awasom', 'tanduri', 'pozza', 'sndae', 'nd', 'caramalized', 'qantity', 'pizzaa', 'awasom', 'persent', 'fingerlicking', 'frnds', 'sonali', 'cm', 'fingerlicking', 'gyaan', 'chalo', 'cm', 'mostt', 'sause', 'bestee', 'thanku', 'plz', 'appetiser', 'personell', 'persent', 'cheezy', 'thanku', 'improment', 'superbb', 'tanduri', 'cheey', 'majic', 'awasom', 'thanku', 'muchh', 'chatany', 'lemonde', 'topicings', 'thr', 'topising', 'crustthe', 'tiringly', 'thanku', 'thnxx', 'owsome', 'yummyy', 'thanku', 'nyc', 'gr', 'pizsa', 'frnds', 'thanku', 'nyc', 'thanku', 'thanku', 'woyld', 'interesta', 'unhospitable', 'quarell', 'bt', 'everytym', 'sheff', 'bcoz', 'ws', 'spcl', 'chaurasiya', 'dr', 'chitre', 'homoeopath', 'surabhi', 'pizzasloved', 'complementry', 'moito', 'll', 'delisious', 'delious', 'velebration', 'sooòooò', 'goodthanku', 'absoulutely', 'excotic', 'tobasco', 'shef', 'bcoz', 'breadstix', 'panner', 'expensivee', 'placee', 'pizzaass', 'nicee', 'pefectly', 'asumption', 'frndz', 'familyits', 'frnd', 'parmar', 'aas', 'kms', 'cheesey', 'faheed', 'amazin', 'tgey', 'tge', 'mealsto', 'awsumm', 'reccommed', 'grt', 'dayout', 'frieds', 'unlimated', 'meala', 'boxesred', 'awsum', 'cheesey', 'tefms', 'recomended', 'vegeterian', 'ymmiest', 'upgradation', 'th', 'gst', 'restaurats', 'modtly', 'nd', 'sapicy', 'pizaa', 'wolud', 'thankuu', 'ovwrall', 'yumy', 'sobo', 'wt', 'fud', 'dilicious', 'gr', 'atmosfear', 'thankz', 'kurkure', 'kheema', 'ps', 'pizzaa', 'ps', 'gst', 'th', 'nd', 'shef', 'wextra', 'pepproni', 'recomended', 'suprem', 'indianitalian', 'appetiser', 'vs', 'servea', 'vs', 'nearbt', 'peeyushkumar', 'iftari', 'servuce', 'cruzt', 'orand', 'keema', 'tht', 'bt', 'frm', 'servics', 'pizzhas', 'pizzha', 'ps', 'okayish', 'kheema', 'spicies', 'bestexperience', 'ppl', 'quenchers', 'mayonisse', 'chickengarlicbread', 'perfectsquad', 'vs', 'maxs', 'cheesey', 'hv', 'bt', 'ppl', 'nd', 'nt', 'shefoodie', 'talkng', 'jiya', 'delightfull', 'tripple', 'deink', 'yumm', 'th', 'crownit', 'rmall', 'recieved', 'exotica', 'varities', 'keema', 'lipsmacking', 'bcoz', 'aap', 'surcharges', 'bestawesome', 'njy', 'yummiee', 'peacy', 'amaaiizziingg', 'goodd', 'pizzaa', 'awsum', 'nd', 'rares', 'freash', 'superme', 'exotica', 'ossam', 'tripel', 'byy', 'ph', 'inorbit', 'inmenu', 'fisst', 'fiidie', 'qulity', 'pake', 'amaazziinngg', 'pizzaa', 'loceted', 'oppsite', 'responce', 'litchi', 'midium', 'friendz', 'wsh', 'ppizza', 'dnt', 'vasool', 'gr', 'hr', 'litchi', 'mealtwo', 'reperb', 'serivce', 'speacially', 'pc', 'ppl', 'amazng', 'moree', 'compltely', 'loadedd', 'iswas', 'alrdy', 'outclasses', 'piza', 'staaff', 'deliciouso', 'yumm', 'pizzaazz', 'yumm', 'tht', 'amazeballs', 'offersbrilliant', 'plc', 'awsum', 'pizzaazz', 'amazingg', 'delisios', 'resturent', 'yummiss', 'lenonade', 'getted', 'aftr', 'bst', 'thng', 'gr', 'yumm', 'anazing', 'visted', 'garloc', 'mushrom', 'comparitavely', 'teasty', 'teasty', 'teast', 'shikanji', 'indianized', 'rawalpindi', 'maggi', 'nontandoori', 'st', 'rstrnt', 'wd', 'apreciable', 'envirnmnt', 'cheesey', 'exotica', 'jeera', 'nearbuy', 'tastelesspaneer', 'pizzamedium', 'alsoo', 'amazingg', 'pizzass', 'loveedd', 'oldtimes', 'tripadvisor', 'rishishobbylobby', 'unorganised', 'fooddiaries', 'décor', 'weekdaydeal', 'lovefood', 'frnds', 'managbly', 'tomatao', 'pepprico', 'unforgtottable', 'coopertive', 'kthanksbye', 'ebonyish', 'alott', 'ph', 'lication', 'beerages', 'pizzahuts', 'defntly', 'sobo', 'hv', 'padam', 'oza', 'ncr', 'alltime', 'bulg', 'highgen', 'awweessoommee', 'jst', 'awesone', 'awesomeloved', 'decission', 'appetiser', 'vfm', 'plz', 'exotica', 'frnd', 'th', 'frndz', 'panner', 'sheldony', 'vs', 'rohanvsfood', 'tv', 'plzz', 'dirnk', 'wornh', 'chesse', 'snapdeal', 'wud', 'hr', 'cheeze', 'owesme', 'yumm', 'aouth', 'aftet', 'illseated', 'dinein', 'rd', 'unprofessionalism', 'grt', 'experinence', 'puzza', 'exotica', 'butitful', 'makhni', 'yesteday', 'enjoing', 'vl', 'bt', 'tge', 'delightfull', 'gaint', 'sarvice', 'behavour', 'aa', 'staf', 'recommeded', 'nd', 'muaahh', 'francescos', 'andor', 'bottomline', 'shortstaffed', 'bluegreenmaroon', 'indianized', 'processedfatty', 'tshirts', 'ausome', 'lemonde', 'chicagostyle', 'décor', 'fritzer', 'largescale', 'ph', 'beforeafter', 'yumm', 'kurkure', 'foodsgalore', 'lipsmacking', 'varities', 'yummyy', 'adinner', 'bcoz', 'dominios', 'prefred', 'gb', 'nd', 'aswome', 'apetazier', 'ausome', 'mohitos', 'desrts', 'pizzass', 'awsm', 'chessy', 'expierence', 'excllent', 'elz', 'yumm', 'exotica', 'yumm', 'bt', 'cheezy', 'cheesee', 'mch', 'bcoz', 'visrajan', 'cheezy', 'bestiess', 'thx', 'yummiiee', 'dinnah', 'bday', 'dominios', 'allott', 'awasome', 'muchii', 'resteraunt', 'yammii', 'artings', 'ahh', 'sudesh', 'yummie', 'naachos', 'bday', 'ossam', 'jst', 'bcoz', 'aousome', 'caome', 'bcos', 'automospher', 'mexicano', 'compair', 'st', 'mumbaikars', 'ausome', 'sugesst', 'swati', 'enjying', 'belgion', 'cheezy', 'alwayz', 'njoin', 'lotz', 'injoy', 'awesomme', 'pizzaa', 'kooll', 'wud', 'grt', 'cz', 'vt', 'khar', 'orangee', 'frindly', 'juucyy', 'walkable', 'frenz', 'tripple', 'autlat', 'tnk', 'vd', 'ppl', 'nd', 'myborder', 'grt', 'ausum', 'stuffz', 'chillxx', 'gr', 'njoyed', 'engoyment', 'outstandng', 'goodwork', 'gr', 'chocobloc', 'mocktails', 'manier', 'evrywer', 'ph', 'strearling', 'pukish', 'gingery', 'nyc', 'patato', 'piiza', 'arabiata', 'toped', 'tht', 'anething', 'impove', 'thn', 'bettr', 'bt', 'cn', 'nt', 'dind', 'grt', 'ws', 'owsm', 'handwash', 'wayy', 'saucecheesechicken', 'bbq', 'waterwhich', 'embience', 'altho', 'incuded', 'afcos', 'vfm', 'mocktails', 'newsocheezychillicheesecrust', 'vfm', 'exotica', 'viscinity', 'frnd', 'salmiya', 'enuf', 'nd', 'ghhchhjj', 'enviorment', 'vt', 'pulao', 'coudnt', 'ps', 'tawa', 'varities', 'corteous', 'birriza', 'donvisit', 'soupss', 'brizza', 'ph', 'thumbsup', 'indianised', 'allround', 'serivicing', 'italia', 'varities', 'overstuffs', 'dissapointing', 'eatsleeprepeat', 'tastewise', 'selfservice', 'flagman', 'dominossigh', 'takc', 'pizzaa', 'ubercool', 'powai', 'frm', 'dominossmokin', 'ppl', 'kadai', 'outletsince', 'oreganochilli', 'pukish', 'pcs', 'chiiled', 'hogaya', 'mealbox', 'tatste', 'pissa', 'ruppes', 'fres', 'unfare', 'panner', 'rs', 'nitish']\n",
            "[('thanku', 30), ('exotica', 28), ('nd', 17), ('yumm', 16), ('pls', 14), ('pizzaa', 13), ('plz', 12), ('frnds', 12), ('bt', 11), ('ppl', 10), ('cheezy', 10), ('panner', 10), ('st', 10), ('ph', 9), ('grt', 9), ('th', 9), ('bcoz', 9), ('hygenic', 7), ('varities', 7), ('hr', 7), ('pizaa', 6), ('rd', 6), ('origano', 6), ('jst', 6), ('cheeze', 6), ('kabab', 6), ('nyc', 6), ('awsm', 6), ('gr', 6), ('vist', 5), ('vfm', 5), ('yummyy', 5), ('kheema', 5), ('helpfull', 5), ('tripple', 5), ('hv', 5), ('kurkure', 5), ('yammii', 5), ('cheesey', 5), ('ausome', 5), ('breadstix', 4), ('ws', 4), ('recieved', 4), ('dinein', 4), ('reallyy', 4), ('vry', 4), ('frnd', 4), ('teast', 4), ('teasty', 4), ('hrs', 4), ('chessy', 4), ('puzza', 4), ('thr', 4), ('awasom', 4), ('mocktails', 4), ('sobo', 4), ('appetiser', 4), ('ps', 4), ('vs', 4), ('jalapeño', 3), ('pcs', 3), ('bday', 3), ('staf', 3), ('mirinda', 3), ('rawalpindi', 3), ('jalapeños', 3), ('citi', 3), ('bpcl', 3), ('gb', 3), ('cheesee', 3), ('kms', 3), ('foody', 3), ('chese', 3), ('pizzass', 3), ('restaurent', 3), ('chesse', 3), ('tge', 3), ('tanduri', 3), ('thnks', 3), ('bbq', 3), ('seatings', 3), ('aa', 3), ('yammi', 3), ('shubangi', 3), ('fr', 3), ('yamii', 3), ('awasome', 3), ('njoy', 3), ('chiken', 3), ('garlice', 3), ('lyk', 3), ('pukish', 3), ('wud', 3), ('malai', 3), ('jalepeno', 3), ('lipsmacking', 3), ('sause', 3), ('gst', 3), ('owesome', 3), ('amazingg', 3)]\n"
          ]
        }
      ]
    },
    {
      "cell_type": "code",
      "source": [
        "#Finding a list of correctly spelled words!\n",
        "#first, just creating a list of words found in the dataset\n",
        "correct_word_list=[]\n",
        "for i in range(len(df_review)):\n",
        "  sentence=df_review['Review'][i]\n",
        "  words=sentence.split()\n",
        "  for word in words:\n",
        "    correct_word_list.append(word.lower())\n",
        "print(correct_word_list[0:50])\n",
        "\n",
        "\n",
        "  "
      ],
      "metadata": {
        "colab": {
          "base_uri": "https://localhost:8080/"
        },
        "id": "v2yV2JQKA-VL",
        "outputId": "98493a88-ad4d-4c52-9645-a18a2f29a4b1"
      },
      "execution_count": 30,
      "outputs": [
        {
          "output_type": "stream",
          "name": "stdout",
          "text": [
            "['tasteless', 'pizza', 'price', 'is', 'so', 'high', 'very', 'very', 'disappointed', 'while', 'ordering', 'you', 'didnt', 'mentioned', 'it', 'is', 'small', 'you', 'guys', 'are', 'fking', 'fooling', 'us', 'rs', 'spent', 'for', 'rs', 'pizza', 'isse', 'acha', 'grand', 'deke', 'kamaho', 'bc', 'mc', 'taste', 'was', 'not', 'up', 'to', 'the', 'mark', 'open', 'pizza', 'box', 'and', 'open', 'jalapeño', 'poppers', 'sealing']\n"
          ]
        }
      ]
    },
    {
      "cell_type": "code",
      "source": [
        "#JUST A NOTE, SPELLCHECKER DOES NOT CONSIDER 'didnt,wasnt,cant...' AS MISSPELLED WORDS"
      ],
      "metadata": {
        "id": "l0a1pUADIBIE"
      },
      "execution_count": null,
      "outputs": []
    },
    {
      "cell_type": "code",
      "source": [
        "#We have to make both lists mis_mis_list and correct_words_list contain unique words, not repeated words or 'remove' won't work!\n",
        "print(\"total of all words of misspelled word list:\",len(mis_mis_list))\n",
        "print(\"total of all words of correct word list+misspelled word list:\",len(correct_word_list))\n",
        "mis_mis_list=list(set(mis_mis_list))\n",
        "correct_word_list=list(set(correct_word_list))\n",
        "print(\"total of unique words of misspelled word list:\",len(mis_mis_list))\n",
        "print(\"total of unique words of correct word list+missplled word list:\",len(correct_word_list))\n",
        "print(\"total of unique words of names list:\",len(names_list))"
      ],
      "metadata": {
        "colab": {
          "base_uri": "https://localhost:8080/"
        },
        "id": "22mmk_pZS6SB",
        "outputId": "966290c8-9998-4b5c-dcd7-314b28d7cd15"
      },
      "execution_count": 32,
      "outputs": [
        {
          "output_type": "stream",
          "name": "stdout",
          "text": [
            "total of all words of misspelled word list: 1100\n",
            "total of all words of correct word list+misspelled word list: 5778\n",
            "total of unique words of misspelled word list: 1100\n",
            "total of unique words of correct word list+missplled word list: 5778\n",
            "total of unique words of names list: 20\n"
          ]
        }
      ]
    },
    {
      "cell_type": "code",
      "source": [
        "print(\"correct word list length before removing misspelled words and names:\",len(correct_word_list))\n",
        "names_list=['bkc','cst','zomato','pizzahut','bandra','kurla','kishor','kishore','nonveg','pm','shubhangi','afternoon','vegorama','birizza','covid','jain','dinin','chana','shravani','touheed']\n",
        "cnt=0\n",
        "#Removing misspelled words from correct_word_list, found in mis_mis_list\n",
        "for w in mis_mis_list:\n",
        "  if w in correct_word_list:\n",
        "    correct_word_list.remove(w)\n",
        "\n",
        "#Removing names from correct_word_list, found in names_list\n",
        "for n in names_list:\n",
        "  if n in correct_word_list:\n",
        "    correct_word_list.remove(n) \n",
        "print(\"correct word list length after removing misspelled words and names:\",len(correct_word_list))"
      ],
      "metadata": {
        "colab": {
          "base_uri": "https://localhost:8080/"
        },
        "id": "-YoxnE7WHIA-",
        "outputId": "b2b488fd-94b8-4c54-a083-7f1fddcf2cdd"
      },
      "execution_count": 33,
      "outputs": [
        {
          "output_type": "stream",
          "name": "stdout",
          "text": [
            "correct word list length before removing misspelled words and names: 5778\n",
            "correct word list length after removing misspelled words and names: 4659\n"
          ]
        }
      ]
    },
    {
      "cell_type": "code",
      "source": [
        "#The only misspelled words in word_list\n",
        "\n",
        "mis_words=spell.unknown(correct_word_list)\n",
        "print(mis_words)"
      ],
      "metadata": {
        "colab": {
          "base_uri": "https://localhost:8080/"
        },
        "id": "TFurK7u3HKEZ",
        "outputId": "c47628f5-1b22-4027-f83a-e9d7a1a9d1b2"
      },
      "execution_count": 34,
      "outputs": [
        {
          "output_type": "stream",
          "name": "stdout",
          "text": [
            "{'ms', 'mr'}\n"
          ]
        }
      ]
    },
    {
      "cell_type": "code",
      "source": [
        "#Checking similarity between words from correct_word_list and mis_mis_list, if its more than 0.8, \n",
        "#do dictionary[misspelled word]=correct word\n",
        "#TAKES 1 MINUTE+\n",
        "from difflib import SequenceMatcher       #Library used for checking similarity\n",
        "\n",
        "def similar(a, b):\n",
        "    return SequenceMatcher(None, a, b).ratio()    #Function to check similarity!\n",
        "\n",
        "dictionary={}\n",
        "cnt=0\n",
        "for cor_word in correct_word_list:\n",
        "  for mis_word in mis_mis_list:\n",
        "    ratio=similar(cor_word,mis_word)\n",
        "    if(ratio>0.8):\n",
        "      cnt=cnt+1\n",
        "      dictionary[mis_word]=cor_word\n",
        "      #print(\"Correct word:\",cor_word,\"    misspelled word:\",mis_word,\"      Ratio:\",ratio)\n",
        "print(\"This many words can be corrected: \",cnt)"
      ],
      "metadata": {
        "colab": {
          "base_uri": "https://localhost:8080/"
        },
        "id": "q-etDj4xhmlM",
        "outputId": "6dabdf97-496b-459c-f002-e017d93371e9"
      },
      "execution_count": 36,
      "outputs": [
        {
          "output_type": "stream",
          "name": "stdout",
          "text": [
            "This many words were corrected:  922\n"
          ]
        }
      ]
    },
    {
      "cell_type": "code",
      "source": [
        "#Saving the dictionary to a text file\n",
        "try:\n",
        "  dict_file=open(\"dict_file.txt\",\"w\")\n",
        "  dict_file.write(str(dictionary))\n",
        "  dict_file.close()\n",
        "except Exception as e:\n",
        "  print(\"{}\".format(e))"
      ],
      "metadata": {
        "id": "gU8Ki_eOr_RX"
      },
      "execution_count": 37,
      "outputs": []
    },
    {
      "cell_type": "code",
      "source": [
        "#This is how dictionary is \n",
        "dictionary['jst']"
      ],
      "metadata": {
        "colab": {
          "base_uri": "https://localhost:8080/",
          "height": 36
        },
        "id": "rM8czTDpzhhd",
        "outputId": "92542bf5-f369-48ed-b9b3-dd64f48ec08f"
      },
      "execution_count": 38,
      "outputs": [
        {
          "output_type": "execute_result",
          "data": {
            "application/vnd.google.colaboratory.intrinsic+json": {
              "type": "string"
            },
            "text/plain": [
              "'just'"
            ]
          },
          "metadata": {},
          "execution_count": 38
        }
      ]
    },
    {
      "cell_type": "code",
      "source": [
        "#Replacing the misspelled words with correct words\n",
        "#Takes almost 10 seconds\n",
        "words_corrected_cnt=0\n",
        "for i in range(len(df_review)):\n",
        "  sentence=(df_review['Review'][i]).lower()\n",
        "  print(\"before:\",sentence)\n",
        "  misspelled_words=spell.unknown(sentence.split())\n",
        "  print(\"list:\",misspelled_words)\n",
        "  for misword in misspelled_words:\n",
        "    if misword in dictionary:\n",
        "      correct_word=dictionary[misword]\n",
        "      print(\"misspelled word: \",misword,\"     \",\"correct word:\",correct_word)\n",
        "      sentence=sentence.replace(misword,correct_word)\n",
        "      words_corrected_cnt=words_corrected_cnt+1\n",
        "  df_review['Review'][i]=sentence\n",
        "  print(\"After:\",sentence)"
      ],
      "metadata": {
        "id": "SO7s0bhrxKEU"
      },
      "execution_count": null,
      "outputs": []
    },
    {
      "cell_type": "code",
      "source": [
        "#This many words were corrected and replaced\n",
        "print(words_corrected_cnt)"
      ],
      "metadata": {
        "colab": {
          "base_uri": "https://localhost:8080/"
        },
        "id": "KpjCZqbO3gHg",
        "outputId": "0cfbc42f-e023-4488-bd7e-096d48d9a7b0"
      },
      "execution_count": 40,
      "outputs": [
        {
          "output_type": "stream",
          "name": "stdout",
          "text": [
            "865\n"
          ]
        }
      ]
    },
    {
      "cell_type": "code",
      "source": [
        "#How the similar() function works\n",
        "print(similar('unfar','unfair'))"
      ],
      "metadata": {
        "colab": {
          "base_uri": "https://localhost:8080/"
        },
        "id": "X_MrImTX23VS",
        "outputId": "81b75961-e162-41de-b350-426220ec1930"
      },
      "execution_count": 44,
      "outputs": [
        {
          "output_type": "stream",
          "name": "stdout",
          "text": [
            "0.9090909090909091\n"
          ]
        }
      ]
    },
    {
      "cell_type": "markdown",
      "source": [
        "WORD COUNT PROGRAM"
      ],
      "metadata": {
        "id": "rWs27eyBB97p"
      }
    },
    {
      "cell_type": "code",
      "source": [
        "#Just a trial code!\n",
        "\n",
        "p_list=[]\n",
        "for i in range(2900):\n",
        "  ent=df_review['Review'][i].split()\n",
        "  p_list.append(ent)\n",
        "\n",
        "word_list=[]\n",
        "for element in p_list:\n",
        "  for word in element:\n",
        "    word_list.append(word)\n",
        "print(len(word_list))"
      ],
      "metadata": {
        "colab": {
          "base_uri": "https://localhost:8080/"
        },
        "id": "5sn39GMsAWH7",
        "outputId": "9330f0cf-0b84-4e28-f010-ba39c2dfed3a"
      },
      "execution_count": 45,
      "outputs": [
        {
          "output_type": "stream",
          "name": "stdout",
          "text": [
            "104203\n"
          ]
        }
      ]
    },
    {
      "cell_type": "markdown",
      "source": [
        "WORD COUNT PROGRAM END!"
      ],
      "metadata": {
        "id": "bTegbUc6CAY8"
      }
    },
    {
      "cell_type": "markdown",
      "source": [
        "TRIAL CODE END!"
      ],
      "metadata": {
        "id": "GY4Xn2qYL5df"
      }
    },
    {
      "cell_type": "code",
      "source": [
        "print(df_review['Review'].head())"
      ],
      "metadata": {
        "colab": {
          "base_uri": "https://localhost:8080/"
        },
        "id": "5C2y8Kn_CGfl",
        "outputId": "48e585b2-6795-4e24-c02a-f5249465faa8"
      },
      "execution_count": 46,
      "outputs": [
        {
          "output_type": "stream",
          "name": "stdout",
          "text": [
            "0                                                                                                                                                      tasteless pizza\n",
            "1                                                                                                                                                     price is so high\n",
            "2          very very disappointed while ordering you didnt mentioned it is small you guys are king fooling us rs spent for rs pizza issue acha grand deke kamaho bc mc\n",
            "3                                                                                                                                         taste was not up to the mark\n",
            "4    open pizza box and open jalapenos poppers sealing tape not properly put no point in blaming poor delivery person highly disappointing not expected from pizza hut\n",
            "Name: Review, dtype: object\n"
          ]
        }
      ]
    },
    {
      "cell_type": "markdown",
      "source": [
        "Stopwords"
      ],
      "metadata": {
        "id": "NfgYBAZLOLhT"
      }
    },
    {
      "cell_type": "code",
      "source": [
        "from nltk.corpus import stopwords\n",
        "sw=stopwords.words(\"english\")\n",
        "print(sw)\n",
        "#Removing the words below from the stopword list as they do impact the outcome when doing sentiment analysis. \n",
        "sw.append('would')\n",
        "words=['no','not']\n",
        "sw.remove('not')\n",
        "sw.remove('no')\n",
        "#sw.remove('never')\n",
        "sw.remove('don\\'t')\n",
        "sw.remove('didn\\'t')\n",
        "sw.remove('wouldn\\'t')\n",
        "sw.remove('wouldn')\n",
        "sw.remove('won\\'t')\n",
        "sw.remove('didn')\n",
        "sw.remove('don')\n",
        "sw.remove('isn\\'t')\n",
        "sw.remove('isn')\n",
        "#sw.remove('can\\'t')\n",
        "sw.remove('couldn\\'t')\n",
        "print(sw)"
      ],
      "metadata": {
        "colab": {
          "base_uri": "https://localhost:8080/"
        },
        "id": "_BM9LkwYNDlq",
        "outputId": "c4714fae-0bcb-4146-b447-c2f07274a3aa"
      },
      "execution_count": 47,
      "outputs": [
        {
          "output_type": "stream",
          "name": "stdout",
          "text": [
            "['i', 'me', 'my', 'myself', 'we', 'our', 'ours', 'ourselves', 'you', \"you're\", \"you've\", \"you'll\", \"you'd\", 'your', 'yours', 'yourself', 'yourselves', 'he', 'him', 'his', 'himself', 'she', \"she's\", 'her', 'hers', 'herself', 'it', \"it's\", 'its', 'itself', 'they', 'them', 'their', 'theirs', 'themselves', 'what', 'which', 'who', 'whom', 'this', 'that', \"that'll\", 'these', 'those', 'am', 'is', 'are', 'was', 'were', 'be', 'been', 'being', 'have', 'has', 'had', 'having', 'do', 'does', 'did', 'doing', 'a', 'an', 'the', 'and', 'but', 'if', 'or', 'because', 'as', 'until', 'while', 'of', 'at', 'by', 'for', 'with', 'about', 'against', 'between', 'into', 'through', 'during', 'before', 'after', 'above', 'below', 'to', 'from', 'up', 'down', 'in', 'out', 'on', 'off', 'over', 'under', 'again', 'further', 'then', 'once', 'here', 'there', 'when', 'where', 'why', 'how', 'all', 'any', 'both', 'each', 'few', 'more', 'most', 'other', 'some', 'such', 'no', 'nor', 'not', 'only', 'own', 'same', 'so', 'than', 'too', 'very', 's', 't', 'can', 'will', 'just', 'don', \"don't\", 'should', \"should've\", 'now', 'd', 'll', 'm', 'o', 're', 've', 'y', 'ain', 'aren', \"aren't\", 'couldn', \"couldn't\", 'didn', \"didn't\", 'doesn', \"doesn't\", 'hadn', \"hadn't\", 'hasn', \"hasn't\", 'haven', \"haven't\", 'isn', \"isn't\", 'ma', 'mightn', \"mightn't\", 'mustn', \"mustn't\", 'needn', \"needn't\", 'shan', \"shan't\", 'shouldn', \"shouldn't\", 'wasn', \"wasn't\", 'weren', \"weren't\", 'won', \"won't\", 'wouldn', \"wouldn't\"]\n",
            "['i', 'me', 'my', 'myself', 'we', 'our', 'ours', 'ourselves', 'you', \"you're\", \"you've\", \"you'll\", \"you'd\", 'your', 'yours', 'yourself', 'yourselves', 'he', 'him', 'his', 'himself', 'she', \"she's\", 'her', 'hers', 'herself', 'it', \"it's\", 'its', 'itself', 'they', 'them', 'their', 'theirs', 'themselves', 'what', 'which', 'who', 'whom', 'this', 'that', \"that'll\", 'these', 'those', 'am', 'is', 'are', 'was', 'were', 'be', 'been', 'being', 'have', 'has', 'had', 'having', 'do', 'does', 'did', 'doing', 'a', 'an', 'the', 'and', 'but', 'if', 'or', 'because', 'as', 'until', 'while', 'of', 'at', 'by', 'for', 'with', 'about', 'against', 'between', 'into', 'through', 'during', 'before', 'after', 'above', 'below', 'to', 'from', 'up', 'down', 'in', 'out', 'on', 'off', 'over', 'under', 'again', 'further', 'then', 'once', 'here', 'there', 'when', 'where', 'why', 'how', 'all', 'any', 'both', 'each', 'few', 'more', 'most', 'other', 'some', 'such', 'nor', 'only', 'own', 'same', 'so', 'than', 'too', 'very', 's', 't', 'can', 'will', 'just', 'should', \"should've\", 'now', 'd', 'll', 'm', 'o', 're', 've', 'y', 'ain', 'aren', \"aren't\", 'couldn', 'doesn', \"doesn't\", 'hadn', \"hadn't\", 'hasn', \"hasn't\", 'haven', \"haven't\", 'ma', 'mightn', \"mightn't\", 'mustn', \"mustn't\", 'needn', \"needn't\", 'shan', \"shan't\", 'shouldn', \"shouldn't\", 'wasn', \"wasn't\", 'weren', \"weren't\", 'won', 'would']\n"
          ]
        }
      ]
    },
    {
      "cell_type": "markdown",
      "source": [
        "Making 'Review' lower so I can remove stopwords"
      ],
      "metadata": {
        "id": "eL5CFn6D3EV1"
      }
    },
    {
      "cell_type": "code",
      "source": [
        "df_review['Review']=df_review['Review'].str.lower()"
      ],
      "metadata": {
        "id": "refRp0Ei02vc"
      },
      "execution_count": 48,
      "outputs": []
    },
    {
      "cell_type": "code",
      "source": [
        "df_review['Review']=df_review['Review'].apply(lambda x:\" \".join(x for x in str(x).split() if x not in sw))\n",
        "print(df_review.head())"
      ],
      "metadata": {
        "colab": {
          "base_uri": "https://localhost:8080/"
        },
        "id": "PyO5iDakPkS7",
        "outputId": "1f1efb3a-d840-4c6a-8147-f53b3a8bb58a"
      },
      "execution_count": 49,
      "outputs": [
        {
          "output_type": "stream",
          "name": "stdout",
          "text": [
            "                                                                                                                                                  Review  \\\n",
            "0                                                                                                                                        tasteless pizza   \n",
            "1                                                                                                                                             price high   \n",
            "2                                  disappointed ordering didnt mentioned small guys king fooling us rs spent rs pizza issue acha grand deke kamaho bc mc   \n",
            "3                                                                                                                                         taste not mark   \n",
            "4  open pizza box open jalapenos poppers sealing tape not properly put no point blaming poor delivery person highly disappointing not expected pizza hut   \n",
            "\n",
            "   Sentiment  \n",
            "0          0  \n",
            "1          0  \n",
            "2          0  \n",
            "3          0  \n",
            "4          0  \n"
          ]
        }
      ]
    },
    {
      "cell_type": "code",
      "source": [
        "#TOTAL WORDS AFTER REMOVING STOP WORDS!\n",
        "p_list=[]\n",
        "for i in range(2900):\n",
        "  ent=df_review['Review'][i].split()\n",
        "  p_list.append(ent)\n",
        "\n",
        "word_list=[]\n",
        "for element in p_list:\n",
        "  for word in element:\n",
        "    word_list.append(word)\n",
        "print(len(word_list))"
      ],
      "metadata": {
        "colab": {
          "base_uri": "https://localhost:8080/"
        },
        "id": "OXtBoryLC03P",
        "outputId": "6916eef7-bdda-4534-83ce-9c6d4c197979"
      },
      "execution_count": 50,
      "outputs": [
        {
          "output_type": "stream",
          "name": "stdout",
          "text": [
            "62141\n"
          ]
        }
      ]
    },
    {
      "cell_type": "markdown",
      "source": [
        "TOKENIZATION"
      ],
      "metadata": {
        "id": "Sm3xLfgYQHX3"
      }
    },
    {
      "cell_type": "code",
      "source": [
        "#Tokenization done to apply Lemmatization\n",
        "w_tokenizer=nltk.tokenize.WhitespaceTokenizer()\n",
        "lemmatizer=nltk.stem.WordNetLemmatizer()\n",
        "\n",
        "def lemmatize_text(text):\n",
        "  return [lemmatizer.lemmatize(w,'v') for w in w_tokenizer.tokenize(text)]\n",
        "\n",
        "df_review['Review']=df_review.Review.apply(lemmatize_text)\n",
        "print(df_review.head())"
      ],
      "metadata": {
        "colab": {
          "base_uri": "https://localhost:8080/"
        },
        "id": "BXtn6WCqQFre",
        "outputId": "ef121427-e1de-4424-9fac-60dec769e77c"
      },
      "execution_count": 51,
      "outputs": [
        {
          "output_type": "stream",
          "name": "stdout",
          "text": [
            "                                                                                                                                                                Review  \\\n",
            "0                                                                                                                                                   [tasteless, pizza]   \n",
            "1                                                                                                                                                        [price, high]   \n",
            "2                                      [disappoint, order, didnt, mention, small, guy, king, fool, us, rs, spend, rs, pizza, issue, acha, grand, deke, kamaho, bc, mc]   \n",
            "3                                                                                                                                                   [taste, not, mark]   \n",
            "4  [open, pizza, box, open, jalapenos, poppers, seal, tape, not, properly, put, no, point, blame, poor, delivery, person, highly, disappoint, not, expect, pizza, hut]   \n",
            "\n",
            "   Sentiment  \n",
            "0          0  \n",
            "1          0  \n",
            "2          0  \n",
            "3          0  \n",
            "4          0  \n"
          ]
        }
      ]
    },
    {
      "cell_type": "markdown",
      "source": [
        "From tokenized to normal"
      ],
      "metadata": {
        "id": "7UWXt_ZfRBBe"
      }
    },
    {
      "cell_type": "code",
      "source": [
        "df_review['NewReview'] = df_review['Review'].apply(lambda s1: ' '.join(map(str,s1)) )\n",
        "\n",
        "\n",
        "print(df_review['NewReview'].head())"
      ],
      "metadata": {
        "colab": {
          "base_uri": "https://localhost:8080/"
        },
        "id": "8sD_arXaRFhn",
        "outputId": "93136649-15d2-4783-a082-f247dce00438"
      },
      "execution_count": 52,
      "outputs": [
        {
          "output_type": "stream",
          "name": "stdout",
          "text": [
            "0                                                                                                                                tasteless pizza\n",
            "1                                                                                                                                     price high\n",
            "2                                     disappoint order didnt mention small guy king fool us rs spend rs pizza issue acha grand deke kamaho bc mc\n",
            "3                                                                                                                                 taste not mark\n",
            "4    open pizza box open jalapenos poppers seal tape not properly put no point blame poor delivery person highly disappoint not expect pizza hut\n",
            "Name: NewReview, dtype: object\n"
          ]
        }
      ]
    },
    {
      "cell_type": "code",
      "source": [
        "df_review['NewReview']=df_review['NewReview'].str.lower()\n",
        "df_review.head()"
      ],
      "metadata": {
        "colab": {
          "base_uri": "https://localhost:8080/",
          "height": 285
        },
        "id": "m-v7WXIaRTl7",
        "outputId": "83b7742c-5527-46dd-dc82-d1a9b487dd92"
      },
      "execution_count": 53,
      "outputs": [
        {
          "output_type": "execute_result",
          "data": {
            "text/html": [
              "\n",
              "  <div id=\"df-46088094-d1c9-4a65-9e55-13f6366dbba5\">\n",
              "    <div class=\"colab-df-container\">\n",
              "      <div>\n",
              "<style scoped>\n",
              "    .dataframe tbody tr th:only-of-type {\n",
              "        vertical-align: middle;\n",
              "    }\n",
              "\n",
              "    .dataframe tbody tr th {\n",
              "        vertical-align: top;\n",
              "    }\n",
              "\n",
              "    .dataframe thead th {\n",
              "        text-align: right;\n",
              "    }\n",
              "</style>\n",
              "<table border=\"1\" class=\"dataframe\">\n",
              "  <thead>\n",
              "    <tr style=\"text-align: right;\">\n",
              "      <th></th>\n",
              "      <th>Review</th>\n",
              "      <th>Sentiment</th>\n",
              "      <th>NewReview</th>\n",
              "    </tr>\n",
              "  </thead>\n",
              "  <tbody>\n",
              "    <tr>\n",
              "      <th>0</th>\n",
              "      <td>[tasteless, pizza]</td>\n",
              "      <td>0</td>\n",
              "      <td>tasteless pizza</td>\n",
              "    </tr>\n",
              "    <tr>\n",
              "      <th>1</th>\n",
              "      <td>[price, high]</td>\n",
              "      <td>0</td>\n",
              "      <td>price high</td>\n",
              "    </tr>\n",
              "    <tr>\n",
              "      <th>2</th>\n",
              "      <td>[disappoint, order, didnt, mention, small, guy, king, fool, us, rs, spend, rs, pizza, issue, acha, grand, deke, kamaho, bc, mc]</td>\n",
              "      <td>0</td>\n",
              "      <td>disappoint order didnt mention small guy king fool us rs spend rs pizza issue acha grand deke kamaho bc mc</td>\n",
              "    </tr>\n",
              "    <tr>\n",
              "      <th>3</th>\n",
              "      <td>[taste, not, mark]</td>\n",
              "      <td>0</td>\n",
              "      <td>taste not mark</td>\n",
              "    </tr>\n",
              "    <tr>\n",
              "      <th>4</th>\n",
              "      <td>[open, pizza, box, open, jalapenos, poppers, seal, tape, not, properly, put, no, point, blame, poor, delivery, person, highly, disappoint, not, expect, pizza, hut]</td>\n",
              "      <td>0</td>\n",
              "      <td>open pizza box open jalapenos poppers seal tape not properly put no point blame poor delivery person highly disappoint not expect pizza hut</td>\n",
              "    </tr>\n",
              "  </tbody>\n",
              "</table>\n",
              "</div>\n",
              "      <button class=\"colab-df-convert\" onclick=\"convertToInteractive('df-46088094-d1c9-4a65-9e55-13f6366dbba5')\"\n",
              "              title=\"Convert this dataframe to an interactive table.\"\n",
              "              style=\"display:none;\">\n",
              "        \n",
              "  <svg xmlns=\"http://www.w3.org/2000/svg\" height=\"24px\"viewBox=\"0 0 24 24\"\n",
              "       width=\"24px\">\n",
              "    <path d=\"M0 0h24v24H0V0z\" fill=\"none\"/>\n",
              "    <path d=\"M18.56 5.44l.94 2.06.94-2.06 2.06-.94-2.06-.94-.94-2.06-.94 2.06-2.06.94zm-11 1L8.5 8.5l.94-2.06 2.06-.94-2.06-.94L8.5 2.5l-.94 2.06-2.06.94zm10 10l.94 2.06.94-2.06 2.06-.94-2.06-.94-.94-2.06-.94 2.06-2.06.94z\"/><path d=\"M17.41 7.96l-1.37-1.37c-.4-.4-.92-.59-1.43-.59-.52 0-1.04.2-1.43.59L10.3 9.45l-7.72 7.72c-.78.78-.78 2.05 0 2.83L4 21.41c.39.39.9.59 1.41.59.51 0 1.02-.2 1.41-.59l7.78-7.78 2.81-2.81c.8-.78.8-2.07 0-2.86zM5.41 20L4 18.59l7.72-7.72 1.47 1.35L5.41 20z\"/>\n",
              "  </svg>\n",
              "      </button>\n",
              "      \n",
              "  <style>\n",
              "    .colab-df-container {\n",
              "      display:flex;\n",
              "      flex-wrap:wrap;\n",
              "      gap: 12px;\n",
              "    }\n",
              "\n",
              "    .colab-df-convert {\n",
              "      background-color: #E8F0FE;\n",
              "      border: none;\n",
              "      border-radius: 50%;\n",
              "      cursor: pointer;\n",
              "      display: none;\n",
              "      fill: #1967D2;\n",
              "      height: 32px;\n",
              "      padding: 0 0 0 0;\n",
              "      width: 32px;\n",
              "    }\n",
              "\n",
              "    .colab-df-convert:hover {\n",
              "      background-color: #E2EBFA;\n",
              "      box-shadow: 0px 1px 2px rgba(60, 64, 67, 0.3), 0px 1px 3px 1px rgba(60, 64, 67, 0.15);\n",
              "      fill: #174EA6;\n",
              "    }\n",
              "\n",
              "    [theme=dark] .colab-df-convert {\n",
              "      background-color: #3B4455;\n",
              "      fill: #D2E3FC;\n",
              "    }\n",
              "\n",
              "    [theme=dark] .colab-df-convert:hover {\n",
              "      background-color: #434B5C;\n",
              "      box-shadow: 0px 1px 3px 1px rgba(0, 0, 0, 0.15);\n",
              "      filter: drop-shadow(0px 1px 2px rgba(0, 0, 0, 0.3));\n",
              "      fill: #FFFFFF;\n",
              "    }\n",
              "  </style>\n",
              "\n",
              "      <script>\n",
              "        const buttonEl =\n",
              "          document.querySelector('#df-46088094-d1c9-4a65-9e55-13f6366dbba5 button.colab-df-convert');\n",
              "        buttonEl.style.display =\n",
              "          google.colab.kernel.accessAllowed ? 'block' : 'none';\n",
              "\n",
              "        async function convertToInteractive(key) {\n",
              "          const element = document.querySelector('#df-46088094-d1c9-4a65-9e55-13f6366dbba5');\n",
              "          const dataTable =\n",
              "            await google.colab.kernel.invokeFunction('convertToInteractive',\n",
              "                                                     [key], {});\n",
              "          if (!dataTable) return;\n",
              "\n",
              "          const docLinkHtml = 'Like what you see? Visit the ' +\n",
              "            '<a target=\"_blank\" href=https://colab.research.google.com/notebooks/data_table.ipynb>data table notebook</a>'\n",
              "            + ' to learn more about interactive tables.';\n",
              "          element.innerHTML = '';\n",
              "          dataTable['output_type'] = 'display_data';\n",
              "          await google.colab.output.renderOutput(dataTable, element);\n",
              "          const docLink = document.createElement('div');\n",
              "          docLink.innerHTML = docLinkHtml;\n",
              "          element.appendChild(docLink);\n",
              "        }\n",
              "      </script>\n",
              "    </div>\n",
              "  </div>\n",
              "  "
            ],
            "text/plain": [
              "                                                                                                                                                                Review  \\\n",
              "0                                                                                                                                                   [tasteless, pizza]   \n",
              "1                                                                                                                                                        [price, high]   \n",
              "2                                      [disappoint, order, didnt, mention, small, guy, king, fool, us, rs, spend, rs, pizza, issue, acha, grand, deke, kamaho, bc, mc]   \n",
              "3                                                                                                                                                   [taste, not, mark]   \n",
              "4  [open, pizza, box, open, jalapenos, poppers, seal, tape, not, properly, put, no, point, blame, poor, delivery, person, highly, disappoint, not, expect, pizza, hut]   \n",
              "\n",
              "   Sentiment  \\\n",
              "0          0   \n",
              "1          0   \n",
              "2          0   \n",
              "3          0   \n",
              "4          0   \n",
              "\n",
              "                                                                                                                                     NewReview  \n",
              "0                                                                                                                              tasteless pizza  \n",
              "1                                                                                                                                   price high  \n",
              "2                                   disappoint order didnt mention small guy king fool us rs spend rs pizza issue acha grand deke kamaho bc mc  \n",
              "3                                                                                                                               taste not mark  \n",
              "4  open pizza box open jalapenos poppers seal tape not properly put no point blame poor delivery person highly disappoint not expect pizza hut  "
            ]
          },
          "metadata": {},
          "execution_count": 53
        }
      ]
    },
    {
      "cell_type": "markdown",
      "source": [
        "Sentiment Analysis"
      ],
      "metadata": {
        "id": "Kh-RBjL-Rkud"
      }
    },
    {
      "cell_type": "code",
      "source": [
        "from sklearn.model_selection import train_test_split"
      ],
      "metadata": {
        "id": "nZ223Yg4TMNX"
      },
      "execution_count": 54,
      "outputs": []
    },
    {
      "cell_type": "code",
      "source": [
        "train_data,test_data=train_test_split(df_review,test_size=0.4,random_state=25)\n"
      ],
      "metadata": {
        "id": "yUx96R79SyEv"
      },
      "execution_count": 55,
      "outputs": []
    },
    {
      "cell_type": "code",
      "source": [
        "#test data= 1160 data points\n",
        "#train data= 1740 data points\n",
        "print(test_data.shape)\n",
        "print('test_data(Positive):',test_data[test_data['Sentiment']==1].count())\n",
        "print('test_data(Negative):',test_data[test_data['Sentiment']==0].count())\n",
        "\n",
        "print(\"train_data (Positive):\",train_data[train_data['Sentiment']==1].count())\n",
        "print('train_data (Negative):',train_data[train_data['Sentiment']==0].count())"
      ],
      "metadata": {
        "id": "97P05naKTpVr",
        "colab": {
          "base_uri": "https://localhost:8080/"
        },
        "outputId": "7e0f2ca0-2364-4a25-a2b3-99e0e53124f9"
      },
      "execution_count": 57,
      "outputs": [
        {
          "output_type": "stream",
          "name": "stdout",
          "text": [
            "(1160, 3)\n",
            "test_data(Positive): Review       782\n",
            "Sentiment    782\n",
            "NewReview    782\n",
            "dtype: int64\n",
            "test_data(Negative): Review       378\n",
            "Sentiment    378\n",
            "NewReview    378\n",
            "dtype: int64\n",
            "train_data (Positive): Review       1190\n",
            "Sentiment    1190\n",
            "NewReview    1190\n",
            "dtype: int64\n",
            "train_data (Negative): Review       550\n",
            "Sentiment    550\n",
            "NewReview    550\n",
            "dtype: int64\n"
          ]
        }
      ]
    },
    {
      "cell_type": "code",
      "source": [
        "X_train=train_data['NewReview']\n",
        "y_train=train_data['Sentiment']\n",
        "X_test=test_data['NewReview']\n",
        "y_test=test_data['Sentiment']"
      ],
      "metadata": {
        "id": "gAWfhmziRmS3"
      },
      "execution_count": 58,
      "outputs": []
    },
    {
      "cell_type": "code",
      "source": [
        "print(X_train.head())\n",
        "print(X_test.head())"
      ],
      "metadata": {
        "id": "uXz0_ZksUg-r",
        "colab": {
          "base_uri": "https://localhost:8080/"
        },
        "outputId": "44135f36-939c-4763-9024-5226fd65b9e5"
      },
      "execution_count": 59,
      "outputs": [
        {
          "output_type": "stream",
          "name": "stdout",
          "text": [
            "3                                                                                                                                                                                                                                                                                               taste not mark\n",
            "1648                                                                                                                           service wasnt per expect waiters dont respond even call repeatedly even air condition restaurant not work plus many mistake order didnt receive order right time bad experience\n",
            "2020                                                                                                                                                                   good pizzas definitely rate higher dominos prompt service value meal options available fly buzz around restaurant need take care though\n",
            "2397    pizza worth rat garlic bread provide cutlery eat place use good place decide switch air conditioner provide poor service food actually grateful provide food within first half hr order meal bring soup along pizza check soup photo look like leave return red water ask feedback book bluntly refuse\n",
            "2243                                                                                                                                                                                          quick service food quality best worth money enjoy food good atmosfear amaze barry vanilla shake love visit thank\n",
            "Name: NewReview, dtype: object\n",
            "2051                                                                                   great place pizza hut food also amaze comfortable offer friendly staff restaurant good clean enjoy ur friends birthday\n",
            "732     self service place visit place wife one yr old kid staff cooperative helpful suggestions helpful decide menu food outstanding drawback no park place bpcl petrol pump guy not allow park even minutes\n",
            "2550                                                                                                                                   wow wow wow owesme service pizza yummy lovee good place hangout friend\n",
            "2446                                                                                                                  place service good ambience also nice good place chill friends hectic day staff welcome\n",
            "1834                                               go friends lunch place good staff friendly service slow drink appetisers taste good pizzas flavourful tasty dessert warm delicious overall good experience\n",
            "Name: NewReview, dtype: object\n"
          ]
        }
      ]
    },
    {
      "cell_type": "markdown",
      "source": [
        "Vectorizer"
      ],
      "metadata": {
        "id": "xACY3l2cR04F"
      }
    },
    {
      "cell_type": "code",
      "source": [
        "from sklearn.feature_extraction.text import TfidfVectorizer"
      ],
      "metadata": {
        "id": "817fKfDAR0Du"
      },
      "execution_count": 60,
      "outputs": []
    },
    {
      "cell_type": "markdown",
      "source": [
        "TRIAL CODE START! DON'T USE THE CODE BELOW, ITS JUST FOR PRINTING WORDS AND THEIR TF-IDF VALUES"
      ],
      "metadata": {
        "id": "DC6RZu5PLOlq"
      }
    },
    {
      "cell_type": "code",
      "source": [
        "# tfIdfVectorizer=TfidfVectorizer(use_idf=True)\n",
        "# tfIdf = tfIdfVectorizer.fit_transform(X_train)\n",
        "# df_abc = pd.DataFrame(tfIdf[0].T.todense(), index=tfIdfVectorizer.get_feature_names(), columns=[\"TF-IDF\"])\n",
        "# df_abc = df_abc.sort_values('TF-IDF', ascending=False)\n",
        "# print (df_abc.head(5))"
      ],
      "metadata": {
        "id": "7SqLS8UMK7wz"
      },
      "execution_count": null,
      "outputs": []
    },
    {
      "cell_type": "markdown",
      "source": [
        "TRIAL CODE END!"
      ],
      "metadata": {
        "id": "67TsjA0rLWot"
      }
    },
    {
      "cell_type": "code",
      "source": [
        "train_vectorizer=TfidfVectorizer(use_idf=True,lowercase=True,strip_accents='ascii')\n",
        "train_review_tfidf=train_vectorizer.fit_transform(X_train)"
      ],
      "metadata": {
        "id": "0-DVY0c7R7vh"
      },
      "execution_count": 61,
      "outputs": []
    },
    {
      "cell_type": "code",
      "source": [
        "print(train_review_tfidf.shape)\n",
        "type(train_review_tfidf)"
      ],
      "metadata": {
        "colab": {
          "base_uri": "https://localhost:8080/"
        },
        "id": "M4dHCga8VKwC",
        "outputId": "5c660b9d-9917-4b35-ea45-66afa531d128"
      },
      "execution_count": 62,
      "outputs": [
        {
          "output_type": "stream",
          "name": "stdout",
          "text": [
            "(1740, 3248)\n"
          ]
        },
        {
          "output_type": "execute_result",
          "data": {
            "text/plain": [
              "scipy.sparse.csr.csr_matrix"
            ]
          },
          "metadata": {},
          "execution_count": 62
        }
      ]
    },
    {
      "cell_type": "markdown",
      "source": [
        "printing first 5 elements and other is about ngrams"
      ],
      "metadata": {
        "id": "O2OjwMWGVcn9"
      }
    },
    {
      "cell_type": "code",
      "source": [
        "#print(review_tfidf.toarray()[1:5])\n",
        "#train_vectorizer_ngram=TfidfVectorizer(ngram_range=(2,3))\n",
        "#review_tfidf_ngram=train_vectorizer_ngram.fit_transform(X)"
      ],
      "metadata": {
        "id": "aVvE4_kiVSgR"
      },
      "execution_count": null,
      "outputs": []
    },
    {
      "cell_type": "code",
      "source": [
        "#Ignore this code cell\n",
        "\n",
        "print(y_train.head())\n",
        "print(y_train.shape)\n",
        "print(train_review_tfidf.shape)"
      ],
      "metadata": {
        "colab": {
          "base_uri": "https://localhost:8080/"
        },
        "id": "Sx_pgjw4WDYA",
        "outputId": "02f58858-2da8-434c-e034-f30170e1433a"
      },
      "execution_count": null,
      "outputs": [
        {
          "output_type": "stream",
          "name": "stdout",
          "text": [
            "3       0\n",
            "1648    0\n",
            "2020    1\n",
            "2397    0\n",
            "2243    1\n",
            "Name: Sentiment, dtype: int64\n",
            "(1740,)\n",
            "(1740, 3247)\n"
          ]
        }
      ]
    },
    {
      "cell_type": "markdown",
      "source": [
        "LOGISTIC REGRESSION"
      ],
      "metadata": {
        "id": "5nc7DBAqVi1_"
      }
    },
    {
      "cell_type": "code",
      "source": [
        "log_model=LogisticRegression().fit(train_review_tfidf, y_train)"
      ],
      "metadata": {
        "id": "WIVnf7WwVkxB"
      },
      "execution_count": 63,
      "outputs": []
    },
    {
      "cell_type": "code",
      "source": [
        "cross_val_score(log_model,train_review_tfidf,y_train,scoring='accuracy',cv=5).mean()"
      ],
      "metadata": {
        "colab": {
          "base_uri": "https://localhost:8080/"
        },
        "id": "oJ8csFnQWapl",
        "outputId": "e4bc185f-dd29-44e5-8d20-8075f7729a53"
      },
      "execution_count": 66,
      "outputs": [
        {
          "output_type": "execute_result",
          "data": {
            "text/plain": [
              "0.9298850574712644"
            ]
          },
          "metadata": {},
          "execution_count": 66
        }
      ]
    },
    {
      "cell_type": "markdown",
      "source": [
        "\n",
        "TESTING"
      ],
      "metadata": {
        "id": "Q3BfK_FTWoQT"
      }
    },
    {
      "cell_type": "code",
      "source": [
        "#USE THIS WHEN TESTING ON SPLIT TEST DATA\n",
        "nr=train_vectorizer.transform(X_test)\n",
        "log_model.predict(nr)\n",
        "\n",
        "#USE THIS WHEN TESTING ON WHOLE DATASET\n",
        "# nr=train_vectorizer.transform(df_review['NewReview'])\n",
        "# log_model.predict(nr)\n"
      ],
      "metadata": {
        "id": "70FF2KxWWnwj",
        "colab": {
          "base_uri": "https://localhost:8080/"
        },
        "outputId": "a20b9652-ba5f-4db1-ebba-1ee1f2ea763d"
      },
      "execution_count": 67,
      "outputs": [
        {
          "output_type": "execute_result",
          "data": {
            "text/plain": [
              "array([1, 1, 1, ..., 0, 1, 1])"
            ]
          },
          "metadata": {},
          "execution_count": 67
        }
      ]
    },
    {
      "cell_type": "code",
      "source": [
        "# print(\"Accuracy: \",cross_val_score(log_model,nr,y_test,scoring='accuracy',cv=5).mean())\n",
        "# print(\"Precision: \",cross_val_score(log_model,nr,y_test,scoring='precision',cv=5).mean())\n",
        "# print(\"Recall: \",cross_val_score(log_model,nr,y_test,scoring='recall',cv=5).mean())\n",
        "# print(\"F1 score :\",cross_val_score(log_model,nr,y_test,scoring='f1',cv=5).mean())\n",
        "\n",
        " \n",
        "  \n",
        "  \n",
        "#cross_val_score(log_model,nr,df_review['Sentiment'],scoring='accuracy',cv=5).mean()"
      ],
      "metadata": {
        "colab": {
          "base_uri": "https://localhost:8080/"
        },
        "id": "9BKhyOhTapav",
        "outputId": "ce5f6d1f-defb-4715-e21a-3a2007c16e7d"
      },
      "execution_count": null,
      "outputs": [
        {
          "output_type": "stream",
          "name": "stdout",
          "text": [
            "Accuracy:  0.9301724137931036\n",
            "Precision:  0.9239289537903218\n",
            "Recall:  0.9769965703086723\n",
            "F1 score : 0.9496567860161017\n"
          ]
        }
      ]
    },
    {
      "cell_type": "code",
      "source": [
        "predicted=log_model.predict(nr)\n",
        "p=pd.DataFrame(predicted)\n",
        "actual=y_test\n",
        "# actual=df_review['Sentiment']"
      ],
      "metadata": {
        "id": "IAMl0jTLXFiv"
      },
      "execution_count": 69,
      "outputs": []
    },
    {
      "cell_type": "code",
      "source": [
        "print(p.dtypes)"
      ],
      "metadata": {
        "id": "WS1Y47GfJY-o",
        "colab": {
          "base_uri": "https://localhost:8080/"
        },
        "outputId": "c604e19c-bced-4445-ac3b-281917bb3e38"
      },
      "execution_count": 70,
      "outputs": [
        {
          "output_type": "stream",
          "name": "stdout",
          "text": [
            "0    int64\n",
            "dtype: object\n"
          ]
        }
      ]
    },
    {
      "cell_type": "code",
      "source": [
        "import seaborn as sns\n",
        "cf_matrix=sm.confusion_matrix(actual,p)\n",
        "sns.heatmap(cf_matrix,annot=True,fmt='g')"
      ],
      "metadata": {
        "colab": {
          "base_uri": "https://localhost:8080/",
          "height": 284
        },
        "id": "3QEWlonRH744",
        "outputId": "60cc0028-90ea-4464-82d8-fbd333d24e39"
      },
      "execution_count": 71,
      "outputs": [
        {
          "output_type": "execute_result",
          "data": {
            "text/plain": [
              "<matplotlib.axes._subplots.AxesSubplot at 0x7f0a71efbe50>"
            ]
          },
          "metadata": {},
          "execution_count": 71
        },
        {
          "output_type": "display_data",
          "data": {
            "image/png": "[encoded data removed]",
            "text/plain": [
              "<Figure size 432x288 with 2 Axes>"
            ]
          },
          "metadata": {
            "needs_background": "light"
          }
        }
      ]
    },
    {
      "cell_type": "code",
      "source": [
        "#Classification Report\n",
        "from sklearn.metrics import classification_report\n",
        "print(classification_report(actual,predicted))"
      ],
      "metadata": {
        "colab": {
          "base_uri": "https://localhost:8080/"
        },
        "id": "T0PIVY_KZYCt",
        "outputId": "0320a940-3634-4a76-8678-19597586e5a9"
      },
      "execution_count": 72,
      "outputs": [
        {
          "output_type": "stream",
          "name": "stdout",
          "text": [
            "              precision    recall  f1-score   support\n",
            "\n",
            "           0       0.94      0.87      0.91       378\n",
            "           1       0.94      0.97      0.96       782\n",
            "\n",
            "    accuracy                           0.94      1160\n",
            "   macro avg       0.94      0.92      0.93      1160\n",
            "weighted avg       0.94      0.94      0.94      1160\n",
            "\n"
          ]
        }
      ]
    },
    {
      "cell_type": "markdown",
      "source": [
        "Applying SVM"
      ],
      "metadata": {
        "id": "25g4NkIdcZj4"
      }
    },
    {
      "cell_type": "code",
      "source": [
        "from sklearn.svm import SVC\n",
        "svclassifier=SVC(kernel='linear')\n",
        "svclassifier.fit(train_review_tfidf,y_train)"
      ],
      "metadata": {
        "colab": {
          "base_uri": "https://localhost:8080/"
        },
        "id": "Doq8pejtccdK",
        "outputId": "09c7ce54-ef3b-4587-d1b6-a1b795330048"
      },
      "execution_count": 73,
      "outputs": [
        {
          "output_type": "execute_result",
          "data": {
            "text/plain": [
              "SVC(kernel='linear')"
            ]
          },
          "metadata": {},
          "execution_count": 73
        }
      ]
    },
    {
      "cell_type": "code",
      "source": [
        "# sentence=['The order was delivered after 1 hour. Meanwhile I tried calling them but they put me on hold every time. On receiving the order I paid the money and then realized that instead of cheese burst chicken pizza a veg non cheese burst pizza was delivered, moreover it was completely cold...']\n",
        "# nr1=train_vectorizer.transform(sentence)\n",
        "# svclassifier.predict(nr1)"
      ],
      "metadata": {
        "colab": {
          "base_uri": "https://localhost:8080/"
        },
        "id": "VrgeCXarLbMo",
        "outputId": "db77721f-2eda-4355-943d-65a12933c90c"
      },
      "execution_count": 74,
      "outputs": [
        {
          "output_type": "execute_result",
          "data": {
            "text/plain": [
              "array([0])"
            ]
          },
          "metadata": {},
          "execution_count": 74
        }
      ]
    },
    {
      "cell_type": "code",
      "source": [
        "nr=train_vectorizer.transform(X_test)\n",
        "svclassifier.predict(nr)"
      ],
      "metadata": {
        "id": "3GDdJanidadf",
        "colab": {
          "base_uri": "https://localhost:8080/"
        },
        "outputId": "1d099736-02e9-4ccc-a0ce-e8a263bf41c1"
      },
      "execution_count": 75,
      "outputs": [
        {
          "output_type": "execute_result",
          "data": {
            "text/plain": [
              "array([1, 1, 1, ..., 0, 1, 1])"
            ]
          },
          "metadata": {},
          "execution_count": 75
        }
      ]
    },
    {
      "cell_type": "code",
      "source": [
        "predicted=svclassifier.predict(nr)\n",
        "p=pd.DataFrame(predicted)\n",
        "actual=y_test"
      ],
      "metadata": {
        "id": "MhZpsHR2dmgJ"
      },
      "execution_count": 76,
      "outputs": []
    },
    {
      "cell_type": "code",
      "source": [
        "cf_matrix=sm.confusion_matrix(actual,p)\n",
        "sns.heatmap(cf_matrix,annot=True,fmt='g')"
      ],
      "metadata": {
        "colab": {
          "base_uri": "https://localhost:8080/",
          "height": 284
        },
        "id": "Q-zYtb70LLdq",
        "outputId": "a0b541a2-8cba-4916-a003-b119c6df19ac"
      },
      "execution_count": 77,
      "outputs": [
        {
          "output_type": "execute_result",
          "data": {
            "text/plain": [
              "<matplotlib.axes._subplots.AxesSubplot at 0x7f0a71f26a10>"
            ]
          },
          "metadata": {},
          "execution_count": 77
        },
        {
          "output_type": "display_data",
          "data": {
            "image/png": "[encoded data removed]",
            "text/plain": [
              "<Figure size 432x288 with 2 Axes>"
            ]
          },
          "metadata": {
            "needs_background": "light"
          }
        }
      ]
    },
    {
      "cell_type": "code",
      "source": [
        "cross_val_score(svclassifier,train_review_tfidf,y_train,scoring='accuracy',cv=5).mean()"
      ],
      "metadata": {
        "colab": {
          "base_uri": "https://localhost:8080/"
        },
        "id": "Fa8_Z74RdqEH",
        "outputId": "c3b8f97c-9ab0-4d3d-fba1-4cc2234c95de"
      },
      "execution_count": 78,
      "outputs": [
        {
          "output_type": "execute_result",
          "data": {
            "text/plain": [
              "0.9321839080459771"
            ]
          },
          "metadata": {},
          "execution_count": 78
        }
      ]
    },
    {
      "cell_type": "code",
      "source": [
        "# print(\"Accuracy: \",cross_val_score(svclassifier,nr,y_test,scoring='accuracy',cv=5).mean())\n",
        "# print(\"Precision: \",cross_val_score(svclassifier,nr,y_test,scoring='precision',cv=5).mean())\n",
        "# print(\"Recall: \",cross_val_score(svclassifier,nr,y_test,scoring='recall',cv=5).mean())\n",
        "# print(\"F1 score :\",cross_val_score(svclassifier,nr,y_test,scoring='f1',cv=5).mean())"
      ],
      "metadata": {
        "colab": {
          "base_uri": "https://localhost:8080/"
        },
        "id": "qg1fD1i3dnFG",
        "outputId": "2b37b1e7-102a-4ba3-8b0d-daef1c51d3d8"
      },
      "execution_count": null,
      "outputs": [
        {
          "output_type": "stream",
          "name": "stdout",
          "text": [
            "Accuracy:  0.9301724137931033\n",
            "Precision:  0.9510731306909651\n",
            "Recall:  0.945043279438184\n",
            "F1 score : 0.9480290403702132\n"
          ]
        }
      ]
    },
    {
      "cell_type": "code",
      "source": [
        "#Classification Report\n",
        "from sklearn.metrics import classification_report\n",
        "print(classification_report(actual,predicted))"
      ],
      "metadata": {
        "colab": {
          "base_uri": "https://localhost:8080/"
        },
        "id": "gRxKgyIIdzVK",
        "outputId": "82fbbbf3-15d3-4b83-c463-8a5fcc3d28c9"
      },
      "execution_count": 79,
      "outputs": [
        {
          "output_type": "stream",
          "name": "stdout",
          "text": [
            "              precision    recall  f1-score   support\n",
            "\n",
            "           0       0.92      0.91      0.91       378\n",
            "           1       0.96      0.96      0.96       782\n",
            "\n",
            "    accuracy                           0.94      1160\n",
            "   macro avg       0.94      0.94      0.94      1160\n",
            "weighted avg       0.94      0.94      0.94      1160\n",
            "\n"
          ]
        }
      ]
    },
    {
      "cell_type": "code",
      "source": [
        "print(df_review[df_review['Sentiment']==0].NewReview.shape)"
      ],
      "metadata": {
        "colab": {
          "base_uri": "https://localhost:8080/"
        },
        "id": "doB0dGBBfs3q",
        "outputId": "7bb239aa-731b-4b53-b61d-c338f5f1453b"
      },
      "execution_count": 80,
      "outputs": [
        {
          "output_type": "stream",
          "name": "stdout",
          "text": [
            "(928,)\n"
          ]
        }
      ]
    },
    {
      "cell_type": "markdown",
      "source": [
        "# Latent Dirichlet Allocation"
      ],
      "metadata": {
        "id": "OYVPuYyeezl8"
      }
    },
    {
      "cell_type": "markdown",
      "source": [
        "LDA WITH 5 TOPICS"
      ],
      "metadata": {
        "id": "T7i1GG9vid7D"
      }
    },
    {
      "cell_type": "code",
      "source": [
        "# from sklearn.decomposition import LatentDirichletAllocation \n",
        "# num_components=4\n",
        "\n",
        "# lda=LatentDirichletAllocation(n_components=num_components)\n",
        "\n",
        "# nr_vectorized_neg_reviews=train_vectorizer.transform(df_review[df_review['Sentiment']==0].NewReview)\n",
        "\n",
        "# lda_matrix=lda.fit_transform(nr_vectorized_neg_reviews)\n",
        "\n",
        "# lda_model_components=lda.components_\n",
        "\n"
      ],
      "metadata": {
        "id": "mR-ZrE-Qe2pr"
      },
      "execution_count": null,
      "outputs": []
    },
    {
      "cell_type": "code",
      "source": [
        "# #printing the topics with their terms\n",
        "# terms=train_vectorizer.get_feature_names()\n",
        "\n",
        "# for index, component in enumerate(lda_model_components):\n",
        "#   zipped=zip(terms,component)\n",
        "#   top_terms_key=sorted(zipped, key=lambda t:t[1], reverse=True)[:10]\n",
        "#   top_terms_list=list(dict(top_terms_key).keys())\n",
        "#   print(\"Topic \"+str(index)+\": \",top_terms_list)"
      ],
      "metadata": {
        "id": "V3H8vWNzhlk0"
      },
      "execution_count": null,
      "outputs": []
    },
    {
      "cell_type": "markdown",
      "source": [
        "JUST A TRIAL!"
      ],
      "metadata": {
        "id": "bBmGCfQEwe5M"
      }
    },
    {
      "cell_type": "code",
      "source": [
        "# uploaded=files.upload()\n",
        "# dominos_df=pd.read_excel(io.BytesIO(uploaded['All_Reviews_DP.xlsx']))"
      ],
      "metadata": {
        "id": "uNcNiGpidz7O"
      },
      "execution_count": null,
      "outputs": []
    },
    {
      "cell_type": "code",
      "source": [
        "# dominos_df.head()"
      ],
      "metadata": {
        "id": "cld70dHPupiu"
      },
      "execution_count": null,
      "outputs": []
    },
    {
      "cell_type": "code",
      "source": [
        "# xtest = dominos_df['Review'][0:200]\n",
        "# ytest = dominos_df['Sentiment'][0:200].astype('int')"
      ],
      "metadata": {
        "id": "y8Rvl02vuu6c"
      },
      "execution_count": null,
      "outputs": []
    },
    {
      "cell_type": "code",
      "source": [
        "# type(ytest)"
      ],
      "metadata": {
        "id": "QRfLthTfzde-"
      },
      "execution_count": null,
      "outputs": []
    },
    {
      "cell_type": "code",
      "source": [
        "# #Logistic Model\n",
        "# nr=train_vectorizer.transform(list(xtest))\n",
        "# log_predicted_values=log_model.predict(nr)\n",
        "# log_actual_values=ytest\n",
        "\n",
        "# #SVM Model\n",
        "# svm_predicted_values=svclassifier.predict(nr)\n",
        "# svm_actual_values=ytest"
      ],
      "metadata": {
        "id": "uNBDM5VCuf-M"
      },
      "execution_count": null,
      "outputs": []
    },
    {
      "cell_type": "code",
      "source": [
        "# #Logistic Model Performance\n",
        "# print(\"Logistic Model Accuracy: \",cross_val_score(log_model,nr,log_actual_values,scoring='accuracy',cv=5).mean())\n",
        "# print(\"Logistic Model Precision: \",cross_val_score(log_model,nr,log_actual_values,scoring='precision',cv=5).mean())\n",
        "# print(\"Logistic Model Recall: \",cross_val_score(log_model,nr,log_actual_values,scoring='recall',cv=5).mean())\n",
        "# print(\"Logistic Model F1 score :\",cross_val_score(log_model,nr,log_actual_values,scoring='f1',cv=5).mean())\n",
        "\n",
        "# #SVM Model Performance\n",
        "# print(\"SVM Model Accuracy: \",cross_val_score(svclassifier,nr,ytest,scoring='accuracy',cv=5).mean())\n",
        "# print(\"SVM Model Precision: \",cross_val_score(svclassifier,nr,ytest,scoring='precision',cv=5).mean())\n",
        "# print(\"SVM Model Recall: \",cross_val_score(svclassifier,nr,ytest,scoring='recall',cv=5).mean())\n",
        "# print(\"SVM Model F1 score :\",cross_val_score(svclassifier,nr,ytest,scoring='f1',cv=5).mean())"
      ],
      "metadata": {
        "id": "SpHSbpUPwnas"
      },
      "execution_count": null,
      "outputs": []
    },
    {
      "cell_type": "code",
      "source": [
        "# #predicted=pd.DataFrame(predicted)\n",
        "# print(predicted)"
      ],
      "metadata": {
        "id": "urOaITNEZP6h"
      },
      "execution_count": null,
      "outputs": []
    },
    {
      "cell_type": "code",
      "source": [
        "# pd.set_option(\"display.max_rows\",None)"
      ],
      "metadata": {
        "id": "UR6ksMeZZsdw"
      },
      "execution_count": null,
      "outputs": []
    },
    {
      "cell_type": "markdown",
      "source": [
        "CREATED A DATAFRAME OF 'ACTUAL' 'PREDICTED' 'REVIEWS'"
      ],
      "metadata": {
        "id": "OHDLQQ36PPg6"
      }
    },
    {
      "cell_type": "code",
      "source": [
        "fin_df=pd.DataFrame()\n",
        "fin_df['Actual']=actual\n",
        "fin_df['Predicted']=predicted\n",
        "fin_df['Reviews']=X_test\n",
        "print(fin_df)"
      ],
      "metadata": {
        "id": "SEV_Flz6XPgD"
      },
      "execution_count": null,
      "outputs": []
    },
    {
      "cell_type": "code",
      "source": [
        "print(fin_df.head())\n",
        "print(\"\\n\\n\\n\\n\")\n",
        "print(fin_df.tail())"
      ],
      "metadata": {
        "colab": {
          "base_uri": "https://localhost:8080/"
        },
        "id": "2H_Tw-0JPFQH",
        "outputId": "9944b6be-2dd3-4373-8e77-f5b8c980b304"
      },
      "execution_count": 83,
      "outputs": [
        {
          "output_type": "stream",
          "name": "stdout",
          "text": [
            "      Actual  Predicted  \\\n",
            "2051       1          1   \n",
            "732        1          1   \n",
            "2550       1          1   \n",
            "2446       1          1   \n",
            "1834       1          1   \n",
            "\n",
            "                                                                                                                                                                                                    Reviews  \n",
            "2051                                                                                 great place pizza hut food also amaze comfortable offer friendly staff restaurant good clean enjoy ur friends birthday  \n",
            "732   self service place visit place wife one yr old kid staff cooperative helpful suggestions helpful decide menu food outstanding drawback no park place bpcl petrol pump guy not allow park even minutes  \n",
            "2550                                                                                                                                 wow wow wow owesme service pizza yummy lovee good place hangout friend  \n",
            "2446                                                                                                                place service good ambience also nice good place chill friends hectic day staff welcome  \n",
            "1834                                             go friends lunch place good staff friendly service slow drink appetisers taste good pizzas flavourful tasty dessert warm delicious overall good experience  \n",
            "\n",
            "\n",
            "\n",
            "\n",
            "\n",
            "      Actual  Predicted  \\\n",
            "1474       1          1   \n",
            "2074       1          1   \n",
            "416        0          0   \n",
            "1604       1          1   \n",
            "2022       1          1   \n",
            "\n",
            "                                                                                                                                                                                                                                                                                                                                                                                                                                                                                                                                                                                                                      Reviews  \n",
            "1474                                                                                                                                                                                                                                                                                                                                                                                                                                                                                                                       superb place wonderful staff best place pizza love interior pizza good chicken supreme lovely dish  \n",
            "2074                                                                                                                                                                                                                                                                                                                                                                                                                                                                                  good ambience good service great pizzas meals good cheaper compare food chain toppings quantity pizzas garlic bread cheese soft crunchy  \n",
            "416   pathetic service pizzahut hopeless today order zomato pizzahut pizzas office bkc place order around not get delivery till pm happen order place bulk order pizzas garlic bread desert cold drink delivery person zomato immediately reach pizzahut bkc store zomato delivery person see complete order however pizza hut could not glitch call pizza hut helpline twice speak reps keep assure someone pizzahut bkc call back never pathetic experience guests wait lunch could not offer need refund completely never receive pizza wait mins ask cancel order pathetic service pathetic coordination zomato pizza hut  \n",
            "1604                                                                                                                                                                                                         one outlets spacious decent interior service staff friendly price serve pizzas bite overrate quality quantity pizza good tandoori paneer pizza come vegetables spice paneer pizza soft tangy base pizza soft pizza fill cheese make taste good chicken sausage come tangy chicken sausages top pizza fill cheese combination chicken cheese pizza amaze pizza must try overall quality quantity service ambience  \n",
            "2022                                                                                                                                                                                                                                                                                                                                                                                                                                                                                                                        food really amaze service quite quick chicken wing spicier order thankyou much pizza hut make day  \n"
          ]
        }
      ]
    },
    {
      "cell_type": "code",
      "source": [
        "# print(fin_df)"
      ],
      "metadata": {
        "id": "Xws3HzSvZ8u_"
      },
      "execution_count": null,
      "outputs": []
    },
    {
      "cell_type": "code",
      "source": [
        "# fin_df['Reviews']=xtest"
      ],
      "metadata": {
        "id": "mI1mvOL8cS0Z"
      },
      "execution_count": null,
      "outputs": []
    },
    {
      "cell_type": "code",
      "source": [
        "# print(fin_df.head(20))"
      ],
      "metadata": {
        "id": "nzNGW8ygciTm"
      },
      "execution_count": null,
      "outputs": []
    },
    {
      "cell_type": "code",
      "source": [
        "# fin_df.to_csv('result.csv')"
      ],
      "metadata": {
        "id": "LME92KQ4f0Kc"
      },
      "execution_count": null,
      "outputs": []
    }
  ]
}