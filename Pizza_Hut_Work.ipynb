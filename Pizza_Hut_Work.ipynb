{
  "nbformat": 4,
  "nbformat_minor": 0,
  "metadata": {
    "colab": {
      "name": "Pizza_Hut_Work.ipynb",
      "provenance": [],
      "collapsed_sections": [],
      "authorship_tag": "ABX9TyNNeOB7ZJV0NNtuXQIFPB9x",
      "include_colab_link": true
    },
    "kernelspec": {
      "name": "python3",
      "display_name": "Python 3"
    },
    "language_info": {
      "name": "python"
    },
    "accelerator": "GPU"
  },
  "cells": [
    {
      "cell_type": "markdown",
      "metadata": {
        "id": "view-in-github",
        "colab_type": "text"
      },
      "source": [
        "<a href=\"https://colab.research.google.com/github/OmkarKotwalProject/Pizza-Hut-Work/blob/main/Pizza_Hut_Work.ipynb\" target=\"_parent\"><img src=\"https://colab.research.google.com/assets/colab-badge.svg\" alt=\"Open In Colab\"/></a>"
      ]
    },
    {
      "cell_type": "code",
      "metadata": {
        "id": "o8EDIpa8WZEe"
      },
      "source": [
        "from warnings import filterwarnings\n",
        "import matplotlib.pyplot as plt\n",
        "import numpy as np\n",
        "from PIL import Image\n",
        "import pandas as pd\n",
        "import nltk\n",
        "import re\n",
        "from nltk.corpus import stopwords\n",
        "from nltk.sentiment import SentimentIntensityAnalyzer\n",
        "from sklearn.ensemble import RandomForestClassifier\n",
        "from sklearn.linear_model import LogisticRegression\n",
        "from sklearn.model_selection import cross_val_score, GridSearchCV, cross_validate\n",
        "import sklearn.metrics as sm\n",
        "from sklearn.preprocessing import LabelEncoder\n",
        "from textblob import Word, TextBlob\n",
        "from wordcloud import WordCloud"
      ],
      "execution_count": 84,
      "outputs": []
    },
    {
      "cell_type": "code",
      "source": [
        "!pip install pyspellchecker\n",
        "!pip install Counter\n",
        "\n",
        "nltk.download(\"stopwords\")\n",
        "nltk.download(\"punkt\")\n",
        "nltk.download(\"wordnet\")"
      ],
      "metadata": {
        "id": "lTdMDtwWAzob",
        "colab": {
          "base_uri": "https://localhost:8080/"
        },
        "outputId": "b7d86e5f-ed36-4cd3-b463-a781ba57cd98"
      },
      "execution_count": 85,
      "outputs": [
        {
          "output_type": "stream",
          "name": "stdout",
          "text": [
            "Requirement already satisfied: pyspellchecker in /usr/local/lib/python3.7/dist-packages (0.6.3)\n",
            "Requirement already satisfied: Counter in /usr/local/lib/python3.7/dist-packages (1.0.0)\n",
            "[nltk_data] Downloading package stopwords to /root/nltk_data...\n",
            "[nltk_data]   Package stopwords is already up-to-date!\n",
            "[nltk_data] Downloading package punkt to /root/nltk_data...\n",
            "[nltk_data]   Package punkt is already up-to-date!\n",
            "[nltk_data] Downloading package wordnet to /root/nltk_data...\n",
            "[nltk_data]   Package wordnet is already up-to-date!\n"
          ]
        },
        {
          "output_type": "execute_result",
          "data": {
            "text/plain": [
              "True"
            ]
          },
          "metadata": {},
          "execution_count": 85
        }
      ]
    },
    {
      "cell_type": "code",
      "source": [
        "pd.set_option(\"display.max_rows\",500)\n",
        "pd.set_option(\"display.max_columns\",None)\n",
        "pd.set_option(\"display.max_colwidth\",None)"
      ],
      "metadata": {
        "id": "N27Zt-9NCT0K"
      },
      "execution_count": 146,
      "outputs": []
    },
    {
      "cell_type": "code",
      "source": [
        "import matplotlib.pyplot as plt\n",
        "import pandas as pd\n",
        "from google.colab import files\n",
        "import io\n",
        "\n",
        "\n",
        "uploaded = files.upload()\n",
        "df= pd.read_excel(io.BytesIO(uploaded['All_Reviews_PH.xlsx']))"
      ],
      "metadata": {
        "colab": {
          "resources": {
            "http://localhost:8080/nbextensions/google.colab/files.js": {
              "data": "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",
              "ok": true,
              "headers": [
                [
                  "content-type",
                  "application/javascript"
                ]
              ],
              "status": 200,
              "status_text": "OK"
            }
          },
          "base_uri": "https://localhost:8080/",
          "height": 75
        },
        "id": "qfW5Tii51BVP",
        "outputId": "84919562-310b-49c0-882e-8d0d91d642a1"
      },
      "execution_count": 91,
      "outputs": [
        {
          "output_type": "display_data",
          "data": {
            "text/html": [
              "\n",
              "     <input type=\"file\" id=\"files-084cbc69-c758-4ab8-9f5f-27b2afbadc55\" name=\"files[]\" multiple disabled\n",
              "        style=\"border:none\" />\n",
              "     <output id=\"result-084cbc69-c758-4ab8-9f5f-27b2afbadc55\">\n",
              "      Upload widget is only available when the cell has been executed in the\n",
              "      current browser session. Please rerun this cell to enable.\n",
              "      </output>\n",
              "      <script src=\"/nbextensions/google.colab/files.js\"></script> "
            ],
            "text/plain": [
              "<IPython.core.display.HTML object>"
            ]
          },
          "metadata": {}
        },
        {
          "output_type": "stream",
          "name": "stdout",
          "text": [
            "Saving All_Reviews_PH.xlsx to All_Reviews_PH.xlsx\n"
          ]
        }
      ]
    },
    {
      "cell_type": "code",
      "source": [
        "#Keeping the original as it is.\n",
        "df_review=df  "
      ],
      "metadata": {
        "id": "AvXAsaq4_Pnc"
      },
      "execution_count": 92,
      "outputs": []
    },
    {
      "cell_type": "markdown",
      "source": [
        "THIS IS A BACKUP LOAD OF ORIGINAL DATAFRAME, ONLY USE IF MESSED UP"
      ],
      "metadata": {
        "id": "WwKOV_Zc2xTS"
      }
    },
    {
      "cell_type": "code",
      "source": [
        "# #FOR EMPTYING THE DATAFRAME\n",
        "#df_review.drop(columns=['Review','Sentiment'],inplace=True)"
      ],
      "metadata": {
        "id": "25Abi-cbyBrh"
      },
      "execution_count": 88,
      "outputs": []
    },
    {
      "cell_type": "code",
      "source": [
        "# #FOR RELOADING WITH ORIGINAL RAW DATA\n",
        "# df= pd.read_excel(io.BytesIO(uploaded['All_Reviews_PH.xlsx']))\n",
        "# df_review=df"
      ],
      "metadata": {
        "id": "e9ujebpX1DoN",
        "colab": {
          "base_uri": "https://localhost:8080/",
          "height": 211
        },
        "outputId": "fddfe7e3-c430-4403-fb04-309f95a92adc"
      },
      "execution_count": 90,
      "outputs": [
        {
          "output_type": "error",
          "ename": "KeyError",
          "evalue": "ignored",
          "traceback": [
            "\u001b[0;31m---------------------------------------------------------------------------\u001b[0m",
            "\u001b[0;31mKeyError\u001b[0m                                  Traceback (most recent call last)",
            "\u001b[0;32m<ipython-input-90-2ed87a7e1bb3>\u001b[0m in \u001b[0;36m<module>\u001b[0;34m()\u001b[0m\n\u001b[1;32m      1\u001b[0m \u001b[0;31m# #FOR RELOADING WITH ORIGINAL RAW DATA\u001b[0m\u001b[0;34m\u001b[0m\u001b[0;34m\u001b[0m\u001b[0;34m\u001b[0m\u001b[0m\n\u001b[0;32m----> 2\u001b[0;31m \u001b[0mdf\u001b[0m\u001b[0;34m=\u001b[0m \u001b[0mpd\u001b[0m\u001b[0;34m.\u001b[0m\u001b[0mread_excel\u001b[0m\u001b[0;34m(\u001b[0m\u001b[0mio\u001b[0m\u001b[0;34m.\u001b[0m\u001b[0mBytesIO\u001b[0m\u001b[0;34m(\u001b[0m\u001b[0muploaded\u001b[0m\u001b[0;34m[\u001b[0m\u001b[0;34m'All_Reviews_PH.xlsx'\u001b[0m\u001b[0;34m]\u001b[0m\u001b[0;34m)\u001b[0m\u001b[0;34m)\u001b[0m\u001b[0;34m\u001b[0m\u001b[0;34m\u001b[0m\u001b[0m\n\u001b[0m\u001b[1;32m      3\u001b[0m \u001b[0mdf_review\u001b[0m\u001b[0;34m=\u001b[0m\u001b[0mdf\u001b[0m\u001b[0;34m\u001b[0m\u001b[0;34m\u001b[0m\u001b[0m\n",
            "\u001b[0;31mKeyError\u001b[0m: 'All_Reviews_PH.xlsx'"
          ]
        }
      ]
    },
    {
      "cell_type": "markdown",
      "source": [
        "BACKUP CODE END"
      ],
      "metadata": {
        "id": "Vvg34MX124sA"
      }
    },
    {
      "cell_type": "code",
      "source": [
        "print(df_review.head())\n",
        "print(df_review.shape)"
      ],
      "metadata": {
        "colab": {
          "base_uri": "https://localhost:8080/"
        },
        "id": "51OZDq3U1H1J",
        "outputId": "4fe66861-87fb-49a4-c348-3da80e15af2d"
      },
      "execution_count": 93,
      "outputs": [
        {
          "output_type": "stream",
          "name": "stdout",
          "text": [
            "                                                                                                                                                                                      Review  \\\n",
            "0                                                                                                                                                                            tasteless pizza   \n",
            "1                                                                                                                                                                           price is so high   \n",
            "2  very very disappointed ? ? ? ? \\nwhile ordering you didn't mentioned it is small.. you guys are f**king fooling us .... 400rs spent for 200rs pizza.... isse acha grand deke kamaho bc Mc   \n",
            "3                                                                                                                                                               taste was not up to the mark   \n",
            "4                      Open pizza box and open Jalapeño Poppers. Sealing Tape not properly put. No point in blaming poor delivery person. Highly disappointing, not expected from Pizza Hut.   \n",
            "\n",
            "   Sentiment  \n",
            "0          0  \n",
            "1          0  \n",
            "2          0  \n",
            "3          0  \n",
            "4          0  \n",
            "(2900, 2)\n"
          ]
        }
      ]
    },
    {
      "cell_type": "markdown",
      "source": [
        "^[\\w\\s]=remove all except alphanumeric and whitespaces tabs and spaces [\\d] remove digits"
      ],
      "metadata": {
        "id": "2gvyHia0L80x"
      }
    },
    {
      "cell_type": "code",
      "source": [
        "#REMOVING NUMBERS \n",
        "df_review['Review']=df_review['Review'].replace('\\d+','',regex=True)"
      ],
      "metadata": {
        "id": "WvJiFBhB-UV-"
      },
      "execution_count": 94,
      "outputs": []
    },
    {
      "cell_type": "markdown",
      "source": [
        "WHAT AM I TRYING TO DO HERE:-  Removing more than 2 consecutive occurrences of a character, if its a special char, replace with space\n",
        "\n",
        "so @@@@@@ => @@ and then '__'. This will happen with words too, hellllloo => helloo\n"
      ],
      "metadata": {
        "id": "PDx48rb_uPQu"
      }
    },
    {
      "cell_type": "code",
      "source": [
        "#WHAT AM I TRYING TO DO HERE:-  Removing more than 2 consecutive occurrences of a character, if its a special char, replace with space\n",
        "# so @@@@@@ => @@ and then '__'. This will happen with words too, hellllloo => helloo\n",
        "#1. REPLACE SPECIAL CHARACTERS BY ' ' AND then using regex, remove consecutive duplicates of ' ' i.e '         '  (big spaces between words)\n",
        "df_review['Review']=df_review['Review'].replace('\\n', ' ',regex=True)\n",
        "df_review['Review']=df_review['Review'].replace(('[^!|^.|^,|^;|^-|^@|^\\w\\s]'),\"\", regex = True)\n",
        "for i in range(len(df_review)):\n",
        "  sentence=df_review['Review'][i]\n",
        "  sentence=sentence.replace('.', ' ')\n",
        "  sentence=sentence.replace(',', ' ')\n",
        "  sentence=sentence.replace('!', ' ')\n",
        "  sentence=sentence.replace('.', ' ')\n",
        "  sentence=sentence.replace(';', ' ')\n",
        "  sentence=sentence.replace('-', ' ')\n",
        "  sentence=sentence.replace('@', ' ')\n",
        "  sentence=sentence.replace(')', ' ')\n",
        "  sentence=sentence.replace('(', ' ')\n",
        "  sentence=sentence.replace('{', ' ')\n",
        "  sentence=sentence.replace('}', ' ')\n",
        "\n",
        "  sentence=re.sub(r'(.)\\1+', r'\\1\\1',sentence)   # yummmyyy => yummyy,  '     '=>'  '  #This line will remove char which occures more than 2 times consecutively.\n",
        "  df_review['Review'][i]=sentence\n",
        "\n",
        "#df_review['Review']=df_review['Review'].replace('[^\\w\\s]', '',regex=True)\n",
        "print(df_review.head(10))"
      ],
      "metadata": {
        "id": "3Hx_DiOY1mhE",
        "colab": {
          "base_uri": "https://localhost:8080/"
        },
        "outputId": "221d5043-4123-4e32-fd28-dca88cd30b4d"
      },
      "execution_count": 95,
      "outputs": [
        {
          "output_type": "stream",
          "name": "stderr",
          "text": [
            "/usr/local/lib/python3.7/dist-packages/ipykernel_launcher.py:21: SettingWithCopyWarning: \n",
            "A value is trying to be set on a copy of a slice from a DataFrame\n",
            "\n",
            "See the caveats in the documentation: https://pandas.pydata.org/pandas-docs/stable/user_guide/indexing.html#returning-a-view-versus-a-copy\n"
          ]
        },
        {
          "output_type": "stream",
          "name": "stdout",
          "text": [
            "                                                                                                                                                                  Review  \\\n",
            "0                                                                                                                                                        tasteless pizza   \n",
            "1                                                                                                                                                       price is so high   \n",
            "2        very very disappointed  while ordering you didnt mentioned it is small  you guys are fking fooling us  rs spent for rs pizza  isse acha grand deke kamaho bc Mc   \n",
            "3                                                                                                                                           taste was not up to the mark   \n",
            "4  Open pizza box and open Jalapeño Poppers  Sealing Tape not properly put  No point in blaming poor delivery person  Highly disappointing  not expected from Pizza Hut    \n",
            "5                                                                                                                                  please make stuffed garlic bread also   \n",
            "6                                                                                                            totallybwaste of money not at all good never again ordering   \n",
            "7                                                                                                                                                               horrible   \n",
            "8                                                                                                                                          yummy pizza  delivery on time   \n",
            "9                                                                                                                             they didnt have chilli flakes and oreganos   \n",
            "\n",
            "   Sentiment  \n",
            "0          0  \n",
            "1          0  \n",
            "2          0  \n",
            "3          0  \n",
            "4          0  \n",
            "5          1  \n",
            "6          0  \n",
            "7          0  \n",
            "8          1  \n",
            "9          0  \n"
          ]
        }
      ]
    },
    {
      "cell_type": "code",
      "source": [
        "print(df_review.head())\n",
        "print(df_review.tail())"
      ],
      "metadata": {
        "colab": {
          "base_uri": "https://localhost:8080/"
        },
        "id": "JBCf65YK0fS-",
        "outputId": "b32e00c7-4347-455d-90ef-9a9be0230dcf"
      },
      "execution_count": 96,
      "outputs": [
        {
          "output_type": "stream",
          "name": "stdout",
          "text": [
            "                                                                                                                                                                  Review  \\\n",
            "0                                                                                                                                                        tasteless pizza   \n",
            "1                                                                                                                                                       price is so high   \n",
            "2        very very disappointed  while ordering you didnt mentioned it is small  you guys are fking fooling us  rs spent for rs pizza  isse acha grand deke kamaho bc Mc   \n",
            "3                                                                                                                                           taste was not up to the mark   \n",
            "4  Open pizza box and open Jalapeño Poppers  Sealing Tape not properly put  No point in blaming poor delivery person  Highly disappointing  not expected from Pizza Hut    \n",
            "\n",
            "   Sentiment  \n",
            "0          0  \n",
            "1          0  \n",
            "2          0  \n",
            "3          0  \n",
            "4          0  \n",
            "                                          Review  Sentiment\n",
            "2895                                      awsome          1\n",
            "2896                             good  very nice          1\n",
            "2897                                       yummy          1\n",
            "2898  Pizzas are superb  Very nice service  Good          1\n",
            "2899        Nice environment n quick service B            1\n"
          ]
        }
      ]
    },
    {
      "cell_type": "markdown",
      "source": [
        "REMOVING CHARACTERS WHICH ONLY OCCUR ONCE! ALSO REPLACING TWO CONSECUTIVE SPACES BY ONE"
      ],
      "metadata": {
        "id": "DVlklWOS_5UI"
      }
    },
    {
      "cell_type": "code",
      "source": [
        "cnter=0\n",
        "while(cnter<2):\n",
        "  for i in range(len(df_review)):\n",
        "    new_sentence=\" \"\n",
        "    sentence=df_review['Review'][i]    #get the row i.e. sentence\n",
        "    #print(\"before removing:\",df_review['Review'][i])\n",
        "    words=sentence.split()  #makes a list of the words in the sentence\n",
        "    for word in words:      #check every words length and if it is less than 2, remove it\n",
        "      if len(word)<2:\n",
        "        #print(word)\n",
        "        words.remove(word)\n",
        "    new_sentence=new_sentence.join(words) #Create a new sentence by joining all the words in the list with \" \" as a separator\n",
        "    df_review['Review'][i]=new_sentence   #replace current row i.e. sentence by the new sentence\n",
        "    #print(\"after removing:\",df_review['Review'][i])\n",
        "  cnter=cnter+1\n",
        "      "
      ],
      "metadata": {
        "colab": {
          "base_uri": "https://localhost:8080/"
        },
        "id": "KZrNOk_V_4-k",
        "outputId": "a60abba5-8945-4239-9f05-53b83ddcf335"
      },
      "execution_count": 97,
      "outputs": [
        {
          "output_type": "stream",
          "name": "stderr",
          "text": [
            "/usr/local/lib/python3.7/dist-packages/ipykernel_launcher.py:13: SettingWithCopyWarning: \n",
            "A value is trying to be set on a copy of a slice from a DataFrame\n",
            "\n",
            "See the caveats in the documentation: https://pandas.pydata.org/pandas-docs/stable/user_guide/indexing.html#returning-a-view-versus-a-copy\n",
            "  del sys.path[0]\n"
          ]
        }
      ]
    },
    {
      "cell_type": "markdown",
      "source": [
        "Print the rows with Missing NAN values"
      ],
      "metadata": {
        "id": "J9G_sNHVL0M5"
      }
    },
    {
      "cell_type": "code",
      "source": [
        "print(df_review[df_review.isna().any(axis=1)])"
      ],
      "metadata": {
        "colab": {
          "base_uri": "https://localhost:8080/"
        },
        "id": "1p20GK4HIyMR",
        "outputId": "d30f9113-a628-4c67-ddc5-a47ff3411d6f"
      },
      "execution_count": 98,
      "outputs": [
        {
          "output_type": "stream",
          "name": "stdout",
          "text": [
            "Empty DataFrame\n",
            "Columns: [Review, Sentiment]\n",
            "Index: []\n"
          ]
        }
      ]
    },
    {
      "cell_type": "code",
      "source": [
        "print(df_review.head())"
      ],
      "metadata": {
        "colab": {
          "base_uri": "https://localhost:8080/"
        },
        "id": "Vtl3op-pMFVa",
        "outputId": "6dd4752d-bc58-4042-b4b3-f3453d78f1e9"
      },
      "execution_count": 99,
      "outputs": [
        {
          "output_type": "stream",
          "name": "stdout",
          "text": [
            "                                                                                                                                                             Review  \\\n",
            "0                                                                                                                                                   tasteless pizza   \n",
            "1                                                                                                                                                  price is so high   \n",
            "2       very very disappointed while ordering you didnt mentioned it is small you guys are fking fooling us rs spent for rs pizza isse acha grand deke kamaho bc Mc   \n",
            "3                                                                                                                                      taste was not up to the mark   \n",
            "4  Open pizza box and open Jalapeño Poppers Sealing Tape not properly put No point in blaming poor delivery person Highly disappointing not expected from Pizza Hut   \n",
            "\n",
            "   Sentiment  \n",
            "0          0  \n",
            "1          0  \n",
            "2          0  \n",
            "3          0  \n",
            "4          0  \n"
          ]
        }
      ]
    },
    {
      "cell_type": "markdown",
      "source": [
        "HOW MANY POSITIVE REVIEWS, HOW MANY NEGATIVE REVIEWS"
      ],
      "metadata": {
        "id": "zf2mlLLNMgWC"
      }
    },
    {
      "cell_type": "code",
      "source": [
        "print(df_review[df_review['Sentiment']==1].count())\n",
        "print(df_review[df_review['Sentiment']==0].count())\n"
      ],
      "metadata": {
        "colab": {
          "base_uri": "https://localhost:8080/"
        },
        "id": "3-2NSFjQMQVy",
        "outputId": "14fffc44-69fa-4379-f58d-567a6986db4d"
      },
      "execution_count": 100,
      "outputs": [
        {
          "output_type": "stream",
          "name": "stdout",
          "text": [
            "Review       1972\n",
            "Sentiment    1972\n",
            "dtype: int64\n",
            "Review       928\n",
            "Sentiment    928\n",
            "dtype: int64\n"
          ]
        }
      ]
    },
    {
      "cell_type": "markdown",
      "source": [
        "Converting datatype of a column, here tried to convert float type of Sentiment to int"
      ],
      "metadata": {
        "id": "m2SpQ-LmMo7S"
      }
    },
    {
      "cell_type": "code",
      "source": [
        "#print(df_review['Sentiment'].astype(int))"
      ],
      "metadata": {
        "id": "O05j3GXmH_eg"
      },
      "execution_count": 101,
      "outputs": []
    },
    {
      "cell_type": "markdown",
      "source": [
        "TRIAL CODE START! \n",
        "FINDING MISSPELLED WORDS AND CORRECTING THEM AS TEXTBLOB IS FOUND USELESS!\n",
        "\n",
        "Algorithm used for correcting words:\n",
        "1. Create a list of misspelled words found in the dataset.\n",
        "2. Create a list of correctly spelled words found in the dataset.\n",
        "3. Use similar() function of 'SequenceMatcher' for finding similarity between words from both lists. If it is greater than 0.8, create a dictionary (dict['misspelled word'=correctly spelled word.\n",
        "4. Now traverse the dataset, while checking a row, extract its misspelled words, check if misspelled word is in the dictionary, if it is then replace it with correctly spelled word."
      ],
      "metadata": {
        "id": "DyqVF74PL0On"
      }
    },
    {
      "cell_type": "code",
      "source": [
        "#This creates a list of sets of misspelled words found in each row.\n",
        "from spellchecker import SpellChecker\n",
        "spell=SpellChecker()\n",
        "mis_list=[]\n",
        "for i in range(len(df_review)):\n",
        "  sentence=df_review['Review'][i].split()\n",
        "  mis_sent=spell.unknown(sentence)\n",
        "  mis_list.append(mis_sent)\n",
        "  if set() in mis_list:\n",
        "    mis_list.remove(set())\n",
        "print(\"first 50 row's Misspelled words but they are in [{misspelled words list from row 1},{misspelled words list from row 2}]: \",mis_list[0:50])"
      ],
      "metadata": {
        "colab": {
          "base_uri": "https://localhost:8080/"
        },
        "id": "FPUJKvkrL7Ca",
        "outputId": "225720a4-aa7f-4761-d172-7ba659c9a2bb"
      },
      "execution_count": 102,
      "outputs": [
        {
          "output_type": "stream",
          "name": "stdout",
          "text": [
            "first 50 row's Misspelled words but they are in [{misspelled words list from row 1},{misspelled words list from row 2}]:  [{'mc', 'fking', 'kamaho', 'isse', 'bc', 'rs'}, {'jalapeño'}, {'totallybwaste'}, {'oreganos'}, {'rs'}, {'compair', 'rs', 'pizaa'}, {'orgeno'}, {'uae', 'kababs'}, {'orderit'}, {'rd'}, {'zomato'}, {'chease', 'thanda'}, {'coustomer'}, {'zomato'}, {'ppl'}, {'xtra'}, {'origano'}, {'jst'}, {'zomato'}, {'whatsoeververy'}, {'coveredsecured'}, {'aftr', 'zomato'}, {'pls', 'rply'}, {'didntike'}, {'cheeze'}, {'wt'}, {'zomato'}, {'breadstix'}, {'recieve'}, {'rs'}, {'deshelved'}, {'pls'}, {'thanda'}, {'rs', 'bkc'}, {'contactless'}, {'whrn'}, {'rs'}, {'pls'}, {'detoraited'}, {'itoms'}, {'transperant', 'whyy'}, {'kabab'}, {'hogaya', 'lagta', 'aisa', 'seekh', 'kharab', 'kabab', 'khatta'}, {'pcs'}, {'pm', 'pls'}, {'servise'}, {'mazing'}, {'owsume', 'zomato'}, {'andngarlik', 'cheezy'}, {'incomplets'}]\n"
          ]
        }
      ]
    },
    {
      "cell_type": "code",
      "source": [
        "#Creating a list of misspelled words. (Basically extracting each set element from the mis_list and putting it into mis_mis_list)\n",
        "\n",
        "from collections import Counter\n",
        "mis_mis_list=[]\n",
        "for i in mis_list:\n",
        "  for j in i:\n",
        "    mis_mis_list.append(j.lower())   #just making the words lower before appending to mis_mis_list\n",
        "\n",
        "\n",
        "#cnt=0\n",
        "for i in mis_mis_list:        #removing 'rs', 'mr', 'ms' from the list as they aren't misspelled words in a way.\n",
        "  if i=='rs':\n",
        "    #cnt=cnt+1\n",
        "    mis_mis_list.remove(i)\n",
        "  if i=='mr':\n",
        "    mis_mis_list.remove(i)\n",
        "  if i=='ms':\n",
        "    mis_mis_list.remove(i)    \n",
        "print(\"first 50 Misspelled words:\",mis_mis_list[0:50]) #LIST OF MISSPELLED WORDS   \n",
        "\n",
        "#Creating this names_list, as names are needed to be removed from the misspelled words list. (It will be removed in the next cell)\n",
        "names_list=['bkc','cst','zomato','pizzahut','bandra','kurla','kishor','kishore','nonveg','pm','shubhangi','afternoon','vegorama','birizza','covid','jain','dinin','chana','shravani','touheed']\n",
        "print(\"Total misspelled words: \",len(mis_mis_list)) #Note: this list is not a 'unique mispelled words' list, it has repeated occurences of them.\n",
        "\n",
        "\n",
        "#Finding common words and their occurrences in the mis_mis_list #Just a trial code for common words finder.\n",
        "cnt=Counter(mis_mis_list)\n",
        "cmmn=cnt.most_common(100)   \n",
        "print(cmmn)"
      ],
      "metadata": {
        "colab": {
          "base_uri": "https://localhost:8080/"
        },
        "id": "3o6SCv6CV9kE",
        "outputId": "78fcd2f7-a503-4db2-d2ba-51d15253b409"
      },
      "execution_count": 103,
      "outputs": [
        {
          "output_type": "stream",
          "name": "stdout",
          "text": [
            "first 50 Misspelled words: ['mc', 'fking', 'kamaho', 'isse', 'bc', 'jalapeño', 'totallybwaste', 'oreganos', 'compair', 'pizaa', 'orgeno', 'uae', 'kababs', 'orderit', 'rd', 'zomato', 'chease', 'thanda', 'coustomer', 'zomato', 'ppl', 'xtra', 'origano', 'jst', 'zomato', 'whatsoeververy', 'coveredsecured', 'aftr', 'zomato', 'pls', 'rply', 'didntike', 'cheeze', 'wt', 'zomato', 'breadstix', 'recieve', 'deshelved', 'pls', 'thanda', 'bkc', 'contactless', 'whrn', 'pls', 'detoraited', 'itoms', 'transperant', 'whyy', 'kabab', 'hogaya']\n",
            "Total misspelled words:  2217\n",
            "[('bkc', 149), ('cst', 101), ('zomato', 46), ('bandra', 41), ('kishore', 35), ('kurla', 34), ('pizzahut', 31), ('thanku', 30), ('exotica', 28), ('kishor', 24), ('nonveg', 20), ('shubhangi', 19), ('pm', 17), ('nd', 17), ('yumm', 16), ('pls', 14), ('pizzaa', 13), ('plz', 12), ('frnds', 12), ('bt', 11), ('ppl', 10), ('cheezy', 10), ('panner', 10), ('st', 10), ('vegorama', 9), ('ph', 9), ('grt', 9), ('th', 9), ('bcoz', 9), ('afternoon', 8), ('hygenic', 7), ('varities', 7), ('hr', 7), ('pizaa', 6), ('rd', 6), ('origano', 6), ('jst', 6), ('cheeze', 6), ('kabab', 6), ('nyc', 6), ('awsm', 6), ('birizza', 6), ('gr', 6), ('covid', 5), ('vist', 5), ('vfm', 5), ('yummyy', 5), ('kheema', 5), ('helpfull', 5), ('tripple', 5), ('hv', 5), ('kurkure', 5), ('yammii', 5), ('cheesey', 5), ('ausome', 5), ('breadstix', 4), ('ws', 4), ('recieved', 4), ('jain', 4), ('dinein', 4), ('reallyy', 4), ('chana', 4), ('vry', 4), ('frnd', 4), ('teast', 4), ('teasty', 4), ('hrs', 4), ('chessy', 4), ('puzza', 4), ('thr', 4), ('awasom', 4), ('mocktails', 4), ('sobo', 4), ('touheed', 4), ('appetiser', 4), ('shravani', 4), ('ps', 4), ('vs', 4), ('jalapeño', 3), ('pcs', 3), ('bday', 3), ('staf', 3), ('mirinda', 3), ('rawalpindi', 3), ('jalapeños', 3), ('citi', 3), ('bpcl', 3), ('gb', 3), ('cheesee', 3), ('kms', 3), ('foody', 3), ('chese', 3), ('pizzass', 3), ('restaurent', 3), ('chesse', 3), ('tge', 3), ('tanduri', 3), ('thnks', 3), ('bbq', 3), ('seatings', 3)]\n"
          ]
        }
      ]
    },
    {
      "cell_type": "code",
      "source": [
        "#REMOVING NAMES FROM THE LIST of misspelled words\n",
        "for name in names_list:\n",
        "  for j in range(len(mis_mis_list)):\n",
        "    if name in mis_mis_list:\n",
        "      mis_mis_list.remove(name)\n",
        "print(\"Final Misspelled words list after removing names: (Showing only first 50) \",mis_mis_list[0:50]) #This is the list of misseplled words!\n",
        "\n",
        "\n",
        "\n",
        "#Trial code for common words finder, again.\n",
        "cnt=Counter(mis_mis_list)\n",
        "cmmn=cnt.most_common(100)   #Finding common words and their occurrences in the mis_mis_list     \n",
        "print(cmmn)    \n"
      ],
      "metadata": {
        "colab": {
          "base_uri": "https://localhost:8080/"
        },
        "id": "cfAz1WIx4uVD",
        "outputId": "7a50aa05-d987-4a00-c92f-73801db7e229"
      },
      "execution_count": 104,
      "outputs": [
        {
          "output_type": "stream",
          "name": "stdout",
          "text": [
            "Final Misspelled words list after removing names: (Showing only first 50)  ['mc', 'fking', 'kamaho', 'isse', 'bc', 'jalapeño', 'totallybwaste', 'oreganos', 'compair', 'pizaa', 'orgeno', 'uae', 'kababs', 'orderit', 'rd', 'chease', 'thanda', 'coustomer', 'ppl', 'xtra', 'origano', 'jst', 'whatsoeververy', 'coveredsecured', 'aftr', 'pls', 'rply', 'didntike', 'cheeze', 'wt', 'breadstix', 'recieve', 'deshelved', 'pls', 'thanda', 'contactless', 'whrn', 'pls', 'detoraited', 'itoms', 'transperant', 'whyy', 'kabab', 'hogaya', 'lagta', 'aisa', 'seekh', 'kharab', 'kabab', 'khatta']\n",
            "[('thanku', 30), ('exotica', 28), ('nd', 17), ('yumm', 16), ('pls', 14), ('pizzaa', 13), ('plz', 12), ('frnds', 12), ('bt', 11), ('ppl', 10), ('cheezy', 10), ('panner', 10), ('st', 10), ('ph', 9), ('grt', 9), ('th', 9), ('bcoz', 9), ('hygenic', 7), ('varities', 7), ('hr', 7), ('pizaa', 6), ('rd', 6), ('origano', 6), ('jst', 6), ('cheeze', 6), ('kabab', 6), ('nyc', 6), ('awsm', 6), ('gr', 6), ('vist', 5), ('vfm', 5), ('yummyy', 5), ('kheema', 5), ('helpfull', 5), ('tripple', 5), ('hv', 5), ('kurkure', 5), ('yammii', 5), ('cheesey', 5), ('ausome', 5), ('breadstix', 4), ('ws', 4), ('recieved', 4), ('dinein', 4), ('reallyy', 4), ('vry', 4), ('frnd', 4), ('teast', 4), ('teasty', 4), ('hrs', 4), ('chessy', 4), ('puzza', 4), ('thr', 4), ('awasom', 4), ('mocktails', 4), ('sobo', 4), ('appetiser', 4), ('ps', 4), ('vs', 4), ('jalapeño', 3), ('pcs', 3), ('bday', 3), ('staf', 3), ('mirinda', 3), ('rawalpindi', 3), ('jalapeños', 3), ('citi', 3), ('bpcl', 3), ('gb', 3), ('cheesee', 3), ('kms', 3), ('foody', 3), ('chese', 3), ('pizzass', 3), ('restaurent', 3), ('chesse', 3), ('tge', 3), ('tanduri', 3), ('thnks', 3), ('bbq', 3), ('seatings', 3), ('aa', 3), ('yammi', 3), ('shubangi', 3), ('fr', 3), ('yamii', 3), ('awasome', 3), ('njoy', 3), ('chiken', 3), ('garlice', 3), ('lyk', 3), ('pukish', 3), ('wud', 3), ('malai', 3), ('jalepeno', 3), ('lipsmacking', 3), ('sause', 3), ('gst', 3), ('owesome', 3), ('amazingg', 3)]\n"
          ]
        }
      ]
    },
    {
      "cell_type": "code",
      "source": [
        "#Finding a list of correctly spelled words!\n",
        "#first, just creating a list of words found in the dataset\n",
        "correct_word_list=[]\n",
        "for i in range(len(df_review)):\n",
        "  sentence=df_review['Review'][i]\n",
        "  words=sentence.split()\n",
        "  for word in words:\n",
        "    correct_word_list.append(word.lower())\n",
        "print(correct_word_list[0:50])\n",
        "\n",
        "\n",
        "  "
      ],
      "metadata": {
        "colab": {
          "base_uri": "https://localhost:8080/"
        },
        "id": "v2yV2JQKA-VL",
        "outputId": "7d0befca-9608-4aa8-e440-a519e941251d"
      },
      "execution_count": 106,
      "outputs": [
        {
          "output_type": "stream",
          "name": "stdout",
          "text": [
            "['tasteless', 'pizza', 'price', 'is', 'so', 'high', 'very', 'very', 'disappointed', 'while', 'ordering', 'you', 'didnt', 'mentioned', 'it', 'is', 'small', 'you', 'guys', 'are', 'fking', 'fooling', 'us', 'rs', 'spent', 'for', 'rs', 'pizza', 'isse', 'acha', 'grand', 'deke', 'kamaho', 'bc', 'mc', 'taste', 'was', 'not', 'up', 'to', 'the', 'mark', 'open', 'pizza', 'box', 'and', 'open', 'jalapeño', 'poppers', 'sealing']\n"
          ]
        }
      ]
    },
    {
      "cell_type": "code",
      "source": [
        "#JUST A NOTE, SPELLCHECKER DOES NOT CONSIDER 'didnt,wasnt,cant...' AS MISSPELLED WORDS"
      ],
      "metadata": {
        "id": "l0a1pUADIBIE"
      },
      "execution_count": null,
      "outputs": []
    },
    {
      "cell_type": "code",
      "source": [
        "#We have to make both lists mis_mis_list and correct_words_list contain unique words, not repeated words or 'remove' won't work!\n",
        "print(\"total of all words of misspelled word list:\",len(mis_mis_list))\n",
        "print(\"total of all words of correct word list+misspelled word list:\",len(correct_word_list))\n",
        "mis_mis_list=list(set(mis_mis_list))\n",
        "correct_word_list=list(set(correct_word_list))\n",
        "print(\"total of unique words of misspelled word list:\",len(mis_mis_list))\n",
        "print(\"total of unique words of correct word list+missplled word list:\",len(correct_word_list))\n",
        "print(\"total of unique words of names list:\",len(names_list))"
      ],
      "metadata": {
        "colab": {
          "base_uri": "https://localhost:8080/"
        },
        "id": "22mmk_pZS6SB",
        "outputId": "e30d2431-ab81-4ede-d3a2-5b46a64b76ea"
      },
      "execution_count": 107,
      "outputs": [
        {
          "output_type": "stream",
          "name": "stdout",
          "text": [
            "total of all words of misspelled word list: 1656\n",
            "total of all words of correct word list+misspelled word list: 104203\n",
            "total of unique words of misspelled word list: 1100\n",
            "total of unique words of correct word list+missplled word list: 5778\n",
            "total of unique words of names list: 20\n"
          ]
        }
      ]
    },
    {
      "cell_type": "code",
      "source": [
        "print(\"correct word list length before removing misspelled words and names:\",len(correct_word_list))\n",
        "names_list=['bkc','cst','zomato','pizzahut','bandra','kurla','kishor','kishore','nonveg','pm','shubhangi','afternoon','vegorama','birizza','covid','jain','dinin','chana','shravani','touheed']\n",
        "cnt=0\n",
        "#Removing misspelled words from correct_word_list, found in mis_mis_list\n",
        "for w in mis_mis_list:\n",
        "  if w in correct_word_list:\n",
        "    correct_word_list.remove(w)\n",
        "\n",
        "#Removing names from correct_word_list, found in names_list\n",
        "for n in names_list:\n",
        "  if n in correct_word_list:\n",
        "    correct_word_list.remove(n) \n",
        "print(\"correct word list length after removing misspelled words and names:\",len(correct_word_list))"
      ],
      "metadata": {
        "colab": {
          "base_uri": "https://localhost:8080/"
        },
        "id": "-YoxnE7WHIA-",
        "outputId": "3f5442db-ce46-4cbf-f2c7-e4f876ee803e"
      },
      "execution_count": 108,
      "outputs": [
        {
          "output_type": "stream",
          "name": "stdout",
          "text": [
            "correct word list length before removing misspelled words and names: 5778\n",
            "correct word list length after removing misspelled words and names: 4659\n"
          ]
        }
      ]
    },
    {
      "cell_type": "code",
      "source": [
        "#The only misspelled words in word_list\n",
        "\n",
        "mis_words=spell.unknown(correct_word_list)\n",
        "print(mis_words)"
      ],
      "metadata": {
        "colab": {
          "base_uri": "https://localhost:8080/"
        },
        "id": "TFurK7u3HKEZ",
        "outputId": "931bf50f-28a2-49ae-d15b-30bd13622c92"
      },
      "execution_count": 109,
      "outputs": [
        {
          "output_type": "stream",
          "name": "stdout",
          "text": [
            "{'ms', 'mr'}\n"
          ]
        }
      ]
    },
    {
      "cell_type": "code",
      "source": [
        "#Checking similarity between words from correct_word_list and mis_mis_list, if its more than 0.8, \n",
        "#do dictionary[misspelled word]=correct word\n",
        "#TAKES 1 MINUTE+\n",
        "from difflib import SequenceMatcher       #Library used for checking similarity\n",
        "\n",
        "def similar(a, b):\n",
        "    return SequenceMatcher(None, a, b).ratio()    #Function to check similarity!\n",
        "\n",
        "dictionary={}\n",
        "cnt=0\n",
        "for cor_word in correct_word_list:\n",
        "  for mis_word in mis_mis_list:\n",
        "    ratio=similar(cor_word,mis_word)\n",
        "    if(ratio>0.8):\n",
        "      cnt=cnt+1\n",
        "      dictionary[mis_word]=cor_word\n",
        "      #print(\"Correct word:\",cor_word,\"    misspelled word:\",mis_word,\"      Ratio:\",ratio)\n",
        "print(\"This many words can be corrected: \",cnt)"
      ],
      "metadata": {
        "colab": {
          "base_uri": "https://localhost:8080/"
        },
        "id": "q-etDj4xhmlM",
        "outputId": "c0a726fe-16f9-40dd-ff5c-a9c5b457f00c"
      },
      "execution_count": 110,
      "outputs": [
        {
          "output_type": "stream",
          "name": "stdout",
          "text": [
            "This many words can be corrected:  922\n"
          ]
        }
      ]
    },
    {
      "cell_type": "code",
      "source": [
        "#Saving the dictionary to a text file\n",
        "try:\n",
        "  dict_file=open(\"dict_file.txt\",\"w\")\n",
        "  dict_file.write(str(dictionary))\n",
        "  dict_file.close()\n",
        "except Exception as e:\n",
        "  print(\"{}\".format(e))"
      ],
      "metadata": {
        "id": "gU8Ki_eOr_RX"
      },
      "execution_count": 37,
      "outputs": []
    },
    {
      "cell_type": "code",
      "source": [
        "#This is how dictionary is \n",
        "dictionary['jst']"
      ],
      "metadata": {
        "colab": {
          "base_uri": "https://localhost:8080/",
          "height": 36
        },
        "id": "rM8czTDpzhhd",
        "outputId": "26289217-6e7d-4f8f-d008-a3396f24d999"
      },
      "execution_count": 111,
      "outputs": [
        {
          "output_type": "execute_result",
          "data": {
            "application/vnd.google.colaboratory.intrinsic+json": {
              "type": "string"
            },
            "text/plain": [
              "'just'"
            ]
          },
          "metadata": {},
          "execution_count": 111
        }
      ]
    },
    {
      "cell_type": "code",
      "source": [
        "#Replacing the misspelled words with correct words\n",
        "#Takes almost 10 seconds\n",
        "words_corrected_cnt=0\n",
        "for i in range(len(df_review)):\n",
        "  sentence=(df_review['Review'][i]).lower()\n",
        "  print(\"before:\",sentence)\n",
        "  misspelled_words=spell.unknown(sentence.split())\n",
        "  print(\"list:\",misspelled_words)\n",
        "  for misword in misspelled_words:\n",
        "    if misword in dictionary:\n",
        "      correct_word=dictionary[misword]\n",
        "      print(\"misspelled word: \",misword,\"     \",\"correct word:\",correct_word)\n",
        "      sentence=sentence.replace(misword,correct_word)\n",
        "      words_corrected_cnt=words_corrected_cnt+1\n",
        "  df_review['Review'][i]=sentence\n",
        "  print(\"After:\",sentence)"
      ],
      "metadata": {
        "id": "SO7s0bhrxKEU",
        "colab": {
          "base_uri": "https://localhost:8080/"
        },
        "outputId": "fceec4ff-7915-4331-c801-a49da6652a03"
      },
      "execution_count": 112,
      "outputs": [
        {
          "output_type": "stream",
          "name": "stdout",
          "text": [
            "before: tasteless pizza\n",
            "list: set()\n",
            "After: tasteless pizza\n",
            "before: price is so high\n",
            "list: set()\n",
            "After: price is so high\n",
            "before: very very disappointed while ordering you didnt mentioned it is small you guys are fking fooling us rs spent for rs pizza isse acha grand deke kamaho bc mc\n",
            "list: {'mc', 'fking', 'kamaho', 'isse', 'bc', 'rs'}\n",
            "misspelled word:  fking       correct word: king\n",
            "misspelled word:  isse       correct word: issue\n",
            "After: very very disappointed while ordering you didnt mentioned it is small you guys are king fooling us rs spent for rs pizza issue acha grand deke kamaho bc mc\n",
            "before: taste was not up to the mark\n",
            "list: set()\n",
            "After: taste was not up to the mark\n",
            "before: open pizza box and open jalapeño poppers sealing tape not properly put no point in blaming poor delivery person highly disappointing not expected from pizza hut\n",
            "list: {'jalapeño'}\n",
            "misspelled word:  jalapeño       correct word: jalapenos\n",
            "After: open pizza box and open jalapenos poppers sealing tape not properly put no point in blaming poor delivery person highly disappointing not expected from pizza hut\n",
            "before: please make stuffed garlic bread also\n",
            "list: set()\n",
            "After: please make stuffed garlic bread also\n",
            "before: totallybwaste of money not at all good never again ordering\n",
            "list: {'totallybwaste'}\n",
            "After: totallybwaste of money not at all good never again ordering\n",
            "before: horrible\n",
            "list: set()\n",
            "After: horrible\n",
            "before: yummy pizza delivery on time\n",
            "list: set()\n",
            "After: yummy pizza delivery on time\n",
            "before: they didnt have chilli flakes and oreganos\n",
            "list: {'oreganos'}\n",
            "misspelled word:  oreganos       correct word: oregano\n",
            "After: they didnt have chilli flakes and oregano\n",
            "before: worst pizza ever wasted my rs disgusting\n",
            "list: {'rs'}\n",
            "After: worst pizza ever wasted my rs disgusting\n",
            "before: order was delayed by mins and my order was pan pizza and normal pizza was delivered with no cutlery\n",
            "list: set()\n",
            "After: order was delayed by mins and my order was pan pizza and normal pizza was delivered with no cutlery\n",
            "before: gave specific delivery instructions by voice to hold the pizza box flat through the delivery yet by the time it was handed to me at the door the paneer cheese and capsicum were coming out of the side of the box if wasnt hungry id have sent it back right away\n",
            "list: set()\n",
            "After: gave specific delivery instructions by voice to hold the pizza box flat through the delivery yet by the time it was handed to me at the door the paneer cheese and capsicum were coming out of the side of the box if wasnt hungry id have sent it back right away\n",
            "before: bad experience from pizza hut\n",
            "list: set()\n",
            "After: bad experience from pizza hut\n",
            "before: specifically asked for extra oregano and chilli flakes instead didnt even receive packet basic courtesy was not followed extremely disappointed\n",
            "list: set()\n",
            "After: specifically asked for extra oregano and chilli flakes instead didnt even receive packet basic courtesy was not followed extremely disappointed\n",
            "before: had been there to this outlet before also was pretty impressed hence when was there in the vicinity landed up again for having quick bites but was disappointed the pizza was not done properly nor the toppings it was just for the taste of eating had it without enjoying the way did in my first visit guys you truly need to re work upon the quality of the stuff served\n",
            "list: set()\n",
            "After: had been there to this outlet before also was pretty impressed hence when was there in the vicinity landed up again for having quick bites but was disappointed the pizza was not done properly nor the toppings it was just for the taste of eating had it without enjoying the way did in my first visit guys you truly need to re work upon the quality of the stuff served\n",
            "before: food quality is bad\n",
            "list: set()\n",
            "After: food quality is bad\n",
            "before: not satisfied with the taste and quality of this third class pizza its worthless waste of money the pizza was not like pizza just it was bun no taste nothing none other than this pizza hut pizza was seriously waste of money and tasteless\n",
            "list: set()\n",
            "After: not satisfied with the taste and quality of this third class pizza its worthless waste of money the pizza was not like pizza just it was bun no taste nothing none other than this pizza hut pizza was seriously waste of money and tasteless\n",
            "before: will time cash return my cash\n",
            "list: set()\n",
            "After: will time cash return my cash\n",
            "before: what is this it looks eaten never ordering after today horrible cant even believe my eyes right now very very very sad on pizza hut shame\n",
            "list: set()\n",
            "After: what is this it looks eaten never ordering after today horrible cant even believe my eyes right now very very very sad on pizza hut shame\n",
            "before: dont like this\n",
            "list: set()\n",
            "After: dont like this\n",
            "before: very bad quality food\n",
            "list: set()\n",
            "After: very bad quality food\n",
            "before: no cheese\n",
            "list: set()\n",
            "After: no cheese\n",
            "before: pasta taste was not good delayed delivery food was not hot\n",
            "list: set()\n",
            "After: pasta taste was not good delayed delivery food was not hot\n",
            "before: its messed up broken and smashed\n",
            "list: set()\n",
            "After: its messed up broken and smashed\n",
            "before: the food was pathetic it felt like im eating only pizza base and lava cake was uncooked\n",
            "list: set()\n",
            "After: the food was pathetic it felt like im eating only pizza base and lava cake was uncooked\n",
            "before: paid rs for small size pizaa worth less dominos best compair to pizaa hut anyway its my mistake that order from pizza hut its my last order\n",
            "list: {'compair', 'rs', 'pizaa'}\n",
            "misspelled word:  compair       correct word: compare\n",
            "After: paid rs for small size pizaa worth less dominos best compare to pizaa hut anyway its my mistake that order from pizza hut its my last order\n",
            "before: we didnt received creamy mayonnaise\n",
            "list: set()\n",
            "After: we didnt received creamy mayonnaise\n",
            "before: very thick crust and rubbery cheese it felt like having flour dough no cheese as expected very less topping as per our money invested and not expecting this type of service for online delivery\n",
            "list: set()\n",
            "After: very thick crust and rubbery cheese it felt like having flour dough no cheese as expected very less topping as per our money invested and not expecting this type of service for online delivery\n",
            "before: pizza was completely cold\n",
            "list: set()\n",
            "After: pizza was completely cold\n",
            "before: please send extra orgeno next time\n",
            "list: {'orgeno'}\n",
            "After: please send extra orgeno next time\n",
            "before: prefer the pizza toppings in the uae cant understand kababs and chicken tikka on my pizza also like the pizza sauce base of dominos\n",
            "list: {'uae', 'kababs'}\n",
            "misspelled word:  kababs       correct word: kebabs\n",
            "After: prefer the pizza toppings in the uae cant understand kebabs and chicken tikka on my pizza also like the pizza sauce base of dominos\n",
            "before: not happy\n",
            "list: set()\n",
            "After: not happy\n",
            "before: didnt received the complementary of choco lava cake with margherita pizza during orderit was showing\n",
            "list: {'orderit'}\n",
            "misspelled word:  orderit       correct word: order\n",
            "After: didnt received the complementary of choco lava cake with margherita pizza during order was showing\n",
            "before: this is the best pizza ever and choco lava cake maybe very good but am not sure already\n",
            "list: set()\n",
            "After: this is the best pizza ever and choco lava cake maybe very good but am not sure already\n",
            "before: instead of pizza received only pizza under pizza fest offer\n",
            "list: set()\n",
            "After: instead of pizza received only pizza under pizza fest offer\n",
            "before: order country delight got only the base what the hell is this\n",
            "list: set()\n",
            "After: order country delight got only the base what the hell is this\n",
            "before: literally bought shit for rupees over priced and small size with negligible toppings no added cheese paid extra no ketchup and cold as ice even dominos offers better with rd of the price feeling cheated and looted never ever buying again and never suggest this shit to friends and family\n",
            "list: {'rd'}\n",
            "After: literally bought shit for rupees over priced and small size with negligible toppings no added cheese paid extra no ketchup and cold as ice even dominos offers better with rd of the price feeling cheated and looted never ever buying again and never suggest this shit to friends and family\n",
            "before: horrible garlic breadsticks were actually huge naan pizza portions were small\n",
            "list: set()\n",
            "After: horrible garlic breadsticks were actually huge naan pizza portions were small\n",
            "before: the pizza was cold and the crust was hard like its old\n",
            "list: set()\n",
            "After: the pizza was cold and the crust was hard like its old\n",
            "before: soggy pizza pathetic stop your partnership with zomato it they cant pick up and deliver your food properly they just spoiling your brand image\n",
            "list: {'zomato'}\n",
            "After: soggy pizza pathetic stop your partnership with zomato it they cant pick up and deliver your food properly they just spoiling your brand image\n",
            "before: was delivered cold and there was no cheese in the pizza\n",
            "list: set()\n",
            "After: was delivered cold and there was no cheese in the pizza\n",
            "before: these are the most saddest pizza have ever seen pizza hut you need to do better\n",
            "list: set()\n",
            "After: these are the most saddest pizza have ever seen pizza hut you need to do better\n",
            "before: disappointed that even after informing to prepare chease garlic bread at last it was prepared and kept ready hence received the chease garlic bread thanda didnt expected this fron pizza hut now its time to look for some other pizza brand\n",
            "list: {'chease', 'thanda'}\n",
            "misspelled word:  chease       correct word: cheese\n",
            "After: disappointed that even after informing to prepare cheese garlic bread at last it was prepared and kept ready hence received the cheese garlic bread thanda didnt expected this fron pizza hut now its time to look for some other pizza brand\n",
            "before: just love pizza hut we had wonderful time without family with pizza party thank team pizza but\n",
            "list: set()\n",
            "After: just love pizza hut we had wonderful time without family with pizza party thank team pizza but\n",
            "before: card payment option not there\n",
            "list: set()\n",
            "After: card payment option not there\n",
            "before: food was extremely bad cheese was almost lost very bad ly served didnt expect this from pizza hut its my fav pizza place\n",
            "list: set()\n",
            "After: food was extremely bad cheese was almost lost very bad ly served didnt expect this from pizza hut its my fav pizza place\n",
            "before: the size of the pizza is very small and not worth the price unfortunately\n",
            "list: set()\n",
            "After: the size of the pizza is very small and not worth the price unfortunately\n",
            "before: sir sorry to say your company service is very worst want to put your attention on your restaurant no water to drink for coustomer even no water to drink for your own workers please improve your company service atleast for your own workers we found your company treat your workers as slaves regards\n",
            "list: {'coustomer'}\n",
            "misspelled word:  coustomer       correct word: costumer\n",
            "After: sir sorry to say your company service is very worst want to put your attention on your restaurant no water to drink for costumer even no water to drink for your own workers please improve your company service atleast for your own workers we found your company treat your workers as slaves regards\n",
            "before: an absolute raw pizza was sent when complained to zomato they said the restaurant is closed and we will serve you better the next time what is going on instead of giving me replacement or refund these guys promise better tomorrow very very disheartened by zomato and pizza hut\n",
            "list: {'zomato'}\n",
            "After: an absolute raw pizza was sent when complained to zomato they said the restaurant is closed and we will serve you better the next time what is going on instead of giving me replacement or refund these guys promise better tomorrow very very disheartened by zomato and pizza hut\n",
            "before: no oregano chilli flakes provided baby corn was not cut pizza was cold will never recommend pizza hut\n",
            "list: set()\n",
            "After: no oregano chilli flakes provided baby corn was not cut pizza was cold will never recommend pizza hut\n",
            "before: absolutely rubbish cheese garlic supreme bread delivery sent hard burnt and tasteless pizza hut has lost their standards would advise never order from them as they cheat and send rubbish stuff keep some value for customers money as pizza hut is highly rated and food is not at all up to the mark such bad reviews on site kindly take up this matter seriously and refund my money back immediately\n",
            "list: set()\n",
            "After: absolutely rubbish cheese garlic supreme bread delivery sent hard burnt and tasteless pizza hut has lost their standards would advise never order from them as they cheat and send rubbish stuff keep some value for customers money as pizza hut is highly rated and food is not at all up to the mark such bad reviews on site kindly take up this matter seriously and refund my money back immediately\n",
            "before: lovely place to be with friends\n",
            "list: set()\n",
            "After: lovely place to be with friends\n",
            "before: the pasta sauce and the cheese on top were most definitely stale besides that the pizzas are usually hot fresh and buttery but the overall order was evidently not fresh or enjoyable at all very disappointed with this order\n",
            "list: set()\n",
            "After: the pasta sauce and the cheese on top were most definitely stale besides that the pizzas are usually hot fresh and buttery but the overall order was evidently not fresh or enjoyable at all very disappointed with this order\n",
            "before: such rubbish cheese garlic bread have never seen pizza has really lost their standards highly charged and rubbish burnt garlic bread with no cheese at all suggest everyone never to order from pizza hut they charge so much for the pizza and send absolutely rubbish food please take up this matter to high level as they cant cheat ppl with rubbish stuff like this have some value for money completely turn off with pizza hut and would tell others never to go or buy from pizza hut\n",
            "list: {'ppl'}\n",
            "After: such rubbish cheese garlic bread have never seen pizza has really lost their standards highly charged and rubbish burnt garlic bread with no cheese at all suggest everyone never to order from pizza hut they charge so much for the pizza and send absolutely rubbish food please take up this matter to high level as they cant cheat ppl with rubbish stuff like this have some value for money completely turn off with pizza hut and would tell others never to go or buy from pizza hut\n",
            "before: disgusting there wasnt even any regular cheese ordered an xtra cheese\n",
            "list: {'xtra'}\n",
            "misspelled word:  xtra       correct word: extra\n",
            "After: disgusting there wasnt even any regular cheese ordered an extra cheese\n",
            "before: corn cheese pizza but there is only corn bread\n",
            "list: set()\n",
            "After: corn cheese pizza but there is only corn bread\n",
            "before: the pizza was half baked garlic bread was stale and the cheese on garlic bread was sour very bad\n",
            "list: set()\n",
            "After: the pizza was half baked garlic bread was stale and the cheese on garlic bread was sour very bad\n",
            "before: tandoori paneer pizza was delicious\n",
            "list: set()\n",
            "After: tandoori paneer pizza was delicious\n",
            "before: taste was not upto the mark no sauce and no origano\n",
            "list: {'origano'}\n",
            "misspelled word:  origano       correct word: oregano\n",
            "After: taste was not upto the mark no sauce and no oregano\n",
            "before: ordered creamy garlic bread sticks received jst garlic breadsticks\n",
            "list: {'jst'}\n",
            "misspelled word:  jst       correct word: just\n",
            "After: ordered creamy garlic bread sticks received just garlic breadsticks\n",
            "before: the taste is not up to the mark it bland and there is not enough pizza sauce\n",
            "list: set()\n",
            "After: the taste is not up to the mark it bland and there is not enough pizza sauce\n",
            "before: extremely unhygienic and totally unprofessional the pepsi bottle was not sealed when we poured the same into glass we saw what seemed like chilli oregano flakes in the drink it seems like some one had drank the pepsi this is very disturbing and outright cheating we will never order from zomato again extremely unsatisfied waste of money\n",
            "list: {'zomato'}\n",
            "After: extremely unhygienic and totally unprofessional the pepsi bottle was not sealed when we poured the same into glass we saw what seemed like chilli oregano flakes in the drink it seems like some one had drank the pepsi this is very disturbing and outright cheating we will never order from zomato again extremely unsatisfied waste of money\n",
            "before: the pizza was too small and no taste whatsoeververy disappointed wont be ordering from this place again\n",
            "list: "
          ]
        },
        {
          "output_type": "stream",
          "name": "stderr",
          "text": [
            "/usr/local/lib/python3.7/dist-packages/ipykernel_launcher.py:15: SettingWithCopyWarning: \n",
            "A value is trying to be set on a copy of a slice from a DataFrame\n",
            "\n",
            "See the caveats in the documentation: https://pandas.pydata.org/pandas-docs/stable/user_guide/indexing.html#returning-a-view-versus-a-copy\n",
            "  from ipykernel import kernelapp as app\n"
          ]
        },
        {
          "output_type": "stream",
          "name": "stdout",
          "text": [
            "\u001b[1;30;43mStreaming output truncated to the last 5000 lines.\u001b[0m\n",
            "before: the ambience is good like any other pizza hut outlet ive been to the service is bit slow the food is good ive always been in love with their pan pizzas the staff is friendly\n",
            "list: set()\n",
            "After: the ambience is good like any other pizza hut outlet ive been to the service is bit slow the food is good ive always been in love with their pan pizzas the staff is friendly\n",
            "before: food is awesome bt there is always an issue with air condition most of the time they saying its not working out of time it happens service is good as staff member is co operative thank an pls work on ac issues\n",
            "list: {'pls', 'bt'}\n",
            "misspelled word:  pls       correct word: pals\n",
            "After: food is awesome bt there is always an issue with air condition most of the time they saying its not working out of time it happens service is good as staff member is co operative thank an pals work on ac issues\n",
            "before: was little bit hungry after my college lectures so catch the delicious food at pizza hut near cst great tasty pizzas chicken supreme is the rockstar with cheesy maxx with refreshing melon mojito after the meal try their choco volcano cake it delicious dessert to end ur tasty meal\n",
            "list: {'cst'}\n",
            "After: was little bit hungry after my college lectures so catch the delicious food at pizza hut near cst great tasty pizzas chicken supreme is the rockstar with cheesy maxx with refreshing melon mojito after the meal try their choco volcano cake it delicious dessert to end ur tasty meal\n",
            "before: we had plan for movie after watching movie we was little bit of hungry so we decided to catch up with friend to near by pizza hut service was good and quick amazing hospitality we have ever had anywhere else with great experience and talented staff\n",
            "list: set()\n",
            "After: we had plan for movie after watching movie we was little bit of hungry so we decided to catch up with friend to near by pizza hut service was good and quick amazing hospitality we have ever had anywhere else with great experience and talented staff\n",
            "before: we have had plan to have delicious pizzas and pastas so we decided to go to pizza hut cst as we where close by our friends was having birthday so we where around to people their birthday rapping was good we have had great celebration thank soo much\n",
            "list: {'cst'}\n",
            "After: we have had plan to have delicious pizzas and pastas so we decided to go to pizza hut cst as we where close by our friends was having birthday so we where around to people their birthday rapping was good we have had great celebration thank soo much\n",
            "before: greed for money very apparent only focus on takeaway people for takeaway standing inside the restaurant and diluting experience horrible service waited for mins sorry state of affairs\n",
            "list: set()\n",
            "After: greed for money very apparent only focus on takeaway people for takeaway standing inside the restaurant and diluting experience horrible service waited for mins sorry state of affairs\n",
            "before: an awesome place to have get together with friends service was quick and fast even in huge rush well trained staff good hygienic store\n",
            "list: set()\n",
            "After: an awesome place to have get together with friends service was quick and fast even in huge rush well trained staff good hygienic store\n",
            "before: if foody lover and wanted to have delicious mouth watering pizzas must try this outlet in cst they have soo much varieties of pizzas and pastas to choose from with great service and hospitality\n",
            "list: {'cst', 'foody'}\n",
            "misspelled word:  foody       correct word: food\n",
            "After: if food lover and wanted to have delicious mouth watering pizzas must try this outlet in cst they have soo much varieties of pizzas and pastas to choose from with great service and hospitality\n",
            "before: an awesome place to have delicious lunch with family seating arrangements is so comfortable and relaxing service here doesnt have any complaints\n",
            "list: set()\n",
            "After: an awesome place to have delicious lunch with family seating arrangements is so comfortable and relaxing service here doesnt have any complaints\n",
            "before: being here wid friends for dinner had wonderful offer of rs unlimited pizza offer and rs garlic bread on friday night nice ambience and overall good service even though they serving unlimited\n",
            "list: {'rs'}\n",
            "After: being here wid friends for dinner had wonderful offer of rs unlimited pizza offer and rs garlic bread on friday night nice ambience and overall good service even though they serving unlimited\n",
            "before: took the unlimited package the food is ok but ya cam expect much from this place at this price chicken cheese toast are good pan pizza are ok\n",
            "list: set()\n",
            "After: took the unlimited package the food is ok but ya cam expect much from this place at this price chicken cheese toast are good pan pizza are ok\n",
            "before: yesterday visited that place nice pizza which had combo meal ambiance also so good had glass of mojito bt it was not so tasty food portion size is good love that food\n",
            "list: {'bt'}\n",
            "After: yesterday visited that place nice pizza which had combo meal ambiance also so good had glass of mojito bt it was not so tasty food portion size is good love that food\n",
            "before: great pizza with amazing service cheese max pizza is must try here with types of cheese good service by imran and james great pizza we really loved it\n",
            "list: set()\n",
            "After: great pizza with amazing service cheese max pizza is must try here with types of cheese good service by imran and james great pizza we really loved it\n",
            "before: outstanding service great customer maniac we really appreciate this outlet because they have well staff trained highly energetic always their to help in any condition love the taste love the food\n",
            "list: set()\n",
            "After: outstanding service great customer maniac we really appreciate this outlet because they have well staff trained highly energetic always their to help in any condition love the taste love the food\n",
            "before: pizza hut is my rd option when want pizza but the offers they currently have are worth it and the price worth the food good to taste but too many tomatoes involved pizza but you can definately give it shot pizzalove pizza foodie\n",
            "list: {'rd', 'pizzalove'}\n",
            "After: pizza hut is my rd option when want pizza but the offers they currently have are worth it and the price worth the food good to taste but too many tomatoes involved pizza but you can definately give it shot pizzalove pizza foodie\n",
            "before: meals was good as was great help and suggestions from the server food was so hot and tasty as if it was specially made what we want by the shelf thank soo much made our day\n",
            "list: set()\n",
            "After: meals was good as was great help and suggestions from the server food was so hot and tasty as if it was specially made what we want by the shelf thank soo much made our day\n",
            "before: awesome place to have delicious lunch was very hungry so got plan to have bit with office friends at pizza hut food was damn good service was awesome\n",
            "list: set()\n",
            "After: awesome place to have delicious lunch was very hungry so got plan to have bit with office friends at pizza hut food was damn good service was awesome\n",
            "before: an awesome pizza to have at the pizza hut opp sterling cinema good atmosphere great comfortable seating arrangement really had good time\n",
            "list: set()\n",
            "After: an awesome pizza to have at the pizza hut opp sterling cinema good atmosphere great comfortable seating arrangement really had good time\n",
            "before: awesome place to have blast with friends meals was good and tasty was so cheaper specially their unlimited meals get lots and lots of stuff to choose from with very cheap rates we really had good time\n",
            "list: set()\n",
            "After: awesome place to have blast with friends meals was good and tasty was so cheaper specially their unlimited meals get lots and lots of stuff to choose from with very cheap rates we really had good time\n",
            "before: very much happening experience with pizza hut as had pizza from pizza hut for the first time wanted to try pizza from so many days finally we ordered triple chicken feast and tandoori paneer pan pizza with cheese garlic bread from supreme and signature pizzas as there was off offer which was valid only for supreme and signature pizzas both pizzas were yummy in taste with nice crust bread was too soft and fresh was enhancing taste of pizza even delivery service was very efficient and timely would like to try another varieties from here\n",
            "list: set()\n",
            "After: very much happening experience with pizza hut as had pizza from pizza hut for the first time wanted to try pizza from so many days finally we ordered triple chicken feast and tandoori paneer pan pizza with cheese garlic bread from supreme and signature pizzas as there was off offer which was valid only for supreme and signature pizzas both pizzas were yummy in taste with nice crust bread was too soft and fresh was enhancing taste of pizza even delivery service was very efficient and timely would like to try another varieties from here\n",
            "before: we went on wednesday evening and it was all occupied its situated bang opposite sterling cinema its not very big outlet but not too small too service is good being wednesday and valentines day they offered discount on take away pay and park is available food we ordered cheese garlic bread four piece were served which was enough for people for munch was served hot and fresh paneer vegoramatoppings were good but blend no particular taste of the sauce margaritagood cheesy pizza would prefer little more spicy sauce masala lemonade perfect drink with pizza it was made with lemonade soda masala an lots of ice chocolate volcano not very sweet medium chocolate syrup quantity was less feel we could finish it in jus bite pizza were served hot and fresh\n",
            "list: {'margaritagood', 'vegoramatoppings'}\n",
            "misspelled word:  margaritagood       correct word: margarita\n",
            "After: we went on wednesday evening and it was all occupied its situated bang opposite sterling cinema its not very big outlet but not too small too service is good being wednesday and valentines day they offered discount on take away pay and park is available food we ordered cheese garlic bread four piece were served which was enough for people for munch was served hot and fresh paneer vegoramatoppings were good but blend no particular taste of the sauce margarita cheesy pizza would prefer little more spicy sauce masala lemonade perfect drink with pizza it was made with lemonade soda masala an lots of ice chocolate volcano not very sweet medium chocolate syrup quantity was less feel we could finish it in jus bite pizza were served hot and fresh\n",
            "before: the only one star it misses is for the variety of pizza to be chose from it was birthday ocassion and we prefered going to pizza unlimited on friday with cheese garlic bread upgraded for extra rs pizza were just amazing would recommend you to visit these place at least once in lifetime\n",
            "list: {'rs', 'ocassion'}\n",
            "misspelled word:  ocassion       correct word: occasion\n",
            "After: the only one star it misses is for the variety of pizza to be chose from it was birthday occasion and we prefered going to pizza unlimited on friday with cheese garlic bread upgraded for extra rs pizza were just amazing would recommend you to visit these place at least once in lifetime\n",
            "before: every day cross through this lovely restaurant which is open all the time as we have office near by the location have visited this outlet so many time with my office friends and had amazing time spent with them with so many delicious food to go with it\n",
            "list: set()\n",
            "After: every day cross through this lovely restaurant which is open all the time as we have office near by the location have visited this outlet so many time with my office friends and had amazing time spent with them with so many delicious food to go with it\n",
            "before: every time when we come to pizza hut we have huge expectations from them but whenerver we have food over there they never disappoints us beacuse they know our taste and what we expected from them is good thats why we always love to come to pizza hut\n",
            "list: {'whenerver'}\n",
            "misspelled word:  whenerver       correct word: wherever\n",
            "After: every time when we come to pizza hut we have huge expectations from them but wherever we have food over there they never disappoints us beacuse they know our taste and what we expected from them is good thats why we always love to come to pizza hut\n",
            "before: always have pleasure to dine here food is excellent especially their pastas and pan pizzas every thing is awesome and tasty awesome staff well trained they know how to help customers in every possible way love to come again\n",
            "list: set()\n",
            "After: always have pleasure to dine here food is excellent especially their pastas and pan pizzas every thing is awesome and tasty awesome staff well trained they know how to help customers in every possible way love to come again\n",
            "before: it is great place chicken supreme pizza is toò good and tasty service is very good thank you and awesome place to have delicious meal\n",
            "list: {'toò'}\n",
            "After: it is great place chicken supreme pizza is toò good and tasty service is very good thank you and awesome place to have delicious meal\n",
            "before: visited this place on friday because to get the offer of unlimited pizza the pizza was great you will enjoy it more if you go for non veg pizza offer so that you can enjoy the veg pizza too bad thing of that offer was you have only two options of pizza to choose from\n",
            "list: set()\n",
            "After: visited this place on friday because to get the offer of unlimited pizza the pizza was great you will enjoy it more if you go for non veg pizza offer so that you can enjoy the veg pizza too bad thing of that offer was you have only two options of pizza to choose from\n",
            "before: an awesome day ends when your tummy is full with yummy food after roaming for more than hours at kalaghoda festival the hunger was at peak which finally ended at pizza hut near csmt station we ordered nonveg meal for supreme chicken cheese burst pizza potato wedges two masala lemonades veg meal for veggie supreme pizza jalapenos\n",
            "list: {'nonveg', 'kalaghoda', 'csmt'}\n",
            "After: an awesome day ends when your tummy is full with yummy food after roaming for more than hours at kalaghoda festival the hunger was at peak which finally ended at pizza hut near csmt station we ordered nonveg meal for supreme chicken cheese burst pizza potato wedges two masala lemonades veg meal for veggie supreme pizza jalapenos\n",
            "before: pizzas at pizza hut great and when it comes to unlimited pizza at rs which includes unlimited pizza and garlic bread add cheese on garlic bread with just rs and add rs to add coke pizzas and cheese garlic bread awesome there service is also good and taste is great seriously recommend this place especially on friday for unlimited pizzas\n",
            "list: {'rs'}\n",
            "After: pizzas at pizza hut great and when it comes to unlimited pizza at rs which includes unlimited pizza and garlic bread add cheese on garlic bread with just rs and add rs to add coke pizzas and cheese garlic bread awesome there service is also good and taste is great seriously recommend this place especially on friday for unlimited pizzas\n",
            "before: so the dream of having great and tasty pizzas can be true and just need to travel down to the pizza hut cst here my reviews goes location ambience service food price serves one of the finest pizza in this world and makes the day complete with refreshing mojito variety of options and topping that can make anyone overwhelmed recommended to all the pizza lovers\n",
            "list: {'cst'}\n",
            "After: so the dream of having great and tasty pizzas can be true and just need to travel down to the pizza hut cst here my reviews goes location ambience service food price serves one of the finest pizza in this world and makes the day complete with refreshing mojito variety of options and topping that can make anyone overwhelmed recommended to all the pizza lovers\n",
            "before: four star for good location and one star for nice comfortable seating arrangements thats best can give veggie supreme pizza with cheesy maxx was an awesome pizza taste more best with green apple mojito king size meal was good and cheaper where get ur all favourites stuff to choose at just awesome meals to go with two of\n",
            "list: set()\n",
            "After: four star for good location and one star for nice comfortable seating arrangements thats best can give veggie supreme pizza with cheesy maxx was an awesome pizza taste more best with green apple mojito king size meal was good and cheaper where get ur all favourites stuff to choose at just awesome meals to go with two of\n",
            "before: if wanted to have delicious pizzas and pastas my opinion is pizza hut which is just located near cst station its cool and amazing place for all foody lovers but today we got the discount of on our medium size pizzas we are really thank to pizza hut for offering great discount for the customer\n",
            "list: {'cst', 'foody'}\n",
            "misspelled word:  foody       correct word: food\n",
            "After: if wanted to have delicious pizzas and pastas my opinion is pizza hut which is just located near cst station its cool and amazing place for all food lovers but today we got the discount of on our medium size pizzas we are really thank to pizza hut for offering great discount for the customer\n",
            "before: very nice place of casual dinning place with so many delicious stuffs meals was good an cheaper as compared to other food chain outlet service was fast and quick\n",
            "list: set()\n",
            "After: very nice place of casual dinning place with so many delicious stuffs meals was good an cheaper as compared to other food chain outlet service was fast and quick\n",
            "before: chicken supreme pizza was awesome feeling of chunky good amount of chicken taste best with cheesy maxx really had good time music was good\n",
            "list: set()\n",
            "After: chicken supreme pizza was awesome feeling of chunky good amount of chicken taste best with cheesy maxx really had good time music was good\n",
            "before: every time when we come to pizza hut we always found staff are doing some activity like birthday celebration greeting customer with huge passionate etc etc we always love their king size meals because in that meals we have the option of choosing our own pizzas and stuffs service is no issues every time we get proper service\n",
            "list: set()\n",
            "After: every time when we come to pizza hut we always found staff are doing some activity like birthday celebration greeting customer with huge passionate etc etc we always love their king size meals because in that meals we have the option of choosing our own pizzas and stuffs service is no issues every time we get proper service\n",
            "before: outstanding hospitality great service fabulous pizzas and pastas specially the cheesy alfredo it was so tempting filled with cheese we really had good time at pizza hut amazing was their bell ringing at the exit of the store we have to times\n",
            "list: set()\n",
            "After: outstanding hospitality great service fabulous pizzas and pastas specially the cheesy alfredo it was so tempting filled with cheese we really had good time at pizza hut amazing was their bell ringing at the exit of the store we have to times\n",
            "before: it good place to had great food with family meals was good and cheaper service has no doubt surrounding was good with nice seating arrangements overall it was great experience\n",
            "list: set()\n",
            "After: it good place to had great food with family meals was good and cheaper service has no doubt surrounding was good with nice seating arrangements overall it was great experience\n",
            "before: had plan for movie at sterling cinema so had hardly any time we where in huge rush so had bite at pizza hut with garlic bread and drinks so quick and fast\n",
            "list: set()\n",
            "After: had plan for movie at sterling cinema so had hardly any time we where in huge rush so had bite at pizza hut with garlic bread and drinks so quick and fast\n",
            "before: we are most visitor of all pizza hut outlet garlic bread is our first choice when we come because we loved their garlic bread most but today their was hardly garlic taste in our bread meanwhile dominoes is still better pizza was so tempting it loads with lots of vegeis and chicken the amount of cheese was to less today little disappointing today but all over it was good service surrounding and music\n",
            "list: {'vegeis'}\n",
            "After: we are most visitor of all pizza hut outlet garlic bread is our first choice when we come because we loved their garlic bread most but today their was hardly garlic taste in our bread meanwhile dominoes is still better pizza was so tempting it loads with lots of vegeis and chicken the amount of cheese was to less today little disappointing today but all over it was good service surrounding and music\n",
            "before: recently visited mumbai and fashion street is my favorite place for shopping so had visited it looked for nearby good pizza place and found pizza hut the name rating looked promising we have ordered garlic bread spicy supreme and veg supreme pizza along with mojito we dont know about any meals the server mr imran suggested us the king size meals and trust me the meals was as cheaper then what we expected thank so much for ur great help\n",
            "list: {'mr'}\n",
            "After: recently visited mumbai and fashion street is my favorite place for shopping so had visited it looked for nearby good pizza place and found pizza hut the name rating looked promising we have ordered garlic bread spicy supreme and veg supreme pizza along with mojito we dont know about any meals the server mr imran suggested us the king size meals and trust me the meals was as cheaper then what we expected thank so much for ur great help\n",
            "before: most pizzas taste nice and good nice flavour good crust and fresh mozzarella cheese can go for the thin crust veg pizzas with cream hot soups short walk from nearest station from cst make good with great taste exceptional service and perfect ambience friendly professional and efficient crew well done\n",
            "list: {'cst'}\n",
            "After: most pizzas taste nice and good nice flavour good crust and fresh mozzarella cheese can go for the thin crust veg pizzas with cream hot soups short walk from nearest station from cst make good with great taste exceptional service and perfect ambience friendly professional and efficient crew well done\n",
            "before: excellent service excellent food quality its worth it guys they really take good care of you from the time you enter till the time you exit keep it up ph\n",
            "list: {'ph'}\n",
            "After: excellent service excellent food quality its worth it guys they really take good care of you from the time you enter till the time you exit keep it up ph\n",
            "before: have been here many times and just love the service here thanks to the manager mr javed the service guys imran and touheed they just make it worth coming again and again it feels like home just love the food the hospitality and the service these guys provide look forward to visit pizza hut soon thank you for making it special for us always thank javed imran and touheed\n",
            "list: {'touheed', 'mr'}\n",
            "After: have been here many times and just love the service here thanks to the manager mr javed the service guys imran and touheed they just make it worth coming again and again it feels like home just love the food the hospitality and the service these guys provide look forward to visit pizza hut soon thank you for making it special for us always thank javed imran and touheed\n",
            "before: always wanted to visit this place because heard lot from my friends their regularly come to pizza hut so had try today service has no complaints but coming to the food part pizza was delicious and good as was expecting from today onwards will be coming with friends to pizza hut\n",
            "list: set()\n",
            "After: always wanted to visit this place because heard lot from my friends their regularly come to pizza hut so had try today service has no complaints but coming to the food part pizza was delicious and good as was expecting from today onwards will be coming with friends to pizza hut\n",
            "before: fabulous pizza mouth watering dishes lots and lots of varieties to choose from outstanding service fast and quick as we where in hurry love to come again and again\n",
            "list: set()\n",
            "After: fabulous pizza mouth watering dishes lots and lots of varieties to choose from outstanding service fast and quick as we where in hurry love to come again and again\n",
            "before: an awesome place to relax and enjoy delicious pizzas and pastas meals was good specially the unlimited one was worth penny get so much stuffs as an unlimited to choose from thank pizza hut for having such offer\n",
            "list: set()\n",
            "After: an awesome place to relax and enjoy delicious pizzas and pastas meals was good specially the unlimited one was worth penny get so much stuffs as an unlimited to choose from thank pizza hut for having such offer\n",
            "before: pizza was awesome and tasty meals was good of king size as was great help and suggestions by the server coming to service and food part both where good specially chilly garlic bread is soo delicious can have bit with it am sure will love it\n",
            "list: set()\n",
            "After: pizza was awesome and tasty meals was good of king size as was great help and suggestions by the server coming to service and food part both where good specially chilly garlic bread is soo delicious can have bit with it am sure will love it\n",
            "before: fabolus pizza had ever taste at pizza hut today service was quick and fast as compared to following things service food cleanliness\n",
            "list: {'fabolus'}\n",
            "After: fabolus pizza had ever taste at pizza hut today service was quick and fast as compared to following things service food cleanliness\n",
            "before: great and fabulous pizza tandoori pizza is my bestie we really loved it service was no issue meals was good as was great suggestion by mr touheed we really had memorable time at pizza hut\n",
            "list: {'touheed', 'mr'}\n",
            "After: great and fabulous pizza tandoori pizza is my bestie we really loved it service was no issue meals was good as was great suggestion by mr touheed we really had memorable time at pizza hut\n",
            "before: pizza hut is my all time favourite place to had visit with family and friends because they had vast and plenty amount of dishes to choose from as been honest service has never been complianed because they have good and highly trained staff\n",
            "list: {'complianed'}\n",
            "misspelled word:  complianed       correct word: complicated\n",
            "After: pizza hut is my all time favourite place to had visit with family and friends because they had vast and plenty amount of dishes to choose from as been honest service has never been complicated because they have good and highly trained staff\n",
            "before: if are near by cst or fashion street can try this outlet called pizza hut it good place which has an attention of all sobo eaters chicken supreme is their all time favourite with chunks of delicious chicken we really had good time thank geeta for making our day good with delicious dinner\n",
            "list: {'cst', 'sobo'}\n",
            "misspelled word:  sobo       correct word: soo\n",
            "After: if are near by cst or fashion street can try this outlet called pizza hut it good place which has an attention of all soo eaters chicken supreme is their all time favourite with chunks of delicious chicken we really had good time thank geeta for making our day good with delicious dinner\n",
            "before: really liked this place because the taste the quality they served was good have no comment regarding the service because they always served us quickly and fast\n",
            "list: set()\n",
            "After: really liked this place because the taste the quality they served was good have no comment regarding the service because they always served us quickly and fast\n",
            "before: pizza was tasty and mouth watering as always expected by the pizza hut store was clean and hygienic when it come to be part of service get the best service as compare to other food chains\n",
            "list: set()\n",
            "After: pizza was tasty and mouth watering as always expected by the pizza hut store was clean and hygienic when it come to be part of service get the best service as compare to other food chains\n",
            "before: it was amazing good place to hang out with family service was good as always thanks to imran love the food ambience of the store was awesome treat every customer with good warm welcome\n",
            "list: set()\n",
            "After: it was amazing good place to hang out with family service was good as always thanks to imran love the food ambience of the store was awesome treat every customer with good warm welcome\n",
            "before: good service great food and would be visiting again unlimited meal is value for money best dish is garlic bread with cheese the desserts are also great\n",
            "list: set()\n",
            "After: good service great food and would be visiting again unlimited meal is value for money best dish is garlic bread with cheese the desserts are also great\n",
            "before: went there with my friends for lunch the place was good the staff was friendly but the service was slow the drinks and appetisers were tasting good the pizzas were flavourful and tasty the dessert was warm and delicious overall it was good experience\n",
            "list: set()\n",
            "After: went there with my friends for lunch the place was good the staff was friendly but the service was slow the drinks and appetisers were tasting good the pizzas were flavourful and tasty the dessert was warm and delicious overall it was good experience\n",
            "before: am the regular customer of dominos because they deliver to our doorstep so today had try my luck and call pizza hut at store and asked them if they deliver to colaba afghan church and they said yes we do deliver their my heart was feel of joy bcoz today am having the pizzas from pizza hut at my home truly loved it\n",
            "list: {'bcoz', 'colaba'}\n",
            "misspelled word:  bcoz       correct word: coz\n",
            "After: am the regular customer of dominos because they deliver to our doorstep so today had try my luck and call pizza hut at store and asked them if they deliver to colaba afghan church and they said yes we do deliver their my heart was feel of joy coz today am having the pizzas from pizza hut at my home truly loved it\n",
            "before: when it come to great pizza and pasta pizza hut is the best options where get great stuff mouth watering dishes to choose from if shopping near cst do try this outlet once will loved it\n",
            "list: {'cst'}\n",
            "After: when it come to great pizza and pasta pizza hut is the best options where get great stuff mouth watering dishes to choose from if shopping near cst do try this outlet once will loved it\n",
            "before: ambience loved it and its near by house at cst never are pizza and when get chance at pizza hut my mind was completely change loved their thin crust pizzas italian pizza no doubt cost is not so high like other food chains\n",
            "list: {'cst'}\n",
            "After: ambience loved it and its near by house at cst never are pizza and when get chance at pizza hut my mind was completely change loved their thin crust pizzas italian pizza no doubt cost is not so high like other food chains\n",
            "before: had plan for movie with friends at sterling cinema after movie we feel so hungry so had catch pizza hut meals was good and cheaper as we think was great suggestions by the server really had great time\n",
            "list: set()\n",
            "After: had plan for movie with friends at sterling cinema after movie we feel so hungry so had catch pizza hut meals was good and cheaper as we think was great suggestions by the server really had great time\n",
            "before: the food is really good and appreciate the staffs effort the pizza base is soft and good and the toppings are also great good and satisfying food\n",
            "list: set()\n",
            "After: the food is really good and appreciate the staffs effort the pizza base is soft and good and the toppings are also great good and satisfying food\n",
            "before: this outlet has great ambience and also has good seating arrangement staff is also very efficient and userfriendly as expected pizza hut continues to deliver good tasty food\n",
            "list: {'userfriendly'}\n",
            "misspelled word:  userfriendly       correct word: unfriendly\n",
            "After: this outlet has great ambience and also has good seating arrangement staff is also very efficient and unfriendly as expected pizza hut continues to deliver good tasty food\n",
            "before: good ambiance to hangout and good food staff was pretty efficient and friendly as always and overall pizza hut continues to deliver good food as expected would love to visit again for sure\n",
            "list: set()\n",
            "After: good ambiance to hangout and good food staff was pretty efficient and friendly as always and overall pizza hut continues to deliver good food as expected would love to visit again for sure\n",
            "before: pizza was awesome and delicious as compared to dominos great hospitality great server always helpful like service was up to the expectation and fast\n",
            "list: set()\n",
            "After: pizza was awesome and delicious as compared to dominos great hospitality great server always helpful like service was up to the expectation and fast\n",
            "before: food was too good and delicious we came here with many friends and enjoyed lot must eat from here we will like to come here again\n",
            "list: set()\n",
            "After: food was too good and delicious we came here with many friends and enjoyed lot must eat from here we will like to come here again\n",
            "before: good food great ambience meals was good specially the king size meals is worth money will get pizzas appetizer and drink of us choice well maintained store and hygienic love the taste\n",
            "list: set()\n",
            "After: good food great ambience meals was good specially the king size meals is worth money will get pizzas appetizer and drink of us choice well maintained store and hygienic love the taste\n",
            "before: just strolling down the lane in cst we came across pizza hut we were given warm welcome the way they give to all so here we go we entered this place and the ambience of this place was quiet nice specially the big table at the start which is the centre of attraction since we were big group we preferred that table now coming to the food part we ordered variety of piszas all were good but the stand out was tandoori paneer with this chunks of paneer and lot of cheese we really had good time\n",
            "list: {'piszas', 'cst'}\n",
            "misspelled word:  piszas       correct word: pizzas\n",
            "After: just strolling down the lane in cst we came across pizza hut we were given warm welcome the way they give to all so here we go we entered this place and the ambience of this place was quiet nice specially the big table at the start which is the centre of attraction since we were big group we preferred that table now coming to the food part we ordered variety of pizzas all were good but the stand out was tandoori paneer with this chunks of paneer and lot of cheese we really had good time\n",
            "before: good place to have delicious launch with family and friends cool atmosphere beautiful decorated interior and seating arrangement was awesome\n",
            "list: set()\n",
            "After: good place to have delicious launch with family and friends cool atmosphere beautiful decorated interior and seating arrangement was awesome\n",
            "before: great pizza every time we came to pizza hut yesterday also to celebrate birthday and today also to start new year great year with pizza hut bcoz love pizza\n",
            "list: {'bcoz'}\n",
            "misspelled word:  bcoz       correct word: coz\n",
            "After: great pizza every time we came to pizza hut yesterday also to celebrate birthday and today also to start new year great year with pizza hut coz love pizza\n",
            "before: shout out to the service and hospitality mr padam ojha was most helpful and very friendly and went above and beyond to make our visit memorable\n",
            "list: {'ojha', 'padam', 'mr'}\n",
            "After: shout out to the service and hospitality mr padam ojha was most helpful and very friendly and went above and beyond to make our visit memorable\n",
            "before: pizza was good ambience was also very nice restaurant was clean and amazing food also music was very nice thanks so much\n",
            "list: set()\n",
            "After: pizza was good ambience was also very nice restaurant was clean and amazing food also music was very nice thanks so much\n",
            "before: hv been here so many times like their king size meals whr get medium size pizzas with starters of your choices and two drinks to go with peachy lemonade was too good this place is the best to go with yr family\n",
            "list: {'hv', 'whr'}\n",
            "misspelled word:  whr       correct word: wher\n",
            "After: hv been here so many times like their king size meals wher get medium size pizzas with starters of your choices and two drinks to go with peachy lemonade was too good this place is the best to go with yr family\n",
            "before: have been here few times with family and close friends on different occasion and yet found the place one of those quintessential places for casual dining restaurants food on complaints at all loved the pizzas and the deep flavours services and hospitality is extremely courteous the waiters and very friendly to use\n",
            "list: set()\n",
            "After: have been here few times with family and close friends on different occasion and yet found the place one of those quintessential places for casual dining restaurants food on complaints at all loved the pizzas and the deep flavours services and hospitality is extremely courteous the waiters and very friendly to use\n",
            "before: wonderful service in pizza hut like that chilli cheese garlice bread tastes is owesome and also tandoori paneer and country feast pan pizza is so tastey thank you pizza hut for great service\n",
            "list: {'owesome', 'tastey', 'garlice'}\n",
            "misspelled word:  owesome       correct word: awesome\n",
            "misspelled word:  tastey       correct word: tastes\n",
            "misspelled word:  garlice       correct word: garlic\n",
            "After: wonderful service in pizza hut like that chilli cheese garlic bread tastes is awesome and also tandoori paneer and country feast pan pizza is so tastes thank you pizza hut for great service\n",
            "before: complete treat for pizza lover triple chicken feast contains chicken kheema chicken meatballs chicken hot and chilli capsicum onion and sweet corn really enjoyed it\n",
            "list: {'kheema'}\n",
            "After: complete treat for pizza lover triple chicken feast contains chicken kheema chicken meatballs chicken hot and chilli capsicum onion and sweet corn really enjoyed it\n",
            "before: good food love the ambience interior decoration was soo good with beautiful lights and christmas santa meals was good we really loved it\n",
            "list: set()\n",
            "After: good food love the ambience interior decoration was soo good with beautiful lights and christmas santa meals was good we really loved it\n",
            "before: actually im not satisfied with test guess you should have improved your test quality service is good and try to improve quality and service bit thank you\n",
            "list: set()\n",
            "After: actually im not satisfied with test guess you should have improved your test quality service is good and try to improve quality and service bit thank you\n",
            "before: ordered cheese max stuffed crust veg delite pizza and jalepeno poppings tasty but then anything with lot of cheese usually is still like dominos better as their breads sauces and spices have the wow factor and also the veggies are more in quantity didnt find any thin crust pizza service wasnt prompt participated in an online survey hoping to get discount as mentioned behind the bill only to realize that the discount is only applicable during the next visit which should be made within days\n",
            "list: {'jalepeno', 'poppings', 'delite'}\n",
            "misspelled word:  jalepeno       correct word: jalapenos\n",
            "misspelled word:  poppings       correct word: toppings\n",
            "misspelled word:  delite       correct word: elite\n",
            "After: ordered cheese max stuffed crust veg elite pizza and jalapenos toppings tasty but then anything with lot of cheese usually is still like dominos better as their breads sauces and spices have the wow factor and also the veggies are more in quantity didnt find any thin crust pizza service wasnt prompt participated in an online survey hoping to get discount as mentioned behind the bill only to realize that the discount is only applicable during the next visit which should be made within days\n",
            "before: its was good to come back after long time at pizza hut but when we entered the entire was completely change with beautiful christmas decorations and plants service was good and fast as compared to previous way we really loved the food\n",
            "list: set()\n",
            "After: its was good to come back after long time at pizza hut but when we entered the entire was completely change with beautiful christmas decorations and plants service was good and fast as compared to previous way we really loved the food\n",
            "before: tandoori paneer was good chicken supreme not good lemonade was ok overall experience is good garlic bread was good\n",
            "list: set()\n",
            "After: tandoori paneer was good chicken supreme not good lemonade was ok overall experience is good garlic bread was good\n",
            "before: wow its amazing pan pizza taste also are good service drinks are good hut chocolate fudge dessert are so yummy come again again again again and again\n",
            "list: set()\n",
            "After: wow its amazing pan pizza taste also are good service drinks are good hut chocolate fudge dessert are so yummy come again again again again and again\n",
            "before: good service nice decore friendly staff cheese garlic bread was awesome pizza was ok for one time cheesy poppers also testy\n",
            "list: {'decore'}\n",
            "misspelled word:  decore       correct word: decor\n",
            "After: good service nice decor friendly staff cheese garlic bread was awesome pizza was ok for one time cheesy poppers also testy\n",
            "before: had very pleasant experience in restaurant staff was very courteous and understood how to deal with customers very well love the food and the service geeta serves and manages orders very well dont need to worry about my order when she is around\n",
            "list: set()\n",
            "After: had very pleasant experience in restaurant staff was very courteous and understood how to deal with customers very well love the food and the service geeta serves and manages orders very well dont need to worry about my order when she is around\n",
            "before: great place for pizza very polite and helpful staff and clean environment the only pizza hut outlet in south mumbai for some reason\n",
            "list: set()\n",
            "After: great place for pizza very polite and helpful staff and clean environment the only pizza hut outlet in south mumbai for some reason\n",
            "before: good pizzas good ambience meal where good and cheaper as compare to other food chains seating arrangement was soo good and comfortable for service out of\n",
            "list: set()\n",
            "After: good pizzas good ambience meal where good and cheaper as compare to other food chains seating arrangement was soo good and comfortable for service out of\n",
            "before: its famous pizza outlet in south mumbai that always wanted to try out they have good indoor and outdoor seating arrangement there was waiting of mins when we visited but the wait was worth it our favorite picks was inch veg supreme chicken wings and green apple all are worth penny\n",
            "list: set()\n",
            "After: its famous pizza outlet in south mumbai that always wanted to try out they have good indoor and outdoor seating arrangement there was waiting of mins when we visited but the wait was worth it our favorite picks was inch veg supreme chicken wings and green apple all are worth penny\n",
            "before: it was great experience at pizza hut we have ordered medium pan of chicken supreme and garlic bread and one marsala lemonade so saving us our money server has suggested us the king size meal it was worth saving we really enjoyed it thank so much for ur great help we will definitely visit again\n",
            "list: set()\n",
            "After: it was great experience at pizza hut we have ordered medium pan of chicken supreme and garlic bread and one marsala lemonade so saving us our money server has suggested us the king size meal it was worth saving we really enjoyed it thank so much for ur great help we will definitely visit again\n",
            "before: pizza and pastas are the worth items in my mind so always try it at pizza hut near sterling cinema store was clean and was highly maintained great and funny staff doing great hospitality\n",
            "list: set()\n",
            "After: pizza and pastas are the worth items in my mind so always try it at pizza hut near sterling cinema store was clean and was highly maintained great and funny staff doing great hospitality\n",
            "before: good taste calm environment good service good offers worth paying clean tables nice place to celebrate merry christmas\n",
            "list: set()\n",
            "After: good taste calm environment good service good offers worth paying clean tables nice place to celebrate merry christmas\n",
            "before: its the best pizza hut ive ever been well served extremely tasty delicacies and of course you dont need to walk to the counter to order theyll take it at your table\n",
            "list: set()\n",
            "After: its the best pizza hut ive ever been well served extremely tasty delicacies and of course you dont need to walk to the counter to order theyll take it at your table\n",
            "before: this was on my list for very long time and did not get time to get in but finally today got chance to give my friends treat on his birthday wanted something which can suffice for long so we have ordered triple chicken feast in cheesy max with extra cheese we had really great time at pizza hut\n",
            "list: set()\n",
            "After: this was on my list for very long time and did not get time to get in but finally today got chance to give my friends treat on his birthday wanted something which can suffice for long so we have ordered triple chicken feast in cheesy max with extra cheese we had really great time at pizza hut\n",
            "before: on shopping at fashion street we decided to check out pizza hut cst the entrance view is amazing decorated with beautiful christmas decoration the pizza comes at leisurely pace and was so delicious\n",
            "list: {'cst'}\n",
            "After: on shopping at fashion street we decided to check out pizza hut cst the entrance view is amazing decorated with beautiful christmas decoration the pizza comes at leisurely pace and was so delicious\n",
            "before: food was delicious service was great ambiance of the resturant was also great recommend to all my mumbai friends to visit once all best\n",
            "list: set()\n",
            "After: food was delicious service was great ambiance of the resturant was also great recommend to all my mumbai friends to visit once all best\n",
            "before: its our favourite pizza hut outlet in mumbai and we always have great time here the service is superb pizza is undoubtedly the best we love pizza hut\n",
            "list: set()\n",
            "After: its our favourite pizza hut outlet in mumbai and we always have great time here the service is superb pizza is undoubtedly the best we love pizza hut\n",
            "before: the first thing we noticed as soon as we entered was the decor and how nicely has this place been set up the couch seats are very comfy coming to the food part simply delicious the pizzas and pastas just about everything\n",
            "list: set()\n",
            "After: the first thing we noticed as soon as we entered was the decor and how nicely has this place been set up the couch seats are very comfy coming to the food part simply delicious the pizzas and pastas just about everything\n",
            "before: very courteous service good food with very reasonable pricing had really good time at pizza hut thank to the server for being so nice with me we had click some nice pics with the server wearing funny cap and sunglasses\n",
            "list: set()\n",
            "After: very courteous service good food with very reasonable pricing had really good time at pizza hut thank to the server for being so nice with me we had click some nice pics with the server wearing funny cap and sunglasses\n",
            "before: we are so tried after shopping so hada plan to have delicious lunch at pizza hut the host welcome us with great passion music was good and awesome\n",
            "list: set()\n",
            "After: we are so tried after shopping so hada plan to have delicious lunch at pizza hut the host welcome us with great passion music was good and awesome\n",
            "before: great place one of the best pizza huts in mumbai staff is very friendly and hospitality is the best great place to hangout with friends or corporate meeting\n",
            "list: set()\n",
            "After: great place one of the best pizza huts in mumbai staff is very friendly and hospitality is the best great place to hangout with friends or corporate meeting\n",
            "before: awesome food very nice ambience standard have been maintained every time we have been recommended triple chicken feast by the server love the taste\n",
            "list: set()\n",
            "After: awesome food very nice ambience standard have been maintained every time we have been recommended triple chicken feast by the server love the taste\n",
            "before: this is my second time am glad to visit again and ive got better services and the meal was really tasty and the place is very clean the staff is supportive\n",
            "list: set()\n",
            "After: this is my second time am glad to visit again and ive got better services and the meal was really tasty and the place is very clean the staff is supportive\n",
            "before: great and tasty pizzas as always expected from pizza hut great service great customer maniac specially the crazy hat and crazy speck photos was good wish come again\n",
            "list: set()\n",
            "After: great and tasty pizzas as always expected from pizza hut great service great customer maniac specially the crazy hat and crazy speck photos was good wish come again\n",
            "before: very delicious pizzas really enjoyed the experience would recommend this to everyone looking for good time with friends and family totally enjoyed the delicious pizaas\n",
            "list: {'pizaas'}\n",
            "misspelled word:  pizaas       correct word: pizzas\n",
            "After: very delicious pizzas really enjoyed the experience would recommend this to everyone looking for good time with friends and family totally enjoyed the delicious pizzas\n",
            "before: amazing pizzas one of the best places to dine in if youre looking to have pizzas the pizzas are fulfilling and the staff courteous and helpful the service is also quite good and thfood worth the money\n",
            "list: {'thfood'}\n",
            "After: amazing pizzas one of the best places to dine in if youre looking to have pizzas the pizzas are fulfilling and the staff courteous and helpful the service is also quite good and thfood worth the money\n",
            "before: one of the best fast food joints to dine in really love those delicious pizzas really love them the drinks are soo good just need to improve on the service its bit slow leaving that very good experience\n",
            "list: set()\n",
            "After: one of the best fast food joints to dine in really love those delicious pizzas really love them the drinks are soo good just need to improve on the service its bit slow leaving that very good experience\n",
            "before: an awesome place to have ur delicious dinner their service are mind blowing staff are so caring and sweet they are polite the location is soo good that if had plan to watch movie can try this outlet must will highly satisfied\n",
            "list: set()\n",
            "After: an awesome place to have ur delicious dinner their service are mind blowing staff are so caring and sweet they are polite the location is soo good that if had plan to watch movie can try this outlet must will highly satisfied\n",
            "before: great service great food quality pan pizza veggie feat so owesome tasty quick service good drinks like pizza hut touheed server are good server\n",
            "list: {'touheed', 'owesome'}\n",
            "misspelled word:  owesome       correct word: awesome\n",
            "After: great service great food quality pan pizza veggie feat so awesome tasty quick service good drinks like pizza hut touheed server are good server\n",
            "before: like that service pan pizza tastes is greart ebony ivory tastes is soo yummy drinks are also very good so quick service thank you pizza for great service\n",
            "list: {'greart'}\n",
            "misspelled word:  greart       correct word: great\n",
            "After: like that service pan pizza tastes is great ebony ivory tastes is soo yummy drinks are also very good so quick service thank you pizza for great service\n",
            "before: quick service like that cheese garlic bread tastes is awesome pan pizza veggie lover testes is awesome and also server are so great server like that\n",
            "list: set()\n",
            "After: quick service like that cheese garlic bread tastes is awesome pan pizza veggie lover testes is awesome and also server are so great server like that\n",
            "before: owesome pizza tastes drinks are good owesome service and also great server are here quik service in pizza hut thank you pizza hut\n",
            "list: {'owesome', 'quik'}\n",
            "misspelled word:  owesome       correct word: awesome\n",
            "misspelled word:  quik       correct word: quick\n",
            "After: awesome pizza tastes drinks are good awesome service and also great server are here quick service in pizza hut thank you pizza hut\n",
            "before: very courteous service good food reasonable pricing had good time thanks to the waiters for being so nice to us and help us select our pizzas chicken supreme was exceptionally good\n",
            "list: set()\n",
            "After: very courteous service good food reasonable pricing had good time thanks to the waiters for being so nice to us and help us select our pizzas chicken supreme was exceptionally good\n",
            "before: amazing place to hang out with friends cool ambience with supercooll service nice crisp pizzas enjoyed it to the core cheesemaxx rocks all of you should come\n",
            "list: {'supercooll', 'cheesemaxx'}\n",
            "After: amazing place to hang out with friends cool ambience with supercooll service nice crisp pizzas enjoyed it to the core cheesemaxx rocks all of you should come\n",
            "before: ambience is amazing good place to hang out with friends service is superb pizzaa was yyuummyy in love with this place will totally come again diditfordrinks comentryurluck\n",
            "list: {'comentryurluck', 'diditfordrinks', 'yyuummyy', 'pizzaa'}\n",
            "misspelled word:  pizzaa       correct word: piazza\n",
            "After: ambience is amazing good place to hang out with friends service is superb piazza was yyuummyy in love with this place will totally come again diditfordrinks comentryurluck\n",
            "before: nice outlet good ambience good place to hangout with friends the pizza was amazingg in love with this place delicious nd coming back\n",
            "list: {'nd', 'amazingg'}\n",
            "misspelled word:  amazingg       correct word: amazingly\n",
            "After: nice outlet good ambience good place to hangout with friends the pizza was amazingly in love with this place delicious nd coming back\n",
            "before: pizza was good and tasty love the atmosphere great customer mania christmas decoratoin was so good we along with the friend had selfie with it\n",
            "list: {'decoratoin'}\n",
            "misspelled word:  decoratoin       correct word: decorating\n",
            "After: pizza was good and tasty love the atmosphere great customer mania christmas decorating was so good we along with the friend had selfie with it\n",
            "before: good food soft crust pizzas overall nice experience and good ambience chicken wings were good enough pizza was and good service\n",
            "list: set()\n",
            "After: good food soft crust pizzas overall nice experience and good ambience chicken wings were good enough pizza was and good service\n",
            "before: good quality was good with loaded of topping and cheese we have order triple chicken feast medium size and guess what we got the discount of on our pizza and so we have order on more pizza that amazing we will surely come again on wednesday to get the discount\n",
            "list: set()\n",
            "After: good quality was good with loaded of topping and cheese we have order triple chicken feast medium size and guess what we got the discount of on our pizza and so we have order on more pizza that amazing we will surely come again on wednesday to get the discount\n",
            "before: value for money not only the pizzas are worth craving for the service provided is also worth it the best of its industry loved its pizza and service\n",
            "list: set()\n",
            "After: value for money not only the pizzas are worth craving for the service provided is also worth it the best of its industry loved its pizza and service\n",
            "before: amazing experience fully loaded pizzas full on friends time in love with cheese garlic bread friendly staff wonderful christmas decoration speciality hot fresh pan pizza and staff service\n",
            "list: set()\n",
            "After: amazing experience fully loaded pizzas full on friends time in love with cheese garlic bread friendly staff wonderful christmas decoration speciality hot fresh pan pizza and staff service\n",
            "before: good place and location and service for group of friend or family the food was really amazing and great food ambience was really good\n",
            "list: set()\n",
            "After: good place and location and service for group of friend or family the food was really amazing and great food ambience was really good\n",
            "before: food was amazing and chicken pepperoni pizza was really nice we are so much enjoying our time and food like this food and also music was good\n",
            "list: set()\n",
            "After: food was amazing and chicken pepperoni pizza was really nice we are so much enjoying our time and food like this food and also music was good\n",
            "before: pizza was good and also ambience was good we are enjoying our food and time chicken wing was really amazing thanku so much to serving nice food\n",
            "list: {'thanku'}\n",
            "misspelled word:  thanku       correct word: thankyou\n",
            "After: pizza was good and also ambience was good we are enjoying our food and time chicken wing was really amazing thankyou so much to serving nice food\n",
            "before: its nice experience being here the food is also nice and very tasty friends enjoy coming here we often order double cheese pizza\n",
            "list: set()\n",
            "After: its nice experience being here the food is also nice and very tasty friends enjoy coming here we often order double cheese pizza\n",
            "before: really good place had fun the desserts here are really good the staff is calm helpful must go place its kid friendly and food is really nice thank you so much\n",
            "list: set()\n",
            "After: really good place had fun the desserts here are really good the staff is calm helpful must go place its kid friendly and food is really nice thank you so much\n",
            "before: good service good staff really fresh food served best service by imran keep it up ordered meal for two its really worth it must try best place to visit with family good ambiance love masala soda most\n",
            "list: set()\n",
            "After: good service good staff really fresh food served best service by imran keep it up ordered meal for two its really worth it must try best place to visit with family good ambiance love masala soda most\n",
            "before: pizza was delicious and good imran was really nice he take care of our table the way he was describing the products was so good we really had great time\n",
            "list: set()\n",
            "After: pizza was delicious and good imran was really nice he take care of our table the way he was describing the products was so good we really had great time\n",
            "before: pizza hut is bestie meals was good as compare to dominos great hygenic fastest and quickest service one my try their chicken supreme pizzas is loaded with lots and lots of chicken\n",
            "list: {'hygenic'}\n",
            "misspelled word:  hygenic       correct word: unhygienic\n",
            "After: pizza hut is bestie meals was good as compare to dominos great unhygienic fastest and quickest service one my try their chicken supreme pizzas is loaded with lots and lots of chicken\n",
            "before: great food very nice ambience we had recommended triple chicken feast in cheesy maxx by the server and it was so joyful as if cheese is coming out from the pizza really had great blast\n",
            "list: set()\n",
            "After: great food very nice ambience we had recommended triple chicken feast in cheesy maxx by the server and it was so joyful as if cheese is coming out from the pizza really had great blast\n",
            "before: we went to almost to pizza hut outlet in gujarat but never had such great and good pizzas topping was almost so loaded with vegetables pizzas base sauce was nice spread and store decoration was soo good\n",
            "list: {'gujarat'}\n",
            "After: we went to almost to pizza hut outlet in gujarat but never had such great and good pizzas topping was almost so loaded with vegetables pizzas base sauce was nice spread and store decoration was soo good\n",
            "before: when we come to pizza hut host are amazing then also pan pizza tastes was really good and awesome and drinks are so good touhid make us so comfortable regarding theservice and great suggestion\n",
            "list: {'touhid', 'theservice'}\n",
            "misspelled word:  theservice       correct word: service\n",
            "After: when we come to pizza hut host are amazing then also pan pizza tastes was really good and awesome and drinks are so good touhid make us so comfortable regarding service and great suggestion\n",
            "before: the service was good and fast staff is very freindly and cooperative the pizza quality was fab worth visit and sure would visit again\n",
            "list: {'freindly'}\n",
            "misspelled word:  freindly       correct word: friendly\n",
            "After: the service was good and fast staff is very friendly and cooperative the pizza quality was fab worth visit and sure would visit again\n",
            "before: we had came to pizza hut to celebrate my best friend birthday although all items we ordered was good but surprise came after while around four to five staff get our table and start singing birthday song of pizza hut we were so delightful that we never think of this activity happening any where else thank all make our birthday so memorable at pizza hut\n",
            "list: set()\n",
            "After: we had came to pizza hut to celebrate my best friend birthday although all items we ordered was good but surprise came after while around four to five staff get our table and start singing birthday song of pizza hut we were so delightful that we never think of this activity happening any where else thank all make our birthday so memorable at pizza hut\n",
            "before: awesome place to visit all the staff are well trained and when it to great service pizza hut is the best they are so caring we have carried our baby and one of the server take care of my daughter so that we can have our meal really truly get hospitality\n",
            "list: set()\n",
            "After: awesome place to visit all the staff are well trained and when it to great service pizza hut is the best they are so caring we have carried our baby and one of the server take care of my daughter so that we can have our meal really truly get hospitality\n",
            "before: am the biggest fan of pizza hut and when it come to have great pizza one name came on my mind which is pizza hut near the cst station we really had great time specially the items are mouth watering they have great hospitality for every customers\n",
            "list: {'cst'}\n",
            "After: am the biggest fan of pizza hut and when it come to have great pizza one name came on my mind which is pizza hut near the cst station we really had great time specially the items are mouth watering they have great hospitality for every customers\n",
            "before: located at one of busiest place this outlet attract more of college goers and cooperate party we have ordered meal for and its was so delightful and cheaper we really enjoyed it surely visit again\n",
            "list: set()\n",
            "After: located at one of busiest place this outlet attract more of college goers and cooperate party we have ordered meal for and its was so delightful and cheaper we really enjoyed it surely visit again\n",
            "before: we ordered the veggie overloaded pizzas quiet nice the pizza it is with generous amount of vegetable toppings and cheese as well would really recommend to try this particular pizza\n",
            "list: set()\n",
            "After: we ordered the veggie overloaded pizzas quiet nice the pizza it is with generous amount of vegetable toppings and cheese as well would really recommend to try this particular pizza\n",
            "before: we really enjoy coming to this pizza hut outlet we have coming here since long time the tandoori paneer pizza and the masala lemonade which we really enjoyed lot\n",
            "list: set()\n",
            "After: we really enjoy coming to this pizza hut outlet we have coming here since long time the tandoori paneer pizza and the masala lemonade which we really enjoyed lot\n",
            "before: been at this place many times its indeed great experience coming to this place because of the mouth watering cheese loaded pizzas and other stuff that they serve\n",
            "list: set()\n",
            "After: been at this place many times its indeed great experience coming to this place because of the mouth watering cheese loaded pizzas and other stuff that they serve\n",
            "before: good ambience and the real taste of pizza after long time we really became feed up of dominos because their pizza is not upto what we expected as pizza we had great experienced and hospitality even while having pizza well passionate service great taste great topping\n",
            "list: set()\n",
            "After: good ambience and the real taste of pizza after long time we really became feed up of dominos because their pizza is not upto what we expected as pizza we had great experienced and hospitality even while having pizza well passionate service great taste great topping\n",
            "before: pizza hut is one place that we always prefer to our friend and family their pizza is just have unique and tranding base sause from the other pizza chain their ambience is so nice kind of peace out there\n",
            "list: {'sause', 'tranding'}\n",
            "misspelled word:  sause       correct word: sausage\n",
            "misspelled word:  tranding       correct word: training\n",
            "After: pizza hut is one place that we always prefer to our friend and family their pizza is just have unique and training base sausage from the other pizza chain their ambience is so nice kind of peace out there\n",
            "before: want to appreciate the staff here is just an awesome they are so co operative and helpful while suggestion the food the service they provide is mind blowing one should try the items ones\n",
            "list: set()\n",
            "After: want to appreciate the staff here is just an awesome they are so co operative and helpful while suggestion the food the service they provide is mind blowing one should try the items ones\n",
            "before: the serive was ok the taste of the pizza was not soo good felt that the pizza was not freshly made this affected its taste they should improve themselves and make the service good\n",
            "list: {'serive'}\n",
            "misspelled word:  serive       correct word: server\n",
            "After: the server was ok the taste of the pizza was not soo good felt that the pizza was not freshly made this affected its taste they should improve themselves and make the service good\n",
            "before: the food the music the service the ambience are the things would personally recommend everyone to expect at this place we had the manager taking our order she was very helpful is suggesting us the order which was definitely hit the pizzas the drinks were really quiet tasty\n",
            "list: set()\n",
            "After: the food the music the service the ambience are the things would personally recommend everyone to expect at this place we had the manager taking our order she was very helpful is suggesting us the order which was definitely hit the pizzas the drinks were really quiet tasty\n",
            "before: it was my friends birthday so we all decided to have quick bite of pizza so after the movie we just entered the pizza hut joint in cst the first impression is the last do believe this line we were greeted by the staff waiting near the door while placing the order we informed about my friends to our surprise they have their unique birthday rap which they collectively sing apart from the food which is always top notch the birthday celebration was also very unique big thank you to you guys for wonderful memory\n",
            "list: {'cst'}\n",
            "After: it was my friends birthday so we all decided to have quick bite of pizza so after the movie we just entered the pizza hut joint in cst the first impression is the last do believe this line we were greeted by the staff waiting near the door while placing the order we informed about my friends to our surprise they have their unique birthday rap which they collectively sing apart from the food which is always top notch the birthday celebration was also very unique big thank you to you guys for wonderful memory\n",
            "before: the best word to describe this place would me awesome they serve the best pizzas amazing mocktails and quiet delicious starters tried their chicken wings juicy stuff the pizzas were equally delicious my recommendation would be triple chicken feast combination of veggies and chicken together it indeed feast\n",
            "list: {'mocktails'}\n",
            "misspelled word:  mocktails       correct word: mocktail\n",
            "After: the best word to describe this place would me awesome they serve the best pizzas amazing mocktail and quiet delicious starters tried their chicken wings juicy stuff the pizzas were equally delicious my recommendation would be triple chicken feast combination of veggies and chicken together it indeed feast\n",
            "before: we came over here after very long time they have given makeover to this place we ordered the chicken supreme pizza as it was suggested to us by the server james it was indeed nice pizza loaded with chicken toppings and cheese the guy attending our table was very courteous had amazingly wonderful time over here\n",
            "list: set()\n",
            "After: we came over here after very long time they have given makeover to this place we ordered the chicken supreme pizza as it was suggested to us by the server james it was indeed nice pizza loaded with chicken toppings and cheese the guy attending our table was very courteous had amazingly wonderful time over here\n",
            "before: pizza was delicious and tasty meals was good and cheaper as great suggestions by the server king size meals server was really good they interact with every customer\n",
            "list: set()\n",
            "After: pizza was delicious and tasty meals was good and cheaper as great suggestions by the server king size meals server was really good they interact with every customer\n",
            "before: best quality food with fast service and amazing ambiance the friendly atmosphere is an good feeling to eat around thank pizza hut\n",
            "list: set()\n",
            "After: best quality food with fast service and amazing ambiance the friendly atmosphere is an good feeling to eat around thank pizza hut\n",
            "before: pizza hut is most finest food chain in the world because it served finest pizzas and pastas from any other food chains we glad to be the part of this thank\n",
            "list: set()\n",
            "After: pizza hut is most finest food chain in the world because it served finest pizzas and pastas from any other food chains we glad to be the part of this thank\n",
            "before: every time we visit pizza hut with great enthusiasm and what we get is soo higher of what we thought pizza they served is freshly hot\n",
            "list: set()\n",
            "After: every time we visit pizza hut with great enthusiasm and what we get is soo higher of what we thought pizza they served is freshly hot\n",
            "before: geat food and great customer service better from other outlets have visited will be visiting again soon keep it up\n",
            "list: set()\n",
            "After: geat food and great customer service better from other outlets have visited will be visiting again soon keep it up\n",
            "before: really amazing food and great service must visit good ambience good place to hang out with friends and family totally recommend it to all\n",
            "list: set()\n",
            "After: really amazing food and great service must visit good ambience good place to hang out with friends and family totally recommend it to all\n",
            "before: food was grt lyk the place service really we are enjoying our food and time we are sure visit again and again thanku so much thanku\n",
            "list: {'thanku', 'lyk', 'grt'}\n",
            "misspelled word:  thanku       correct word: thankyou\n",
            "After: food was grt lyk the place service really we are enjoying our food and time we are sure visit again and again thankyou so much thankyou\n",
            "before: food was amazing good ambience nice product serving always serve fresh and hot food really amazing place for pizza hut thanks so much\n",
            "list: set()\n",
            "After: food was amazing good ambience nice product serving always serve fresh and hot food really amazing place for pizza hut thanks so much\n",
            "before: pizza was good but mostly we like chicken wings as if they are soo juicy and crunchy had great time after long time awesome place love the atmosphere\n",
            "list: set()\n",
            "After: pizza was good but mostly we like chicken wings as if they are soo juicy and crunchy had great time after long time awesome place love the atmosphere\n",
            "before: service was great enjoyed this place it great place wish to come again with friends and family thank pizza hut you had make our day lovely\n",
            "list: set()\n",
            "After: service was great enjoyed this place it great place wish to come again with friends and family thank pizza hut you had make our day lovely\n",
            "before: pizza hut is my one of best place to have lovely and delicious pizzas their ambience is so good and always delightful and the best part is they are always helpful to us\n",
            "list: set()\n",
            "After: pizza hut is my one of best place to have lovely and delicious pizzas their ambience is so good and always delightful and the best part is they are always helpful to us\n",
            "before: pizza was awesome we have order chicken supreme pizza and when our pizza came it was soo joyful to have such delicoius pizza of what we have expected from our side\n",
            "list: {'delicoius'}\n",
            "misspelled word:  delicoius       correct word: delicious\n",
            "After: pizza was awesome we have order chicken supreme pizza and when our pizza came it was soo joyful to have such delicious pizza of what we have expected from our side\n",
            "before: pizzas was good and tempting as always we want to have from pizza hut we have told the server that we have movie to catch he has given quickest service thank\n",
            "list: set()\n",
            "After: pizzas was good and tempting as always we want to have from pizza hut we have told the server that we have movie to catch he has given quickest service thank\n",
            "before: good service and delightful hospitality the food is reallyy awesome and yum but its the ambience that actually makes pizza hut experience truly delightful\n",
            "list: {'reallyy'}\n",
            "misspelled word:  reallyy       correct word: really\n",
            "After: good service and delightful hospitality the food is really awesome and yum but its the ambience that actually makes pizza hut experience truly delightful\n",
            "before: food was great paneer capsicum pizza enjoying food and time music was good and also staff was copratitive and help ful\n",
            "list: {'copratitive'}\n",
            "misspelled word:  copratitive       correct word: competitive\n",
            "After: food was great paneer capsicum pizza enjoying food and time music was good and also staff was competitive and help ful\n",
            "before: food was amazing ambience was really good food was great we are enjoying our time thanks so much pizza hut we will site visit again and again\n",
            "list: set()\n",
            "After: food was amazing ambience was really good food was great we are enjoying our time thanks so much pizza hut we will site visit again and again\n",
            "before: food was really very tasty and the soup was awesome service is very good staff was really very helpful and in the pizza hut the offer is fantastic thank you\n",
            "list: set()\n",
            "After: food was really very tasty and the soup was awesome service is very good staff was really very helpful and in the pizza hut the offer is fantastic thank you\n",
            "before: pizza was good and the experience was awesome we wenjoyed lot best place to had parties and mini celebration and the drinks great and varities are good love it\n",
            "list: {'varities', 'wenjoyed'}\n",
            "misspelled word:  varities       correct word: verities\n",
            "misspelled word:  wenjoyed       correct word: enjoyed\n",
            "After: pizza was good and the experience was awesome we enjoyed lot best place to had parties and mini celebration and the drinks great and verities are good love it\n",
            "before: pizza was good amazing offer àmbience was soo good as always expected service was upto the mark pizzas was tempting love to come again\n",
            "list: {'àmbience'}\n",
            "misspelled word:  àmbience       correct word: ambience\n",
            "After: pizza was good amazing offer ambience was soo good as always expected service was upto the mark pizzas was tempting love to come again\n",
            "before: it was an amazing experience like the service and the pizza was good love it its great place to have party and we had day the drinks are good too and garlic bread was awesome\n",
            "list: set()\n",
            "After: it was an amazing experience like the service and the pizza was good love it its great place to have party and we had day the drinks are good too and garlic bread was awesome\n",
            "before: its gud like the crust which was awesome stuff we loved it we all had great time with friends its was great to have the service from their staff must suggest to visit\n",
            "list: set()\n",
            "After: its gud like the crust which was awesome stuff we loved it we all had great time with friends its was great to have the service from their staff must suggest to visit\n",
            "before: ambience is really good they have good menu service is very slow though they have verities of pizzas in veg and non veg categories many options available in beverages also seating arrangement is perfect its near from cst station its near bike parking all seems right except the delay in service\n",
            "list: {'cst'}\n",
            "After: ambience is really good they have good menu service is very slow though they have verities of pizzas in veg and non veg categories many options available in beverages also seating arrangement is perfect its near from cst station its near bike parking all seems right except the delay in service\n",
            "before: food was amazing we are ordering veggie supreme medium size and tandoori pander medium size the pizza test was really good cheese and topping was very good condity\n",
            "list: {'condity'}\n",
            "After: food was amazing we are ordering veggie supreme medium size and tandoori pander medium size the pizza test was really good cheese and topping was very good condity\n",
            "before: food was awesome we would like to visit again thank you we are visiting again and again great food lovely place nice music and good ambience\n",
            "list: set()\n",
            "After: food was awesome we would like to visit again thank you we are visiting again and again great food lovely place nice music and good ambience\n",
            "before: pizza was really good we are enjoying our food and also time music was also good thanks for pizza hut serving amazing food we will come back again\n",
            "list: set()\n",
            "After: pizza was really good we are enjoying our food and also time music was also good thanks for pizza hut serving amazing food we will come back again\n",
            "before: mind blowing pizza it was very good experience like your tandoori paneer pizzas service also very nicy treat like friends very very good experience wish come soon pizza hut\n",
            "list: {'nicy'}\n",
            "misspelled word:  nicy       correct word: nic\n",
            "After: mind blowing pizza it was very good experience like your tandoori paneer pizzas service also very nic treat like friends very very good experience wish come soon pizza hut\n",
            "before: pizzas were very fresh and staff were very good specially sagar unlimited scheme on weekdays or sunday both are worth visiting good varieties they offer in that unlimited offer\n",
            "list: set()\n",
            "After: pizzas were very fresh and staff were very good specially sagar unlimited scheme on weekdays or sunday both are worth visiting good varieties they offer in that unlimited offer\n",
            "before: the unlimited pizza slices and garlic bread offer at pizza hut non veg veg real steal they have options of pan pizza which include chicken tikka pizza chicken pepperoni pizza personally liked chicken tikka though both the pizzas were good soft juicy chicken and loads of cheese garlic breads with chese cost you extra which is amazing enjoy your fridays with these offers the service is here is pathetic we had to wait for long time to get even the menu cards on the table\n",
            "list: {'chese'}\n",
            "misspelled word:  chese       correct word: cheeses\n",
            "After: the unlimited pizza slices and garlic bread offer at pizza hut non veg veg real steal they have options of pan pizza which include chicken tikka pizza chicken pepperoni pizza personally liked chicken tikka though both the pizzas were good soft juicy chicken and loads of cheese garlic breads with cheeses cost you extra which is amazing enjoy your fridays with these offers the service is here is pathetic we had to wait for long time to get even the menu cards on the table\n",
            "before: we ordered the tandoori paneer and the chicken tila pizza they were quiet generous with the amount of toppings they put in the pizza loved both the pizzas as they have very unique different sauce which is the best part of both the pizzas\n",
            "list: {'tila'}\n",
            "misspelled word:  tila       correct word: tilak\n",
            "After: we ordered the tandoori paneer and the chicken tilak pizza they were quiet generous with the amount of toppings they put in the pizza loved both the pizzas as they have very unique different sauce which is the best part of both the pizzas\n",
            "before: this place is really place to be at wid ur friends amazing food quick service great music played lovely ambience this has to be the best pizza joint\n",
            "list: set()\n",
            "After: this place is really place to be at wid ur friends amazing food quick service great music played lovely ambience this has to be the best pizza joint\n",
            "before: please check your pizza when you pick it up these people take advantage of your trust on the brand and slip shit quality pizza theyve introduced an offer where you pay on your takeaways went to this outlet as it is near my locality ordered margarita didnt bother to check the pizza when picking it and paid the price for it\n",
            "list: set()\n",
            "After: please check your pizza when you pick it up these people take advantage of your trust on the brand and slip shit quality pizza theyve introduced an offer where you pay on your takeaways went to this outlet as it is near my locality ordered margarita didnt bother to check the pizza when picking it and paid the price for it\n",
            "before: if you are trying to order pan pizzas they basically dont put cheese in it just little amount is spreaded just for show purpose if youll complain to them regarding this they dont even talk to their customers at good ma at had very bad experience in this branch their staff is also worst\n",
            "list: set()\n",
            "After: if you are trying to order pan pizzas they basically dont put cheese in it just little amount is spreaded just for show purpose if youll complain to them regarding this they dont even talk to their customers at good ma at had very bad experience in this branch their staff is also worst\n",
            "before: triple chicken feast pizza with sausage crust atpizza hut when is comes to pizzas theres nothing which can come close to their flavours and texture they way their sauce blends into the their soft home baked crust and the toppings covered with mozzarella cheese complete treat for pizza lover triple chicken feast contains chicken kheema chicken meatballs chicken hot and chilli capsicum onion and sweet corn not very spicy but could add bit of spice by replacing the sweet corn with jalapeños rating follow thefood_pavilion for your daily does of some appetizing food around mumbai dm us or use thefoodpavilion to get featured mumbaifoodiciousbiteandwritefooddiariesfoodbloggerfoodloverfoodphotographypicofthedaythingsdoinmumbaibonappetitfollowfollowinstafood foodpics foodphotography foodgasm foodbloggerfoodblogfoodindiafoodofmumbai mumbaifoodie bloggersofmumbai bloggersofinstagramzomatoreviewerzomato thefood_pavilion\n",
            "list: {'mumbaifoodie', 'thefoodpavilion', 'atpizza', 'jalapeños', 'thefood_pavilion', 'bloggersofmumbai', 'dm', 'kheema', 'foodphotography', 'foodpics', 'foodgasm'}\n",
            "misspelled word:  atpizza       correct word: pizza\n",
            "misspelled word:  jalapeños       correct word: jalapenos\n",
            "After: triple chicken feast pizza with sausage crust pizza hut when is comes to pizzas theres nothing which can come close to their flavours and texture they way their sauce blends into the their soft home baked crust and the toppings covered with mozzarella cheese complete treat for pizza lover triple chicken feast contains chicken kheema chicken meatballs chicken hot and chilli capsicum onion and sweet corn not very spicy but could add bit of spice by replacing the sweet corn with jalapenos rating follow thefood_pavilion for your daily does of some appetizing food around mumbai dm us or use thefoodpavilion to get featured mumbaifoodiciousbiteandwritefooddiariesfoodbloggerfoodloverfoodphotographypicofthedaythingsdoinmumbaibonappetitfollowfollowinstafood foodpics foodphotography foodgasm foodbloggerfoodblogfoodindiafoodofmumbai mumbaifoodie bloggersofmumbai bloggersofinstagramzomatoreviewerzomato thefood_pavilion\n",
            "before: nice restaurant courteous staff pizza hut has superb offer of unlimited pizzas and garlic bread at on fridays catch is garlic breads are without cheese and veg pizzas have two options only can work on their offer better quality is good and staff gives hot and fresh pizzas everytime pizzas are costly and pricing needs to be work upon\n",
            "list: set()\n",
            "After: nice restaurant courteous staff pizza hut has superb offer of unlimited pizzas and garlic bread at on fridays catch is garlic breads are without cheese and veg pizzas have two options only can work on their offer better quality is good and staff gives hot and fresh pizzas everytime pizzas are costly and pricing needs to be work upon\n",
            "before: only pizza hut outlet you will find in entire southbombay the ambience is quite good an music playing in background the staff is really polite and helpfull but during rush hkurs they tend to jumble at times coming back to food we had paneer tandoori pizza with cheese max crust it was soft perfectly done with alot of cheese they have diff offers like unlimited veg for nonveg for monthuryou get garlic bread pizza softdrinks and dessert in unlimited with diff variety to choose from we also had cheese garlice bread and chicken cheese garlic bread it will take your taste buds on roll chicken supreme pizza is must for all you nonvegeterians out there topped with alot of cheese and chicken coming to dessert chocolate fudge just makes your tongue droll good place for pizza lovers and request to pizza hut management ease open more outlets in southbombay taste ambience value for money\n",
            "list: {'nonveg', 'helpfull', 'garlice', 'nonvegeterians', 'hkurs', 'monthuryou', 'softdrinks', 'southbombay'}\n",
            "misspelled word:  helpfull       correct word: helpful\n",
            "misspelled word:  garlice       correct word: garlic\n",
            "After: only pizza hut outlet you will find in entire southbombay the ambience is quite good an music playing in background the staff is really polite and helpful but during rush hkurs they tend to jumble at times coming back to food we had paneer tandoori pizza with cheese max crust it was soft perfectly done with alot of cheese they have diff offers like unlimited veg for nonveg for monthuryou get garlic bread pizza softdrinks and dessert in unlimited with diff variety to choose from we also had cheese garlic bread and chicken cheese garlic bread it will take your taste buds on roll chicken supreme pizza is must for all you nonvegeterians out there topped with alot of cheese and chicken coming to dessert chocolate fudge just makes your tongue droll good place for pizza lovers and request to pizza hut management ease open more outlets in southbombay taste ambience value for money\n",
            "before: when am come in pizza hut greet warm smile always and also magic pan pizza testes is so amazing and also nice experience in pizza hut come again again again\n",
            "list: set()\n",
            "After: when am come in pizza hut greet warm smile always and also magic pan pizza testes is so amazing and also nice experience in pizza hut come again again again\n",
            "before: good place good service we are enjoying pizza good service visit again thank you byy\n",
            "list: {'byy'}\n",
            "After: good place good service we are enjoying pizza good service visit again thank you byy\n",
            "before: excellent service good place king size meal is very good visit again thank you\n",
            "list: set()\n",
            "After: excellent service good place king size meal is very good visit again thank you\n",
            "before: amazing service was very good nice atmosphere all good little bit of sound problem but it was good very well organized very near to station\n",
            "list: set()\n",
            "After: amazing service was very good nice atmosphere all good little bit of sound problem but it was good very well organized very near to station\n",
            "before: nice place good service cheers mex pizza is very good and tasty visit again thank\n",
            "list: set()\n",
            "After: nice place good service cheers mex pizza is very good and tasty visit again thank\n",
            "before: this was my st visit to pizza hut and only reason of visiting was the off bookmyshow coupon when we entered the table had to be found by us only and staff did not help the table was not cleaned and had stuff of previous customers so we had to ask them to clean it up water was given to us after asking for it thrice we ordered chicken tikka pan pizza and tandoori paneer pan pizza which we had to tell them thrice to get the order this is one of the worst services have ever seen in such kind of restaurant tandoori paneer pan pizza portion of medium pizza good the sauce was next to tasteless and toppings were ordinary also the flavor of the cheese was not impactful when compared to likes of dominos pizza on taste the cost was rs which is expensive for what they give chicken tikka pan pizza toppings were not that much and the flavor was average was surprised to see chicken tikka pizza which was so bland on taste the cost was rs only this decent about their pizza was the bread which was soft and good also we had to ask for the bill thrice and stand up from the table to finally pay it overall pathetic experience at this place not recommended to anyone and am never visiting it again\n",
            "list: {'bookmyshow', 'st', 'rs'}\n",
            "After: this was my st visit to pizza hut and only reason of visiting was the off bookmyshow coupon when we entered the table had to be found by us only and staff did not help the table was not cleaned and had stuff of previous customers so we had to ask them to clean it up water was given to us after asking for it thrice we ordered chicken tikka pan pizza and tandoori paneer pan pizza which we had to tell them thrice to get the order this is one of the worst services have ever seen in such kind of restaurant tandoori paneer pan pizza portion of medium pizza good the sauce was next to tasteless and toppings were ordinary also the flavor of the cheese was not impactful when compared to likes of dominos pizza on taste the cost was rs which is expensive for what they give chicken tikka pan pizza toppings were not that much and the flavor was average was surprised to see chicken tikka pizza which was so bland on taste the cost was rs only this decent about their pizza was the bread which was soft and good also we had to ask for the bill thrice and stand up from the table to finally pay it overall pathetic experience at this place not recommended to anyone and am never visiting it again\n",
            "before: doesnt deliver to every place\n",
            "list: set()\n",
            "After: doesnt deliver to every place\n",
            "before: pizza was good amazing place we are enjoying our food thank so much good ambience sure will will visit again and again thanku\n",
            "list: {'thanku'}\n",
            "misspelled word:  thanku       correct word: thankyou\n",
            "After: pizza was good amazing place we are enjoying our food thank so much good ambience sure will will visit again and again thankyou\n",
            "before: it was awesome loved it friendly staff and the best pizza ever would recommend everyone to try pizza hut it was really good experience for me and my friends\n",
            "list: set()\n",
            "After: it was awesome loved it friendly staff and the best pizza ever would recommend everyone to try pizza hut it was really good experience for me and my friends\n",
            "before: pizza hut has been my favorite since was collegian and my love for their pizzas and garlic bread is never ending and always increasing with the surge of pizza places all around this continues to be my st choice when feel the urge of eating comfort food my recent trip to pizza hut made me realize that havent written the review so here goes the ambience of this pizza hut is really cool and brightly lit up the service is fast as usual and the food is consistent as always here goes the line up of the food ordered country feast since dont eat mushrooms had requested the waiter to exclude it the pizza was made so well it was fully loaded with veggies and it was perfectly cheesy and saucy the crust was very finely baked and the pizza was finger licking good one of my all time favorite pizzas paneer vegorama am fan of paneer pizzas and this was an addition to my list of most preferred ones the paneer was succulent and the veggies complemented it so well that the pizza turned out to be outstanding yummylicious to the core tandoori paneer cant count on my fingertips as to how many times have ordered this pizza relentlessly never get satisfied by it and hence this is always my standard order the way indian flavours are incorporated this pizza has become the hands down winner of tandoori paneer pizzas from around the world yes this is the worlds best tandoori pizza garlic bread have had the cheese garlic bread and exotica garlic bread so much that this was my biggest reference point for reviewing any other ones that would try highly recommended cheesy paneer pockets the pockets are filled with filling which is similar to that of their pizzas but the jalapeno mayo that they serve with is takes the crown the dip is so tasty that couldnt stop eating it by itself tomato basil soup this soup is going to taste very different from your normal tomato shorbas and cream of tomato soups and yet it is revered by me its something else try it once if you like have had many more items over the years but these are the ones that truely standout and make way for regular orders whether you are pizza fan or not give this outlet try and im sure you will love it strongly recommended\n",
            "list: {'st', 'exotica', 'vegorama', 'shorbas', 'collegian', 'yummylicious'}\n",
            "misspelled word:  exotica       correct word: exotic\n",
            "After: pizza hut has been my favorite since was collegian and my love for their pizzas and garlic bread is never ending and always increasing with the surge of pizza places all around this continues to be my st choice when feel the urge of eating comfort food my recent trip to pizza hut made me realize that havent written the review so here goes the ambience of this pizza hut is really cool and brightly lit up the service is fast as usual and the food is consistent as always here goes the line up of the food ordered country feast since dont eat mushrooms had requested the waiter to exclude it the pizza was made so well it was fully loaded with veggies and it was perfectly cheesy and saucy the crust was very finely baked and the pizza was finger licking good one of my all time favorite pizzas paneer vegorama am fan of paneer pizzas and this was an addition to my list of most preferred ones the paneer was succulent and the veggies complemented it so well that the pizza turned out to be outstanding yummylicious to the core tandoori paneer cant count on my fingertips as to how many times have ordered this pizza relentlessly never get satisfied by it and hence this is always my standard order the way indian flavours are incorporated this pizza has become the hands down winner of tandoori paneer pizzas from around the world yes this is the worlds best tandoori pizza garlic bread have had the cheese garlic bread and exotic garlic bread so much that this was my biggest reference point for reviewing any other ones that would try highly recommended cheesy paneer pockets the pockets are filled with filling which is similar to that of their pizzas but the jalapeno mayo that they serve with is takes the crown the dip is so tasty that couldnt stop eating it by itself tomato basil soup this soup is going to taste very different from your normal tomato shorbas and cream of tomato soups and yet it is revered by me its something else try it once if you like have had many more items over the years but these are the ones that truely standout and make way for regular orders whether you are pizza fan or not give this outlet try and im sure you will love it strongly recommended\n",
            "before: excellent service great food qulity good cleanness thank you come again\n",
            "list: {'qulity'}\n",
            "misspelled word:  qulity       correct word: quality\n",
            "After: excellent service great food quality good cleanness thank you come again\n",
            "before: good place good service chees mex was very nice and tasty thank you visit again\n",
            "list: set()\n",
            "After: good place good service chees mex was very nice and tasty thank you visit again\n",
            "before: amazing pizza pizza hut all time favourite if you really want to have good pizza then pizza hut is perfect place for very tasty\n",
            "list: set()\n",
            "After: amazing pizza pizza hut all time favourite if you really want to have good pizza then pizza hut is perfect place for very tasty\n",
            "before: been here yesterday for the unlimited friday offer verdict its useless hated the pizzas that were offered made in haste and tasted like hell used to like their gourment food but now they have marked down their quality chicken pepperoni pizza is unbearable while chicken tikka pizza was still ok but nowhere near the ones they used to make earlier also probably they had not preplanned their kitchen for the offer as one could see the confusion going on all the guests had to wait for long time to het their orders overall not good plan\n",
            "list: {'gourment'}\n",
            "misspelled word:  gourment       correct word: gourmet\n",
            "After: been here yesterday for the unlimited friday offer verdict its useless hated the pizzas that were offered made in haste and tasted like hell used to like their gourmet food but now they have marked down their quality chicken pepperoni pizza is unbearable while chicken tikka pizza was still ok but nowhere near the ones they used to make earlier also probably they had not preplanned their kitchen for the offer as one could see the confusion going on all the guests had to wait for long time to het their orders overall not good plan\n",
            "before: have visited pizza hut before so this was mistake but clearly the winner of worst pizzas and garlic bread goes to ph horrible is an understatement the cheese feels as if you are having bread with milk the garlic bread is eqully bad do not know why they still charge bomb for this low grade food they serve all outlets have varied tastes no one good though really bad please avoid\n",
            "list: {'ph', 'eqully'}\n",
            "misspelled word:  eqully       correct word: equally\n",
            "After: have visited pizza hut before so this was mistake but clearly the winner of worst pizzas and garlic bread goes to ph horrible is an understatement the cheese feels as if you are having bread with milk the garlic bread is equally bad do not know why they still charge bomb for this low grade food they serve all outlets have varied tastes no one good though really bad please avoid\n",
            "before: food was good we ordered chicken sausage pizza nice food also we ordered chicken stuff pocket also good thanku so much we will visit again and again\n",
            "list: {'thanku'}\n",
            "misspelled word:  thanku       correct word: thankyou\n",
            "After: food was good we ordered chicken sausage pizza nice food also we ordered chicken stuff pocket also good thankyou so much we will visit again and again\n",
            "before: best place to spend time with frnds enjoy the lovely tasty food the service here is awsm thanks pizza hut for the tasty food pizza is love chicken pocket ws jst awsm\n",
            "list: {'awsm', 'frnds', 'ws', 'jst'}\n",
            "misspelled word:  frnds       correct word: friends\n",
            "misspelled word:  jst       correct word: just\n",
            "After: best place to spend time with friends enjoy the lovely tasty food the service here is awsm thanks pizza hut for the tasty food pizza is love chicken pocket ws just awsm\n",
            "before: awsm food best service best place to spend time with frnds family too tasty chicken pocket is jst awesome thank you so muvh for the lovely food best service besttimebestplacebestfoodpizzapizzahutgangfun\n",
            "list: {'awsm', 'muvh', 'frnds', 'jst'}\n",
            "misspelled word:  frnds       correct word: friends\n",
            "misspelled word:  jst       correct word: just\n",
            "After: awsm food best service best place to spend time with friends family too tasty chicken pocket is just awesome thank you so muvh for the lovely food best service besttimebestplacebestfoodpizzapizzahutgangfun\n",
            "before: good service also food was good amazing good server ambience was good enjoyable place thanku so much we will visit again and again\n",
            "list: {'thanku'}\n",
            "misspelled word:  thanku       correct word: thankyou\n",
            "After: good service also food was good amazing good server ambience was good enjoyable place thankyou so much we will visit again and again\n",
            "before: lovly food had very good time loveit we are enjoying our food very good place and amazing ambience thanku so much sure we will visit again and again\n",
            "list: {'thanku', 'lovly'}\n",
            "misspelled word:  thanku       correct word: thankyou\n",
            "misspelled word:  lovly       correct word: lovely\n",
            "After: lovely food had very good time loveit we are enjoying our food very good place and amazing ambience thankyou so much sure we will visit again and again\n",
            "before: pizza was very delicious service is also good really enjoyed will definately come back in short period thanks\n",
            "list: set()\n",
            "After: pizza was very delicious service is also good really enjoyed will definately come back in short period thanks\n",
            "before: food was amazing good test chicken kabab crust pizza was amazing we are enjoying or food also great ambience thanku so much\n",
            "list: {'thanku', 'kabab'}\n",
            "misspelled word:  thanku       correct word: thankyou\n",
            "After: food was amazing good test chicken kabab crust pizza was amazing we are enjoying or food also great ambience thankyou so much\n",
            "before: so this is one of my oldest hangouts however to my surprise they have really dropped their service for sure ordered for meal where we were to get served with garlic bread some soft beverage and the pizza we upgraded our menu as the server recommended too however the wait for our food was next level long the drinks are always served along with the appetiser but here the garlic bread comes mins before the pizza followed by the soft beverage yeah ridiculous starving that we were didnt complain asked them for pepper sauce took mins to get it this is the most basic thing to be pre placed on all tables in pizza hut we thought towards dessert ivory ebony was good but dont think we were in any mood post this experience left sour taste this used to be our favourite joint not sure what happened to their quality of service\n",
            "list: {'appetiser'}\n",
            "misspelled word:  appetiser       correct word: appetite\n",
            "After: so this is one of my oldest hangouts however to my surprise they have really dropped their service for sure ordered for meal where we were to get served with garlic bread some soft beverage and the pizza we upgraded our menu as the server recommended too however the wait for our food was next level long the drinks are always served along with the appetite but here the garlic bread comes mins before the pizza followed by the soft beverage yeah ridiculous starving that we were didnt complain asked them for pepper sauce took mins to get it this is the most basic thing to be pre placed on all tables in pizza hut we thought towards dessert ivory ebony was good but dont think we were in any mood post this experience left sour taste this used to be our favourite joint not sure what happened to their quality of service\n",
            "before: good food new decore fast service pepproni pizza was delisious with spicy sausage filling and an apple mojitao just made my day the staff were curtious\n",
            "list: {'curtious', 'pepproni', 'mojitao', 'delisious', 'decore'}\n",
            "misspelled word:  curtious       correct word: courteous\n",
            "misspelled word:  pepproni       correct word: pepperoni\n",
            "misspelled word:  mojitao       correct word: mojitos\n",
            "misspelled word:  delisious       correct word: delicious\n",
            "misspelled word:  decore       correct word: decor\n",
            "After: good food new decor fast service pepperoni pizza was delicious with spicy sausage filling and an apple mojitos just made my day the staff were courteous\n",
            "before: ausome pizzas range of variety cool placeto hangout wid frnds evngs orthewhile spending overall agood outlet its place to recommended\n",
            "list: {'evngs', 'orthewhile', 'ausome', 'frnds'}\n",
            "misspelled word:  ausome       correct word: awsome\n",
            "misspelled word:  frnds       correct word: friends\n",
            "After: awsome pizzas range of variety cool placeto hangout wid friends evngs orthewhile spending overall agood outlet its place to recommended\n",
            "before: good place to spend ur time with ur besties serve was good and hospitality was worth will recommend this place ambience was cool pizza waa ausome\n",
            "list: {'ausome'}\n",
            "misspelled word:  ausome       correct word: awsome\n",
            "After: good place to spend ur time with ur besties serve was good and hospitality was worth will recommend this place ambience was cool pizza waa awsome\n",
            "before: pizza was chessy yummy and tasty sweet and crunchy base yummy pizza was cheese maxx tandoori paneer and stuffcrust non veg triple ckn feast both where awsome\n",
            "list: {'chessy', 'ckn', 'stuffcrust'}\n",
            "misspelled word:  chessy       correct word: cheesy\n",
            "After: pizza was cheesy yummy and tasty sweet and crunchy base yummy pizza was cheese maxx tandoori paneer and stuffcrust non veg triple ckn feast both where awsome\n",
            "before: good food at pizza hut sterling outlet great service provide by geeta unlimited pizza party was very good offer rs but only select menu\n",
            "list: {'rs'}\n",
            "After: good food at pizza hut sterling outlet great service provide by geeta unlimited pizza party was very good offer rs but only select menu\n",
            "before: we orderd the unlimited meal the pizza was good also service was good thanku so much\n",
            "list: {'thanku'}\n",
            "misspelled word:  thanku       correct word: thankyou\n",
            "After: we orderd the unlimited meal the pizza was good also service was good thankyou so much\n",
            "before: the food was not that good and tye service is just awful they clearly do not care if we sit for half an hour waiting for the food and they even tend to forget the order and the staff literally forces you to write reviews that too star reviews for them\n",
            "list: set()\n",
            "After: the food was not that good and tye service is just awful they clearly do not care if we sit for half an hour waiting for the food and they even tend to forget the order and the staff literally forces you to write reviews that too star reviews for them\n",
            "before: good service great food unlimited friday offer is nice visit again thank you\n",
            "list: set()\n",
            "After: good service great food unlimited friday offer is nice visit again thank you\n",
            "before: we ordered unlimited pizza hail hydra\n",
            "list: set()\n",
            "After: we ordered unlimited pizza hail hydra\n",
            "before: we ordered unlimited pizza offer but seems to have little bit slow service and review are taken forcefully\n",
            "list: set()\n",
            "After: we ordered unlimited pizza offer but seems to have little bit slow service and review are taken forcefully\n",
            "before: it was delicious very cheesy the offer very fantastic and it is good for young teenegers they can hangout here too but service was slow\n",
            "list: {'teenegers'}\n",
            "misspelled word:  teenegers       correct word: teenagers\n",
            "After: it was delicious very cheesy the offer very fantastic and it is good for young teenagers they can hangout here too but service was slow\n",
            "before: have tasted tandoori paneer pizza from pizza hut and was speechless about it because it was so tasty and awesome and actually vegetarian so thats why have taken it but thought like its vegetarian pizza so it will not good for taste but when it ate that pizza that time was speechless beacuse its taste was great amazing\n",
            "list: set()\n",
            "After: have tasted tandoori paneer pizza from pizza hut and was speechless about it because it was so tasty and awesome and actually vegetarian so thats why have taken it but thought like its vegetarian pizza so it will not good for taste but when it ate that pizza that time was speechless beacuse its taste was great amazing\n",
            "before: have tasted triple chicken feast from pizza hut and its very tasty and unique from others just loved it and the service of pizza hut is very nice and all the employees of pizza hut are so cooperative and the pizza was awesome really very awesome like it\n",
            "list: set()\n",
            "After: have tasted triple chicken feast from pizza hut and its very tasty and unique from others just loved it and the service of pizza hut is very nice and all the employees of pizza hut are so cooperative and the pizza was awesome really very awesome like it\n",
            "before: excellcent food and service full filling food pizza was absolutely awesome also staff was helfful an friendly like it overall experience\n",
            "list: {'excellcent', 'helfful'}\n",
            "misspelled word:  excellcent       correct word: excellently\n",
            "misspelled word:  helfful       correct word: helpful\n",
            "After: excellently food and service full filling food pizza was absolutely awesome also staff was helpful an friendly like it overall experience\n",
            "before: food was amazing also ambience was good friendly server fresh and hot food serve we are enjoying our food and time thanku so much we will visit again\n",
            "list: {'thanku'}\n",
            "misspelled word:  thanku       correct word: thankyou\n",
            "After: food was amazing also ambience was good friendly server fresh and hot food serve we are enjoying our food and time thankyou so much we will visit again\n",
            "before: me and my friend today visited the pizza hut outlet near by cat station there offer was amazing discount take away offer really good and food is also good\n",
            "list: set()\n",
            "After: me and my friend today visited the pizza hut outlet near by cat station there offer was amazing discount take away offer really good and food is also good\n",
            "before: very delicious food also present discount is very nice offer chicken tikka was nice pizza also we ordered double trouble pizza both pizza was really nice\n",
            "list: set()\n",
            "After: very delicious food also present discount is very nice offer chicken tikka was nice pizza also we ordered double trouble pizza both pizza was really nice\n",
            "before: food was good always give nice offer good ambience friendly server always serve fresh quality food sure we will visit again pizza was good\n",
            "list: set()\n",
            "After: food was good always give nice offer good ambience friendly server always serve fresh quality food sure we will visit again pizza was good\n",
            "before: delicious food with good service also very good ambience really amazing offers friendly server also they give fast service we will sure visit again\n",
            "list: set()\n",
            "After: delicious food with good service also very good ambience really amazing offers friendly server also they give fast service we will sure visit again\n",
            "before: unlimited offer is good nice service me and my friend enjoying our time tandoori pander was really good pizza also server was very friendly thank so much\n",
            "list: set()\n",
            "After: unlimited offer is good nice service me and my friend enjoying our time tandoori pander was really good pizza also server was very friendly thank so much\n",
            "before: excellent food and service nice offers full filling food really enjoying unlimited offer was really good sure we will visit again thank you so much\n",
            "list: set()\n",
            "After: excellent food and service nice offers full filling food really enjoying unlimited offer was really good sure we will visit again thank you so much\n",
            "before: so he had the chicken italiano pizza with cheese burst and it was just mind blowing we also tried the jalapeno poppers and they were beyond expectation in addition we came on wed and availed of an additional discount\n",
            "list: set()\n",
            "After: so he had the chicken italiano pizza with cheese burst and it was just mind blowing we also tried the jalapeno poppers and they were beyond expectation in addition we came on wed and availed of an additional discount\n",
            "before: really good service food yummy lava cake pan pizzas good crust especially tandoori paneer pizza the offers are also amazing need to visit hope to see other outlets soon\n",
            "list: set()\n",
            "After: really good service food yummy lava cake pan pizzas good crust especially tandoori paneer pizza the offers are also amazing need to visit hope to see other outlets soon\n",
            "before: pizza was absolutely awesomecheesy spicy and very tasty loved itpizza which ate was chicken sausages and veg classic thanku so much\n",
            "list: {'itpizza', 'thanku', 'awesomecheesy'}\n",
            "misspelled word:  itpizza       correct word: pizza\n",
            "misspelled word:  thanku       correct word: thankyou\n",
            "After: pizza was absolutely awesomecheesy spicy and very tasty loved pizza which ate was chicken sausages and veg classic thankyou so much\n",
            "before: pizza hut offer was really amazing present offer was really great we enjoying our food and also they give very good service thanku so much\n",
            "list: {'thanku'}\n",
            "misspelled word:  thanku       correct word: thankyou\n",
            "After: pizza hut offer was really amazing present offer was really great we enjoying our food and also they give very good service thankyou so much\n",
            "before: this joint is quiet vibrant and yes they has makeover and we quiet like the new interior the feel and the look of this place is quiet thrilling the service is quick fast and prompt with finger licking good tasty food served\n",
            "list: set()\n",
            "After: this joint is quiet vibrant and yes they has makeover and we quiet like the new interior the feel and the look of this place is quiet thrilling the service is quick fast and prompt with finger licking good tasty food served\n",
            "before: great ambiance and great pizza love it would love to gisit this place again we are enjoying our food thanku so much we sure visit again and again\n",
            "list: {'thanku', 'gisit'}\n",
            "misspelled word:  thanku       correct word: thankyou\n",
            "After: great ambiance and great pizza love it would love to gisit this place again we are enjoying our food thankyou so much we sure visit again and again\n",
            "before: pizza was good chicken supreme pizza was nice pizza chicken quantity was good staff was friendly we enjoying our time thanku so much we will visit again\n",
            "list: {'thanku'}\n",
            "misspelled word:  thanku       correct word: thankyou\n",
            "After: pizza was good chicken supreme pizza was nice pizza chicken quantity was good staff was friendly we enjoying our time thankyou so much we will visit again\n",
            "before: the decor and atmosphere was nice the food was nice too cheese was smooth crust was better staff and service were nice price sensitive would recommend if you are craving pizza\n",
            "list: set()\n",
            "After: the decor and atmosphere was nice the food was nice too cheese was smooth crust was better staff and service were nice price sensitive would recommend if you are craving pizza\n",
            "before: good food quality time spent need to vist once awsm ambience tasty veggie over loaded pizza wit garlic cheez bread like to vist nxt tym wit family frnds\n",
            "list: {'vist', 'awsm', 'nxt', 'frnds'}\n",
            "misspelled word:  vist       correct word: visit\n",
            "misspelled word:  nxt       correct word: next\n",
            "misspelled word:  frnds       correct word: friends\n",
            "After: good food quality time spent need to visit once awsm ambience tasty veggie over loaded pizza wit garlic cheez bread like to visit next tym wit family friends\n",
            "before: veggie feast pizza was nice cheese and topping are so much also this place was nice place we are so many times go to this outlet and every time they give fast great servic\n",
            "list: {'servic'}\n",
            "misspelled word:  servic       correct word: services\n",
            "After: veggie feast pizza was nice cheese and topping are so much also this place was nice place we are so many times go to this outlet and every time they give fast great services\n",
            "before: liked service of imran and tauheed at the fort outlet excellent service and had great time with the pizza hut wish to come again and again\n",
            "list: {'tauheed'}\n",
            "After: liked service of imran and tauheed at the fort outlet excellent service and had great time with the pizza hut wish to come again and again\n",
            "before: the quality of pizza served at pizza hut has drastically fallen the pizza sauce was too salty the tables were not clean and had bad odour the iced tea tasted old and refrigerated over all poor experience\n",
            "list: set()\n",
            "After: the quality of pizza served at pizza hut has drastically fallen the pizza sauce was too salty the tables were not clean and had bad odour the iced tea tasted old and refrigerated over all poor experience\n",
            "before: the food was good and delivery was fast its nice that came here and the unlimited service of the pizza was amazing and its nice location the interior is good its nice to be here and the service was awesome loved it\n",
            "list: set()\n",
            "After: the food was good and delivery was fast its nice that came here and the unlimited service of the pizza was amazing and its nice location the interior is good its nice to be here and the service was awesome loved it\n",
            "before: service was good prime location right next to sterling we had unlimited pizza offers unlike other joints service and food quality wasnt compromised\n",
            "list: set()\n",
            "After: service was good prime location right next to sterling we had unlimited pizza offers unlike other joints service and food quality wasnt compromised\n",
            "before: the unlimited offer was really amazing me and my friend ordered the unlimited pizza meal pizza was thanku so much we will sure visit again and again\n",
            "list: {'thanku'}\n",
            "misspelled word:  thanku       correct word: thankyou\n",
            "After: the unlimited offer was really amazing me and my friend ordered the unlimited pizza meal pizza was thankyou so much we will sure visit again and again\n",
            "before: their service was apprecitating even the food they served was delicious and the unlimited offer was really amazing chicken rolls pizza was really good\n",
            "list: {'apprecitating'}\n",
            "misspelled word:  apprecitating       correct word: appreciating\n",
            "After: their service was appreciating even the food they served was delicious and the unlimited offer was really amazing chicken rolls pizza was really good\n",
            "before: chicken supreme pizza was really amazing chicken topping was really very nice quantity also pizza test was awsom really very nice food serving pizza hut\n",
            "list: {'awsom'}\n",
            "misspelled word:  awsom       correct word: awsome\n",
            "After: chicken supreme pizza was really amazing chicken topping was really very nice quantity also pizza test was awsome really very nice food serving pizza hut\n",
            "before: good pizzas would definitely rate higher than dominos prompt service value meal options are available the flies buzzing around in the restaurant need to be taken care of though\n",
            "list: set()\n",
            "After: good pizzas would definitely rate higher than dominos prompt service value meal options are available the flies buzzing around in the restaurant need to be taken care of though\n",
            "before: liked the pizza especially the stuff the crust was so fresh and crunchy love pizzahut we will surevisit again and again thanku so much\n",
            "list: {'pizzahut', 'surevisit', 'thanku'}\n",
            "misspelled word:  surevisit       correct word: revisit\n",
            "misspelled word:  thanku       correct word: thankyou\n",
            "After: liked the pizza especially the stuff the crust was so fresh and crunchy love pizzahut we will revisit again and again thankyou so much\n",
            "before: the food was really amazing service was quite quick chicken wings should have been spicier the order thanku so much pizza hut make my day\n",
            "list: {'thanku'}\n",
            "misspelled word:  thanku       correct word: thankyou\n",
            "After: the food was really amazing service was quite quick chicken wings should have been spicier the order thankyou so much pizza hut make my day\n",
            "before: king size meal was really nice the chicken supreme pizza was very nice pizza chicken quantity was very good and also cheez was so yummy thanking we will visit again\n",
            "list: set()\n",
            "After: king size meal was really nice the chicken supreme pizza was very nice pizza chicken quantity was very good and also cheez was so yummy thanking we will visit again\n",
            "before: totally unplanned visit on sunday evening nice and clean place with very polite staff we ordered the all time favourite cheese garlic bread which was very soft and cheesy country feast pan pizza was also great but the highlight was beverage named litchi mint mojito it was absolutely amazing you could feel kind of freshness every time you sip it must try for sure ratings food ambience staff\n",
            "list: {'litchi'}\n",
            "misspelled word:  litchi       correct word: glitch\n",
            "After: totally unplanned visit on sunday evening nice and clean place with very polite staff we ordered the all time favourite cheese garlic bread which was very soft and cheesy country feast pan pizza was also great but the highlight was beverage named glitch mint mojito it was absolutely amazing you could feel kind of freshness every time you sip it must try for sure ratings food ambience staff\n",
            "before: great and quick service the medium veggie pizzas are awesome veggie feast pizza is the best really appreciated the good and quick service\n",
            "list: set()\n",
            "After: great and quick service the medium veggie pizzas are awesome veggie feast pizza is the best really appreciated the good and quick service\n",
            "before: the food was really nice and also amazing the ambience treple treat box meal was very nice its meal for four two medium pizza and appetizer very good thanks pizza hut\n",
            "list: {'treple'}\n",
            "misspelled word:  treple       correct word: triple\n",
            "After: the food was really nice and also amazing the ambience triple treat box meal was very nice its meal for four two medium pizza and appetizer very good thanks pizza hut\n",
            "before: very good customer service and also good music and ambience the food was very tasty and quantity was filling its very well decorated as well\n",
            "list: set()\n",
            "After: very good customer service and also good music and ambience the food was very tasty and quantity was filling its very well decorated as well\n",
            "before: great pizza loved it it was always great experience every time we visit the place we never miss out potato wedges it is just perfect combo with pizza\n",
            "list: set()\n",
            "After: great pizza loved it it was always great experience every time we visit the place we never miss out potato wedges it is just perfect combo with pizza\n",
            "before: pizza hut outlet was every time gave the amazing food also they give the wonderful offer wednesday offer friday unlimited offer is very nice\n",
            "list: set()\n",
            "After: pizza hut outlet was every time gave the amazing food also they give the wonderful offer wednesday offer friday unlimited offer is very nice\n",
            "before: it was delicious we enjoyed our lunch great experience spice overload pizza was really amazing we are enjoying our food\n",
            "list: set()\n",
            "After: it was delicious we enjoyed our lunch great experience spice overload pizza was really amazing we are enjoying our food\n",
            "before: food was nice great ambience amazing music every time gave the fast service and fresh food really enjoyable place of pizza hut cat outlet\n",
            "list: set()\n",
            "After: food was nice great ambience amazing music every time gave the fast service and fresh food really enjoyable place of pizza hut cat outlet\n",
            "before: awesome place to have delicious and mouth watering stuffs to choose from we have ordered the chic pizzas guess what we got discount of really thanks to pizza hut for offering good deals to customers\n",
            "list: set()\n",
            "After: awesome place to have delicious and mouth watering stuffs to choose from we have ordered the chic pizzas guess what we got discount of really thanks to pizza hut for offering good deals to customers\n",
            "before: the pizza hut food was really amazing an also offer going on really nice we love the every time pizza hut food thanks so much we will visit again and again\n",
            "list: set()\n",
            "After: the pizza hut food was really amazing an also offer going on really nice we love the every time pizza hut food thanks so much we will visit again and again\n",
            "before: love the food delicious crust and toppings would really love to visit here again we will surely recommend to our friends and family to visit here\n",
            "list: set()\n",
            "After: love the food delicious crust and toppings would really love to visit here again we will surely recommend to our friends and family to visit here\n",
            "before: the food is really delicious loved the crisp of the base enjoyed it to the core must try the chicken supreme for sure would love to visit this place again and would surely recommend our friends too\n",
            "list: set()\n",
            "After: the food is really delicious loved the crisp of the base enjoyed it to the core must try the chicken supreme for sure would love to visit this place again and would surely recommend our friends too\n",
            "before: great service and delicious food great hospitality visited the outlet with friends and we had an amazing experience imran provided us with exceptional service\n",
            "list: set()\n",
            "After: great service and delicious food great hospitality visited the outlet with friends and we had an amazing experience imran provided us with exceptional service\n",
            "before: the pizzas were amazing the taste was fabulous it was amazing coming here we had great time and the staff was great it was amazing would like to come here again\n",
            "list: set()\n",
            "After: the pizzas were amazing the taste was fabulous it was amazing coming here we had great time and the staff was great it was amazing would like to come here again\n",
            "before: the pizzas were amazing the prices are also good the staff was great the service was really fast we enjoyed lot in pizza hut we will definetly come again\n",
            "list: set()\n",
            "After: the pizzas were amazing the prices are also good the staff was great the service was really fast we enjoyed lot in pizza hut we will definetly come again\n",
            "before: it was good exprience visiting this outlet the ambience of the place is good taste and blend of all pizza mixtures is very good amazing experience\n",
            "list: {'exprience'}\n",
            "misspelled word:  exprience       correct word: experienced\n",
            "After: it was good experienced visiting this outlet the ambience of the place is good taste and blend of all pizza mixtures is very good amazing experience\n",
            "before: very well managed excellent service great ambiance pizzas are served with proper authentic italian taste maintaining the standards of pizza hut orders are served very fast\n",
            "list: set()\n",
            "After: very well managed excellent service great ambiance pizzas are served with proper authentic italian taste maintaining the standards of pizza hut orders are served very fast\n",
            "before: like to visit this place once in while because am soo big fan of great pizzas as everyone know about so many chains of pizzas just wanna say that this place has beautiful interior and good seating for comfortable plus service here is fast and quick we loved it\n",
            "list: set()\n",
            "After: like to visit this place once in while because am soo big fan of great pizzas as everyone know about so many chains of pizzas just wanna say that this place has beautiful interior and good seating for comfortable plus service here is fast and quick we loved it\n",
            "before: they make the best pizzas every time when we go its fully loaded with cheese the cheese max is so delightful and the toppings range is also good the ambience of this place is something new with beautiful decorating plants and tables\n",
            "list: set()\n",
            "After: they make the best pizzas every time when we go its fully loaded with cheese the cheese max is so delightful and the toppings range is also good the ambience of this place is something new with beautiful decorating plants and tables\n",
            "before: we big fan of pizzas every time we ordered from dominos pizzas but this time we have given the chance to pizza hut and guess what we got discount of on pizza which dominos dont give to us whenever we order from now on we will make sure to order pizzas from pizza hut only thanks\n",
            "list: set()\n",
            "After: we big fan of pizzas every time we ordered from dominos pizzas but this time we have given the chance to pizza hut and guess what we got discount of on pizza which dominos dont give to us whenever we order from now on we will make sure to order pizzas from pizza hut only thanks\n",
            "before: had gone for movie with family movie was good so we have tried plan to have dinner at pizza hut near by sterling pizza was soo tempting and mouth watering all my try this outlet ones when go for movie at sterling will loved it\n",
            "list: set()\n",
            "After: had gone for movie with family movie was good so we have tried plan to have dinner at pizza hut near by sterling pizza was soo tempting and mouth watering all my try this outlet ones when go for movie at sterling will loved it\n",
            "before: good experience nice pizza best place to come with frnds nice ambience nice makeover to this place now lovely light music good service\n",
            "list: {'frnds'}\n",
            "misspelled word:  frnds       correct word: friends\n",
            "After: good experience nice pizza best place to come with friends nice ambience nice makeover to this place now lovely light music good service\n",
            "before: pizza hut is being always lucky for me whenever had plan to go have not to be in que garlic bread spicy supreme is my most lovable items really loved it\n",
            "list: set()\n",
            "After: pizza hut is being always lucky for me whenever had plan to go have not to be in que garlic bread spicy supreme is my most lovable items really loved it\n",
            "before: food was good and tasty as every time we expected from pizza hut meals was good and cheaper love the taste love the pizzas awesome\n",
            "list: set()\n",
            "After: food was good and tasty as every time we expected from pizza hut meals was good and cheaper love the taste love the pizzas awesome\n",
            "before: the food was really amazing and staff was so friendly food was nice love it we are enjoying our time thanku so much we will visit again annd again\n",
            "list: {'thanku'}\n",
            "misspelled word:  thanku       correct word: thankyou\n",
            "After: the food was really amazing and staff was so friendly food was nice love it we are enjoying our time thankyou so much we will visit again annd again\n",
            "before: come with my friend to pizza hut mostly everyday the pizza tastes really good and the staff are polite and helpful we order magic pan pizza and we love it thanku so much\n",
            "list: {'thanku'}\n",
            "misspelled word:  thanku       correct word: thankyou\n",
            "After: come with my friend to pizza hut mostly everyday the pizza tastes really good and the staff are polite and helpful we order magic pan pizza and we love it thankyou so much\n",
            "before: the pizza was really good the new menu was better than before service was fine too good thanku so much we will visit again and and again\n",
            "list: {'thanku'}\n",
            "misspelled word:  thanku       correct word: thankyou\n",
            "After: the pizza was really good the new menu was better than before service was fine too good thankyou so much we will visit again and and again\n",
            "before: great place pizza hut and food also amazing very comfortable offer friendly staff restaurant was good and clean we enjoying ur friends birthday\n",
            "list: set()\n",
            "After: great place pizza hut and food also amazing very comfortable offer friendly staff restaurant was good and clean we enjoying ur friends birthday\n",
            "before: nice food good quantity in chicken and cheez we are enjoying our food and the percent offer was really amazing also service was good thanku so much\n",
            "list: {'thanku'}\n",
            "misspelled word:  thanku       correct word: thankyou\n",
            "After: nice food good quantity in chicken and cheez we are enjoying our food and the percent offer was really amazing also service was good thankyou so much\n",
            "before: verry poor serviice moreover they have been deleting my review as well from time to time please focus on servicing better rather than deleting poor reviews you get\n",
            "list: {'serviice'}\n",
            "misspelled word:  serviice       correct word: services\n",
            "After: verry poor services moreover they have been deleting my review as well from time to time please focus on servicing better rather than deleting poor reviews you get\n",
            "before: the food was great really loved the cheesy bit the beverages were good too thanks guys for making our day memorable please bring back the large pizzas\n",
            "list: set()\n",
            "After: the food was great really loved the cheesy bit the beverages were good too thanks guys for making our day memorable please bring back the large pizzas\n",
            "before: highly disappointed first impressions the plate was not clean and we were been served water in cheap paper glass for askin the serving person he said we are having shortage of glasses while the restua was not that crowdy later we saw customers who were sitting exactly beside our table got the normal drinkin water glasses the food was amazing no doubt the above rating is only for the food later on one of their staff came forward and asked to review good about pizza hut cst on zomato later she asked for my phone and gave stars on her own and said to review changed it to\n",
            "list: {'restua', 'cst', 'zomato'}\n",
            "After: highly disappointed first impressions the plate was not clean and we were been served water in cheap paper glass for askin the serving person he said we are having shortage of glasses while the restua was not that crowdy later we saw customers who were sitting exactly beside our table got the normal drinkin water glasses the food was amazing no doubt the above rating is only for the food later on one of their staff came forward and asked to review good about pizza hut cst on zomato later she asked for my phone and gave stars on her own and said to review changed it to\n",
            "before: tanduri paneer pizza was really very nice long time we had pizza the test was really awasom we enjoying and also server was very frankly\n",
            "list: {'awasom', 'tanduri'}\n",
            "misspelled word:  awasom       correct word: awsome\n",
            "After: tanduri paneer pizza was really very nice long time we had pizza the test was really awsome we enjoying and also server was very frankly\n",
            "before: ordered pizza mania veg gotta say worst pizza ive ever had it tasted so bloody stale threw away most of it the pizza sauce cheese and veggies only covered of the top pizza layer rest was just yuck dont think ill order or let anyone else order from pizza hut dominos is much better guys if youre reading please order from dominos\n",
            "list: set()\n",
            "After: ordered pizza mania veg gotta say worst pizza ive ever had it tasted so bloody stale threw away most of it the pizza sauce cheese and veggies only covered of the top pizza layer rest was just yuck dont think ill order or let anyone else order from pizza hut dominos is much better guys if youre reading please order from dominos\n",
            "before: cookie sndae is one of the best desserts pozza hut serves the unlimited pizza offer provides wide variety which is quite filling would visit again\n",
            "list: {'pozza', 'sndae'}\n",
            "misspelled word:  sndae       correct word: sundaes\n",
            "After: cookie sundaes is one of the best desserts pozza hut serves the unlimited pizza offer provides wide variety which is quite filling would visit again\n",
            "before: nice service good pizza chic and spicy must try awesome dessert like it we recommend to my all friend pizza hut food was really nice\n",
            "list: set()\n",
            "After: nice service good pizza chic and spicy must try awesome dessert like it we recommend to my all friend pizza hut food was really nice\n",
            "before: it was nice experience with pleasant atmosphere with good variety of pizza and taste tandoori paneer pizza was good and was as per the order\n",
            "list: set()\n",
            "After: it was nice experience with pleasant atmosphere with good variety of pizza and taste tandoori paneer pizza was good and was as per the order\n",
            "before: pleasant ambience and very good service would definitely recommend everyone to try it pizzas and pastas are always recommended here best service\n",
            "list: set()\n",
            "After: pleasant ambience and very good service would definitely recommend everyone to try it pizzas and pastas are always recommended here best service\n",
            "before: great food enjoyed lot overall great experience great ambience great service good food\n",
            "list: set()\n",
            "After: great food enjoyed lot overall great experience great ambience great service good food\n",
            "before: the pizza was really tasty the mojitos were definitely must have also the staff were really kind and approachable in short delicious food great ambience\n",
            "list: set()\n",
            "After: the pizza was really tasty the mojitos were definitely must have also the staff were really kind and approachable in short delicious food great ambience\n",
            "before: the food here was really good when we came on wednesday the unlimited meal is worth try the staff is very courteous it was really peaceful\n",
            "list: set()\n",
            "After: the food here was really good when we came on wednesday the unlimited meal is worth try the staff is very courteous it was really peaceful\n",
            "before: great ambiance along with fast service and amazing great stuff and staff great pizza too literally the best outlet of pizza hut kudos to you guys\n",
            "list: set()\n",
            "After: great ambiance along with fast service and amazing great stuff and staff great pizza too literally the best outlet of pizza hut kudos to you guys\n",
            "before: tasty food great food great ambience flavours were nice and liked the total overall pricing and discounts we got coz of wednesday off thanks pizza hut\n",
            "list: set()\n",
            "After: tasty food great food great ambience flavours were nice and liked the total overall pricing and discounts we got coz of wednesday off thanks pizza hut\n",
            "before: ordered chicken tikka pizza service was quick nd the pizza also tasted delicious the combination of chicken tangy tomatoes with lil bit caramalized garlic it tasted nice even my wife liked it too\n",
            "list: {'nd', 'caramalized'}\n",
            "After: ordered chicken tikka pizza service was quick nd the pizza also tasted delicious the combination of chicken tangy tomatoes with lil bit caramalized garlic it tasted nice even my wife liked it too\n",
            "before: pizza was nice we also got offer on it percent like it just one think would like to say that hope they increase the chess qantity in chicken tika pizza ty\n",
            "list: {'qantity'}\n",
            "misspelled word:  qantity       correct word: quantity\n",
            "After: pizza was nice we also got offer on it percent like it just one think would like to say that hope they increase the chess quantity in chicken tika pizza ty\n",
            "before: the toppings are more quantity on pizzaa and the garlic bread was very nice we are enjoying our time and also food service was quick and frankly server\n",
            "list: {'pizzaa'}\n",
            "misspelled word:  pizzaa       correct word: piazza\n",
            "After: the toppings are more quantity on piazza and the garlic bread was very nice we are enjoying our time and also food service was quick and frankly server\n",
            "before: pizza hut place was very nice persent discount was really amazing and the chicken supreme pizza was awasom nice and good quantity of chicken\n",
            "list: {'awasom', 'persent'}\n",
            "misspelled word:  awasom       correct word: awsome\n",
            "misspelled word:  persent       correct word: present\n",
            "After: pizza hut place was very nice present discount was really amazing and the chicken supreme pizza was awsome nice and good quantity of chicken\n",
            "before: love pizza pizza is bae imran uncle uncle was my favourite he helped us so much also im all alone contact me for entertainment\n",
            "list: set()\n",
            "After: love pizza pizza is bae imran uncle uncle was my favourite he helped us so much also im all alone contact me for entertainment\n",
            "before: pizzas and pastas are their speciality and they have excelled in it from last many years today we went their good place with good atmosphere sitting arrangement so soo good as if we are sitting in our own house apart from that service was good specially thanks to mr imran made our day rocking one love to come again\n",
            "list: {'mr'}\n",
            "After: pizzas and pastas are their speciality and they have excelled in it from last many years today we went their good place with good atmosphere sitting arrangement so soo good as if we are sitting in our own house apart from that service was good specially thanks to mr imran made our day rocking one love to come again\n",
            "before: have visited this place on soon many occasions there service was good and quick now they try to innovate lot in terms of customer experience their birthday rap solo was soo awesome it happens only in few outlets\n",
            "list: set()\n",
            "After: have visited this place on soon many occasions there service was good and quick now they try to innovate lot in terms of customer experience their birthday rap solo was soo awesome it happens only in few outlets\n",
            "before: good ambience good service and very great pizzas meals was good and cheaper as compare to other food chains the toppings are more in quantity on pizzas and most of all garlic bread cheese was so soft and crunchy\n",
            "list: set()\n",
            "After: good ambience good service and very great pizzas meals was good and cheaper as compare to other food chains the toppings are more in quantity on pizzas and most of all garlic bread cheese was so soft and crunchy\n",
            "before: the pizza was so tasty had it entire alone my frnds just watched me eating it had cm here on treat there is this girl named sonali who gave me the treat the pizza was fingerlicking and the extravaganza of the service made my day\n",
            "list: {'fingerlicking', 'frnds', 'sonali', 'cm'}\n",
            "misspelled word:  frnds       correct word: friends\n",
            "After: the pizza was so tasty had it entire alone my friends just watched me eating it had cm here on treat there is this girl named sonali who gave me the treat the pizza was fingerlicking and the extravaganza of the service made my day\n",
            "before: really liked the pizza out here pizzas are bae and they serve the best pizza and the serve out here is awesome we ordered cheese garlic and pizza and both were amazing like if cm to watch movie in sterling definitely visit pizza hut youll get varieties of pizza and pastas yeah the pizza was tasty af licked it all so badly and even the crowd was so good the fingerlicking pizza made my day chalo jai hanuman gyaan gun sagar pizza was bae\n",
            "list: {'fingerlicking', 'gyaan', 'chalo', 'cm'}\n",
            "misspelled word:  chalo       correct word: chal\n",
            "After: really liked the pizza out here pizzas are bae and they serve the best pizza and the serve out here is awesome we ordered cheese garlic and pizza and both were amazing like if cm to watch movie in sterling definitely visit pizza hut youll get varieties of pizza and pastas yeah the pizza was tasty af licked it all so badly and even the crowd was so good the fingerlicking pizza made my day chal jai hanuman gyaan gun sagar pizza was bae\n",
            "before: the food is very tasty it is very delicious have never tasted something more tasty then this the sauces are very tempting and delicious the service provided by the people of pizza hut is overwhelming the ambience is very good feel like ordering more and more pizza pizza huts pizza is the mostt delicious pizza\n",
            "list: {'mostt'}\n",
            "misspelled word:  mostt       correct word: most\n",
            "After: the food is very tasty it is very delicious have never tasted something more tasty then this the sauces are very tempting and delicious the service provided by the people of pizza hut is overwhelming the ambience is very good feel like ordering more and more pizza pizza huts pizza is the most delicious pizza\n",
            "before: wanted something quick and fast after lots of shopping so we decided to have our lunch at pizza hut near by cst look like they have improved their pizzas with some nice sause and seasoning love it more then previously all must try\n",
            "list: {'sause', 'cst'}\n",
            "misspelled word:  sause       correct word: sausage\n",
            "After: wanted something quick and fast after lots of shopping so we decided to have our lunch at pizza hut near by cst look like they have improved their pizzas with some nice sausage and seasoning love it more then previously all must try\n",
            "before: pizza and garlic bread was soo delightful we loved good suggestion by geeta service was good music was mind blowing playing my bestee songs wish to come again\n",
            "list: {'bestee'}\n",
            "misspelled word:  bestee       correct word: bestie\n",
            "After: pizza and garlic bread was soo delightful we loved good suggestion by geeta service was good music was mind blowing playing my bestie songs wish to come again\n",
            "before: pizza hut is my best place here pizzas and pastas was soo mouth watering staff are really helpful in any suggestions service was good as always expected\n",
            "list: set()\n",
            "After: pizza hut is my best place here pizzas and pastas was soo mouth watering staff are really helpful in any suggestions service was good as always expected\n",
            "before: its very good place and service also yes and the food is very delicious we very happy and plz try there new pizzas thanku so much we will surely visit again\n",
            "list: {'thanku', 'plz'}\n",
            "misspelled word:  thanku       correct word: thankyou\n",
            "After: its very good place and service also yes and the food is very delicious we very happy and plz try there new pizzas thankyou so much we will surely visit again\n",
            "before: food was good great staff and best service pizza was excellent with good amount of cheese if in dis area should try pizza here thanks to the staff for treating us nicely\n",
            "list: set()\n",
            "After: food was good great staff and best service pizza was excellent with good amount of cheese if in dis area should try pizza here thanks to the staff for treating us nicely\n",
            "before: the food was very nice and also service was excellent we are enjoying the food appetiser cheek garlic bread was very nice we will visit again\n",
            "list: {'appetiser'}\n",
            "misspelled word:  appetiser       correct word: appetite\n",
            "After: the food was very nice and also service was excellent we are enjoying the food appetite cheek garlic bread was very nice we will visit again\n",
            "before: great meal nice music ambient nice menu but bit needed good sauces in dining nice staff service really is well nice place green and classy\n",
            "list: set()\n",
            "After: great meal nice music ambient nice menu but bit needed good sauces in dining nice staff service really is well nice place green and classy\n",
            "before: excellent service polite personell and restraint is pretty clean hygienic do visit its also very cheap love it very fast service love it\n",
            "list: {'personell'}\n",
            "misspelled word:  personell       correct word: personnel\n",
            "After: excellent service polite personnel and restraint is pretty clean hygienic do visit its also very cheap love it very fast service love it\n",
            "before: the food was very tasty the service was quick an amazing ambience and perfect place to chill with friends thankyou so much must visit place\n",
            "list: set()\n",
            "After: the food was very tasty the service was quick an amazing ambience and perfect place to chill with friends thankyou so much must visit place\n",
            "before: wonderful food and services loved chilli guava juice and stuff pizza was so cheezy offer was very nice persent discount thanku so much\n",
            "list: {'persent', 'cheezy', 'thanku'}\n",
            "misspelled word:  persent       correct word: present\n",
            "misspelled word:  cheezy       correct word: cheesy\n",
            "misspelled word:  thanku       correct word: thankyou\n",
            "After: wonderful food and services loved chilli guava juice and stuff pizza was so cheesy offer was very nice present discount thankyou so much\n",
            "before: service was excellent and good veggie supreme pizza was very nice and yummy proper topping proper cheez making well pizza enjoying our time\n",
            "list: set()\n",
            "After: service was excellent and good veggie supreme pizza was very nice and yummy proper topping proper cheez making well pizza enjoying our time\n",
            "before: the food was awesome very tasty garnishing and toppings were superbb service was good tacos need were not that great needs improment in recipe\n",
            "list: {'improment', 'superbb'}\n",
            "misspelled word:  improment       correct word: improvements\n",
            "misspelled word:  superbb       correct word: superb\n",
            "After: the food was awesome very tasty garnishing and toppings were superb service was good tacos need were not that great needs improvements in recipe\n",
            "before: the food was good service was excellent and we hope to come back soon the potato wedges were good and chicken tikka was the best tacos werent that great\n",
            "list: set()\n",
            "After: the food was good service was excellent and we hope to come back soon the potato wedges were good and chicken tikka was the best tacos werent that great\n",
            "before: the food was really delicious service was ok in total had good time would really recommend this place the cheese garlic bread was too good\n",
            "list: set()\n",
            "After: the food was really delicious service was ok in total had good time would really recommend this place the cheese garlic bread was too good\n",
            "before: the food was great friday offer is just amazing we would visit the store whenever get such opportunities the staff is very cooperative helpful its good when the food is served hot fresh\n",
            "list: set()\n",
            "After: the food was great friday offer is just amazing we would visit the store whenever get such opportunities the staff is very cooperative helpful its good when the food is served hot fresh\n",
            "before: the chicken american pizza is very nice thin crust pizza was really wasim test and also service was good friendly staff thank pizza hut to serve us nice food\n",
            "list: set()\n",
            "After: the chicken american pizza is very nice thin crust pizza was really wasim test and also service was good friendly staff thank pizza hut to serve us nice food\n",
            "before: pizza hut offer is very nice offer discount in any medium size pizza also the pizza hut food is so yummy we are enjoying our food surely we will visit again\n",
            "list: set()\n",
            "After: pizza hut offer is very nice offer discount in any medium size pizza also the pizza hut food is so yummy we are enjoying our food surely we will visit again\n",
            "before: the cheez max pizza was really cheey and testy the offer was thirty present discount is really nice tanduri paneer was very nice and yummy also server was very frankly\n",
            "list: {'tanduri', 'cheey'}\n",
            "misspelled word:  cheey       correct word: cheesy\n",
            "After: the cheez max pizza was really cheesy and testy the offer was thirty present discount is really nice tanduri paneer was very nice and yummy also server was very frankly\n",
            "before: amazing pizzas and mindblowing service the chicken tikka pizza is superb and so is the country special the offers are so lucrative that once you enter it is impossible to leave must try\n",
            "list: set()\n",
            "After: amazing pizzas and mindblowing service the chicken tikka pizza is superb and so is the country special the offers are so lucrative that once you enter it is impossible to leave must try\n",
            "before: the great experience in pizza hut cst outlet we love the service and food friendly server and the he majic pan corn pizza was so tasty and yummy\n",
            "list: {'cst', 'majic'}\n",
            "After: the great experience in pizza hut cst outlet we love the service and food friendly server and the he majic pan corn pizza was so tasty and yummy\n",
            "before: pizza hut outlet is the one of outlet is like to great food awasom ambience and fun service really very enjoyable place nice music\n",
            "list: {'awasom'}\n",
            "misspelled word:  awasom       correct word: awsome\n",
            "After: pizza hut outlet is the one of outlet is like to great food awsome ambience and fun service really very enjoyable place nice music\n",
            "before: it was good only the quantity was bit less than expected of pasta gud interior sevice was good would surely call friends here thanku so muchh\n",
            "list: {'thanku', 'muchh'}\n",
            "misspelled word:  thanku       correct word: thankyou\n",
            "misspelled word:  muchh       correct word: much\n",
            "After: it was good only the quantity was bit less than expected of pasta gud interior sevice was good would surely call friends here thankyou so much\n",
            "before: chicken supreme is tasty service is also good brownie is one of the tasty deserts beverages are nice its nice place to go with friends\n",
            "list: set()\n",
            "After: chicken supreme is tasty service is also good brownie is one of the tasty deserts beverages are nice its nice place to go with friends\n",
            "before: the pizza hut food was really amazing and service was also quick and fast server was so friendly and politely talk to us very nice enjoyable place\n",
            "list: set()\n",
            "After: the pizza hut food was really amazing and service was also quick and fast server was so friendly and politely talk to us very nice enjoyable place\n",
            "before: fabulous taste in pizza hut we ordered the chicken supreme pizza the pizza test was so tasty cheez and chicken quantity is good we enjoying our time\n",
            "list: set()\n",
            "After: fabulous taste in pizza hut we ordered the chicken supreme pizza the pizza test was so tasty cheez and chicken quantity is good we enjoying our time\n",
            "before: meals was good as suggested by the server service was good and quick as always expected love the food wish to come again\n",
            "list: set()\n",
            "After: meals was good as suggested by the server service was good and quick as always expected love the food wish to come again\n",
            "before: pizza hut is my best and favourite place to visit here pizzas and stuff really good and mouth watering one must try this outlet to have lovely stuffs\n",
            "list: set()\n",
            "After: pizza hut is my best and favourite place to visit here pizzas and stuff really good and mouth watering one must try this outlet to have lovely stuffs\n",
            "before: it was nice taste was awesome we would like to come again non veg pizza was just amazing the service was nice thanks so much we will visit again\n",
            "list: set()\n",
            "After: it was nice taste was awesome we would like to come again non veg pizza was just amazing the service was nice thanks so much we will visit again\n",
            "before: we ordered medium size chicken pepperoni pizza really loved chicken pepperoni thats why we order this pizza and the pizza was really good\n",
            "list: set()\n",
            "After: we ordered medium size chicken pepperoni pizza really loved chicken pepperoni thats why we order this pizza and the pizza was really good\n",
            "before: drinks are good and food also good masala lemonde is good and pizza with new chatany is good like pizzas from pizza hut and service is nice\n",
            "list: {'chatany', 'lemonde'}\n",
            "misspelled word:  lemonde       correct word: lemon\n",
            "After: drinks are good and food also good masala lemon is good and pizza with new chatany is good like pizzas from pizza hut and service is nice\n",
            "before: the pizza is was amazing it wass good cheese the garlic bread was also good the pizza topicings the like the pizza like the garlic bread\n",
            "list: {'topicings'}\n",
            "misspelled word:  topicings       correct word: toppings\n",
            "After: the pizza is was amazing it wass good cheese the garlic bread was also good the pizza toppings the like the pizza like the garlic bread\n",
            "before: thr offer was good good and the pizza was awesome and the taste was is nice we have ordered garlic bared its was like lovely pizza plus topising was fully\n",
            "list: {'thr', 'topising'}\n",
            "misspelled word:  thr       correct word: thru\n",
            "After: thru offer was good good and the pizza was awesome and the taste was is nice we have ordered garlic bared its was like lovely pizza plus topising was fully\n",
            "before: ambience food price expensive overall good place to hangout with friends and family the staff is cordial and the service is good\n",
            "list: set()\n",
            "After: ambience food price expensive overall good place to hangout with friends and family the staff is cordial and the service is good\n",
            "before: so with pizza hut reviews dont really matter coz youll order what catches your mind while looking at the menu sitting there people always order what they wanna order at pizza hut however if you come here and do not order the garlic bread with cheese its crime you must ill tell you what you can avoid ordering the paneer pockets its just too bland and dry and dampens the pizza hut mood instead you could go for are the potato wedges which taste better with ketchup than with the dip they serve with it for pizzas sections id rather not say because each to their own and why not we had ordered veggie feast and veggie supreme in thin crustthe goodness of thin crust chicken tikka and chicken triple feast in normal base both recommended tikka is more so for people who prefer more saucy pizza as the tikka sauce gets little too much we also called for the cheese maxx pizza in veg which was thumbs down for us talking of service we reached on sunday night when the place was jam packed as we were herd of we had to wait for almost mins for that good table but the restaurant accommodated us on two separate tables meanwhile just so that we could atleast place order the guy waiting on us was nice to suggest how we could convert our order to meal and avail betterment for ourselves however the service itself was tiringly slow and we had to wait almost mins after finishing pizzas on the table before the last pizza came in iced tea was served without syrup inspite of asking for it well may it be was just another busy sunday night whatever said and done pizza hut experience never disappoints\n",
            "list: {'crustthe', 'tiringly'}\n",
            "misspelled word:  tiringly       correct word: tiring\n",
            "After: so with pizza hut reviews dont really matter coz youll order what catches your mind while looking at the menu sitting there people always order what they wanna order at pizza hut however if you come here and do not order the garlic bread with cheese its crime you must ill tell you what you can avoid ordering the paneer pockets its just too bland and dry and dampens the pizza hut mood instead you could go for are the potato wedges which taste better with ketchup than with the dip they serve with it for pizzas sections id rather not say because each to their own and why not we had ordered veggie feast and veggie supreme in thin crustthe goodness of thin crust chicken tikka and chicken triple feast in normal base both recommended tikka is more so for people who prefer more saucy pizza as the tikka sauce gets little too much we also called for the cheese maxx pizza in veg which was thumbs down for us talking of service we reached on sunday night when the place was jam packed as we were herd of we had to wait for almost mins for that good table but the restaurant accommodated us on two separate tables meanwhile just so that we could atleast place order the guy waiting on us was nice to suggest how we could convert our order to meal and avail betterment for ourselves however the service itself was tiring slow and we had to wait almost mins after finishing pizzas on the table before the last pizza came in iced tea was served without syrup inspite of asking for it well may it be was just another busy sunday night whatever said and done pizza hut experience never disappoints\n",
            "before: the service was fast and the food was amazing just what was expected from pizza hut outlet the spicy supreme garlic bread was way above the mark\n",
            "list: set()\n",
            "After: the service was fast and the food was amazing just what was expected from pizza hut outlet the spicy supreme garlic bread was way above the mark\n",
            "before: the food was really great chicken supreme was worth the shot we are enjoying our food had great time today with pizza hut thanku so much\n",
            "list: {'thanku'}\n",
            "misspelled word:  thanku       correct word: thankyou\n",
            "After: the food was really great chicken supreme was worth the shot we are enjoying our food had great time today with pizza hut thankyou so much\n",
            "before: outstanding taste service was awesome specially had green apple mojito chicken pizzas super yummy loved the ambiance love pizza hut really master of pizza will definitely visit again\n",
            "list: set()\n",
            "After: outstanding taste service was awesome specially had green apple mojito chicken pizzas super yummy loved the ambiance love pizza hut really master of pizza will definitely visit again\n",
            "before: the pizza and garlic bread were quite delicious good service the pizza was well made and quite cheesy would definitely return again and would recommend others to visit as well\n",
            "list: set()\n",
            "After: the pizza and garlic bread were quite delicious good service the pizza was well made and quite cheesy would definitely return again and would recommend others to visit as well\n",
            "before: today visit the pizza hut outlet near by cst station the food was really good love it me and my friend really enjoying our food will visit again and again\n",
            "list: {'cst'}\n",
            "After: today visit the pizza hut outlet near by cst station the food was really good love it me and my friend really enjoying our food will visit again and again\n",
            "before: the meal was very delicious and yummyy just enjoyed every bite of it loved it nicely cooked thnxx pizza hut and the service really owsome\n",
            "list: {'thnxx', 'owsome', 'yummyy'}\n",
            "misspelled word:  owsome       correct word: awsome\n",
            "misspelled word:  yummyy       correct word: yummy\n",
            "After: the meal was very delicious and yummy just enjoyed every bite of it loved it nicely cooked thnxx pizza hut and the service really awsome\n",
            "before: pizza was really delicious and the service was awesome and the meal for the combo is really good at all nyc pizza loved it yummy thanku so much\n",
            "list: {'thanku', 'nyc'}\n",
            "misspelled word:  thanku       correct word: thankyou\n",
            "After: pizza was really delicious and the service was awesome and the meal for the combo is really good at all nyc pizza loved it yummy thankyou so much\n",
            "before: gr too delicious cheese garlic was just awesome pizza veggies feast margarita all foodies must try ambience is awesome going to visit again\n",
            "list: {'gr'}\n",
            "After: gr too delicious cheese garlic was just awesome pizza veggies feast margarita all foodies must try ambience is awesome going to visit again\n",
            "before: waz too good specially chicken wings pizzas were also too gud going to visit again and again chicken wings were too gud specially\n",
            "list: set()\n",
            "After: waz too good specially chicken wings pizzas were also too gud going to visit again and again chicken wings were too gud specially\n",
            "before: the food was good and service was good would visit again ordered chicken spicy pizza and chilli cheese garlic bread reasonable price\n",
            "list: set()\n",
            "After: the food was good and service was good would visit again ordered chicken spicy pizza and chilli cheese garlic bread reasonable price\n",
            "before: the triple chicken pizza was really good and the service by the crew was really good too the tandoori chicken paneer pizsa was also good at taste\n",
            "list: {'pizsa'}\n",
            "After: the triple chicken pizza was really good and the service by the crew was really good too the tandoori chicken paneer pizsa was also good at taste\n",
            "before: the food was awesome and the staff was really friendly loved the service given by pizza hut and ill always suggest people to come here with me and also my frnds\n",
            "list: {'frnds'}\n",
            "misspelled word:  frnds       correct word: friends\n",
            "After: the food was awesome and the staff was really friendly loved the service given by pizza hut and ill always suggest people to come here with me and also my friends\n",
            "before: the staff was friendly and the food was very tasty we called for chicken pepperoni pizza and an ultimate chicken pizza which was mouth watering\n",
            "list: set()\n",
            "After: the staff was friendly and the food was very tasty we called for chicken pepperoni pizza and an ultimate chicken pizza which was mouth watering\n",
            "before: the staff is really friendly and courteous the food is good and service is quick the staff is also helpful with solving queries regarding offers\n",
            "list: set()\n",
            "After: the staff is really friendly and courteous the food is good and service is quick the staff is also helpful with solving queries regarding offers\n",
            "before: recently visited pizza hut the experienced was not bad food was really delicious and fresh enjoyed the food with my family the staff were very cooperative thank you pizza hut\n",
            "list: set()\n",
            "After: recently visited pizza hut the experienced was not bad food was really delicious and fresh enjoyed the food with my family the staff were very cooperative thank you pizza hut\n",
            "before: the pizza was good in quantity as well as the quality and the management too was good thanku so much will visit again and again as soon as possible\n",
            "list: {'thanku'}\n",
            "misspelled word:  thanku       correct word: thankyou\n",
            "After: the pizza was good in quantity as well as the quality and the management too was good thankyou so much will visit again and again as soon as possible\n",
            "before: two visit the pizza hut outlet near by sterling cinema me and my friend orders the magic pan pizza corn the pizza was so yummy and tasty and the staff was also cooperative service was so friendly\n",
            "list: set()\n",
            "After: two visit the pizza hut outlet near by sterling cinema me and my friend orders the magic pan pizza corn the pizza was so yummy and tasty and the staff was also cooperative service was so friendly\n",
            "before: the service was great usually come here love the pizza which we order we order magic pan pizza and its really great the staff are very polite love pizza hut\n",
            "list: set()\n",
            "After: the service was great usually come here love the pizza which we order we order magic pan pizza and its really great the staff are very polite love pizza hut\n",
            "before: good taste good services cooperative staff good cleanliness nyc taste of veg paneer vegorama hut chocolate fudge staff friendly with customer\n",
            "list: {'nyc', 'vegorama'}\n",
            "After: good taste good services cooperative staff good cleanliness nyc taste of veg paneer vegorama hut chocolate fudge staff friendly with customer\n",
            "before: hi having good crust and good taste no need good food good service good ambience really nice place keep it up pizza hut thanku so much will visit again and again\n",
            "list: {'thanku'}\n",
            "misspelled word:  thanku       correct word: thankyou\n",
            "After: hi having good crust and good taste no need good food good service good ambience really nice place keep it up pizza hut thankyou so much will visit again and again\n",
            "before: we have wonderful time in pizza hut its taste was so yummy the pizza test was so chest and yummy love it me and my friend enjoying our time thanku pizza hut give the best service\n",
            "list: {'thanku'}\n",
            "misspelled word:  thanku       correct word: thankyou\n",
            "After: we have wonderful time in pizza hut its taste was so yummy the pizza test was so chest and yummy love it me and my friend enjoying our time thankyou pizza hut give the best service\n",
            "before: pizza test was so yummy ordered the chicken sausage pizza really love it the restaurant was very clean and service was so good enjoying my time\n",
            "list: set()\n",
            "After: pizza test was so yummy ordered the chicken sausage pizza really love it the restaurant was very clean and service was so good enjoying my time\n",
            "before: good food very polite staff and prompt delivery good ambience overall very good place to go woyld recommend also its very right placed among others places of interesta such the multiplexes around it\n",
            "list: {'woyld', 'interesta'}\n",
            "misspelled word:  interesta       correct word: interested\n",
            "After: good food very polite staff and prompt delivery good ambience overall very good place to go woyld recommend also its very right placed among others places of interested such the multiplexes around it\n",
            "before: very bad experience the service was slow our order wasnt even completed because the power went out we had to wait for minutes to get table and another minutes to get our first pizza the waiters are very unhospitable this place is sub standard and highly overrated and we had to sit in the dark for another minutes until the waiters finally came with the bills\n",
            "list: {'unhospitable'}\n",
            "misspelled word:  unhospitable       correct word: hospitable\n",
            "After: very bad experience the service was slow our order wasnt even completed because the power went out we had to wait for minutes to get table and another minutes to get our first pizza the waiters are very hospitable this place is sub standard and highly overrated and we had to sit in the dark for another minutes until the waiters finally came with the bills\n",
            "before: the service in this special outlet was not at all good worst experience ever staff quarell amongst themselves everytym go bt the pizza is enjoyable\n",
            "list: {'quarell', 'bt', 'everytym'}\n",
            "misspelled word:  everytym       correct word: everytime\n",
            "After: the service in this special outlet was not at all good worst experience ever staff quarell amongst themselves everytime go bt the pizza is enjoyable\n",
            "before: am big fan of pizza when it come to have delicious pizza recommended only one name pizza hut which is near by house here get great pizzas pastas and soo many stuff as per sheff speciality plus music was awesome over all it was great experience at the outlet\n",
            "list: {'sheff'}\n",
            "After: am big fan of pizza when it come to have delicious pizza recommended only one name pizza hut which is near by house here get great pizzas pastas and soo many stuff as per sheff speciality plus music was awesome over all it was great experience at the outlet\n",
            "before: this is my favourite pizza hut which always make me happy regarding the service and food have always loved their pizzas bcoz they make pizza soo tempting and mouth watering as if they know what we want to have thanks all for making my day\n",
            "list: {'bcoz'}\n",
            "misspelled word:  bcoz       correct word: coz\n",
            "After: this is my favourite pizza hut which always make me happy regarding the service and food have always loved their pizzas coz they make pizza soo tempting and mouth watering as if they know what we want to have thanks all for making my day\n",
            "before: pizzas and pastas is worth penny at pizza hut outlet plus point was we have ordered cheese max pizza of veg supreme pizza was soo good and tasty and apart from that we got the discount of wow that was soo cool we surely visit again\n",
            "list: set()\n",
            "After: pizzas and pastas is worth penny at pizza hut outlet plus point was we have ordered cheese max pizza of veg supreme pizza was soo good and tasty and apart from that we got the discount of wow that was soo cool we surely visit again\n",
            "before: pizza hut is one of my favourite and most visit place to hang on with my collegues here get soo many stuffs to have with pan pizza is my all time favourite with extra cheese we love pizza hut soo much\n",
            "list: set()\n",
            "After: pizza hut is one of my favourite and most visit place to hang on with my collegues here get soo many stuffs to have with pan pizza is my all time favourite with extra cheese we love pizza hut soo much\n",
            "before: good service good ambience fast service good songs being played friendly staff polite in speaking reasonable food pricing definitely recommend\n",
            "list: set()\n",
            "After: good service good ambience fast service good songs being played friendly staff polite in speaking reasonable food pricing definitely recommend\n",
            "before: its been very nice experience here the service over here is awesome maybe the fastest form any other branch delicious in food wow\n",
            "list: set()\n",
            "After: its been very nice experience here the service over here is awesome maybe the fastest form any other branch delicious in food wow\n",
            "before: pizza hut is one of my best place to have delicious and hot pizzas service was good and on time as usually cheesy max pizzas with chicken feast was worth we really enjoyed it\n",
            "list: set()\n",
            "After: pizza hut is one of my best place to have delicious and hot pizzas service was good and on time as usually cheesy max pizzas with chicken feast was worth we really enjoyed it\n",
            "before: yummy delicious pasta ambience is gud wid perfect atmosphere made weekend spcl gud service taste of pizza ws ok\n",
            "list: {'ws', 'spcl'}\n",
            "After: yummy delicious pasta ambience is gud wid perfect atmosphere made weekend spcl gud service taste of pizza ws ok\n",
            "before: the quality here well is indeed good even the service the staff too is theyre really and humble make sure to have chicken overload\n",
            "list: set()\n",
            "After: the quality here well is indeed good even the service the staff too is theyre really and humble make sure to have chicken overload\n",
            "before: food was quite great pretty great quite excellent food super high class very awesome and beautiful such nice very excellent and characters done typed this only because the manager requested me to which is very odd\n",
            "list: set()\n",
            "After: food was quite great pretty great quite excellent food super high class very awesome and beautiful such nice very excellent and characters done typed this only because the manager requested me to which is very odd\n",
            "before: not bad had the unlimited meal combo for rs and upgraded to stuffed crust pizza for which had to pay extra but it was lot of food garlic bread pizza pepsi and dessert had the chicken tikka pizza which was quite good the garlic bread had with chicken pepperoni and cheese the berry dessert was not bad\n",
            "list: {'rs'}\n",
            "After: not bad had the unlimited meal combo for rs and upgraded to stuffed crust pizza for which had to pay extra but it was lot of food garlic bread pizza pepsi and dessert had the chicken tikka pizza which was quite good the garlic bread had with chicken pepperoni and cheese the berry dessert was not bad\n",
            "before: they have changed the decor recently and made it more cozy compared to earlier have tried almost all the options on the menu here the cheesy pan pizza cheese fondue platter the white sauce pasta and cheese garlic bread are few of the things that generally opt for the belgian chocolate shake is another favourite the staff is friendly too the only negative is the time take to serve is way too long and also since its near sterling cinema its crowded after almost every movie show making it difficult to get table quickly\n",
            "list: set()\n",
            "After: they have changed the decor recently and made it more cozy compared to earlier have tried almost all the options on the menu here the cheesy pan pizza cheese fondue platter the white sauce pasta and cheese garlic bread are few of the things that generally opt for the belgian chocolate shake is another favourite the staff is friendly too the only negative is the time take to serve is way too long and also since its near sterling cinema its crowded after almost every movie show making it difficult to get table quickly\n",
            "before: pizza hut is one of my best place to have great time with family we have ordered triple chicken feast with portion of jalapenos popper pizzas was soo tempting and delicious we really enjoyed it had great time with family\n",
            "list: set()\n",
            "After: pizza hut is one of my best place to have great time with family we have ordered triple chicken feast with portion of jalapenos popper pizzas was soo tempting and delicious we really enjoyed it had great time with family\n",
            "before: catch plan for movie with friends at sterling cinema after movie we feel bit hungry so make plan to have delicious pizzas at pizza hut which is near by the cinema meals was good we have ordered king size meals for we really enjoyed it\n",
            "list: set()\n",
            "After: catch plan for movie with friends at sterling cinema after movie we feel bit hungry so make plan to have delicious pizzas at pizza hut which is near by the cinema meals was good we have ordered king size meals for we really enjoyed it\n",
            "before: great service good place love the pizzas store interior design was good playing lovely lovely song good place to have ur delicious meals\n",
            "list: set()\n",
            "After: great service good place love the pizzas store interior design was good playing lovely lovely song good place to have ur delicious meals\n",
            "before: no stars given cause the people who take order on call are freaking rude not at all properly trained and talks with the customers calling to place their order according to their mood\n",
            "list: set()\n",
            "After: no stars given cause the people who take order on call are freaking rude not at all properly trained and talks with the customers calling to place their order according to their mood\n",
            "before: food is good especially the masala lemonade but terrible experience with the rude staff who do not know thing about how communicate with the customers\n",
            "list: set()\n",
            "After: food is good especially the masala lemonade but terrible experience with the rude staff who do not know thing about how communicate with the customers\n",
            "before: great service good ambience and amazing food great place to be here especially with their unlimited offer visit here for fabulous experience of authentic pizza special kudos to sagar chaurasiya for his prompt and fine service\n",
            "list: {'chaurasiya'}\n",
            "After: great service good ambience and amazing food great place to be here especially with their unlimited offer visit here for fabulous experience of authentic pizza special kudos to sagar chaurasiya for his prompt and fine service\n",
            "before: superb friday offer thank you for awesome experience you guys rock keep it up best thing is you guys sing awesome birthday song\n",
            "list: set()\n",
            "After: superb friday offer thank you for awesome experience you guys rock keep it up best thing is you guys sing awesome birthday song\n",
            "before: awesome service the birthday song was really nice our friend dr surabhi chitre practicing at sion as consulting homoeopath loved the ambience and birthday song cheers\n",
            "list: {'dr', 'chitre', 'homoeopath', 'surabhi'}\n",
            "After: awesome service the birthday song was really nice our friend dr surabhi chitre practicing at sion as consulting homoeopath loved the ambience and birthday song cheers\n",
            "before: very good service and amazing offers delicious pizzasloved it good ambiance and hospitality is good thank you so much had an amazing time\n",
            "list: {'pizzasloved'}\n",
            "After: very good service and amazing offers delicious pizzasloved it good ambiance and hospitality is good thank you so much had an amazing time\n",
            "before: very good service relaxing ambience friendly employees friday offer is good good for college students in budget thank you so much area is also good\n",
            "list: set()\n",
            "After: very good service relaxing ambience friendly employees friday offer is good good for college students in budget thank you so much area is also good\n",
            "before: guys your service is awesome and happy dining here always my favorite for friends and family virgin moito on complementry thank you guys\n",
            "list: {'complementry', 'moito'}\n",
            "misspelled word:  complementry       correct word: complimentary\n",
            "misspelled word:  moito       correct word: mojitos\n",
            "After: guys your service is awesome and happy dining here always my favorite for friends and family virgin mojitos on complimentary thank you guys\n",
            "before: the food was really good the service was very satisfying would definitely recommend my friends to come here thank so much we ll visit again\n",
            "list: {'ll'}\n",
            "After: the food was really good the service was very satisfying would definitely recommend my friends to come here thank so much we ll visit again\n",
            "before: the food was delisious and had great fun due to my birthday had enjoyed well quality and quantity of food was superb serving was too good and delious one we love pizza hut\n",
            "list: {'delisious', 'delious'}\n",
            "misspelled word:  delisious       correct word: delicious\n",
            "misspelled word:  delious       correct word: delicious\n",
            "After: the food was delicious and had great fun due to my birthday had enjoyed well quality and quantity of food was superb serving was too good and delicious one we love pizza hut\n",
            "before: its wa tasty serving of food was good quality and quantity was superb we had great fun and delicious food having great time due to my birthday velebration\n",
            "list: {'velebration'}\n",
            "misspelled word:  velebration       correct word: celebrating\n",
            "After: its wa tasty serving of food was good quality and quantity was superb we had great fun and delicious food having great time due to my birthday celebrating\n",
            "before: every time we come to pizza hut to have pizzas and pastas but this time server has suggested us good meals and good pizzas they call it as cheesy max pizzas was sooòooò delicious we loved it thank very much for ur suggestions we really enjoyed it and will try the cheesy maxx every time we come\n",
            "list: {'sooòooò'}\n",
            "After: every time we come to pizza hut to have pizzas and pastas but this time server has suggested us good meals and good pizzas they call it as cheesy max pizzas was sooòooò delicious we loved it thank very much for ur suggestions we really enjoyed it and will try the cheesy maxx every time we come\n",
            "before: pizza hut is one of my favorite place to have get together with friends pan pizzas with extra cheese is rock star every time we try that only it soo delicious and mouth watering all must try pan pizza one time\n",
            "list: set()\n",
            "After: pizza hut is one of my favorite place to have get together with friends pan pizzas with extra cheese is rock star every time we try that only it soo delicious and mouth watering all must try pan pizza one time\n",
            "before: an awesome place to relax and have good plenty of time with family so many delicious stuff to choose from service is good and quick music was awesome love the environment\n",
            "list: set()\n",
            "After: an awesome place to relax and have good plenty of time with family so many delicious stuff to choose from service is good and quick music was awesome love the environment\n",
            "before: feeling so hungry so plan to have pizzas with college friends pizzas and pastas was so yummy and delicious as per our choice great service cool staff always to be ready to help\n",
            "list: set()\n",
            "After: feeling so hungry so plan to have pizzas with college friends pizzas and pastas was so yummy and delicious as per our choice great service cool staff always to be ready to help\n",
            "before: awesome pizzas at the restaurant the varieties they serve much better than the their other competitors must go by the way you need open few more outlets to serve in better\n",
            "list: set()\n",
            "After: awesome pizzas at the restaurant the varieties they serve much better than the their other competitors must go by the way you need open few more outlets to serve in better\n",
            "before: evening at this place was such lovely moment after the movie we just got stop here and then had pizza party was lovely am in love with the space it was so beautifully made then came the food pizza has also become love now everyone enjoyed here and the service was little late enjoyed and my friends too\n",
            "list: set()\n",
            "After: evening at this place was such lovely moment after the movie we just got stop here and then had pizza party was lovely am in love with the space it was so beautifully made then came the food pizza has also become love now everyone enjoyed here and the service was little late enjoyed and my friends too\n",
            "before: excellent quality pizza is amazing try different excotic drinks best service provided location is absoulutely goodthanku so much pizza hut\n",
            "list: {'goodthanku', 'absoulutely', 'excotic'}\n",
            "misspelled word:  absoulutely       correct word: absolute\n",
            "misspelled word:  excotic       correct word: exotic\n",
            "After: excellent quality pizza is amazing try different exotic drinks best service provided location is absolute goodthanku so much pizza hut\n",
            "before: one of those places to satisfy your hunger pangs luxuriously without making whole in your pocket they have wide variety of food on their menu apart from the pizzas that they are known for personally love their fresh garden salad the produce is fresh and crispy and the seasoning is very well balanced the potato wedges are also quite good and the sober mustard served with it is sure perfection needless to say anything about the garlic bread its favourite and must order for me tip have it with concoction of oregano and tobasco sauce it gives such punch to the dish especially for the chilli lovers im sure you will love it then the pizza go with the classic margarita soft and nice for the desserts usually go for the cookie base with icecream but however it was not available and so switched to the chocolate fudge with vanilla icecream and it was good it nothing exceptional about the place however think its really good for college students on low maintenance love it\n",
            "list: {'tobasco'}\n",
            "misspelled word:  tobasco       correct word: tabasco\n",
            "After: one of those places to satisfy your hunger pangs luxuriously without making whole in your pocket they have wide variety of food on their menu apart from the pizzas that they are known for personally love their fresh garden salad the produce is fresh and crispy and the seasoning is very well balanced the potato wedges are also quite good and the sober mustard served with it is sure perfection needless to say anything about the garlic bread its favourite and must order for me tip have it with concoction of oregano and tabasco sauce it gives such punch to the dish especially for the chilli lovers im sure you will love it then the pizza go with the classic margarita soft and nice for the desserts usually go for the cookie base with icecream but however it was not available and so switched to the chocolate fudge with vanilla icecream and it was good it nothing exceptional about the place however think its really good for college students on low maintenance love it\n",
            "before: it was good to be part of pizza hut bcoz we to big fan of pizza hut music was good playing such beautiful song pizzas was rock star its shef speciality we really enjoyed it lot\n",
            "list: {'shef', 'bcoz'}\n",
            "misspelled word:  shef       correct word: shelf\n",
            "misspelled word:  bcoz       correct word: coz\n",
            "After: it was good to be part of pizza hut coz we to big fan of pizza hut music was good playing such beautiful song pizzas was rock star its shelf speciality we really enjoyed it lot\n",
            "before: good ambience staff friendly amazing varieties of pizza once must definitely try chicken supreme and green apple mojito totally pocket friendly\n",
            "list: set()\n",
            "After: good ambience staff friendly amazing varieties of pizza once must definitely try chicken supreme and green apple mojito totally pocket friendly\n",
            "before: staff is less so the service is slow quality of the food is nice no complaints regarding food delivery could be better\n",
            "list: set()\n",
            "After: staff is less so the service is slow quality of the food is nice no complaints regarding food delivery could be better\n",
            "before: ive been to this outlet multiple times and must say that the service which was once upon time years ago brilliant has now turned into pathetic dont even think about visiting this place on weekends or when youre in hurry because you will waste at least hour doing nothing the staff wont bother taking your order or even giving you glass of water ive waited mins once and no one bothered to take my order called the waiter couple of times but he just said ek minute and never came back never wrote review because the taste of the food would always bring smile on my face but today decided to take away my dinner from this outlet and the quality of the food made me write this review called up on the number given on zomato which turned out to be the main center they asked for my number and my address dont find reason to ask for address when they dont even deliver in my area anyways the person kept me on hold for minutes and then finally took my order ordered for pasta but they said that sorry this outlet does not have pasta today no pasta available on sunday wow went there got my parcel came back home and opened my pizza one veggie lover one garlic breadstix with the texas dip and one veg tandoori pocket veggie lover less toppings cold pizza had to heat it and it tasted alright garlic breadstix hard dough not puffed up enough became bit chewy disappointed texas dip the only thing which was perfect and tasty and just the right quantity as well tandoori pocket onion capsicum and panner marinated in panner tikka kinda marinade if they had been in the oven for bit longer they would have been perfect ill prefer dominos over pizza hut any day if get this type of service and food hope youll understand that youll are losing customers and improve yourselves\n",
            "list: {'breadstix', 'panner', 'zomato'}\n",
            "misspelled word:  breadstix       correct word: breadstick\n",
            "misspelled word:  panner       correct word: paneer\n",
            "After: ive been to this outlet multiple times and must say that the service which was once upon time years ago brilliant has now turned into pathetic dont even think about visiting this place on weekends or when youre in hurry because you will waste at least hour doing nothing the staff wont bother taking your order or even giving you glass of water ive waited mins once and no one bothered to take my order called the waiter couple of times but he just said ek minute and never came back never wrote review because the taste of the food would always bring smile on my face but today decided to take away my dinner from this outlet and the quality of the food made me write this review called up on the number given on zomato which turned out to be the main center they asked for my number and my address dont find reason to ask for address when they dont even deliver in my area anyways the person kept me on hold for minutes and then finally took my order ordered for pasta but they said that sorry this outlet does not have pasta today no pasta available on sunday wow went there got my parcel came back home and opened my pizza one veggie lover one garlic breadstick with the texas dip and one veg tandoori pocket veggie lover less toppings cold pizza had to heat it and it tasted alright garlic breadstick hard dough not puffed up enough became bit chewy disappointed texas dip the only thing which was perfect and tasty and just the right quantity as well tandoori pocket onion capsicum and paneer marinated in paneer tikka kinda marinade if they had been in the oven for bit longer they would have been perfect ill prefer dominos over pizza hut any day if get this type of service and food hope youll understand that youll are losing customers and improve yourselves\n"
          ]
        }
      ]
    },
    {
      "cell_type": "code",
      "source": [
        "#This many words were corrected and replaced\n",
        "print(words_corrected_cnt)"
      ],
      "metadata": {
        "colab": {
          "base_uri": "https://localhost:8080/"
        },
        "id": "KpjCZqbO3gHg",
        "outputId": "e0ee57ec-6132-4d84-cb3c-09a3e623fc4d"
      },
      "execution_count": 113,
      "outputs": [
        {
          "output_type": "stream",
          "name": "stdout",
          "text": [
            "865\n"
          ]
        }
      ]
    },
    {
      "cell_type": "code",
      "source": [
        "#How the similar() function works\n",
        "print(similar('unfar','unfair'))"
      ],
      "metadata": {
        "colab": {
          "base_uri": "https://localhost:8080/"
        },
        "id": "X_MrImTX23VS",
        "outputId": "8fc5890c-cafd-4e03-efea-375cf80c305e"
      },
      "execution_count": 114,
      "outputs": [
        {
          "output_type": "stream",
          "name": "stdout",
          "text": [
            "0.9090909090909091\n"
          ]
        }
      ]
    },
    {
      "cell_type": "markdown",
      "source": [
        "WORD COUNT PROGRAM"
      ],
      "metadata": {
        "id": "rWs27eyBB97p"
      }
    },
    {
      "cell_type": "code",
      "source": [
        "#Just a trial code!\n",
        "\n",
        "p_list=[]\n",
        "for i in range(2900):\n",
        "  ent=df_review['Review'][i].split()\n",
        "  p_list.append(ent)\n",
        "\n",
        "word_list=[]\n",
        "for element in p_list:\n",
        "  for word in element:\n",
        "    word_list.append(word)\n",
        "print(len(word_list))"
      ],
      "metadata": {
        "colab": {
          "base_uri": "https://localhost:8080/"
        },
        "id": "5sn39GMsAWH7",
        "outputId": "9330f0cf-0b84-4e28-f010-ba39c2dfed3a"
      },
      "execution_count": 45,
      "outputs": [
        {
          "output_type": "stream",
          "name": "stdout",
          "text": [
            "104203\n"
          ]
        }
      ]
    },
    {
      "cell_type": "markdown",
      "source": [
        "WORD COUNT PROGRAM END!"
      ],
      "metadata": {
        "id": "bTegbUc6CAY8"
      }
    },
    {
      "cell_type": "markdown",
      "source": [
        "TRIAL CODE END!"
      ],
      "metadata": {
        "id": "GY4Xn2qYL5df"
      }
    },
    {
      "cell_type": "code",
      "source": [
        "print(df_review['Review'].head())"
      ],
      "metadata": {
        "colab": {
          "base_uri": "https://localhost:8080/"
        },
        "id": "5C2y8Kn_CGfl",
        "outputId": "34df9423-53e0-479a-9127-6c9a7c87b344"
      },
      "execution_count": 115,
      "outputs": [
        {
          "output_type": "stream",
          "name": "stdout",
          "text": [
            "0                                                                                                                                                      tasteless pizza\n",
            "1                                                                                                                                                     price is so high\n",
            "2          very very disappointed while ordering you didnt mentioned it is small you guys are king fooling us rs spent for rs pizza issue acha grand deke kamaho bc mc\n",
            "3                                                                                                                                         taste was not up to the mark\n",
            "4    open pizza box and open jalapenos poppers sealing tape not properly put no point in blaming poor delivery person highly disappointing not expected from pizza hut\n",
            "Name: Review, dtype: object\n"
          ]
        }
      ]
    },
    {
      "cell_type": "markdown",
      "source": [
        "Stopwords"
      ],
      "metadata": {
        "id": "NfgYBAZLOLhT"
      }
    },
    {
      "cell_type": "code",
      "source": [
        "from nltk.corpus import stopwords\n",
        "sw=stopwords.words(\"english\")\n",
        "print(sw)\n",
        "#Removing the words below from the stopword list as they do impact the outcome when doing sentiment analysis. \n",
        "sw.append('would')\n",
        "words=['no','not']\n",
        "sw.remove('not')\n",
        "sw.remove('no')\n",
        "#sw.remove('never')\n",
        "sw.remove('don\\'t')\n",
        "sw.remove('didn\\'t')\n",
        "sw.remove('wouldn\\'t')\n",
        "sw.remove('wouldn')\n",
        "sw.remove('won\\'t')\n",
        "sw.remove('didn')\n",
        "sw.remove('don')\n",
        "sw.remove('isn\\'t')\n",
        "sw.remove('isn')\n",
        "#sw.remove('can\\'t')\n",
        "sw.remove('couldn\\'t')\n",
        "print(sw)"
      ],
      "metadata": {
        "colab": {
          "base_uri": "https://localhost:8080/"
        },
        "id": "_BM9LkwYNDlq",
        "outputId": "14dd0c91-c336-43f7-e640-d7362713e882"
      },
      "execution_count": 116,
      "outputs": [
        {
          "output_type": "stream",
          "name": "stdout",
          "text": [
            "['i', 'me', 'my', 'myself', 'we', 'our', 'ours', 'ourselves', 'you', \"you're\", \"you've\", \"you'll\", \"you'd\", 'your', 'yours', 'yourself', 'yourselves', 'he', 'him', 'his', 'himself', 'she', \"she's\", 'her', 'hers', 'herself', 'it', \"it's\", 'its', 'itself', 'they', 'them', 'their', 'theirs', 'themselves', 'what', 'which', 'who', 'whom', 'this', 'that', \"that'll\", 'these', 'those', 'am', 'is', 'are', 'was', 'were', 'be', 'been', 'being', 'have', 'has', 'had', 'having', 'do', 'does', 'did', 'doing', 'a', 'an', 'the', 'and', 'but', 'if', 'or', 'because', 'as', 'until', 'while', 'of', 'at', 'by', 'for', 'with', 'about', 'against', 'between', 'into', 'through', 'during', 'before', 'after', 'above', 'below', 'to', 'from', 'up', 'down', 'in', 'out', 'on', 'off', 'over', 'under', 'again', 'further', 'then', 'once', 'here', 'there', 'when', 'where', 'why', 'how', 'all', 'any', 'both', 'each', 'few', 'more', 'most', 'other', 'some', 'such', 'no', 'nor', 'not', 'only', 'own', 'same', 'so', 'than', 'too', 'very', 's', 't', 'can', 'will', 'just', 'don', \"don't\", 'should', \"should've\", 'now', 'd', 'll', 'm', 'o', 're', 've', 'y', 'ain', 'aren', \"aren't\", 'couldn', \"couldn't\", 'didn', \"didn't\", 'doesn', \"doesn't\", 'hadn', \"hadn't\", 'hasn', \"hasn't\", 'haven', \"haven't\", 'isn', \"isn't\", 'ma', 'mightn', \"mightn't\", 'mustn', \"mustn't\", 'needn', \"needn't\", 'shan', \"shan't\", 'shouldn', \"shouldn't\", 'wasn', \"wasn't\", 'weren', \"weren't\", 'won', \"won't\", 'wouldn', \"wouldn't\"]\n",
            "['i', 'me', 'my', 'myself', 'we', 'our', 'ours', 'ourselves', 'you', \"you're\", \"you've\", \"you'll\", \"you'd\", 'your', 'yours', 'yourself', 'yourselves', 'he', 'him', 'his', 'himself', 'she', \"she's\", 'her', 'hers', 'herself', 'it', \"it's\", 'its', 'itself', 'they', 'them', 'their', 'theirs', 'themselves', 'what', 'which', 'who', 'whom', 'this', 'that', \"that'll\", 'these', 'those', 'am', 'is', 'are', 'was', 'were', 'be', 'been', 'being', 'have', 'has', 'had', 'having', 'do', 'does', 'did', 'doing', 'a', 'an', 'the', 'and', 'but', 'if', 'or', 'because', 'as', 'until', 'while', 'of', 'at', 'by', 'for', 'with', 'about', 'against', 'between', 'into', 'through', 'during', 'before', 'after', 'above', 'below', 'to', 'from', 'up', 'down', 'in', 'out', 'on', 'off', 'over', 'under', 'again', 'further', 'then', 'once', 'here', 'there', 'when', 'where', 'why', 'how', 'all', 'any', 'both', 'each', 'few', 'more', 'most', 'other', 'some', 'such', 'nor', 'only', 'own', 'same', 'so', 'than', 'too', 'very', 's', 't', 'can', 'will', 'just', 'should', \"should've\", 'now', 'd', 'll', 'm', 'o', 're', 've', 'y', 'ain', 'aren', \"aren't\", 'couldn', 'doesn', \"doesn't\", 'hadn', \"hadn't\", 'hasn', \"hasn't\", 'haven', \"haven't\", 'ma', 'mightn', \"mightn't\", 'mustn', \"mustn't\", 'needn', \"needn't\", 'shan', \"shan't\", 'shouldn', \"shouldn't\", 'wasn', \"wasn't\", 'weren', \"weren't\", 'won', 'would']\n"
          ]
        }
      ]
    },
    {
      "cell_type": "markdown",
      "source": [
        "Making 'Review' lower so I can remove stopwords"
      ],
      "metadata": {
        "id": "eL5CFn6D3EV1"
      }
    },
    {
      "cell_type": "code",
      "source": [
        "df_review['Review']=df_review['Review'].str.lower()"
      ],
      "metadata": {
        "id": "refRp0Ei02vc"
      },
      "execution_count": 117,
      "outputs": []
    },
    {
      "cell_type": "code",
      "source": [
        "df_review['Review']=df_review['Review'].apply(lambda x:\" \".join(x for x in str(x).split() if x not in sw))\n",
        "print(df_review.head())"
      ],
      "metadata": {
        "colab": {
          "base_uri": "https://localhost:8080/"
        },
        "id": "PyO5iDakPkS7",
        "outputId": "2be0fa9b-d5bf-4af8-dc6e-c5d094d08fb2"
      },
      "execution_count": 118,
      "outputs": [
        {
          "output_type": "stream",
          "name": "stdout",
          "text": [
            "                                                                                                                                                  Review  \\\n",
            "0                                                                                                                                        tasteless pizza   \n",
            "1                                                                                                                                             price high   \n",
            "2                                  disappointed ordering didnt mentioned small guys king fooling us rs spent rs pizza issue acha grand deke kamaho bc mc   \n",
            "3                                                                                                                                         taste not mark   \n",
            "4  open pizza box open jalapenos poppers sealing tape not properly put no point blaming poor delivery person highly disappointing not expected pizza hut   \n",
            "\n",
            "   Sentiment  \n",
            "0          0  \n",
            "1          0  \n",
            "2          0  \n",
            "3          0  \n",
            "4          0  \n"
          ]
        }
      ]
    },
    {
      "cell_type": "code",
      "source": [
        "#TOTAL WORDS AFTER REMOVING STOP WORDS!\n",
        "p_list=[]\n",
        "for i in range(2900):\n",
        "  ent=df_review['Review'][i].split()\n",
        "  p_list.append(ent)\n",
        "\n",
        "word_list=[]\n",
        "for element in p_list:\n",
        "  for word in element:\n",
        "    word_list.append(word)\n",
        "print(len(word_list))"
      ],
      "metadata": {
        "colab": {
          "base_uri": "https://localhost:8080/"
        },
        "id": "OXtBoryLC03P",
        "outputId": "ae89fe9d-205e-4ba0-8b10-0b52d0fef194"
      },
      "execution_count": 119,
      "outputs": [
        {
          "output_type": "stream",
          "name": "stdout",
          "text": [
            "62141\n"
          ]
        }
      ]
    },
    {
      "cell_type": "markdown",
      "source": [
        "TOKENIZATION"
      ],
      "metadata": {
        "id": "Sm3xLfgYQHX3"
      }
    },
    {
      "cell_type": "code",
      "source": [
        "#Tokenization done to apply Lemmatization\n",
        "w_tokenizer=nltk.tokenize.WhitespaceTokenizer()\n",
        "lemmatizer=nltk.stem.WordNetLemmatizer()\n",
        "\n",
        "def lemmatize_text(text):\n",
        "  return [lemmatizer.lemmatize(w,'v') for w in w_tokenizer.tokenize(text)]\n",
        "\n",
        "df_review['Review']=df_review.Review.apply(lemmatize_text)\n",
        "print(df_review.head())"
      ],
      "metadata": {
        "colab": {
          "base_uri": "https://localhost:8080/"
        },
        "id": "BXtn6WCqQFre",
        "outputId": "440d45ce-1d76-47ae-bc91-fc4d7b4f631d"
      },
      "execution_count": 120,
      "outputs": [
        {
          "output_type": "stream",
          "name": "stdout",
          "text": [
            "                                                                                                                                                                Review  \\\n",
            "0                                                                                                                                                   [tasteless, pizza]   \n",
            "1                                                                                                                                                        [price, high]   \n",
            "2                                      [disappoint, order, didnt, mention, small, guy, king, fool, us, rs, spend, rs, pizza, issue, acha, grand, deke, kamaho, bc, mc]   \n",
            "3                                                                                                                                                   [taste, not, mark]   \n",
            "4  [open, pizza, box, open, jalapenos, poppers, seal, tape, not, properly, put, no, point, blame, poor, delivery, person, highly, disappoint, not, expect, pizza, hut]   \n",
            "\n",
            "   Sentiment  \n",
            "0          0  \n",
            "1          0  \n",
            "2          0  \n",
            "3          0  \n",
            "4          0  \n"
          ]
        }
      ]
    },
    {
      "cell_type": "markdown",
      "source": [
        "From tokenized to normal"
      ],
      "metadata": {
        "id": "7UWXt_ZfRBBe"
      }
    },
    {
      "cell_type": "code",
      "source": [
        "df_review['NewReview'] = df_review['Review'].apply(lambda s1: ' '.join(map(str,s1)) )\n",
        "\n",
        "\n",
        "print(df_review['NewReview'].head())"
      ],
      "metadata": {
        "colab": {
          "base_uri": "https://localhost:8080/"
        },
        "id": "8sD_arXaRFhn",
        "outputId": "56cf337e-4136-44a4-ed7c-0b9a83186ab1"
      },
      "execution_count": 121,
      "outputs": [
        {
          "output_type": "stream",
          "name": "stdout",
          "text": [
            "0                                                                                                                                tasteless pizza\n",
            "1                                                                                                                                     price high\n",
            "2                                     disappoint order didnt mention small guy king fool us rs spend rs pizza issue acha grand deke kamaho bc mc\n",
            "3                                                                                                                                 taste not mark\n",
            "4    open pizza box open jalapenos poppers seal tape not properly put no point blame poor delivery person highly disappoint not expect pizza hut\n",
            "Name: NewReview, dtype: object\n"
          ]
        }
      ]
    },
    {
      "cell_type": "code",
      "source": [
        "df_review['NewReview']=df_review['NewReview'].str.lower()\n",
        "df_review.head()"
      ],
      "metadata": {
        "colab": {
          "base_uri": "https://localhost:8080/",
          "height": 285
        },
        "id": "m-v7WXIaRTl7",
        "outputId": "d87dea17-64b8-40bf-a524-4e31f23d3e8e"
      },
      "execution_count": 122,
      "outputs": [
        {
          "output_type": "execute_result",
          "data": {
            "text/html": [
              "\n",
              "  <div id=\"df-0ee05e29-4897-4cd2-bee0-b3b4c635e991\">\n",
              "    <div class=\"colab-df-container\">\n",
              "      <div>\n",
              "<style scoped>\n",
              "    .dataframe tbody tr th:only-of-type {\n",
              "        vertical-align: middle;\n",
              "    }\n",
              "\n",
              "    .dataframe tbody tr th {\n",
              "        vertical-align: top;\n",
              "    }\n",
              "\n",
              "    .dataframe thead th {\n",
              "        text-align: right;\n",
              "    }\n",
              "</style>\n",
              "<table border=\"1\" class=\"dataframe\">\n",
              "  <thead>\n",
              "    <tr style=\"text-align: right;\">\n",
              "      <th></th>\n",
              "      <th>Review</th>\n",
              "      <th>Sentiment</th>\n",
              "      <th>NewReview</th>\n",
              "    </tr>\n",
              "  </thead>\n",
              "  <tbody>\n",
              "    <tr>\n",
              "      <th>0</th>\n",
              "      <td>[tasteless, pizza]</td>\n",
              "      <td>0</td>\n",
              "      <td>tasteless pizza</td>\n",
              "    </tr>\n",
              "    <tr>\n",
              "      <th>1</th>\n",
              "      <td>[price, high]</td>\n",
              "      <td>0</td>\n",
              "      <td>price high</td>\n",
              "    </tr>\n",
              "    <tr>\n",
              "      <th>2</th>\n",
              "      <td>[disappoint, order, didnt, mention, small, guy, king, fool, us, rs, spend, rs, pizza, issue, acha, grand, deke, kamaho, bc, mc]</td>\n",
              "      <td>0</td>\n",
              "      <td>disappoint order didnt mention small guy king fool us rs spend rs pizza issue acha grand deke kamaho bc mc</td>\n",
              "    </tr>\n",
              "    <tr>\n",
              "      <th>3</th>\n",
              "      <td>[taste, not, mark]</td>\n",
              "      <td>0</td>\n",
              "      <td>taste not mark</td>\n",
              "    </tr>\n",
              "    <tr>\n",
              "      <th>4</th>\n",
              "      <td>[open, pizza, box, open, jalapenos, poppers, seal, tape, not, properly, put, no, point, blame, poor, delivery, person, highly, disappoint, not, expect, pizza, hut]</td>\n",
              "      <td>0</td>\n",
              "      <td>open pizza box open jalapenos poppers seal tape not properly put no point blame poor delivery person highly disappoint not expect pizza hut</td>\n",
              "    </tr>\n",
              "  </tbody>\n",
              "</table>\n",
              "</div>\n",
              "      <button class=\"colab-df-convert\" onclick=\"convertToInteractive('df-0ee05e29-4897-4cd2-bee0-b3b4c635e991')\"\n",
              "              title=\"Convert this dataframe to an interactive table.\"\n",
              "              style=\"display:none;\">\n",
              "        \n",
              "  <svg xmlns=\"http://www.w3.org/2000/svg\" height=\"24px\"viewBox=\"0 0 24 24\"\n",
              "       width=\"24px\">\n",
              "    <path d=\"M0 0h24v24H0V0z\" fill=\"none\"/>\n",
              "    <path d=\"M18.56 5.44l.94 2.06.94-2.06 2.06-.94-2.06-.94-.94-2.06-.94 2.06-2.06.94zm-11 1L8.5 8.5l.94-2.06 2.06-.94-2.06-.94L8.5 2.5l-.94 2.06-2.06.94zm10 10l.94 2.06.94-2.06 2.06-.94-2.06-.94-.94-2.06-.94 2.06-2.06.94z\"/><path d=\"M17.41 7.96l-1.37-1.37c-.4-.4-.92-.59-1.43-.59-.52 0-1.04.2-1.43.59L10.3 9.45l-7.72 7.72c-.78.78-.78 2.05 0 2.83L4 21.41c.39.39.9.59 1.41.59.51 0 1.02-.2 1.41-.59l7.78-7.78 2.81-2.81c.8-.78.8-2.07 0-2.86zM5.41 20L4 18.59l7.72-7.72 1.47 1.35L5.41 20z\"/>\n",
              "  </svg>\n",
              "      </button>\n",
              "      \n",
              "  <style>\n",
              "    .colab-df-container {\n",
              "      display:flex;\n",
              "      flex-wrap:wrap;\n",
              "      gap: 12px;\n",
              "    }\n",
              "\n",
              "    .colab-df-convert {\n",
              "      background-color: #E8F0FE;\n",
              "      border: none;\n",
              "      border-radius: 50%;\n",
              "      cursor: pointer;\n",
              "      display: none;\n",
              "      fill: #1967D2;\n",
              "      height: 32px;\n",
              "      padding: 0 0 0 0;\n",
              "      width: 32px;\n",
              "    }\n",
              "\n",
              "    .colab-df-convert:hover {\n",
              "      background-color: #E2EBFA;\n",
              "      box-shadow: 0px 1px 2px rgba(60, 64, 67, 0.3), 0px 1px 3px 1px rgba(60, 64, 67, 0.15);\n",
              "      fill: #174EA6;\n",
              "    }\n",
              "\n",
              "    [theme=dark] .colab-df-convert {\n",
              "      background-color: #3B4455;\n",
              "      fill: #D2E3FC;\n",
              "    }\n",
              "\n",
              "    [theme=dark] .colab-df-convert:hover {\n",
              "      background-color: #434B5C;\n",
              "      box-shadow: 0px 1px 3px 1px rgba(0, 0, 0, 0.15);\n",
              "      filter: drop-shadow(0px 1px 2px rgba(0, 0, 0, 0.3));\n",
              "      fill: #FFFFFF;\n",
              "    }\n",
              "  </style>\n",
              "\n",
              "      <script>\n",
              "        const buttonEl =\n",
              "          document.querySelector('#df-0ee05e29-4897-4cd2-bee0-b3b4c635e991 button.colab-df-convert');\n",
              "        buttonEl.style.display =\n",
              "          google.colab.kernel.accessAllowed ? 'block' : 'none';\n",
              "\n",
              "        async function convertToInteractive(key) {\n",
              "          const element = document.querySelector('#df-0ee05e29-4897-4cd2-bee0-b3b4c635e991');\n",
              "          const dataTable =\n",
              "            await google.colab.kernel.invokeFunction('convertToInteractive',\n",
              "                                                     [key], {});\n",
              "          if (!dataTable) return;\n",
              "\n",
              "          const docLinkHtml = 'Like what you see? Visit the ' +\n",
              "            '<a target=\"_blank\" href=https://colab.research.google.com/notebooks/data_table.ipynb>data table notebook</a>'\n",
              "            + ' to learn more about interactive tables.';\n",
              "          element.innerHTML = '';\n",
              "          dataTable['output_type'] = 'display_data';\n",
              "          await google.colab.output.renderOutput(dataTable, element);\n",
              "          const docLink = document.createElement('div');\n",
              "          docLink.innerHTML = docLinkHtml;\n",
              "          element.appendChild(docLink);\n",
              "        }\n",
              "      </script>\n",
              "    </div>\n",
              "  </div>\n",
              "  "
            ],
            "text/plain": [
              "                                                                                                                                                                Review  \\\n",
              "0                                                                                                                                                   [tasteless, pizza]   \n",
              "1                                                                                                                                                        [price, high]   \n",
              "2                                      [disappoint, order, didnt, mention, small, guy, king, fool, us, rs, spend, rs, pizza, issue, acha, grand, deke, kamaho, bc, mc]   \n",
              "3                                                                                                                                                   [taste, not, mark]   \n",
              "4  [open, pizza, box, open, jalapenos, poppers, seal, tape, not, properly, put, no, point, blame, poor, delivery, person, highly, disappoint, not, expect, pizza, hut]   \n",
              "\n",
              "   Sentiment  \\\n",
              "0          0   \n",
              "1          0   \n",
              "2          0   \n",
              "3          0   \n",
              "4          0   \n",
              "\n",
              "                                                                                                                                     NewReview  \n",
              "0                                                                                                                              tasteless pizza  \n",
              "1                                                                                                                                   price high  \n",
              "2                                   disappoint order didnt mention small guy king fool us rs spend rs pizza issue acha grand deke kamaho bc mc  \n",
              "3                                                                                                                               taste not mark  \n",
              "4  open pizza box open jalapenos poppers seal tape not properly put no point blame poor delivery person highly disappoint not expect pizza hut  "
            ]
          },
          "metadata": {},
          "execution_count": 122
        }
      ]
    },
    {
      "cell_type": "markdown",
      "source": [
        "Sentiment Analysis"
      ],
      "metadata": {
        "id": "Kh-RBjL-Rkud"
      }
    },
    {
      "cell_type": "code",
      "source": [
        "from sklearn.model_selection import train_test_split"
      ],
      "metadata": {
        "id": "nZ223Yg4TMNX"
      },
      "execution_count": 123,
      "outputs": []
    },
    {
      "cell_type": "code",
      "source": [
        "train_data,test_data=train_test_split(df_review,test_size=0.4,random_state=25)\n"
      ],
      "metadata": {
        "id": "yUx96R79SyEv"
      },
      "execution_count": 124,
      "outputs": []
    },
    {
      "cell_type": "code",
      "source": [
        "#test data= 1160 data points\n",
        "#train data= 1740 data points\n",
        "print(test_data.shape)\n",
        "print('test_data(Positive):',test_data[test_data['Sentiment']==1].count())\n",
        "print('test_data(Negative):',test_data[test_data['Sentiment']==0].count())\n",
        "\n",
        "print(\"train_data (Positive):\",train_data[train_data['Sentiment']==1].count())\n",
        "print('train_data (Negative):',train_data[train_data['Sentiment']==0].count())"
      ],
      "metadata": {
        "id": "97P05naKTpVr",
        "colab": {
          "base_uri": "https://localhost:8080/"
        },
        "outputId": "d77472a5-4cf0-472d-f686-be8cb3372cc7"
      },
      "execution_count": 125,
      "outputs": [
        {
          "output_type": "stream",
          "name": "stdout",
          "text": [
            "(1160, 3)\n",
            "test_data(Positive): Review       782\n",
            "Sentiment    782\n",
            "NewReview    782\n",
            "dtype: int64\n",
            "test_data(Negative): Review       378\n",
            "Sentiment    378\n",
            "NewReview    378\n",
            "dtype: int64\n",
            "train_data (Positive): Review       1190\n",
            "Sentiment    1190\n",
            "NewReview    1190\n",
            "dtype: int64\n",
            "train_data (Negative): Review       550\n",
            "Sentiment    550\n",
            "NewReview    550\n",
            "dtype: int64\n"
          ]
        }
      ]
    },
    {
      "cell_type": "code",
      "source": [
        "X_train=train_data['NewReview']\n",
        "y_train=train_data['Sentiment']\n",
        "X_test=test_data['NewReview']\n",
        "y_test=test_data['Sentiment']"
      ],
      "metadata": {
        "id": "gAWfhmziRmS3"
      },
      "execution_count": 126,
      "outputs": []
    },
    {
      "cell_type": "code",
      "source": [
        "print(X_train.head())\n",
        "print(X_test.head())"
      ],
      "metadata": {
        "id": "uXz0_ZksUg-r",
        "colab": {
          "base_uri": "https://localhost:8080/"
        },
        "outputId": "af10b044-1291-403f-efd2-3deb4b61b8f8"
      },
      "execution_count": 127,
      "outputs": [
        {
          "output_type": "stream",
          "name": "stdout",
          "text": [
            "3                                                                                                                                                                                                                                                                                               taste not mark\n",
            "1648                                                                                                                           service wasnt per expect waiters dont respond even call repeatedly even air condition restaurant not work plus many mistake order didnt receive order right time bad experience\n",
            "2020                                                                                                                                                                   good pizzas definitely rate higher dominos prompt service value meal options available fly buzz around restaurant need take care though\n",
            "2397    pizza worth rat garlic bread provide cutlery eat place use good place decide switch air conditioner provide poor service food actually grateful provide food within first half hr order meal bring soup along pizza check soup photo look like leave return red water ask feedback book bluntly refuse\n",
            "2243                                                                                                                                                                                          quick service food quality best worth money enjoy food good atmosfear amaze barry vanilla shake love visit thank\n",
            "Name: NewReview, dtype: object\n",
            "2051                                                                                   great place pizza hut food also amaze comfortable offer friendly staff restaurant good clean enjoy ur friends birthday\n",
            "732     self service place visit place wife one yr old kid staff cooperative helpful suggestions helpful decide menu food outstanding drawback no park place bpcl petrol pump guy not allow park even minutes\n",
            "2550                                                                                                                                   wow wow wow owesme service pizza yummy lovee good place hangout friend\n",
            "2446                                                                                                                  place service good ambience also nice good place chill friends hectic day staff welcome\n",
            "1834                                               go friends lunch place good staff friendly service slow drink appetisers taste good pizzas flavourful tasty dessert warm delicious overall good experience\n",
            "Name: NewReview, dtype: object\n"
          ]
        }
      ]
    },
    {
      "cell_type": "markdown",
      "source": [
        "Vectorizer"
      ],
      "metadata": {
        "id": "xACY3l2cR04F"
      }
    },
    {
      "cell_type": "code",
      "source": [
        "from sklearn.feature_extraction.text import TfidfVectorizer"
      ],
      "metadata": {
        "id": "817fKfDAR0Du"
      },
      "execution_count": 128,
      "outputs": []
    },
    {
      "cell_type": "markdown",
      "source": [
        "TRIAL CODE START! DON'T USE THE CODE BELOW, ITS JUST FOR PRINTING WORDS AND THEIR TF-IDF VALUES"
      ],
      "metadata": {
        "id": "DC6RZu5PLOlq"
      }
    },
    {
      "cell_type": "code",
      "source": [
        "# tfIdfVectorizer=TfidfVectorizer(use_idf=True)\n",
        "# tfIdf = tfIdfVectorizer.fit_transform(X_train)\n",
        "# df_abc = pd.DataFrame(tfIdf[0].T.todense(), index=tfIdfVectorizer.get_feature_names(), columns=[\"TF-IDF\"])\n",
        "# df_abc = df_abc.sort_values('TF-IDF', ascending=False)\n",
        "# print (df_abc.head(5))"
      ],
      "metadata": {
        "id": "7SqLS8UMK7wz"
      },
      "execution_count": null,
      "outputs": []
    },
    {
      "cell_type": "markdown",
      "source": [
        "TRIAL CODE END!"
      ],
      "metadata": {
        "id": "67TsjA0rLWot"
      }
    },
    {
      "cell_type": "code",
      "source": [
        "train_vectorizer=TfidfVectorizer(use_idf=True,lowercase=True,strip_accents='ascii')\n",
        "train_review_tfidf=train_vectorizer.fit_transform(X_train)"
      ],
      "metadata": {
        "id": "0-DVY0c7R7vh"
      },
      "execution_count": 129,
      "outputs": []
    },
    {
      "cell_type": "code",
      "source": [
        "print(train_review_tfidf.shape)\n",
        "type(train_review_tfidf)"
      ],
      "metadata": {
        "colab": {
          "base_uri": "https://localhost:8080/"
        },
        "id": "M4dHCga8VKwC",
        "outputId": "68847ff7-659e-4ea5-820e-f6e6f2048c56"
      },
      "execution_count": 130,
      "outputs": [
        {
          "output_type": "stream",
          "name": "stdout",
          "text": [
            "(1740, 3248)\n"
          ]
        },
        {
          "output_type": "execute_result",
          "data": {
            "text/plain": [
              "scipy.sparse.csr.csr_matrix"
            ]
          },
          "metadata": {},
          "execution_count": 130
        }
      ]
    },
    {
      "cell_type": "markdown",
      "source": [
        "printing first 5 elements and other is about ngrams"
      ],
      "metadata": {
        "id": "O2OjwMWGVcn9"
      }
    },
    {
      "cell_type": "code",
      "source": [
        "#print(review_tfidf.toarray()[1:5])\n",
        "#train_vectorizer_ngram=TfidfVectorizer(ngram_range=(2,3))\n",
        "#review_tfidf_ngram=train_vectorizer_ngram.fit_transform(X)"
      ],
      "metadata": {
        "id": "aVvE4_kiVSgR"
      },
      "execution_count": null,
      "outputs": []
    },
    {
      "cell_type": "code",
      "source": [
        "#Ignore this code cell\n",
        "\n",
        "print(y_train.head())\n",
        "print(y_train.shape)\n",
        "print(train_review_tfidf.shape)"
      ],
      "metadata": {
        "colab": {
          "base_uri": "https://localhost:8080/"
        },
        "id": "Sx_pgjw4WDYA",
        "outputId": "02f58858-2da8-434c-e034-f30170e1433a"
      },
      "execution_count": null,
      "outputs": [
        {
          "output_type": "stream",
          "name": "stdout",
          "text": [
            "3       0\n",
            "1648    0\n",
            "2020    1\n",
            "2397    0\n",
            "2243    1\n",
            "Name: Sentiment, dtype: int64\n",
            "(1740,)\n",
            "(1740, 3247)\n"
          ]
        }
      ]
    },
    {
      "cell_type": "markdown",
      "source": [
        "LOGISTIC REGRESSION"
      ],
      "metadata": {
        "id": "5nc7DBAqVi1_"
      }
    },
    {
      "cell_type": "code",
      "source": [
        "log_model=LogisticRegression().fit(train_review_tfidf, y_train)"
      ],
      "metadata": {
        "id": "WIVnf7WwVkxB"
      },
      "execution_count": 131,
      "outputs": []
    },
    {
      "cell_type": "code",
      "source": [
        "cross_val_score(log_model,train_review_tfidf,y_train,scoring='accuracy',cv=5).mean()"
      ],
      "metadata": {
        "colab": {
          "base_uri": "https://localhost:8080/"
        },
        "id": "oJ8csFnQWapl",
        "outputId": "be8bffe7-b23f-46fe-b66d-45c64f50aa91"
      },
      "execution_count": 132,
      "outputs": [
        {
          "output_type": "execute_result",
          "data": {
            "text/plain": [
              "0.9298850574712644"
            ]
          },
          "metadata": {},
          "execution_count": 132
        }
      ]
    },
    {
      "cell_type": "markdown",
      "source": [
        "\n",
        "TESTING"
      ],
      "metadata": {
        "id": "Q3BfK_FTWoQT"
      }
    },
    {
      "cell_type": "code",
      "source": [
        "#USE THIS WHEN TESTING ON SPLIT TEST DATA\n",
        "nr=train_vectorizer.transform(X_test)\n",
        "log_model.predict(nr)\n",
        "\n",
        "#USE THIS WHEN TESTING ON WHOLE DATASET\n",
        "# nr=train_vectorizer.transform(df_review['NewReview'])\n",
        "# log_model.predict(nr)\n"
      ],
      "metadata": {
        "id": "70FF2KxWWnwj",
        "colab": {
          "base_uri": "https://localhost:8080/"
        },
        "outputId": "648196c8-7115-4c53-dc69-b55426f59f3f"
      },
      "execution_count": 133,
      "outputs": [
        {
          "output_type": "execute_result",
          "data": {
            "text/plain": [
              "array([1, 1, 1, ..., 0, 1, 1])"
            ]
          },
          "metadata": {},
          "execution_count": 133
        }
      ]
    },
    {
      "cell_type": "code",
      "source": [
        "# print(\"Accuracy: \",cross_val_score(log_model,nr,y_test,scoring='accuracy',cv=5).mean())\n",
        "# print(\"Precision: \",cross_val_score(log_model,nr,y_test,scoring='precision',cv=5).mean())\n",
        "# print(\"Recall: \",cross_val_score(log_model,nr,y_test,scoring='recall',cv=5).mean())\n",
        "# print(\"F1 score :\",cross_val_score(log_model,nr,y_test,scoring='f1',cv=5).mean())\n",
        "\n",
        " \n",
        "  \n",
        "  \n",
        "#cross_val_score(log_model,nr,df_review['Sentiment'],scoring='accuracy',cv=5).mean()"
      ],
      "metadata": {
        "colab": {
          "base_uri": "https://localhost:8080/"
        },
        "id": "9BKhyOhTapav",
        "outputId": "ce5f6d1f-defb-4715-e21a-3a2007c16e7d"
      },
      "execution_count": null,
      "outputs": [
        {
          "output_type": "stream",
          "name": "stdout",
          "text": [
            "Accuracy:  0.9301724137931036\n",
            "Precision:  0.9239289537903218\n",
            "Recall:  0.9769965703086723\n",
            "F1 score : 0.9496567860161017\n"
          ]
        }
      ]
    },
    {
      "cell_type": "code",
      "source": [
        "predicted=log_model.predict(nr)\n",
        "p=pd.DataFrame(predicted)\n",
        "actual=y_test\n",
        "# actual=df_review['Sentiment']"
      ],
      "metadata": {
        "id": "IAMl0jTLXFiv"
      },
      "execution_count": 134,
      "outputs": []
    },
    {
      "cell_type": "code",
      "source": [
        "print(p.dtypes)"
      ],
      "metadata": {
        "id": "WS1Y47GfJY-o",
        "colab": {
          "base_uri": "https://localhost:8080/"
        },
        "outputId": "c604e19c-bced-4445-ac3b-281917bb3e38"
      },
      "execution_count": 70,
      "outputs": [
        {
          "output_type": "stream",
          "name": "stdout",
          "text": [
            "0    int64\n",
            "dtype: object\n"
          ]
        }
      ]
    },
    {
      "cell_type": "code",
      "source": [
        "import seaborn as sns\n",
        "cf_matrix=sm.confusion_matrix(actual,p)\n",
        "sns.heatmap(cf_matrix,annot=True,fmt='g')"
      ],
      "metadata": {
        "colab": {
          "base_uri": "https://localhost:8080/",
          "height": 284
        },
        "id": "3QEWlonRH744",
        "outputId": "9a8d30bd-7277-4848-cee0-2ca79be0942c"
      },
      "execution_count": 135,
      "outputs": [
        {
          "output_type": "execute_result",
          "data": {
            "text/plain": [
              "<matplotlib.axes._subplots.AxesSubplot at 0x7f0a77a6f910>"
            ]
          },
          "metadata": {},
          "execution_count": 135
        },
        {
          "output_type": "display_data",
          "data": {
            "image/png": "[encoded data removed]",
            "text/plain": [
              "<Figure size 432x288 with 2 Axes>"
            ]
          },
          "metadata": {
            "needs_background": "light"
          }
        }
      ]
    },
    {
      "cell_type": "code",
      "source": [
        "#Classification Report\n",
        "from sklearn.metrics import classification_report\n",
        "print(classification_report(actual,predicted))"
      ],
      "metadata": {
        "colab": {
          "base_uri": "https://localhost:8080/"
        },
        "id": "T0PIVY_KZYCt",
        "outputId": "03f3ab08-3013-4d2f-b398-d6c361d5fa4f"
      },
      "execution_count": 136,
      "outputs": [
        {
          "output_type": "stream",
          "name": "stdout",
          "text": [
            "              precision    recall  f1-score   support\n",
            "\n",
            "           0       0.94      0.87      0.91       378\n",
            "           1       0.94      0.97      0.96       782\n",
            "\n",
            "    accuracy                           0.94      1160\n",
            "   macro avg       0.94      0.92      0.93      1160\n",
            "weighted avg       0.94      0.94      0.94      1160\n",
            "\n"
          ]
        }
      ]
    },
    {
      "cell_type": "markdown",
      "source": [
        "Applying SVM"
      ],
      "metadata": {
        "id": "25g4NkIdcZj4"
      }
    },
    {
      "cell_type": "code",
      "source": [
        "from sklearn.svm import SVC\n",
        "svclassifier=SVC(kernel='linear')\n",
        "svclassifier.fit(train_review_tfidf,y_train)"
      ],
      "metadata": {
        "colab": {
          "base_uri": "https://localhost:8080/"
        },
        "id": "Doq8pejtccdK",
        "outputId": "509e332a-f04e-47c5-bfa6-8c87de7347e8"
      },
      "execution_count": 137,
      "outputs": [
        {
          "output_type": "execute_result",
          "data": {
            "text/plain": [
              "SVC(kernel='linear')"
            ]
          },
          "metadata": {},
          "execution_count": 137
        }
      ]
    },
    {
      "cell_type": "code",
      "source": [
        "# sentence=['The order was delivered after 1 hour. Meanwhile I tried calling them but they put me on hold every time. On receiving the order I paid the money and then realized that instead of cheese burst chicken pizza a veg non cheese burst pizza was delivered, moreover it was completely cold...']\n",
        "# nr1=train_vectorizer.transform(sentence)\n",
        "# svclassifier.predict(nr1)"
      ],
      "metadata": {
        "colab": {
          "base_uri": "https://localhost:8080/"
        },
        "id": "VrgeCXarLbMo",
        "outputId": "db77721f-2eda-4355-943d-65a12933c90c"
      },
      "execution_count": 74,
      "outputs": [
        {
          "output_type": "execute_result",
          "data": {
            "text/plain": [
              "array([0])"
            ]
          },
          "metadata": {},
          "execution_count": 74
        }
      ]
    },
    {
      "cell_type": "code",
      "source": [
        "nr=train_vectorizer.transform(X_test)\n",
        "svclassifier.predict(nr)"
      ],
      "metadata": {
        "id": "3GDdJanidadf",
        "colab": {
          "base_uri": "https://localhost:8080/"
        },
        "outputId": "afaa8986-d92e-41a6-ced0-7e9990565699"
      },
      "execution_count": 138,
      "outputs": [
        {
          "output_type": "execute_result",
          "data": {
            "text/plain": [
              "array([1, 1, 1, ..., 0, 1, 1])"
            ]
          },
          "metadata": {},
          "execution_count": 138
        }
      ]
    },
    {
      "cell_type": "code",
      "source": [
        "predicted=svclassifier.predict(nr)\n",
        "p=pd.DataFrame(predicted)\n",
        "actual=y_test"
      ],
      "metadata": {
        "id": "MhZpsHR2dmgJ"
      },
      "execution_count": 139,
      "outputs": []
    },
    {
      "cell_type": "code",
      "source": [
        "cf_matrix=sm.confusion_matrix(actual,p)\n",
        "sns.heatmap(cf_matrix,annot=True,fmt='g')"
      ],
      "metadata": {
        "colab": {
          "base_uri": "https://localhost:8080/",
          "height": 284
        },
        "id": "Q-zYtb70LLdq",
        "outputId": "cc617187-afa9-4ca8-d030-84f18615dd28"
      },
      "execution_count": 140,
      "outputs": [
        {
          "output_type": "execute_result",
          "data": {
            "text/plain": [
              "<matplotlib.axes._subplots.AxesSubplot at 0x7f0a77787250>"
            ]
          },
          "metadata": {},
          "execution_count": 140
        },
        {
          "output_type": "display_data",
          "data": {
            "image/png": "[encoded data removed]",
            "text/plain": [
              "<Figure size 432x288 with 2 Axes>"
            ]
          },
          "metadata": {
            "needs_background": "light"
          }
        }
      ]
    },
    {
      "cell_type": "code",
      "source": [
        "cross_val_score(svclassifier,train_review_tfidf,y_train,scoring='accuracy',cv=5).mean()"
      ],
      "metadata": {
        "colab": {
          "base_uri": "https://localhost:8080/"
        },
        "id": "Fa8_Z74RdqEH",
        "outputId": "4f65dd83-9ce5-4259-c366-663c655d3347"
      },
      "execution_count": 141,
      "outputs": [
        {
          "output_type": "execute_result",
          "data": {
            "text/plain": [
              "0.9321839080459771"
            ]
          },
          "metadata": {},
          "execution_count": 141
        }
      ]
    },
    {
      "cell_type": "code",
      "source": [
        "# print(\"Accuracy: \",cross_val_score(svclassifier,nr,y_test,scoring='accuracy',cv=5).mean())\n",
        "# print(\"Precision: \",cross_val_score(svclassifier,nr,y_test,scoring='precision',cv=5).mean())\n",
        "# print(\"Recall: \",cross_val_score(svclassifier,nr,y_test,scoring='recall',cv=5).mean())\n",
        "# print(\"F1 score :\",cross_val_score(svclassifier,nr,y_test,scoring='f1',cv=5).mean())"
      ],
      "metadata": {
        "colab": {
          "base_uri": "https://localhost:8080/"
        },
        "id": "qg1fD1i3dnFG",
        "outputId": "2b37b1e7-102a-4ba3-8b0d-daef1c51d3d8"
      },
      "execution_count": null,
      "outputs": [
        {
          "output_type": "stream",
          "name": "stdout",
          "text": [
            "Accuracy:  0.9301724137931033\n",
            "Precision:  0.9510731306909651\n",
            "Recall:  0.945043279438184\n",
            "F1 score : 0.9480290403702132\n"
          ]
        }
      ]
    },
    {
      "cell_type": "code",
      "source": [
        "#Classification Report\n",
        "from sklearn.metrics import classification_report\n",
        "print(classification_report(actual,predicted))"
      ],
      "metadata": {
        "colab": {
          "base_uri": "https://localhost:8080/"
        },
        "id": "gRxKgyIIdzVK",
        "outputId": "97ee4fac-db39-41ec-c812-e03e4abe59b3"
      },
      "execution_count": 142,
      "outputs": [
        {
          "output_type": "stream",
          "name": "stdout",
          "text": [
            "              precision    recall  f1-score   support\n",
            "\n",
            "           0       0.92      0.91      0.91       378\n",
            "           1       0.96      0.96      0.96       782\n",
            "\n",
            "    accuracy                           0.94      1160\n",
            "   macro avg       0.94      0.94      0.94      1160\n",
            "weighted avg       0.94      0.94      0.94      1160\n",
            "\n"
          ]
        }
      ]
    },
    {
      "cell_type": "code",
      "source": [
        "print(df_review[df_review['Sentiment']==0].NewReview.shape)"
      ],
      "metadata": {
        "colab": {
          "base_uri": "https://localhost:8080/"
        },
        "id": "doB0dGBBfs3q",
        "outputId": "7bb239aa-731b-4b53-b61d-c338f5f1453b"
      },
      "execution_count": 80,
      "outputs": [
        {
          "output_type": "stream",
          "name": "stdout",
          "text": [
            "(928,)\n"
          ]
        }
      ]
    },
    {
      "cell_type": "markdown",
      "source": [
        "# Latent Dirichlet Allocation"
      ],
      "metadata": {
        "id": "OYVPuYyeezl8"
      }
    },
    {
      "cell_type": "markdown",
      "source": [
        "LDA WITH 5 TOPICS"
      ],
      "metadata": {
        "id": "T7i1GG9vid7D"
      }
    },
    {
      "cell_type": "code",
      "source": [
        "# from sklearn.decomposition import LatentDirichletAllocation \n",
        "# num_components=4\n",
        "\n",
        "# lda=LatentDirichletAllocation(n_components=num_components)\n",
        "\n",
        "# nr_vectorized_neg_reviews=train_vectorizer.transform(df_review[df_review['Sentiment']==0].NewReview)\n",
        "\n",
        "# lda_matrix=lda.fit_transform(nr_vectorized_neg_reviews)\n",
        "\n",
        "# lda_model_components=lda.components_\n",
        "\n"
      ],
      "metadata": {
        "id": "mR-ZrE-Qe2pr"
      },
      "execution_count": null,
      "outputs": []
    },
    {
      "cell_type": "code",
      "source": [
        "# #printing the topics with their terms\n",
        "# terms=train_vectorizer.get_feature_names()\n",
        "\n",
        "# for index, component in enumerate(lda_model_components):\n",
        "#   zipped=zip(terms,component)\n",
        "#   top_terms_key=sorted(zipped, key=lambda t:t[1], reverse=True)[:10]\n",
        "#   top_terms_list=list(dict(top_terms_key).keys())\n",
        "#   print(\"Topic \"+str(index)+\": \",top_terms_list)"
      ],
      "metadata": {
        "id": "V3H8vWNzhlk0"
      },
      "execution_count": null,
      "outputs": []
    },
    {
      "cell_type": "markdown",
      "source": [
        "JUST A TRIAL!"
      ],
      "metadata": {
        "id": "bBmGCfQEwe5M"
      }
    },
    {
      "cell_type": "code",
      "source": [
        "# uploaded=files.upload()\n",
        "# dominos_df=pd.read_excel(io.BytesIO(uploaded['All_Reviews_DP.xlsx']))"
      ],
      "metadata": {
        "id": "uNcNiGpidz7O"
      },
      "execution_count": null,
      "outputs": []
    },
    {
      "cell_type": "code",
      "source": [
        "# dominos_df.head()"
      ],
      "metadata": {
        "id": "cld70dHPupiu"
      },
      "execution_count": null,
      "outputs": []
    },
    {
      "cell_type": "code",
      "source": [
        "# xtest = dominos_df['Review'][0:200]\n",
        "# ytest = dominos_df['Sentiment'][0:200].astype('int')"
      ],
      "metadata": {
        "id": "y8Rvl02vuu6c"
      },
      "execution_count": null,
      "outputs": []
    },
    {
      "cell_type": "code",
      "source": [
        "# type(ytest)"
      ],
      "metadata": {
        "id": "QRfLthTfzde-"
      },
      "execution_count": null,
      "outputs": []
    },
    {
      "cell_type": "code",
      "source": [
        "# #Logistic Model\n",
        "# nr=train_vectorizer.transform(list(xtest))\n",
        "# log_predicted_values=log_model.predict(nr)\n",
        "# log_actual_values=ytest\n",
        "\n",
        "# #SVM Model\n",
        "# svm_predicted_values=svclassifier.predict(nr)\n",
        "# svm_actual_values=ytest"
      ],
      "metadata": {
        "id": "uNBDM5VCuf-M"
      },
      "execution_count": null,
      "outputs": []
    },
    {
      "cell_type": "code",
      "source": [
        "# #Logistic Model Performance\n",
        "# print(\"Logistic Model Accuracy: \",cross_val_score(log_model,nr,log_actual_values,scoring='accuracy',cv=5).mean())\n",
        "# print(\"Logistic Model Precision: \",cross_val_score(log_model,nr,log_actual_values,scoring='precision',cv=5).mean())\n",
        "# print(\"Logistic Model Recall: \",cross_val_score(log_model,nr,log_actual_values,scoring='recall',cv=5).mean())\n",
        "# print(\"Logistic Model F1 score :\",cross_val_score(log_model,nr,log_actual_values,scoring='f1',cv=5).mean())\n",
        "\n",
        "# #SVM Model Performance\n",
        "# print(\"SVM Model Accuracy: \",cross_val_score(svclassifier,nr,ytest,scoring='accuracy',cv=5).mean())\n",
        "# print(\"SVM Model Precision: \",cross_val_score(svclassifier,nr,ytest,scoring='precision',cv=5).mean())\n",
        "# print(\"SVM Model Recall: \",cross_val_score(svclassifier,nr,ytest,scoring='recall',cv=5).mean())\n",
        "# print(\"SVM Model F1 score :\",cross_val_score(svclassifier,nr,ytest,scoring='f1',cv=5).mean())"
      ],
      "metadata": {
        "id": "SpHSbpUPwnas"
      },
      "execution_count": null,
      "outputs": []
    },
    {
      "cell_type": "code",
      "source": [
        "# #predicted=pd.DataFrame(predicted)\n",
        "# print(predicted)"
      ],
      "metadata": {
        "id": "urOaITNEZP6h"
      },
      "execution_count": null,
      "outputs": []
    },
    {
      "cell_type": "code",
      "source": [
        "# pd.set_option(\"display.max_rows\",None)"
      ],
      "metadata": {
        "id": "UR6ksMeZZsdw"
      },
      "execution_count": null,
      "outputs": []
    },
    {
      "cell_type": "markdown",
      "source": [
        "CREATED A DATAFRAME OF 'ACTUAL' 'PREDICTED' 'REVIEWS'"
      ],
      "metadata": {
        "id": "OHDLQQ36PPg6"
      }
    },
    {
      "cell_type": "code",
      "source": [
        "fin_df=pd.DataFrame()\n",
        "fin_df['Actual']=actual\n",
        "fin_df['Predicted']=predicted\n",
        "fin_df['Reviews']=X_test\n",
        "#print(fin_df)"
      ],
      "metadata": {
        "id": "SEV_Flz6XPgD"
      },
      "execution_count": null,
      "outputs": []
    },
    {
      "cell_type": "code",
      "source": [
        "print(fin_df.head())\n",
        "print(\"\\n\\n\\n\\n\")\n",
        "print(fin_df.tail())"
      ],
      "metadata": {
        "colab": {
          "base_uri": "https://localhost:8080/"
        },
        "id": "2H_Tw-0JPFQH",
        "outputId": "fc3f84ff-7a70-4aee-9838-2f3577190ccd"
      },
      "execution_count": 145,
      "outputs": [
        {
          "output_type": "stream",
          "name": "stdout",
          "text": [
            "      Actual  Predicted  \\\n",
            "2051       1          1   \n",
            "732        1          1   \n",
            "2550       1          1   \n",
            "2446       1          1   \n",
            "1834       1          1   \n",
            "\n",
            "                                                                                                                                                                                                    Reviews  \n",
            "2051                                                                                 great place pizza hut food also amaze comfortable offer friendly staff restaurant good clean enjoy ur friends birthday  \n",
            "732   self service place visit place wife one yr old kid staff cooperative helpful suggestions helpful decide menu food outstanding drawback no park place bpcl petrol pump guy not allow park even minutes  \n",
            "2550                                                                                                                                 wow wow wow owesme service pizza yummy lovee good place hangout friend  \n",
            "2446                                                                                                                place service good ambience also nice good place chill friends hectic day staff welcome  \n",
            "1834                                             go friends lunch place good staff friendly service slow drink appetisers taste good pizzas flavourful tasty dessert warm delicious overall good experience  \n",
            "\n",
            "\n",
            "\n",
            "\n",
            "\n",
            "      Actual  Predicted  \\\n",
            "1474       1          1   \n",
            "2074       1          1   \n",
            "416        0          0   \n",
            "1604       1          1   \n",
            "2022       1          1   \n",
            "\n",
            "                                                                                                                                                                                                                                                                                                                                                                                                                                                                                                                                                                                                                      Reviews  \n",
            "1474                                                                                                                                                                                                                                                                                                                                                                                                                                                                                                                       superb place wonderful staff best place pizza love interior pizza good chicken supreme lovely dish  \n",
            "2074                                                                                                                                                                                                                                                                                                                                                                                                                                                                                  good ambience good service great pizzas meals good cheaper compare food chain toppings quantity pizzas garlic bread cheese soft crunchy  \n",
            "416   pathetic service pizzahut hopeless today order zomato pizzahut pizzas office bkc place order around not get delivery till pm happen order place bulk order pizzas garlic bread desert cold drink delivery person zomato immediately reach pizzahut bkc store zomato delivery person see complete order however pizza hut could not glitch call pizza hut helpline twice speak reps keep assure someone pizzahut bkc call back never pathetic experience guests wait lunch could not offer need refund completely never receive pizza wait mins ask cancel order pathetic service pathetic coordination zomato pizza hut  \n",
            "1604                                                                                                                                                                                                         one outlets spacious decent interior service staff friendly price serve pizzas bite overrate quality quantity pizza good tandoori paneer pizza come vegetables spice paneer pizza soft tangy base pizza soft pizza fill cheese make taste good chicken sausage come tangy chicken sausages top pizza fill cheese combination chicken cheese pizza amaze pizza must try overall quality quantity service ambience  \n",
            "2022                                                                                                                                                                                                                                                                                                                                                                                                                                                                                                                        food really amaze service quite quick chicken wing spicier order thankyou much pizza hut make day  \n"
          ]
        }
      ]
    },
    {
      "cell_type": "code",
      "source": [
        "# print(fin_df)"
      ],
      "metadata": {
        "id": "Xws3HzSvZ8u_"
      },
      "execution_count": null,
      "outputs": []
    },
    {
      "cell_type": "code",
      "source": [
        "# fin_df['Reviews']=xtest"
      ],
      "metadata": {
        "id": "mI1mvOL8cS0Z"
      },
      "execution_count": null,
      "outputs": []
    },
    {
      "cell_type": "code",
      "source": [
        "# print(fin_df.head(20))"
      ],
      "metadata": {
        "id": "nzNGW8ygciTm"
      },
      "execution_count": null,
      "outputs": []
    },
    {
      "cell_type": "code",
      "source": [
        "# fin_df.to_csv('result.csv')"
      ],
      "metadata": {
        "id": "LME92KQ4f0Kc"
      },
      "execution_count": null,
      "outputs": []
    }
  ]
}
